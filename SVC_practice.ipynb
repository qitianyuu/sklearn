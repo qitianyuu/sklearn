{
 "cells": [
  {
   "cell_type": "code",
   "execution_count": 1,
   "id": "d83aaa16",
   "metadata": {},
   "outputs": [],
   "source": [
    "import pandas as pd\n",
    "import numpy as np\n",
    "from sklearn.model_selection import train_test_split\n",
    "from sklearn.preprocessing import LabelEncoder\n",
    "import re\n",
    "from sklearn.impute import SimpleImputer\n",
    "from sklearn.preprocessing import OrdinalEncoder\n",
    "from sklearn.preprocessing import StandardScaler\n",
    "import matplotlib.pyplot as plt"
   ]
  },
  {
   "cell_type": "code",
   "execution_count": 2,
   "id": "697a767b",
   "metadata": {},
   "outputs": [],
   "source": [
    "data = pd.read_csv('data/weatherAUS5000.csv',index_col=0)"
   ]
  },
  {
   "cell_type": "code",
   "execution_count": 3,
   "id": "bfa4394c",
   "metadata": {},
   "outputs": [
    {
     "data": {
      "text/plain": [
       "(5000, 22)"
      ]
     },
     "execution_count": 3,
     "metadata": {},
     "output_type": "execute_result"
    }
   ],
   "source": [
    "data.shape"
   ]
  },
  {
   "cell_type": "code",
   "execution_count": 4,
   "id": "5df01a8c",
   "metadata": {},
   "outputs": [],
   "source": [
    "X = data.iloc[:,:-1]\n",
    "Y = data.iloc[:,-1]"
   ]
  },
  {
   "cell_type": "code",
   "execution_count": 5,
   "id": "2849d936",
   "metadata": {},
   "outputs": [
    {
     "data": {
      "text/plain": [
       "(5000, 21)"
      ]
     },
     "execution_count": 5,
     "metadata": {},
     "output_type": "execute_result"
    }
   ],
   "source": [
    "X.shape"
   ]
  },
  {
   "cell_type": "code",
   "execution_count": 6,
   "id": "bdbcf060",
   "metadata": {},
   "outputs": [
    {
     "name": "stdout",
     "output_type": "stream",
     "text": [
      "<class 'pandas.core.frame.DataFrame'>\n",
      "Int64Index: 5000 entries, 0 to 4999\n",
      "Data columns (total 21 columns):\n",
      " #   Column         Non-Null Count  Dtype  \n",
      "---  ------         --------------  -----  \n",
      " 0   Date           5000 non-null   object \n",
      " 1   Location       5000 non-null   object \n",
      " 2   MinTemp        4979 non-null   float64\n",
      " 3   MaxTemp        4987 non-null   float64\n",
      " 4   Rainfall       4950 non-null   float64\n",
      " 5   Evaporation    2841 non-null   float64\n",
      " 6   Sunshine       2571 non-null   float64\n",
      " 7   WindGustDir    4669 non-null   object \n",
      " 8   WindGustSpeed  4669 non-null   float64\n",
      " 9   WindDir9am     4651 non-null   object \n",
      " 10  WindDir3pm     4887 non-null   object \n",
      " 11  WindSpeed9am   4949 non-null   float64\n",
      " 12  WindSpeed3pm   4919 non-null   float64\n",
      " 13  Humidity9am    4936 non-null   float64\n",
      " 14  Humidity3pm    4880 non-null   float64\n",
      " 15  Pressure9am    4506 non-null   float64\n",
      " 16  Pressure3pm    4504 non-null   float64\n",
      " 17  Cloud9am       3111 non-null   float64\n",
      " 18  Cloud3pm       3012 non-null   float64\n",
      " 19  Temp9am        4967 non-null   float64\n",
      " 20  Temp3pm        4912 non-null   float64\n",
      "dtypes: float64(16), object(5)\n",
      "memory usage: 859.4+ KB\n"
     ]
    }
   ],
   "source": [
    "X.info()"
   ]
  },
  {
   "cell_type": "markdown",
   "id": "64241ea2",
   "metadata": {},
   "source": [
    "查看缺失值的比例"
   ]
  },
  {
   "cell_type": "code",
   "execution_count": 7,
   "id": "d5581c67",
   "metadata": {
    "scrolled": false
   },
   "outputs": [
    {
     "data": {
      "text/plain": [
       "Date             0.0000\n",
       "Location         0.0000\n",
       "MinTemp          0.0042\n",
       "MaxTemp          0.0026\n",
       "Rainfall         0.0100\n",
       "Evaporation      0.4318\n",
       "Sunshine         0.4858\n",
       "WindGustDir      0.0662\n",
       "WindGustSpeed    0.0662\n",
       "WindDir9am       0.0698\n",
       "WindDir3pm       0.0226\n",
       "WindSpeed9am     0.0102\n",
       "WindSpeed3pm     0.0162\n",
       "Humidity9am      0.0128\n",
       "Humidity3pm      0.0240\n",
       "Pressure9am      0.0988\n",
       "Pressure3pm      0.0992\n",
       "Cloud9am         0.3778\n",
       "Cloud3pm         0.3976\n",
       "Temp9am          0.0066\n",
       "Temp3pm          0.0176\n",
       "dtype: float64"
      ]
     },
     "execution_count": 7,
     "metadata": {},
     "output_type": "execute_result"
    }
   ],
   "source": [
    "X.isnull().mean()"
   ]
  },
  {
   "cell_type": "code",
   "execution_count": 8,
   "id": "a3a48956",
   "metadata": {},
   "outputs": [
    {
     "data": {
      "text/plain": [
       "0"
      ]
     },
     "execution_count": 8,
     "metadata": {},
     "output_type": "execute_result"
    }
   ],
   "source": [
    "Y.isnull().sum()"
   ]
  },
  {
   "cell_type": "code",
   "execution_count": 9,
   "id": "c31e75c1",
   "metadata": {},
   "outputs": [
    {
     "data": {
      "text/plain": [
       "array(['No', 'Yes'], dtype=object)"
      ]
     },
     "execution_count": 9,
     "metadata": {},
     "output_type": "execute_result"
    }
   ],
   "source": [
    "Y.unique()"
   ]
  },
  {
   "cell_type": "markdown",
   "id": "16ba7fa4",
   "metadata": {},
   "source": [
    "### 先分训练测试集、再去做数据预处理"
   ]
  },
  {
   "cell_type": "code",
   "execution_count": 10,
   "id": "dda714af",
   "metadata": {},
   "outputs": [],
   "source": [
    "Xtrain, Xtest, Ytrain, Ytest = train_test_split(X, Y, test_size=0.3, random_state=20)"
   ]
  },
  {
   "cell_type": "code",
   "execution_count": 11,
   "id": "80420899",
   "metadata": {},
   "outputs": [
    {
     "data": {
      "text/plain": [
       "(3500, 21)"
      ]
     },
     "execution_count": 11,
     "metadata": {},
     "output_type": "execute_result"
    }
   ],
   "source": [
    "Xtrain.shape"
   ]
  },
  {
   "cell_type": "code",
   "execution_count": 12,
   "id": "8a35e68a",
   "metadata": {},
   "outputs": [
    {
     "data": {
      "text/html": [
       "<div>\n",
       "<style scoped>\n",
       "    .dataframe tbody tr th:only-of-type {\n",
       "        vertical-align: middle;\n",
       "    }\n",
       "\n",
       "    .dataframe tbody tr th {\n",
       "        vertical-align: top;\n",
       "    }\n",
       "\n",
       "    .dataframe thead th {\n",
       "        text-align: right;\n",
       "    }\n",
       "</style>\n",
       "<table border=\"1\" class=\"dataframe\">\n",
       "  <thead>\n",
       "    <tr style=\"text-align: right;\">\n",
       "      <th></th>\n",
       "      <th>Date</th>\n",
       "      <th>Location</th>\n",
       "      <th>MinTemp</th>\n",
       "      <th>MaxTemp</th>\n",
       "      <th>Rainfall</th>\n",
       "      <th>Evaporation</th>\n",
       "      <th>Sunshine</th>\n",
       "      <th>WindGustDir</th>\n",
       "      <th>WindGustSpeed</th>\n",
       "      <th>WindDir9am</th>\n",
       "      <th>...</th>\n",
       "      <th>WindSpeed9am</th>\n",
       "      <th>WindSpeed3pm</th>\n",
       "      <th>Humidity9am</th>\n",
       "      <th>Humidity3pm</th>\n",
       "      <th>Pressure9am</th>\n",
       "      <th>Pressure3pm</th>\n",
       "      <th>Cloud9am</th>\n",
       "      <th>Cloud3pm</th>\n",
       "      <th>Temp9am</th>\n",
       "      <th>Temp3pm</th>\n",
       "    </tr>\n",
       "  </thead>\n",
       "  <tbody>\n",
       "    <tr>\n",
       "      <th>2103</th>\n",
       "      <td>2011-12-04</td>\n",
       "      <td>Mildura</td>\n",
       "      <td>11.2</td>\n",
       "      <td>25.4</td>\n",
       "      <td>0.0</td>\n",
       "      <td>10.8</td>\n",
       "      <td>13.4</td>\n",
       "      <td>SSE</td>\n",
       "      <td>48.0</td>\n",
       "      <td>SE</td>\n",
       "      <td>...</td>\n",
       "      <td>30.0</td>\n",
       "      <td>19.0</td>\n",
       "      <td>42.0</td>\n",
       "      <td>18.0</td>\n",
       "      <td>1022.2</td>\n",
       "      <td>1018.5</td>\n",
       "      <td>0.0</td>\n",
       "      <td>0.0</td>\n",
       "      <td>14.8</td>\n",
       "      <td>24.0</td>\n",
       "    </tr>\n",
       "    <tr>\n",
       "      <th>3090</th>\n",
       "      <td>2010-02-05</td>\n",
       "      <td>Penrith</td>\n",
       "      <td>22.1</td>\n",
       "      <td>30.1</td>\n",
       "      <td>17.8</td>\n",
       "      <td>NaN</td>\n",
       "      <td>NaN</td>\n",
       "      <td>ESE</td>\n",
       "      <td>41.0</td>\n",
       "      <td>N</td>\n",
       "      <td>...</td>\n",
       "      <td>6.0</td>\n",
       "      <td>15.0</td>\n",
       "      <td>93.0</td>\n",
       "      <td>76.0</td>\n",
       "      <td>NaN</td>\n",
       "      <td>NaN</td>\n",
       "      <td>NaN</td>\n",
       "      <td>NaN</td>\n",
       "      <td>24.6</td>\n",
       "      <td>28.3</td>\n",
       "    </tr>\n",
       "    <tr>\n",
       "      <th>1419</th>\n",
       "      <td>2016-01-10</td>\n",
       "      <td>Dartmoor</td>\n",
       "      <td>11.0</td>\n",
       "      <td>32.8</td>\n",
       "      <td>0.0</td>\n",
       "      <td>7.6</td>\n",
       "      <td>8.8</td>\n",
       "      <td>SSW</td>\n",
       "      <td>30.0</td>\n",
       "      <td>ENE</td>\n",
       "      <td>...</td>\n",
       "      <td>6.0</td>\n",
       "      <td>19.0</td>\n",
       "      <td>67.0</td>\n",
       "      <td>17.0</td>\n",
       "      <td>1016.8</td>\n",
       "      <td>1013.7</td>\n",
       "      <td>NaN</td>\n",
       "      <td>NaN</td>\n",
       "      <td>17.2</td>\n",
       "      <td>31.7</td>\n",
       "    </tr>\n",
       "    <tr>\n",
       "      <th>106</th>\n",
       "      <td>2015-12-14</td>\n",
       "      <td>Albany</td>\n",
       "      <td>13.5</td>\n",
       "      <td>22.4</td>\n",
       "      <td>0.0</td>\n",
       "      <td>6.0</td>\n",
       "      <td>8.6</td>\n",
       "      <td>NaN</td>\n",
       "      <td>NaN</td>\n",
       "      <td>WNW</td>\n",
       "      <td>...</td>\n",
       "      <td>4.0</td>\n",
       "      <td>NaN</td>\n",
       "      <td>71.0</td>\n",
       "      <td>NaN</td>\n",
       "      <td>1015.8</td>\n",
       "      <td>1014.8</td>\n",
       "      <td>6.0</td>\n",
       "      <td>NaN</td>\n",
       "      <td>19.5</td>\n",
       "      <td>NaN</td>\n",
       "    </tr>\n",
       "    <tr>\n",
       "      <th>4163</th>\n",
       "      <td>2010-06-01</td>\n",
       "      <td>Tuggeranong</td>\n",
       "      <td>0.1</td>\n",
       "      <td>15.3</td>\n",
       "      <td>0.0</td>\n",
       "      <td>NaN</td>\n",
       "      <td>NaN</td>\n",
       "      <td>NW</td>\n",
       "      <td>17.0</td>\n",
       "      <td>NaN</td>\n",
       "      <td>...</td>\n",
       "      <td>0.0</td>\n",
       "      <td>9.0</td>\n",
       "      <td>99.0</td>\n",
       "      <td>46.0</td>\n",
       "      <td>1021.9</td>\n",
       "      <td>1019.2</td>\n",
       "      <td>NaN</td>\n",
       "      <td>NaN</td>\n",
       "      <td>6.0</td>\n",
       "      <td>14.6</td>\n",
       "    </tr>\n",
       "  </tbody>\n",
       "</table>\n",
       "<p>5 rows × 21 columns</p>\n",
       "</div>"
      ],
      "text/plain": [
       "            Date     Location  MinTemp  MaxTemp  Rainfall  Evaporation  \\\n",
       "2103  2011-12-04      Mildura     11.2     25.4       0.0         10.8   \n",
       "3090  2010-02-05      Penrith     22.1     30.1      17.8          NaN   \n",
       "1419  2016-01-10     Dartmoor     11.0     32.8       0.0          7.6   \n",
       "106   2015-12-14       Albany     13.5     22.4       0.0          6.0   \n",
       "4163  2010-06-01  Tuggeranong      0.1     15.3       0.0          NaN   \n",
       "\n",
       "      Sunshine WindGustDir  WindGustSpeed WindDir9am  ... WindSpeed9am  \\\n",
       "2103      13.4         SSE           48.0         SE  ...         30.0   \n",
       "3090       NaN         ESE           41.0          N  ...          6.0   \n",
       "1419       8.8         SSW           30.0        ENE  ...          6.0   \n",
       "106        8.6         NaN            NaN        WNW  ...          4.0   \n",
       "4163       NaN          NW           17.0        NaN  ...          0.0   \n",
       "\n",
       "      WindSpeed3pm  Humidity9am  Humidity3pm  Pressure9am  Pressure3pm  \\\n",
       "2103          19.0         42.0         18.0       1022.2       1018.5   \n",
       "3090          15.0         93.0         76.0          NaN          NaN   \n",
       "1419          19.0         67.0         17.0       1016.8       1013.7   \n",
       "106            NaN         71.0          NaN       1015.8       1014.8   \n",
       "4163           9.0         99.0         46.0       1021.9       1019.2   \n",
       "\n",
       "      Cloud9am  Cloud3pm  Temp9am  Temp3pm  \n",
       "2103       0.0       0.0     14.8     24.0  \n",
       "3090       NaN       NaN     24.6     28.3  \n",
       "1419       NaN       NaN     17.2     31.7  \n",
       "106        6.0       NaN     19.5      NaN  \n",
       "4163       NaN       NaN      6.0     14.6  \n",
       "\n",
       "[5 rows x 21 columns]"
      ]
     },
     "execution_count": 12,
     "metadata": {},
     "output_type": "execute_result"
    }
   ],
   "source": [
    "Xtrain.head()"
   ]
  },
  {
   "cell_type": "markdown",
   "id": "6569e652",
   "metadata": {},
   "source": [
    "#### 回复索引顺序"
   ]
  },
  {
   "cell_type": "code",
   "execution_count": 13,
   "id": "59eee117",
   "metadata": {},
   "outputs": [],
   "source": [
    "for i in [Xtrain, Xtest, Ytrain, Ytest]:\n",
    "    i.index = range(i.shape[0])"
   ]
  },
  {
   "cell_type": "code",
   "execution_count": 14,
   "id": "cbf338d4",
   "metadata": {},
   "outputs": [
    {
     "data": {
      "text/html": [
       "<div>\n",
       "<style scoped>\n",
       "    .dataframe tbody tr th:only-of-type {\n",
       "        vertical-align: middle;\n",
       "    }\n",
       "\n",
       "    .dataframe tbody tr th {\n",
       "        vertical-align: top;\n",
       "    }\n",
       "\n",
       "    .dataframe thead th {\n",
       "        text-align: right;\n",
       "    }\n",
       "</style>\n",
       "<table border=\"1\" class=\"dataframe\">\n",
       "  <thead>\n",
       "    <tr style=\"text-align: right;\">\n",
       "      <th></th>\n",
       "      <th>Date</th>\n",
       "      <th>Location</th>\n",
       "      <th>MinTemp</th>\n",
       "      <th>MaxTemp</th>\n",
       "      <th>Rainfall</th>\n",
       "      <th>Evaporation</th>\n",
       "      <th>Sunshine</th>\n",
       "      <th>WindGustDir</th>\n",
       "      <th>WindGustSpeed</th>\n",
       "      <th>WindDir9am</th>\n",
       "      <th>...</th>\n",
       "      <th>WindSpeed9am</th>\n",
       "      <th>WindSpeed3pm</th>\n",
       "      <th>Humidity9am</th>\n",
       "      <th>Humidity3pm</th>\n",
       "      <th>Pressure9am</th>\n",
       "      <th>Pressure3pm</th>\n",
       "      <th>Cloud9am</th>\n",
       "      <th>Cloud3pm</th>\n",
       "      <th>Temp9am</th>\n",
       "      <th>Temp3pm</th>\n",
       "    </tr>\n",
       "  </thead>\n",
       "  <tbody>\n",
       "    <tr>\n",
       "      <th>0</th>\n",
       "      <td>2011-12-04</td>\n",
       "      <td>Mildura</td>\n",
       "      <td>11.2</td>\n",
       "      <td>25.4</td>\n",
       "      <td>0.0</td>\n",
       "      <td>10.8</td>\n",
       "      <td>13.4</td>\n",
       "      <td>SSE</td>\n",
       "      <td>48.0</td>\n",
       "      <td>SE</td>\n",
       "      <td>...</td>\n",
       "      <td>30.0</td>\n",
       "      <td>19.0</td>\n",
       "      <td>42.0</td>\n",
       "      <td>18.0</td>\n",
       "      <td>1022.2</td>\n",
       "      <td>1018.5</td>\n",
       "      <td>0.0</td>\n",
       "      <td>0.0</td>\n",
       "      <td>14.8</td>\n",
       "      <td>24.0</td>\n",
       "    </tr>\n",
       "    <tr>\n",
       "      <th>1</th>\n",
       "      <td>2010-02-05</td>\n",
       "      <td>Penrith</td>\n",
       "      <td>22.1</td>\n",
       "      <td>30.1</td>\n",
       "      <td>17.8</td>\n",
       "      <td>NaN</td>\n",
       "      <td>NaN</td>\n",
       "      <td>ESE</td>\n",
       "      <td>41.0</td>\n",
       "      <td>N</td>\n",
       "      <td>...</td>\n",
       "      <td>6.0</td>\n",
       "      <td>15.0</td>\n",
       "      <td>93.0</td>\n",
       "      <td>76.0</td>\n",
       "      <td>NaN</td>\n",
       "      <td>NaN</td>\n",
       "      <td>NaN</td>\n",
       "      <td>NaN</td>\n",
       "      <td>24.6</td>\n",
       "      <td>28.3</td>\n",
       "    </tr>\n",
       "    <tr>\n",
       "      <th>2</th>\n",
       "      <td>2016-01-10</td>\n",
       "      <td>Dartmoor</td>\n",
       "      <td>11.0</td>\n",
       "      <td>32.8</td>\n",
       "      <td>0.0</td>\n",
       "      <td>7.6</td>\n",
       "      <td>8.8</td>\n",
       "      <td>SSW</td>\n",
       "      <td>30.0</td>\n",
       "      <td>ENE</td>\n",
       "      <td>...</td>\n",
       "      <td>6.0</td>\n",
       "      <td>19.0</td>\n",
       "      <td>67.0</td>\n",
       "      <td>17.0</td>\n",
       "      <td>1016.8</td>\n",
       "      <td>1013.7</td>\n",
       "      <td>NaN</td>\n",
       "      <td>NaN</td>\n",
       "      <td>17.2</td>\n",
       "      <td>31.7</td>\n",
       "    </tr>\n",
       "    <tr>\n",
       "      <th>3</th>\n",
       "      <td>2015-12-14</td>\n",
       "      <td>Albany</td>\n",
       "      <td>13.5</td>\n",
       "      <td>22.4</td>\n",
       "      <td>0.0</td>\n",
       "      <td>6.0</td>\n",
       "      <td>8.6</td>\n",
       "      <td>NaN</td>\n",
       "      <td>NaN</td>\n",
       "      <td>WNW</td>\n",
       "      <td>...</td>\n",
       "      <td>4.0</td>\n",
       "      <td>NaN</td>\n",
       "      <td>71.0</td>\n",
       "      <td>NaN</td>\n",
       "      <td>1015.8</td>\n",
       "      <td>1014.8</td>\n",
       "      <td>6.0</td>\n",
       "      <td>NaN</td>\n",
       "      <td>19.5</td>\n",
       "      <td>NaN</td>\n",
       "    </tr>\n",
       "    <tr>\n",
       "      <th>4</th>\n",
       "      <td>2010-06-01</td>\n",
       "      <td>Tuggeranong</td>\n",
       "      <td>0.1</td>\n",
       "      <td>15.3</td>\n",
       "      <td>0.0</td>\n",
       "      <td>NaN</td>\n",
       "      <td>NaN</td>\n",
       "      <td>NW</td>\n",
       "      <td>17.0</td>\n",
       "      <td>NaN</td>\n",
       "      <td>...</td>\n",
       "      <td>0.0</td>\n",
       "      <td>9.0</td>\n",
       "      <td>99.0</td>\n",
       "      <td>46.0</td>\n",
       "      <td>1021.9</td>\n",
       "      <td>1019.2</td>\n",
       "      <td>NaN</td>\n",
       "      <td>NaN</td>\n",
       "      <td>6.0</td>\n",
       "      <td>14.6</td>\n",
       "    </tr>\n",
       "  </tbody>\n",
       "</table>\n",
       "<p>5 rows × 21 columns</p>\n",
       "</div>"
      ],
      "text/plain": [
       "         Date     Location  MinTemp  MaxTemp  Rainfall  Evaporation  Sunshine  \\\n",
       "0  2011-12-04      Mildura     11.2     25.4       0.0         10.8      13.4   \n",
       "1  2010-02-05      Penrith     22.1     30.1      17.8          NaN       NaN   \n",
       "2  2016-01-10     Dartmoor     11.0     32.8       0.0          7.6       8.8   \n",
       "3  2015-12-14       Albany     13.5     22.4       0.0          6.0       8.6   \n",
       "4  2010-06-01  Tuggeranong      0.1     15.3       0.0          NaN       NaN   \n",
       "\n",
       "  WindGustDir  WindGustSpeed WindDir9am  ... WindSpeed9am  WindSpeed3pm  \\\n",
       "0         SSE           48.0         SE  ...         30.0          19.0   \n",
       "1         ESE           41.0          N  ...          6.0          15.0   \n",
       "2         SSW           30.0        ENE  ...          6.0          19.0   \n",
       "3         NaN            NaN        WNW  ...          4.0           NaN   \n",
       "4          NW           17.0        NaN  ...          0.0           9.0   \n",
       "\n",
       "   Humidity9am  Humidity3pm  Pressure9am  Pressure3pm  Cloud9am  Cloud3pm  \\\n",
       "0         42.0         18.0       1022.2       1018.5       0.0       0.0   \n",
       "1         93.0         76.0          NaN          NaN       NaN       NaN   \n",
       "2         67.0         17.0       1016.8       1013.7       NaN       NaN   \n",
       "3         71.0          NaN       1015.8       1014.8       6.0       NaN   \n",
       "4         99.0         46.0       1021.9       1019.2       NaN       NaN   \n",
       "\n",
       "   Temp9am  Temp3pm  \n",
       "0     14.8     24.0  \n",
       "1     24.6     28.3  \n",
       "2     17.2     31.7  \n",
       "3     19.5      NaN  \n",
       "4      6.0     14.6  \n",
       "\n",
       "[5 rows x 21 columns]"
      ]
     },
     "execution_count": 14,
     "metadata": {},
     "output_type": "execute_result"
    }
   ],
   "source": [
    "Xtrain.head()"
   ]
  },
  {
   "cell_type": "markdown",
   "id": "f6df18d1",
   "metadata": {},
   "source": [
    "#### 处理标签\n",
    "是否有样本不均衡问题？"
   ]
  },
  {
   "cell_type": "code",
   "execution_count": 15,
   "id": "ebc3acbc",
   "metadata": {},
   "outputs": [
    {
     "data": {
      "text/plain": [
       "No     2683\n",
       "Yes     817\n",
       "Name: RainTomorrow, dtype: int64"
      ]
     },
     "execution_count": 15,
     "metadata": {},
     "output_type": "execute_result"
    }
   ],
   "source": [
    "Ytrain.value_counts()"
   ]
  },
  {
   "cell_type": "markdown",
   "id": "f9c07add",
   "metadata": {},
   "source": [
    "有轻微的样本不均衡问题\n",
    "\n",
    "#### 标签编码"
   ]
  },
  {
   "cell_type": "code",
   "execution_count": 16,
   "id": "a0cba51f",
   "metadata": {},
   "outputs": [],
   "source": [
    "encoder = LabelEncoder().fit(Ytrain)\n",
    "Ytrain = pd.DataFrame(encoder.transform(Ytrain))\n",
    "Ytest = pd.DataFrame(encoder.transform(Ytest))"
   ]
  },
  {
   "cell_type": "code",
   "execution_count": 17,
   "id": "cec6592e",
   "metadata": {},
   "outputs": [
    {
     "data": {
      "text/plain": [
       "(3500, 1)"
      ]
     },
     "execution_count": 17,
     "metadata": {},
     "output_type": "execute_result"
    }
   ],
   "source": [
    "Ytrain.shape"
   ]
  },
  {
   "cell_type": "markdown",
   "id": "dc86d583",
   "metadata": {},
   "source": [
    "标签处理后先保存"
   ]
  },
  {
   "cell_type": "code",
   "execution_count": 18,
   "id": "7462c600",
   "metadata": {},
   "outputs": [],
   "source": [
    "# Ytrain.to_csv('data/SVC_practice_Ytrain.csv')"
   ]
  },
  {
   "cell_type": "markdown",
   "id": "1f4657e0",
   "metadata": {},
   "source": [
    "#### 处理特征矩阵\n",
    "\n",
    "描述性统计"
   ]
  },
  {
   "cell_type": "code",
   "execution_count": 19,
   "id": "207ebcb5",
   "metadata": {},
   "outputs": [
    {
     "data": {
      "text/html": [
       "<div>\n",
       "<style scoped>\n",
       "    .dataframe tbody tr th:only-of-type {\n",
       "        vertical-align: middle;\n",
       "    }\n",
       "\n",
       "    .dataframe tbody tr th {\n",
       "        vertical-align: top;\n",
       "    }\n",
       "\n",
       "    .dataframe thead th {\n",
       "        text-align: right;\n",
       "    }\n",
       "</style>\n",
       "<table border=\"1\" class=\"dataframe\">\n",
       "  <thead>\n",
       "    <tr style=\"text-align: right;\">\n",
       "      <th></th>\n",
       "      <th>count</th>\n",
       "      <th>mean</th>\n",
       "      <th>std</th>\n",
       "      <th>min</th>\n",
       "      <th>1%</th>\n",
       "      <th>5%</th>\n",
       "      <th>10%</th>\n",
       "      <th>25%</th>\n",
       "      <th>50%</th>\n",
       "      <th>75%</th>\n",
       "      <th>90%</th>\n",
       "      <th>95%</th>\n",
       "      <th>99%</th>\n",
       "      <th>max</th>\n",
       "    </tr>\n",
       "  </thead>\n",
       "  <tbody>\n",
       "    <tr>\n",
       "      <th>MinTemp</th>\n",
       "      <td>3486.0</td>\n",
       "      <td>12.202897</td>\n",
       "      <td>6.336167</td>\n",
       "      <td>-8.5</td>\n",
       "      <td>-1.700</td>\n",
       "      <td>1.725</td>\n",
       "      <td>4.1</td>\n",
       "      <td>7.8</td>\n",
       "      <td>12.1</td>\n",
       "      <td>16.70</td>\n",
       "      <td>20.50</td>\n",
       "      <td>23.20</td>\n",
       "      <td>25.800</td>\n",
       "      <td>29.0</td>\n",
       "    </tr>\n",
       "    <tr>\n",
       "      <th>MaxTemp</th>\n",
       "      <td>3489.0</td>\n",
       "      <td>23.177587</td>\n",
       "      <td>7.099091</td>\n",
       "      <td>-3.7</td>\n",
       "      <td>9.200</td>\n",
       "      <td>13.000</td>\n",
       "      <td>14.6</td>\n",
       "      <td>18.0</td>\n",
       "      <td>22.6</td>\n",
       "      <td>28.20</td>\n",
       "      <td>32.90</td>\n",
       "      <td>35.50</td>\n",
       "      <td>40.024</td>\n",
       "      <td>46.4</td>\n",
       "    </tr>\n",
       "    <tr>\n",
       "      <th>Rainfall</th>\n",
       "      <td>3463.0</td>\n",
       "      <td>2.462778</td>\n",
       "      <td>7.894548</td>\n",
       "      <td>0.0</td>\n",
       "      <td>0.000</td>\n",
       "      <td>0.000</td>\n",
       "      <td>0.0</td>\n",
       "      <td>0.0</td>\n",
       "      <td>0.0</td>\n",
       "      <td>0.95</td>\n",
       "      <td>6.40</td>\n",
       "      <td>13.18</td>\n",
       "      <td>41.676</td>\n",
       "      <td>115.8</td>\n",
       "    </tr>\n",
       "    <tr>\n",
       "      <th>Evaporation</th>\n",
       "      <td>1984.0</td>\n",
       "      <td>5.597480</td>\n",
       "      <td>4.243286</td>\n",
       "      <td>0.0</td>\n",
       "      <td>0.400</td>\n",
       "      <td>0.800</td>\n",
       "      <td>1.4</td>\n",
       "      <td>2.6</td>\n",
       "      <td>4.8</td>\n",
       "      <td>7.60</td>\n",
       "      <td>10.14</td>\n",
       "      <td>12.60</td>\n",
       "      <td>19.800</td>\n",
       "      <td>56.0</td>\n",
       "    </tr>\n",
       "    <tr>\n",
       "      <th>Sunshine</th>\n",
       "      <td>1771.0</td>\n",
       "      <td>7.569509</td>\n",
       "      <td>3.796444</td>\n",
       "      <td>0.0</td>\n",
       "      <td>0.000</td>\n",
       "      <td>0.400</td>\n",
       "      <td>1.6</td>\n",
       "      <td>4.7</td>\n",
       "      <td>8.4</td>\n",
       "      <td>10.60</td>\n",
       "      <td>12.10</td>\n",
       "      <td>12.80</td>\n",
       "      <td>13.400</td>\n",
       "      <td>13.9</td>\n",
       "    </tr>\n",
       "    <tr>\n",
       "      <th>WindGustSpeed</th>\n",
       "      <td>3267.0</td>\n",
       "      <td>40.012856</td>\n",
       "      <td>13.479788</td>\n",
       "      <td>9.0</td>\n",
       "      <td>15.000</td>\n",
       "      <td>20.000</td>\n",
       "      <td>24.0</td>\n",
       "      <td>31.0</td>\n",
       "      <td>39.0</td>\n",
       "      <td>48.00</td>\n",
       "      <td>57.00</td>\n",
       "      <td>65.00</td>\n",
       "      <td>78.000</td>\n",
       "      <td>122.0</td>\n",
       "    </tr>\n",
       "    <tr>\n",
       "      <th>WindSpeed9am</th>\n",
       "      <td>3466.0</td>\n",
       "      <td>14.128102</td>\n",
       "      <td>8.887969</td>\n",
       "      <td>0.0</td>\n",
       "      <td>0.000</td>\n",
       "      <td>0.000</td>\n",
       "      <td>4.0</td>\n",
       "      <td>7.0</td>\n",
       "      <td>13.0</td>\n",
       "      <td>20.00</td>\n",
       "      <td>26.00</td>\n",
       "      <td>30.00</td>\n",
       "      <td>39.000</td>\n",
       "      <td>72.0</td>\n",
       "    </tr>\n",
       "    <tr>\n",
       "      <th>WindSpeed3pm</th>\n",
       "      <td>3441.0</td>\n",
       "      <td>18.660854</td>\n",
       "      <td>8.651307</td>\n",
       "      <td>0.0</td>\n",
       "      <td>2.000</td>\n",
       "      <td>6.000</td>\n",
       "      <td>7.0</td>\n",
       "      <td>13.0</td>\n",
       "      <td>19.0</td>\n",
       "      <td>24.00</td>\n",
       "      <td>30.00</td>\n",
       "      <td>33.00</td>\n",
       "      <td>43.000</td>\n",
       "      <td>61.0</td>\n",
       "    </tr>\n",
       "    <tr>\n",
       "      <th>Humidity9am</th>\n",
       "      <td>3457.0</td>\n",
       "      <td>69.150130</td>\n",
       "      <td>18.632930</td>\n",
       "      <td>2.0</td>\n",
       "      <td>18.560</td>\n",
       "      <td>37.000</td>\n",
       "      <td>45.0</td>\n",
       "      <td>57.0</td>\n",
       "      <td>70.0</td>\n",
       "      <td>83.00</td>\n",
       "      <td>94.00</td>\n",
       "      <td>98.00</td>\n",
       "      <td>100.000</td>\n",
       "      <td>100.0</td>\n",
       "    </tr>\n",
       "    <tr>\n",
       "      <th>Humidity3pm</th>\n",
       "      <td>3409.0</td>\n",
       "      <td>51.767967</td>\n",
       "      <td>20.493482</td>\n",
       "      <td>2.0</td>\n",
       "      <td>10.000</td>\n",
       "      <td>18.000</td>\n",
       "      <td>23.0</td>\n",
       "      <td>37.0</td>\n",
       "      <td>52.0</td>\n",
       "      <td>66.00</td>\n",
       "      <td>79.00</td>\n",
       "      <td>87.00</td>\n",
       "      <td>98.000</td>\n",
       "      <td>100.0</td>\n",
       "    </tr>\n",
       "    <tr>\n",
       "      <th>Pressure9am</th>\n",
       "      <td>3150.0</td>\n",
       "      <td>1017.599333</td>\n",
       "      <td>7.059863</td>\n",
       "      <td>985.1</td>\n",
       "      <td>1000.349</td>\n",
       "      <td>1005.945</td>\n",
       "      <td>1008.6</td>\n",
       "      <td>1012.9</td>\n",
       "      <td>1017.6</td>\n",
       "      <td>1022.30</td>\n",
       "      <td>1026.70</td>\n",
       "      <td>1029.20</td>\n",
       "      <td>1033.200</td>\n",
       "      <td>1038.2</td>\n",
       "    </tr>\n",
       "    <tr>\n",
       "      <th>Pressure3pm</th>\n",
       "      <td>3149.0</td>\n",
       "      <td>1015.221150</td>\n",
       "      <td>7.048522</td>\n",
       "      <td>980.2</td>\n",
       "      <td>998.148</td>\n",
       "      <td>1003.800</td>\n",
       "      <td>1006.3</td>\n",
       "      <td>1010.4</td>\n",
       "      <td>1015.3</td>\n",
       "      <td>1020.00</td>\n",
       "      <td>1024.30</td>\n",
       "      <td>1026.96</td>\n",
       "      <td>1030.752</td>\n",
       "      <td>1036.9</td>\n",
       "    </tr>\n",
       "    <tr>\n",
       "      <th>Cloud9am</th>\n",
       "      <td>2172.0</td>\n",
       "      <td>4.519337</td>\n",
       "      <td>2.865332</td>\n",
       "      <td>0.0</td>\n",
       "      <td>0.000</td>\n",
       "      <td>0.000</td>\n",
       "      <td>1.0</td>\n",
       "      <td>1.0</td>\n",
       "      <td>5.0</td>\n",
       "      <td>7.00</td>\n",
       "      <td>8.00</td>\n",
       "      <td>8.00</td>\n",
       "      <td>8.000</td>\n",
       "      <td>8.0</td>\n",
       "    </tr>\n",
       "    <tr>\n",
       "      <th>Cloud3pm</th>\n",
       "      <td>2088.0</td>\n",
       "      <td>4.577107</td>\n",
       "      <td>2.667628</td>\n",
       "      <td>0.0</td>\n",
       "      <td>0.000</td>\n",
       "      <td>0.000</td>\n",
       "      <td>1.0</td>\n",
       "      <td>2.0</td>\n",
       "      <td>5.0</td>\n",
       "      <td>7.00</td>\n",
       "      <td>8.00</td>\n",
       "      <td>8.00</td>\n",
       "      <td>8.000</td>\n",
       "      <td>8.0</td>\n",
       "    </tr>\n",
       "    <tr>\n",
       "      <th>Temp9am</th>\n",
       "      <td>3478.0</td>\n",
       "      <td>16.961587</td>\n",
       "      <td>6.443061</td>\n",
       "      <td>-5.2</td>\n",
       "      <td>2.400</td>\n",
       "      <td>7.000</td>\n",
       "      <td>9.0</td>\n",
       "      <td>12.4</td>\n",
       "      <td>16.7</td>\n",
       "      <td>21.40</td>\n",
       "      <td>25.90</td>\n",
       "      <td>28.20</td>\n",
       "      <td>30.923</td>\n",
       "      <td>38.0</td>\n",
       "    </tr>\n",
       "    <tr>\n",
       "      <th>Temp3pm</th>\n",
       "      <td>3432.0</td>\n",
       "      <td>21.631876</td>\n",
       "      <td>6.915000</td>\n",
       "      <td>-4.1</td>\n",
       "      <td>8.031</td>\n",
       "      <td>11.700</td>\n",
       "      <td>13.3</td>\n",
       "      <td>16.6</td>\n",
       "      <td>21.0</td>\n",
       "      <td>26.40</td>\n",
       "      <td>31.20</td>\n",
       "      <td>33.60</td>\n",
       "      <td>38.569</td>\n",
       "      <td>45.9</td>\n",
       "    </tr>\n",
       "  </tbody>\n",
       "</table>\n",
       "</div>"
      ],
      "text/plain": [
       "                count         mean        std    min        1%        5%  \\\n",
       "MinTemp        3486.0    12.202897   6.336167   -8.5    -1.700     1.725   \n",
       "MaxTemp        3489.0    23.177587   7.099091   -3.7     9.200    13.000   \n",
       "Rainfall       3463.0     2.462778   7.894548    0.0     0.000     0.000   \n",
       "Evaporation    1984.0     5.597480   4.243286    0.0     0.400     0.800   \n",
       "Sunshine       1771.0     7.569509   3.796444    0.0     0.000     0.400   \n",
       "WindGustSpeed  3267.0    40.012856  13.479788    9.0    15.000    20.000   \n",
       "WindSpeed9am   3466.0    14.128102   8.887969    0.0     0.000     0.000   \n",
       "WindSpeed3pm   3441.0    18.660854   8.651307    0.0     2.000     6.000   \n",
       "Humidity9am    3457.0    69.150130  18.632930    2.0    18.560    37.000   \n",
       "Humidity3pm    3409.0    51.767967  20.493482    2.0    10.000    18.000   \n",
       "Pressure9am    3150.0  1017.599333   7.059863  985.1  1000.349  1005.945   \n",
       "Pressure3pm    3149.0  1015.221150   7.048522  980.2   998.148  1003.800   \n",
       "Cloud9am       2172.0     4.519337   2.865332    0.0     0.000     0.000   \n",
       "Cloud3pm       2088.0     4.577107   2.667628    0.0     0.000     0.000   \n",
       "Temp9am        3478.0    16.961587   6.443061   -5.2     2.400     7.000   \n",
       "Temp3pm        3432.0    21.631876   6.915000   -4.1     8.031    11.700   \n",
       "\n",
       "                  10%     25%     50%      75%      90%      95%       99%  \\\n",
       "MinTemp           4.1     7.8    12.1    16.70    20.50    23.20    25.800   \n",
       "MaxTemp          14.6    18.0    22.6    28.20    32.90    35.50    40.024   \n",
       "Rainfall          0.0     0.0     0.0     0.95     6.40    13.18    41.676   \n",
       "Evaporation       1.4     2.6     4.8     7.60    10.14    12.60    19.800   \n",
       "Sunshine          1.6     4.7     8.4    10.60    12.10    12.80    13.400   \n",
       "WindGustSpeed    24.0    31.0    39.0    48.00    57.00    65.00    78.000   \n",
       "WindSpeed9am      4.0     7.0    13.0    20.00    26.00    30.00    39.000   \n",
       "WindSpeed3pm      7.0    13.0    19.0    24.00    30.00    33.00    43.000   \n",
       "Humidity9am      45.0    57.0    70.0    83.00    94.00    98.00   100.000   \n",
       "Humidity3pm      23.0    37.0    52.0    66.00    79.00    87.00    98.000   \n",
       "Pressure9am    1008.6  1012.9  1017.6  1022.30  1026.70  1029.20  1033.200   \n",
       "Pressure3pm    1006.3  1010.4  1015.3  1020.00  1024.30  1026.96  1030.752   \n",
       "Cloud9am          1.0     1.0     5.0     7.00     8.00     8.00     8.000   \n",
       "Cloud3pm          1.0     2.0     5.0     7.00     8.00     8.00     8.000   \n",
       "Temp9am           9.0    12.4    16.7    21.40    25.90    28.20    30.923   \n",
       "Temp3pm          13.3    16.6    21.0    26.40    31.20    33.60    38.569   \n",
       "\n",
       "                  max  \n",
       "MinTemp          29.0  \n",
       "MaxTemp          46.4  \n",
       "Rainfall        115.8  \n",
       "Evaporation      56.0  \n",
       "Sunshine         13.9  \n",
       "WindGustSpeed   122.0  \n",
       "WindSpeed9am     72.0  \n",
       "WindSpeed3pm     61.0  \n",
       "Humidity9am     100.0  \n",
       "Humidity3pm     100.0  \n",
       "Pressure9am    1038.2  \n",
       "Pressure3pm    1036.9  \n",
       "Cloud9am          8.0  \n",
       "Cloud3pm          8.0  \n",
       "Temp9am          38.0  \n",
       "Temp3pm          45.9  "
      ]
     },
     "execution_count": 19,
     "metadata": {},
     "output_type": "execute_result"
    }
   ],
   "source": [
    "Xtrain.describe([0.01,0.05,0.1,0.25,0.5,0.75,0.9,0.95,0.99]).T"
   ]
  },
  {
   "cell_type": "code",
   "execution_count": 20,
   "id": "b271ad77",
   "metadata": {},
   "outputs": [
    {
     "data": {
      "text/html": [
       "<div>\n",
       "<style scoped>\n",
       "    .dataframe tbody tr th:only-of-type {\n",
       "        vertical-align: middle;\n",
       "    }\n",
       "\n",
       "    .dataframe tbody tr th {\n",
       "        vertical-align: top;\n",
       "    }\n",
       "\n",
       "    .dataframe thead th {\n",
       "        text-align: right;\n",
       "    }\n",
       "</style>\n",
       "<table border=\"1\" class=\"dataframe\">\n",
       "  <thead>\n",
       "    <tr style=\"text-align: right;\">\n",
       "      <th></th>\n",
       "      <th>count</th>\n",
       "      <th>mean</th>\n",
       "      <th>std</th>\n",
       "      <th>min</th>\n",
       "      <th>1%</th>\n",
       "      <th>5%</th>\n",
       "      <th>10%</th>\n",
       "      <th>25%</th>\n",
       "      <th>50%</th>\n",
       "      <th>75%</th>\n",
       "      <th>90%</th>\n",
       "      <th>95%</th>\n",
       "      <th>99%</th>\n",
       "      <th>max</th>\n",
       "    </tr>\n",
       "  </thead>\n",
       "  <tbody>\n",
       "    <tr>\n",
       "      <th>MinTemp</th>\n",
       "      <td>1493.0</td>\n",
       "      <td>11.969926</td>\n",
       "      <td>6.516204</td>\n",
       "      <td>-8.2</td>\n",
       "      <td>-2.016</td>\n",
       "      <td>1.720</td>\n",
       "      <td>3.80</td>\n",
       "      <td>7.3</td>\n",
       "      <td>11.6</td>\n",
       "      <td>16.5</td>\n",
       "      <td>21.00</td>\n",
       "      <td>23.100</td>\n",
       "      <td>25.900</td>\n",
       "      <td>28.5</td>\n",
       "    </tr>\n",
       "    <tr>\n",
       "      <th>MaxTemp</th>\n",
       "      <td>1498.0</td>\n",
       "      <td>23.065087</td>\n",
       "      <td>7.231870</td>\n",
       "      <td>-0.8</td>\n",
       "      <td>7.791</td>\n",
       "      <td>12.585</td>\n",
       "      <td>14.30</td>\n",
       "      <td>17.6</td>\n",
       "      <td>22.4</td>\n",
       "      <td>28.4</td>\n",
       "      <td>32.63</td>\n",
       "      <td>35.315</td>\n",
       "      <td>39.503</td>\n",
       "      <td>44.9</td>\n",
       "    </tr>\n",
       "    <tr>\n",
       "      <th>Rainfall</th>\n",
       "      <td>1487.0</td>\n",
       "      <td>2.298991</td>\n",
       "      <td>8.116537</td>\n",
       "      <td>0.0</td>\n",
       "      <td>0.000</td>\n",
       "      <td>0.000</td>\n",
       "      <td>0.00</td>\n",
       "      <td>0.0</td>\n",
       "      <td>0.0</td>\n",
       "      <td>0.4</td>\n",
       "      <td>5.48</td>\n",
       "      <td>13.200</td>\n",
       "      <td>38.712</td>\n",
       "      <td>105.6</td>\n",
       "    </tr>\n",
       "    <tr>\n",
       "      <th>Evaporation</th>\n",
       "      <td>857.0</td>\n",
       "      <td>5.708051</td>\n",
       "      <td>4.431817</td>\n",
       "      <td>0.2</td>\n",
       "      <td>0.600</td>\n",
       "      <td>1.000</td>\n",
       "      <td>1.40</td>\n",
       "      <td>2.6</td>\n",
       "      <td>4.8</td>\n",
       "      <td>7.6</td>\n",
       "      <td>10.60</td>\n",
       "      <td>13.600</td>\n",
       "      <td>22.776</td>\n",
       "      <td>42.2</td>\n",
       "    </tr>\n",
       "    <tr>\n",
       "      <th>Sunshine</th>\n",
       "      <td>800.0</td>\n",
       "      <td>7.538750</td>\n",
       "      <td>3.883813</td>\n",
       "      <td>0.0</td>\n",
       "      <td>0.000</td>\n",
       "      <td>0.200</td>\n",
       "      <td>1.20</td>\n",
       "      <td>4.5</td>\n",
       "      <td>8.5</td>\n",
       "      <td>10.7</td>\n",
       "      <td>12.00</td>\n",
       "      <td>12.700</td>\n",
       "      <td>13.300</td>\n",
       "      <td>13.7</td>\n",
       "    </tr>\n",
       "    <tr>\n",
       "      <th>WindGustSpeed</th>\n",
       "      <td>1402.0</td>\n",
       "      <td>39.684736</td>\n",
       "      <td>13.437848</td>\n",
       "      <td>9.0</td>\n",
       "      <td>15.000</td>\n",
       "      <td>20.000</td>\n",
       "      <td>24.00</td>\n",
       "      <td>30.0</td>\n",
       "      <td>39.0</td>\n",
       "      <td>48.0</td>\n",
       "      <td>57.00</td>\n",
       "      <td>63.000</td>\n",
       "      <td>76.000</td>\n",
       "      <td>100.0</td>\n",
       "    </tr>\n",
       "    <tr>\n",
       "      <th>WindSpeed9am</th>\n",
       "      <td>1483.0</td>\n",
       "      <td>13.795010</td>\n",
       "      <td>8.616812</td>\n",
       "      <td>0.0</td>\n",
       "      <td>0.000</td>\n",
       "      <td>0.000</td>\n",
       "      <td>4.00</td>\n",
       "      <td>7.0</td>\n",
       "      <td>13.0</td>\n",
       "      <td>19.0</td>\n",
       "      <td>26.00</td>\n",
       "      <td>30.000</td>\n",
       "      <td>37.000</td>\n",
       "      <td>52.0</td>\n",
       "    </tr>\n",
       "    <tr>\n",
       "      <th>WindSpeed3pm</th>\n",
       "      <td>1478.0</td>\n",
       "      <td>18.351150</td>\n",
       "      <td>8.757191</td>\n",
       "      <td>0.0</td>\n",
       "      <td>2.000</td>\n",
       "      <td>6.000</td>\n",
       "      <td>7.00</td>\n",
       "      <td>11.0</td>\n",
       "      <td>17.0</td>\n",
       "      <td>24.0</td>\n",
       "      <td>30.00</td>\n",
       "      <td>33.000</td>\n",
       "      <td>43.000</td>\n",
       "      <td>65.0</td>\n",
       "    </tr>\n",
       "    <tr>\n",
       "      <th>Humidity9am</th>\n",
       "      <td>1479.0</td>\n",
       "      <td>68.499662</td>\n",
       "      <td>19.226619</td>\n",
       "      <td>4.0</td>\n",
       "      <td>19.560</td>\n",
       "      <td>33.000</td>\n",
       "      <td>43.80</td>\n",
       "      <td>57.0</td>\n",
       "      <td>69.0</td>\n",
       "      <td>83.0</td>\n",
       "      <td>94.00</td>\n",
       "      <td>98.000</td>\n",
       "      <td>100.000</td>\n",
       "      <td>100.0</td>\n",
       "    </tr>\n",
       "    <tr>\n",
       "      <th>Humidity3pm</th>\n",
       "      <td>1471.0</td>\n",
       "      <td>51.162475</td>\n",
       "      <td>20.926047</td>\n",
       "      <td>3.0</td>\n",
       "      <td>7.000</td>\n",
       "      <td>15.500</td>\n",
       "      <td>22.00</td>\n",
       "      <td>36.0</td>\n",
       "      <td>53.0</td>\n",
       "      <td>65.0</td>\n",
       "      <td>78.00</td>\n",
       "      <td>87.000</td>\n",
       "      <td>96.000</td>\n",
       "      <td>100.0</td>\n",
       "    </tr>\n",
       "    <tr>\n",
       "      <th>Pressure9am</th>\n",
       "      <td>1356.0</td>\n",
       "      <td>1017.815929</td>\n",
       "      <td>6.922128</td>\n",
       "      <td>995.3</td>\n",
       "      <td>1001.500</td>\n",
       "      <td>1006.800</td>\n",
       "      <td>1009.00</td>\n",
       "      <td>1012.9</td>\n",
       "      <td>1017.8</td>\n",
       "      <td>1022.3</td>\n",
       "      <td>1027.00</td>\n",
       "      <td>1029.700</td>\n",
       "      <td>1033.790</td>\n",
       "      <td>1036.4</td>\n",
       "    </tr>\n",
       "    <tr>\n",
       "      <th>Pressure3pm</th>\n",
       "      <td>1355.0</td>\n",
       "      <td>1015.411070</td>\n",
       "      <td>6.879111</td>\n",
       "      <td>993.9</td>\n",
       "      <td>999.870</td>\n",
       "      <td>1004.570</td>\n",
       "      <td>1006.70</td>\n",
       "      <td>1010.7</td>\n",
       "      <td>1015.2</td>\n",
       "      <td>1020.1</td>\n",
       "      <td>1024.40</td>\n",
       "      <td>1027.060</td>\n",
       "      <td>1031.900</td>\n",
       "      <td>1036.0</td>\n",
       "    </tr>\n",
       "    <tr>\n",
       "      <th>Cloud9am</th>\n",
       "      <td>939.0</td>\n",
       "      <td>4.431310</td>\n",
       "      <td>2.854376</td>\n",
       "      <td>0.0</td>\n",
       "      <td>0.000</td>\n",
       "      <td>0.000</td>\n",
       "      <td>1.00</td>\n",
       "      <td>1.0</td>\n",
       "      <td>5.0</td>\n",
       "      <td>7.0</td>\n",
       "      <td>8.00</td>\n",
       "      <td>8.000</td>\n",
       "      <td>8.000</td>\n",
       "      <td>8.0</td>\n",
       "    </tr>\n",
       "    <tr>\n",
       "      <th>Cloud3pm</th>\n",
       "      <td>924.0</td>\n",
       "      <td>4.465368</td>\n",
       "      <td>2.708658</td>\n",
       "      <td>0.0</td>\n",
       "      <td>0.000</td>\n",
       "      <td>0.000</td>\n",
       "      <td>1.00</td>\n",
       "      <td>2.0</td>\n",
       "      <td>5.0</td>\n",
       "      <td>7.0</td>\n",
       "      <td>8.00</td>\n",
       "      <td>8.000</td>\n",
       "      <td>8.000</td>\n",
       "      <td>8.0</td>\n",
       "    </tr>\n",
       "    <tr>\n",
       "      <th>Temp9am</th>\n",
       "      <td>1489.0</td>\n",
       "      <td>16.818334</td>\n",
       "      <td>6.564279</td>\n",
       "      <td>-5.3</td>\n",
       "      <td>2.288</td>\n",
       "      <td>6.800</td>\n",
       "      <td>8.78</td>\n",
       "      <td>12.0</td>\n",
       "      <td>16.5</td>\n",
       "      <td>21.6</td>\n",
       "      <td>25.90</td>\n",
       "      <td>28.400</td>\n",
       "      <td>30.512</td>\n",
       "      <td>34.9</td>\n",
       "    </tr>\n",
       "    <tr>\n",
       "      <th>Temp3pm</th>\n",
       "      <td>1480.0</td>\n",
       "      <td>21.685541</td>\n",
       "      <td>7.045155</td>\n",
       "      <td>-1.2</td>\n",
       "      <td>7.000</td>\n",
       "      <td>11.500</td>\n",
       "      <td>13.30</td>\n",
       "      <td>16.4</td>\n",
       "      <td>20.9</td>\n",
       "      <td>26.7</td>\n",
       "      <td>31.31</td>\n",
       "      <td>33.900</td>\n",
       "      <td>38.000</td>\n",
       "      <td>42.4</td>\n",
       "    </tr>\n",
       "  </tbody>\n",
       "</table>\n",
       "</div>"
      ],
      "text/plain": [
       "                count         mean        std    min        1%        5%  \\\n",
       "MinTemp        1493.0    11.969926   6.516204   -8.2    -2.016     1.720   \n",
       "MaxTemp        1498.0    23.065087   7.231870   -0.8     7.791    12.585   \n",
       "Rainfall       1487.0     2.298991   8.116537    0.0     0.000     0.000   \n",
       "Evaporation     857.0     5.708051   4.431817    0.2     0.600     1.000   \n",
       "Sunshine        800.0     7.538750   3.883813    0.0     0.000     0.200   \n",
       "WindGustSpeed  1402.0    39.684736  13.437848    9.0    15.000    20.000   \n",
       "WindSpeed9am   1483.0    13.795010   8.616812    0.0     0.000     0.000   \n",
       "WindSpeed3pm   1478.0    18.351150   8.757191    0.0     2.000     6.000   \n",
       "Humidity9am    1479.0    68.499662  19.226619    4.0    19.560    33.000   \n",
       "Humidity3pm    1471.0    51.162475  20.926047    3.0     7.000    15.500   \n",
       "Pressure9am    1356.0  1017.815929   6.922128  995.3  1001.500  1006.800   \n",
       "Pressure3pm    1355.0  1015.411070   6.879111  993.9   999.870  1004.570   \n",
       "Cloud9am        939.0     4.431310   2.854376    0.0     0.000     0.000   \n",
       "Cloud3pm        924.0     4.465368   2.708658    0.0     0.000     0.000   \n",
       "Temp9am        1489.0    16.818334   6.564279   -5.3     2.288     6.800   \n",
       "Temp3pm        1480.0    21.685541   7.045155   -1.2     7.000    11.500   \n",
       "\n",
       "                   10%     25%     50%     75%      90%       95%       99%  \\\n",
       "MinTemp           3.80     7.3    11.6    16.5    21.00    23.100    25.900   \n",
       "MaxTemp          14.30    17.6    22.4    28.4    32.63    35.315    39.503   \n",
       "Rainfall          0.00     0.0     0.0     0.4     5.48    13.200    38.712   \n",
       "Evaporation       1.40     2.6     4.8     7.6    10.60    13.600    22.776   \n",
       "Sunshine          1.20     4.5     8.5    10.7    12.00    12.700    13.300   \n",
       "WindGustSpeed    24.00    30.0    39.0    48.0    57.00    63.000    76.000   \n",
       "WindSpeed9am      4.00     7.0    13.0    19.0    26.00    30.000    37.000   \n",
       "WindSpeed3pm      7.00    11.0    17.0    24.0    30.00    33.000    43.000   \n",
       "Humidity9am      43.80    57.0    69.0    83.0    94.00    98.000   100.000   \n",
       "Humidity3pm      22.00    36.0    53.0    65.0    78.00    87.000    96.000   \n",
       "Pressure9am    1009.00  1012.9  1017.8  1022.3  1027.00  1029.700  1033.790   \n",
       "Pressure3pm    1006.70  1010.7  1015.2  1020.1  1024.40  1027.060  1031.900   \n",
       "Cloud9am          1.00     1.0     5.0     7.0     8.00     8.000     8.000   \n",
       "Cloud3pm          1.00     2.0     5.0     7.0     8.00     8.000     8.000   \n",
       "Temp9am           8.78    12.0    16.5    21.6    25.90    28.400    30.512   \n",
       "Temp3pm          13.30    16.4    20.9    26.7    31.31    33.900    38.000   \n",
       "\n",
       "                  max  \n",
       "MinTemp          28.5  \n",
       "MaxTemp          44.9  \n",
       "Rainfall        105.6  \n",
       "Evaporation      42.2  \n",
       "Sunshine         13.7  \n",
       "WindGustSpeed   100.0  \n",
       "WindSpeed9am     52.0  \n",
       "WindSpeed3pm     65.0  \n",
       "Humidity9am     100.0  \n",
       "Humidity3pm     100.0  \n",
       "Pressure9am    1036.4  \n",
       "Pressure3pm    1036.0  \n",
       "Cloud9am          8.0  \n",
       "Cloud3pm          8.0  \n",
       "Temp9am          34.9  \n",
       "Temp3pm          42.4  "
      ]
     },
     "execution_count": 20,
     "metadata": {},
     "output_type": "execute_result"
    }
   ],
   "source": [
    "Xtest.describe([0.01,0.05,0.1,0.25,0.5,0.75,0.9,0.95,0.99]).T"
   ]
  },
  {
   "cell_type": "markdown",
   "id": "26133031",
   "metadata": {},
   "source": [
    "可以看到没有异常值，所谓异常值，指的是不符合数据意义的值，例如说降雨量是负的就被称为异常值\n",
    "\n",
    "若较少，则应为人为输入错误，应当删掉，若较多，则与数据提者沟通，或者用缺失值的方法对待，替换成均值或者其他策略"
   ]
  },
  {
   "cell_type": "markdown",
   "id": "ba6f4c73",
   "metadata": {},
   "source": [
    "处理顺序：较难理解的特征(日期) -> 缺失值 -> 编码"
   ]
  },
  {
   "cell_type": "markdown",
   "id": "8df9d15c",
   "metadata": {},
   "source": [
    "#### 日期的处理"
   ]
  },
  {
   "cell_type": "code",
   "execution_count": 21,
   "id": "06a7d51b",
   "metadata": {},
   "outputs": [
    {
     "name": "stdout",
     "output_type": "stream",
     "text": [
      "2015-03-24\n"
     ]
    },
    {
     "data": {
      "text/plain": [
       "str"
      ]
     },
     "execution_count": 21,
     "metadata": {},
     "output_type": "execute_result"
    }
   ],
   "source": [
    "print(data.iloc[0,0])\n",
    "type(data.iloc[0,0])"
   ]
  },
  {
   "cell_type": "markdown",
   "id": "525b529e",
   "metadata": {},
   "source": [
    "日期是连续的还是分类的？可以理解为分了365类的分类型变量，因为不能取小数\n",
    "\n",
    "先看下日期有无重复\n",
    "- 有重复，可能是有更细的时间单位，或者一天中不同地点、不同位置等等特征\n",
    "- 无重复，可以编码成连续性变量，例如1-365"
   ]
  },
  {
   "cell_type": "code",
   "execution_count": 22,
   "id": "76b291c9",
   "metadata": {},
   "outputs": [
    {
     "data": {
      "text/plain": [
       "2013-12-20    7\n",
       "2015-07-03    7\n",
       "2012-09-18    6\n",
       "2016-11-01    6\n",
       "2017-01-09    6\n",
       "             ..\n",
       "2016-11-09    1\n",
       "2009-07-23    1\n",
       "2016-07-15    1\n",
       "2013-04-08    1\n",
       "2010-05-14    1\n",
       "Name: Date, Length: 2534, dtype: int64"
      ]
     },
     "execution_count": 22,
     "metadata": {},
     "output_type": "execute_result"
    }
   ],
   "source": [
    "data.iloc[:,0].value_counts()"
   ]
  },
  {
   "cell_type": "markdown",
   "id": "79cd3855",
   "metadata": {},
   "source": [
    "很明显有重复，因为是不同地点的相同时间的数据\n",
    "\n",
    "观察到有一列降雨量和预测很相关"
   ]
  },
  {
   "cell_type": "code",
   "execution_count": 23,
   "id": "411095e7",
   "metadata": {},
   "outputs": [
    {
     "data": {
      "text/plain": [
       "37"
      ]
     },
     "execution_count": 23,
     "metadata": {},
     "output_type": "execute_result"
    }
   ],
   "source": [
    "Xtrain['Rainfall'].isnull().sum()"
   ]
  },
  {
   "cell_type": "markdown",
   "id": "88d58d28",
   "metadata": {},
   "source": [
    "可见有37个缺失值，我们可以新加入一列，代表今天下没下雨"
   ]
  },
  {
   "cell_type": "code",
   "execution_count": 24,
   "id": "398b3ab3",
   "metadata": {},
   "outputs": [
    {
     "name": "stderr",
     "output_type": "stream",
     "text": [
      "/Users/qi/opt/anaconda3/lib/python3.8/site-packages/pandas/core/indexing.py:1684: SettingWithCopyWarning: \n",
      "A value is trying to be set on a copy of a slice from a DataFrame.\n",
      "Try using .loc[row_indexer,col_indexer] = value instead\n",
      "\n",
      "See the caveats in the documentation: https://pandas.pydata.org/pandas-docs/stable/user_guide/indexing.html#returning-a-view-versus-a-copy\n",
      "  self.obj[key] = infer_fill_value(value)\n",
      "/Users/qi/opt/anaconda3/lib/python3.8/site-packages/pandas/core/indexing.py:1817: SettingWithCopyWarning: \n",
      "A value is trying to be set on a copy of a slice from a DataFrame.\n",
      "Try using .loc[row_indexer,col_indexer] = value instead\n",
      "\n",
      "See the caveats in the documentation: https://pandas.pydata.org/pandas-docs/stable/user_guide/indexing.html#returning-a-view-versus-a-copy\n",
      "  self._setitem_single_column(loc, value, pi)\n"
     ]
    }
   ],
   "source": [
    "Xtrain.loc[Xtrain.loc[:,'Rainfall']>=1, 'Raintoday'] = 'Yes'\n",
    "Xtrain.loc[Xtrain.loc[:,'Rainfall']<1, 'Raintoday'] = 'No'\n",
    "Xtrain.loc[Xtrain.loc[:,'Rainfall']==np.nan, 'Raintoday'] = np.nan"
   ]
  },
  {
   "cell_type": "code",
   "execution_count": 25,
   "id": "5814221b",
   "metadata": {},
   "outputs": [
    {
     "data": {
      "text/html": [
       "<div>\n",
       "<style scoped>\n",
       "    .dataframe tbody tr th:only-of-type {\n",
       "        vertical-align: middle;\n",
       "    }\n",
       "\n",
       "    .dataframe tbody tr th {\n",
       "        vertical-align: top;\n",
       "    }\n",
       "\n",
       "    .dataframe thead th {\n",
       "        text-align: right;\n",
       "    }\n",
       "</style>\n",
       "<table border=\"1\" class=\"dataframe\">\n",
       "  <thead>\n",
       "    <tr style=\"text-align: right;\">\n",
       "      <th></th>\n",
       "      <th>Date</th>\n",
       "      <th>Location</th>\n",
       "      <th>MinTemp</th>\n",
       "      <th>MaxTemp</th>\n",
       "      <th>Rainfall</th>\n",
       "      <th>Evaporation</th>\n",
       "      <th>Sunshine</th>\n",
       "      <th>WindGustDir</th>\n",
       "      <th>WindGustSpeed</th>\n",
       "      <th>WindDir9am</th>\n",
       "      <th>...</th>\n",
       "      <th>WindSpeed3pm</th>\n",
       "      <th>Humidity9am</th>\n",
       "      <th>Humidity3pm</th>\n",
       "      <th>Pressure9am</th>\n",
       "      <th>Pressure3pm</th>\n",
       "      <th>Cloud9am</th>\n",
       "      <th>Cloud3pm</th>\n",
       "      <th>Temp9am</th>\n",
       "      <th>Temp3pm</th>\n",
       "      <th>Raintoday</th>\n",
       "    </tr>\n",
       "  </thead>\n",
       "  <tbody>\n",
       "    <tr>\n",
       "      <th>0</th>\n",
       "      <td>2011-12-04</td>\n",
       "      <td>Mildura</td>\n",
       "      <td>11.2</td>\n",
       "      <td>25.4</td>\n",
       "      <td>0.0</td>\n",
       "      <td>10.8</td>\n",
       "      <td>13.4</td>\n",
       "      <td>SSE</td>\n",
       "      <td>48.0</td>\n",
       "      <td>SE</td>\n",
       "      <td>...</td>\n",
       "      <td>19.0</td>\n",
       "      <td>42.0</td>\n",
       "      <td>18.0</td>\n",
       "      <td>1022.2</td>\n",
       "      <td>1018.5</td>\n",
       "      <td>0.0</td>\n",
       "      <td>0.0</td>\n",
       "      <td>14.8</td>\n",
       "      <td>24.0</td>\n",
       "      <td>No</td>\n",
       "    </tr>\n",
       "    <tr>\n",
       "      <th>1</th>\n",
       "      <td>2010-02-05</td>\n",
       "      <td>Penrith</td>\n",
       "      <td>22.1</td>\n",
       "      <td>30.1</td>\n",
       "      <td>17.8</td>\n",
       "      <td>NaN</td>\n",
       "      <td>NaN</td>\n",
       "      <td>ESE</td>\n",
       "      <td>41.0</td>\n",
       "      <td>N</td>\n",
       "      <td>...</td>\n",
       "      <td>15.0</td>\n",
       "      <td>93.0</td>\n",
       "      <td>76.0</td>\n",
       "      <td>NaN</td>\n",
       "      <td>NaN</td>\n",
       "      <td>NaN</td>\n",
       "      <td>NaN</td>\n",
       "      <td>24.6</td>\n",
       "      <td>28.3</td>\n",
       "      <td>Yes</td>\n",
       "    </tr>\n",
       "    <tr>\n",
       "      <th>2</th>\n",
       "      <td>2016-01-10</td>\n",
       "      <td>Dartmoor</td>\n",
       "      <td>11.0</td>\n",
       "      <td>32.8</td>\n",
       "      <td>0.0</td>\n",
       "      <td>7.6</td>\n",
       "      <td>8.8</td>\n",
       "      <td>SSW</td>\n",
       "      <td>30.0</td>\n",
       "      <td>ENE</td>\n",
       "      <td>...</td>\n",
       "      <td>19.0</td>\n",
       "      <td>67.0</td>\n",
       "      <td>17.0</td>\n",
       "      <td>1016.8</td>\n",
       "      <td>1013.7</td>\n",
       "      <td>NaN</td>\n",
       "      <td>NaN</td>\n",
       "      <td>17.2</td>\n",
       "      <td>31.7</td>\n",
       "      <td>No</td>\n",
       "    </tr>\n",
       "    <tr>\n",
       "      <th>3</th>\n",
       "      <td>2015-12-14</td>\n",
       "      <td>Albany</td>\n",
       "      <td>13.5</td>\n",
       "      <td>22.4</td>\n",
       "      <td>0.0</td>\n",
       "      <td>6.0</td>\n",
       "      <td>8.6</td>\n",
       "      <td>NaN</td>\n",
       "      <td>NaN</td>\n",
       "      <td>WNW</td>\n",
       "      <td>...</td>\n",
       "      <td>NaN</td>\n",
       "      <td>71.0</td>\n",
       "      <td>NaN</td>\n",
       "      <td>1015.8</td>\n",
       "      <td>1014.8</td>\n",
       "      <td>6.0</td>\n",
       "      <td>NaN</td>\n",
       "      <td>19.5</td>\n",
       "      <td>NaN</td>\n",
       "      <td>No</td>\n",
       "    </tr>\n",
       "    <tr>\n",
       "      <th>4</th>\n",
       "      <td>2010-06-01</td>\n",
       "      <td>Tuggeranong</td>\n",
       "      <td>0.1</td>\n",
       "      <td>15.3</td>\n",
       "      <td>0.0</td>\n",
       "      <td>NaN</td>\n",
       "      <td>NaN</td>\n",
       "      <td>NW</td>\n",
       "      <td>17.0</td>\n",
       "      <td>NaN</td>\n",
       "      <td>...</td>\n",
       "      <td>9.0</td>\n",
       "      <td>99.0</td>\n",
       "      <td>46.0</td>\n",
       "      <td>1021.9</td>\n",
       "      <td>1019.2</td>\n",
       "      <td>NaN</td>\n",
       "      <td>NaN</td>\n",
       "      <td>6.0</td>\n",
       "      <td>14.6</td>\n",
       "      <td>No</td>\n",
       "    </tr>\n",
       "  </tbody>\n",
       "</table>\n",
       "<p>5 rows × 22 columns</p>\n",
       "</div>"
      ],
      "text/plain": [
       "         Date     Location  MinTemp  MaxTemp  Rainfall  Evaporation  Sunshine  \\\n",
       "0  2011-12-04      Mildura     11.2     25.4       0.0         10.8      13.4   \n",
       "1  2010-02-05      Penrith     22.1     30.1      17.8          NaN       NaN   \n",
       "2  2016-01-10     Dartmoor     11.0     32.8       0.0          7.6       8.8   \n",
       "3  2015-12-14       Albany     13.5     22.4       0.0          6.0       8.6   \n",
       "4  2010-06-01  Tuggeranong      0.1     15.3       0.0          NaN       NaN   \n",
       "\n",
       "  WindGustDir  WindGustSpeed WindDir9am  ... WindSpeed3pm  Humidity9am  \\\n",
       "0         SSE           48.0         SE  ...         19.0         42.0   \n",
       "1         ESE           41.0          N  ...         15.0         93.0   \n",
       "2         SSW           30.0        ENE  ...         19.0         67.0   \n",
       "3         NaN            NaN        WNW  ...          NaN         71.0   \n",
       "4          NW           17.0        NaN  ...          9.0         99.0   \n",
       "\n",
       "   Humidity3pm  Pressure9am  Pressure3pm  Cloud9am  Cloud3pm  Temp9am  \\\n",
       "0         18.0       1022.2       1018.5       0.0       0.0     14.8   \n",
       "1         76.0          NaN          NaN       NaN       NaN     24.6   \n",
       "2         17.0       1016.8       1013.7       NaN       NaN     17.2   \n",
       "3          NaN       1015.8       1014.8       6.0       NaN     19.5   \n",
       "4         46.0       1021.9       1019.2       NaN       NaN      6.0   \n",
       "\n",
       "   Temp3pm  Raintoday  \n",
       "0     24.0         No  \n",
       "1     28.3        Yes  \n",
       "2     31.7         No  \n",
       "3      NaN         No  \n",
       "4     14.6         No  \n",
       "\n",
       "[5 rows x 22 columns]"
      ]
     },
     "execution_count": 25,
     "metadata": {},
     "output_type": "execute_result"
    }
   ],
   "source": [
    "Xtrain.head(5)"
   ]
  },
  {
   "cell_type": "code",
   "execution_count": 26,
   "id": "4af7f3b8",
   "metadata": {
    "scrolled": true
   },
   "outputs": [
    {
     "data": {
      "text/plain": [
       "0        No\n",
       "1       Yes\n",
       "2        No\n",
       "3        No\n",
       "4        No\n",
       "       ... \n",
       "3495     No\n",
       "3496     No\n",
       "3497    Yes\n",
       "3498     No\n",
       "3499     No\n",
       "Name: Raintoday, Length: 3500, dtype: object"
      ]
     },
     "execution_count": 26,
     "metadata": {},
     "output_type": "execute_result"
    }
   ],
   "source": [
    "Xtrain.loc[:,'Raintoday']"
   ]
  },
  {
   "cell_type": "code",
   "execution_count": 27,
   "id": "08d3fb9e",
   "metadata": {},
   "outputs": [
    {
     "name": "stderr",
     "output_type": "stream",
     "text": [
      "/Users/qi/opt/anaconda3/lib/python3.8/site-packages/pandas/core/indexing.py:1684: SettingWithCopyWarning: \n",
      "A value is trying to be set on a copy of a slice from a DataFrame.\n",
      "Try using .loc[row_indexer,col_indexer] = value instead\n",
      "\n",
      "See the caveats in the documentation: https://pandas.pydata.org/pandas-docs/stable/user_guide/indexing.html#returning-a-view-versus-a-copy\n",
      "  self.obj[key] = infer_fill_value(value)\n",
      "/Users/qi/opt/anaconda3/lib/python3.8/site-packages/pandas/core/indexing.py:1817: SettingWithCopyWarning: \n",
      "A value is trying to be set on a copy of a slice from a DataFrame.\n",
      "Try using .loc[row_indexer,col_indexer] = value instead\n",
      "\n",
      "See the caveats in the documentation: https://pandas.pydata.org/pandas-docs/stable/user_guide/indexing.html#returning-a-view-versus-a-copy\n",
      "  self._setitem_single_column(loc, value, pi)\n"
     ]
    }
   ],
   "source": [
    "Xtest.loc[Xtest.loc[:,'Rainfall']>=1, 'Raintoday'] = 'Yes'\n",
    "Xtest.loc[Xtest.loc[:,'Rainfall']<1, 'Raintoday'] = 'No'\n",
    "Xtest.loc[Xtest.loc[:,'Rainfall']==np.nan, 'Raintoday'] = np.nan"
   ]
  },
  {
   "cell_type": "markdown",
   "id": "b1916779",
   "metadata": {},
   "source": [
    "至此，我们就创造出了一个新的特征，然后还能想到，降雨量和月份有可能有关系，因此我们创造月份这个变量，来代替日期这个特征"
   ]
  },
  {
   "cell_type": "code",
   "execution_count": 28,
   "id": "86dcffda",
   "metadata": {},
   "outputs": [
    {
     "name": "stderr",
     "output_type": "stream",
     "text": [
      "/Users/qi/opt/anaconda3/lib/python3.8/site-packages/pandas/core/indexing.py:1773: SettingWithCopyWarning: \n",
      "A value is trying to be set on a copy of a slice from a DataFrame.\n",
      "Try using .loc[row_indexer,col_indexer] = value instead\n",
      "\n",
      "See the caveats in the documentation: https://pandas.pydata.org/pandas-docs/stable/user_guide/indexing.html#returning-a-view-versus-a-copy\n",
      "  self._setitem_single_column(ilocs[0], value, pi)\n"
     ]
    }
   ],
   "source": [
    "Xtrain.loc[:,'Date'] = Xtrain.loc[:,'Date'].apply(lambda x : int(x.split('-')[1]))"
   ]
  },
  {
   "cell_type": "code",
   "execution_count": 29,
   "id": "8da9c324",
   "metadata": {},
   "outputs": [
    {
     "data": {
      "text/plain": [
       "3     333\n",
       "5     316\n",
       "7     316\n",
       "6     307\n",
       "1     304\n",
       "10    286\n",
       "9     285\n",
       "11    283\n",
       "4     280\n",
       "12    269\n",
       "8     262\n",
       "2     259\n",
       "Name: Date, dtype: int64"
      ]
     },
     "execution_count": 29,
     "metadata": {},
     "output_type": "execute_result"
    }
   ],
   "source": [
    "Xtrain.loc[:,'Date'].value_counts()"
   ]
  },
  {
   "cell_type": "markdown",
   "id": "7ebac323",
   "metadata": {},
   "source": [
    "改一下列名字"
   ]
  },
  {
   "cell_type": "code",
   "execution_count": 30,
   "id": "5eeabf27",
   "metadata": {},
   "outputs": [
    {
     "name": "stdout",
     "output_type": "stream",
     "text": [
      "<class 'pandas.core.frame.DataFrame'>\n",
      "RangeIndex: 3500 entries, 0 to 3499\n",
      "Data columns (total 22 columns):\n",
      " #   Column         Non-Null Count  Dtype  \n",
      "---  ------         --------------  -----  \n",
      " 0   Month          3500 non-null   int64  \n",
      " 1   Location       3500 non-null   object \n",
      " 2   MinTemp        3486 non-null   float64\n",
      " 3   MaxTemp        3489 non-null   float64\n",
      " 4   Rainfall       3463 non-null   float64\n",
      " 5   Evaporation    1984 non-null   float64\n",
      " 6   Sunshine       1771 non-null   float64\n",
      " 7   WindGustDir    3267 non-null   object \n",
      " 8   WindGustSpeed  3267 non-null   float64\n",
      " 9   WindDir9am     3261 non-null   object \n",
      " 10  WindDir3pm     3419 non-null   object \n",
      " 11  WindSpeed9am   3466 non-null   float64\n",
      " 12  WindSpeed3pm   3441 non-null   float64\n",
      " 13  Humidity9am    3457 non-null   float64\n",
      " 14  Humidity3pm    3409 non-null   float64\n",
      " 15  Pressure9am    3150 non-null   float64\n",
      " 16  Pressure3pm    3149 non-null   float64\n",
      " 17  Cloud9am       2172 non-null   float64\n",
      " 18  Cloud3pm       2088 non-null   float64\n",
      " 19  Temp9am        3478 non-null   float64\n",
      " 20  Temp3pm        3432 non-null   float64\n",
      " 21  Raintoday      3463 non-null   object \n",
      "dtypes: float64(16), int64(1), object(5)\n",
      "memory usage: 601.7+ KB\n"
     ]
    }
   ],
   "source": [
    "Xtrain = Xtrain.rename(columns={'Date':'Month'})\n",
    "Xtrain.info()"
   ]
  },
  {
   "cell_type": "markdown",
   "id": "998845ca",
   "metadata": {},
   "source": [
    "对测试集做相同的操作"
   ]
  },
  {
   "cell_type": "code",
   "execution_count": 31,
   "id": "7e4de926",
   "metadata": {},
   "outputs": [
    {
     "name": "stdout",
     "output_type": "stream",
     "text": [
      "<class 'pandas.core.frame.DataFrame'>\n",
      "RangeIndex: 1500 entries, 0 to 1499\n",
      "Data columns (total 22 columns):\n",
      " #   Column         Non-Null Count  Dtype  \n",
      "---  ------         --------------  -----  \n",
      " 0   Month          1500 non-null   int64  \n",
      " 1   Location       1500 non-null   object \n",
      " 2   MinTemp        1493 non-null   float64\n",
      " 3   MaxTemp        1498 non-null   float64\n",
      " 4   Rainfall       1487 non-null   float64\n",
      " 5   Evaporation    857 non-null    float64\n",
      " 6   Sunshine       800 non-null    float64\n",
      " 7   WindGustDir    1402 non-null   object \n",
      " 8   WindGustSpeed  1402 non-null   float64\n",
      " 9   WindDir9am     1390 non-null   object \n",
      " 10  WindDir3pm     1468 non-null   object \n",
      " 11  WindSpeed9am   1483 non-null   float64\n",
      " 12  WindSpeed3pm   1478 non-null   float64\n",
      " 13  Humidity9am    1479 non-null   float64\n",
      " 14  Humidity3pm    1471 non-null   float64\n",
      " 15  Pressure9am    1356 non-null   float64\n",
      " 16  Pressure3pm    1355 non-null   float64\n",
      " 17  Cloud9am       939 non-null    float64\n",
      " 18  Cloud3pm       924 non-null    float64\n",
      " 19  Temp9am        1489 non-null   float64\n",
      " 20  Temp3pm        1480 non-null   float64\n",
      " 21  Raintoday      1487 non-null   object \n",
      "dtypes: float64(16), int64(1), object(5)\n",
      "memory usage: 257.9+ KB\n"
     ]
    }
   ],
   "source": [
    "Xtest.loc[:,'Date'] = Xtest.loc[:,'Date'].apply(lambda x : int(x.split('-')[1]))\n",
    "Xtest = Xtest.rename(columns={'Date':'Month'})\n",
    "Xtest.info()"
   ]
  },
  {
   "cell_type": "markdown",
   "id": "3a7dae0b",
   "metadata": {},
   "source": [
    "#### 地点的处理"
   ]
  },
  {
   "cell_type": "code",
   "execution_count": 32,
   "id": "13b7cab4",
   "metadata": {},
   "outputs": [
    {
     "data": {
      "text/plain": [
       "49"
      ]
     },
     "execution_count": 32,
     "metadata": {},
     "output_type": "execute_result"
    }
   ],
   "source": [
    "Xtrain.loc[:,'Location'].value_counts().count()"
   ]
  },
  {
   "cell_type": "markdown",
   "id": "93156650",
   "metadata": {},
   "source": [
    "导入城市经纬度和城市气候表格"
   ]
  },
  {
   "cell_type": "code",
   "execution_count": 33,
   "id": "29ebb76e",
   "metadata": {},
   "outputs": [],
   "source": [
    "cityll = pd.read_csv('data/cityll.csv',index_col=0)\n",
    "city_climate = pd.read_csv('data/Cityclimate.csv')"
   ]
  },
  {
   "cell_type": "code",
   "execution_count": 34,
   "id": "27690a4a",
   "metadata": {},
   "outputs": [
    {
     "data": {
      "text/html": [
       "<div>\n",
       "<style scoped>\n",
       "    .dataframe tbody tr th:only-of-type {\n",
       "        vertical-align: middle;\n",
       "    }\n",
       "\n",
       "    .dataframe tbody tr th {\n",
       "        vertical-align: top;\n",
       "    }\n",
       "\n",
       "    .dataframe thead th {\n",
       "        text-align: right;\n",
       "    }\n",
       "</style>\n",
       "<table border=\"1\" class=\"dataframe\">\n",
       "  <thead>\n",
       "    <tr style=\"text-align: right;\">\n",
       "      <th></th>\n",
       "      <th>City</th>\n",
       "      <th>Latitude</th>\n",
       "      <th>Longitude</th>\n",
       "      <th>Latitudedir</th>\n",
       "      <th>Longitudedir</th>\n",
       "    </tr>\n",
       "  </thead>\n",
       "  <tbody>\n",
       "    <tr>\n",
       "      <th>0</th>\n",
       "      <td>Adelaide</td>\n",
       "      <td>34.9285°</td>\n",
       "      <td>138.6007°</td>\n",
       "      <td>S,</td>\n",
       "      <td>E</td>\n",
       "    </tr>\n",
       "    <tr>\n",
       "      <th>1</th>\n",
       "      <td>Albany</td>\n",
       "      <td>35.0275°</td>\n",
       "      <td>117.8840°</td>\n",
       "      <td>S,</td>\n",
       "      <td>E</td>\n",
       "    </tr>\n",
       "    <tr>\n",
       "      <th>2</th>\n",
       "      <td>Albury</td>\n",
       "      <td>36.0737°</td>\n",
       "      <td>146.9135°</td>\n",
       "      <td>S,</td>\n",
       "      <td>E</td>\n",
       "    </tr>\n",
       "    <tr>\n",
       "      <th>3</th>\n",
       "      <td>Wodonga</td>\n",
       "      <td>36.1241°</td>\n",
       "      <td>146.8818°</td>\n",
       "      <td>S,</td>\n",
       "      <td>E</td>\n",
       "    </tr>\n",
       "    <tr>\n",
       "      <th>4</th>\n",
       "      <td>AliceSprings</td>\n",
       "      <td>23.6980°</td>\n",
       "      <td>133.8807°</td>\n",
       "      <td>S,</td>\n",
       "      <td>E</td>\n",
       "    </tr>\n",
       "  </tbody>\n",
       "</table>\n",
       "</div>"
      ],
      "text/plain": [
       "           City  Latitude  Longitude Latitudedir Longitudedir\n",
       "0      Adelaide  34.9285°  138.6007°          S,            E\n",
       "1        Albany  35.0275°  117.8840°          S,            E\n",
       "2        Albury  36.0737°  146.9135°          S,            E\n",
       "3       Wodonga  36.1241°  146.8818°          S,            E\n",
       "4  AliceSprings  23.6980°  133.8807°          S,            E"
      ]
     },
     "execution_count": 34,
     "metadata": {},
     "output_type": "execute_result"
    }
   ],
   "source": [
    "cityll.head()"
   ]
  },
  {
   "cell_type": "code",
   "execution_count": 35,
   "id": "e8e42a75",
   "metadata": {},
   "outputs": [
    {
     "data": {
      "text/html": [
       "<div>\n",
       "<style scoped>\n",
       "    .dataframe tbody tr th:only-of-type {\n",
       "        vertical-align: middle;\n",
       "    }\n",
       "\n",
       "    .dataframe tbody tr th {\n",
       "        vertical-align: top;\n",
       "    }\n",
       "\n",
       "    .dataframe thead th {\n",
       "        text-align: right;\n",
       "    }\n",
       "</style>\n",
       "<table border=\"1\" class=\"dataframe\">\n",
       "  <thead>\n",
       "    <tr style=\"text-align: right;\">\n",
       "      <th></th>\n",
       "      <th>City</th>\n",
       "      <th>Climate</th>\n",
       "    </tr>\n",
       "  </thead>\n",
       "  <tbody>\n",
       "    <tr>\n",
       "      <th>0</th>\n",
       "      <td>Adelaide</td>\n",
       "      <td>Warm temperate</td>\n",
       "    </tr>\n",
       "    <tr>\n",
       "      <th>1</th>\n",
       "      <td>Albany</td>\n",
       "      <td>Mild temperate</td>\n",
       "    </tr>\n",
       "    <tr>\n",
       "      <th>2</th>\n",
       "      <td>Albury</td>\n",
       "      <td>Hot dry summer, cool winter</td>\n",
       "    </tr>\n",
       "    <tr>\n",
       "      <th>3</th>\n",
       "      <td>Wodonga</td>\n",
       "      <td>Hot dry summer, cool winter</td>\n",
       "    </tr>\n",
       "    <tr>\n",
       "      <th>4</th>\n",
       "      <td>AliceSprings</td>\n",
       "      <td>Hot dry summer, warm winter</td>\n",
       "    </tr>\n",
       "  </tbody>\n",
       "</table>\n",
       "</div>"
      ],
      "text/plain": [
       "           City                      Climate\n",
       "0      Adelaide            Warm temperate   \n",
       "1        Albany            Mild temperate   \n",
       "2        Albury  Hot dry summer, cool winter\n",
       "3       Wodonga  Hot dry summer, cool winter\n",
       "4  AliceSprings  Hot dry summer, warm winter"
      ]
     },
     "execution_count": 35,
     "metadata": {},
     "output_type": "execute_result"
    }
   ],
   "source": [
    "city_climate.head()"
   ]
  },
  {
   "cell_type": "markdown",
   "id": "959ad8df",
   "metadata": {},
   "source": [
    "去掉经纬度的符号"
   ]
  },
  {
   "cell_type": "code",
   "execution_count": 36,
   "id": "57c977df",
   "metadata": {},
   "outputs": [
    {
     "data": {
      "text/plain": [
       "'34.9285'"
      ]
     },
     "execution_count": 36,
     "metadata": {},
     "output_type": "execute_result"
    }
   ],
   "source": [
    "cityll.loc[0,'Latitude'][0:-1]"
   ]
  },
  {
   "cell_type": "code",
   "execution_count": 37,
   "id": "abc7f80d",
   "metadata": {},
   "outputs": [],
   "source": [
    "cityll.loc[:,'Latitude'] = cityll.loc[:,'Latitude'].apply(lambda x: float(x[0:-1]))"
   ]
  },
  {
   "cell_type": "code",
   "execution_count": 38,
   "id": "13ede903",
   "metadata": {},
   "outputs": [],
   "source": [
    "cityll.loc[:,'Longitude'] = cityll.loc[:,'Longitude'].apply(lambda x: float(x[0:-1]))"
   ]
  },
  {
   "cell_type": "code",
   "execution_count": 39,
   "id": "7d954096",
   "metadata": {
    "scrolled": true
   },
   "outputs": [
    {
     "data": {
      "text/html": [
       "<div>\n",
       "<style scoped>\n",
       "    .dataframe tbody tr th:only-of-type {\n",
       "        vertical-align: middle;\n",
       "    }\n",
       "\n",
       "    .dataframe tbody tr th {\n",
       "        vertical-align: top;\n",
       "    }\n",
       "\n",
       "    .dataframe thead th {\n",
       "        text-align: right;\n",
       "    }\n",
       "</style>\n",
       "<table border=\"1\" class=\"dataframe\">\n",
       "  <thead>\n",
       "    <tr style=\"text-align: right;\">\n",
       "      <th></th>\n",
       "      <th>City</th>\n",
       "      <th>Latitude</th>\n",
       "      <th>Longitude</th>\n",
       "      <th>Latitudedir</th>\n",
       "      <th>Longitudedir</th>\n",
       "    </tr>\n",
       "  </thead>\n",
       "  <tbody>\n",
       "    <tr>\n",
       "      <th>0</th>\n",
       "      <td>Adelaide</td>\n",
       "      <td>34.9285</td>\n",
       "      <td>138.6007</td>\n",
       "      <td>S,</td>\n",
       "      <td>E</td>\n",
       "    </tr>\n",
       "    <tr>\n",
       "      <th>1</th>\n",
       "      <td>Albany</td>\n",
       "      <td>35.0275</td>\n",
       "      <td>117.8840</td>\n",
       "      <td>S,</td>\n",
       "      <td>E</td>\n",
       "    </tr>\n",
       "    <tr>\n",
       "      <th>2</th>\n",
       "      <td>Albury</td>\n",
       "      <td>36.0737</td>\n",
       "      <td>146.9135</td>\n",
       "      <td>S,</td>\n",
       "      <td>E</td>\n",
       "    </tr>\n",
       "    <tr>\n",
       "      <th>3</th>\n",
       "      <td>Wodonga</td>\n",
       "      <td>36.1241</td>\n",
       "      <td>146.8818</td>\n",
       "      <td>S,</td>\n",
       "      <td>E</td>\n",
       "    </tr>\n",
       "    <tr>\n",
       "      <th>4</th>\n",
       "      <td>AliceSprings</td>\n",
       "      <td>23.6980</td>\n",
       "      <td>133.8807</td>\n",
       "      <td>S,</td>\n",
       "      <td>E</td>\n",
       "    </tr>\n",
       "  </tbody>\n",
       "</table>\n",
       "</div>"
      ],
      "text/plain": [
       "           City  Latitude  Longitude Latitudedir Longitudedir\n",
       "0      Adelaide   34.9285   138.6007          S,            E\n",
       "1        Albany   35.0275   117.8840          S,            E\n",
       "2        Albury   36.0737   146.9135          S,            E\n",
       "3       Wodonga   36.1241   146.8818          S,            E\n",
       "4  AliceSprings   23.6980   133.8807          S,            E"
      ]
     },
     "execution_count": 39,
     "metadata": {},
     "output_type": "execute_result"
    }
   ],
   "source": [
    "cityll.head()"
   ]
  },
  {
   "cell_type": "markdown",
   "id": "c6e836fa",
   "metadata": {},
   "source": [
    "取出我们需要的列，城市名字，经纬度"
   ]
  },
  {
   "cell_type": "code",
   "execution_count": 40,
   "id": "0797aed9",
   "metadata": {},
   "outputs": [
    {
     "data": {
      "text/html": [
       "<div>\n",
       "<style scoped>\n",
       "    .dataframe tbody tr th:only-of-type {\n",
       "        vertical-align: middle;\n",
       "    }\n",
       "\n",
       "    .dataframe tbody tr th {\n",
       "        vertical-align: top;\n",
       "    }\n",
       "\n",
       "    .dataframe thead th {\n",
       "        text-align: right;\n",
       "    }\n",
       "</style>\n",
       "<table border=\"1\" class=\"dataframe\">\n",
       "  <thead>\n",
       "    <tr style=\"text-align: right;\">\n",
       "      <th></th>\n",
       "      <th>City</th>\n",
       "      <th>Latitude</th>\n",
       "      <th>Longitude</th>\n",
       "    </tr>\n",
       "  </thead>\n",
       "  <tbody>\n",
       "    <tr>\n",
       "      <th>0</th>\n",
       "      <td>Adelaide</td>\n",
       "      <td>34.9285</td>\n",
       "      <td>138.6007</td>\n",
       "    </tr>\n",
       "    <tr>\n",
       "      <th>1</th>\n",
       "      <td>Albany</td>\n",
       "      <td>35.0275</td>\n",
       "      <td>117.8840</td>\n",
       "    </tr>\n",
       "    <tr>\n",
       "      <th>2</th>\n",
       "      <td>Albury</td>\n",
       "      <td>36.0737</td>\n",
       "      <td>146.9135</td>\n",
       "    </tr>\n",
       "    <tr>\n",
       "      <th>3</th>\n",
       "      <td>Wodonga</td>\n",
       "      <td>36.1241</td>\n",
       "      <td>146.8818</td>\n",
       "    </tr>\n",
       "    <tr>\n",
       "      <th>4</th>\n",
       "      <td>AliceSprings</td>\n",
       "      <td>23.6980</td>\n",
       "      <td>133.8807</td>\n",
       "    </tr>\n",
       "  </tbody>\n",
       "</table>\n",
       "</div>"
      ],
      "text/plain": [
       "           City  Latitude  Longitude\n",
       "0      Adelaide   34.9285   138.6007\n",
       "1        Albany   35.0275   117.8840\n",
       "2        Albury   36.0737   146.9135\n",
       "3       Wodonga   36.1241   146.8818\n",
       "4  AliceSprings   23.6980   133.8807"
      ]
     },
     "execution_count": 40,
     "metadata": {},
     "output_type": "execute_result"
    }
   ],
   "source": [
    "citylld = cityll.iloc[:,[0,1,2]]\n",
    "citylld.head()"
   ]
  },
  {
   "cell_type": "markdown",
   "id": "1fc7f4e5",
   "metadata": {},
   "source": [
    "加入气候这一列"
   ]
  },
  {
   "cell_type": "code",
   "execution_count": 41,
   "id": "43062df8",
   "metadata": {},
   "outputs": [
    {
     "name": "stderr",
     "output_type": "stream",
     "text": [
      "/Users/qi/opt/anaconda3/lib/python3.8/site-packages/pandas/core/indexing.py:1667: SettingWithCopyWarning: \n",
      "A value is trying to be set on a copy of a slice from a DataFrame.\n",
      "Try using .loc[row_indexer,col_indexer] = value instead\n",
      "\n",
      "See the caveats in the documentation: https://pandas.pydata.org/pandas-docs/stable/user_guide/indexing.html#returning-a-view-versus-a-copy\n",
      "  self.obj[key] = value\n"
     ]
    },
    {
     "data": {
      "text/html": [
       "<div>\n",
       "<style scoped>\n",
       "    .dataframe tbody tr th:only-of-type {\n",
       "        vertical-align: middle;\n",
       "    }\n",
       "\n",
       "    .dataframe tbody tr th {\n",
       "        vertical-align: top;\n",
       "    }\n",
       "\n",
       "    .dataframe thead th {\n",
       "        text-align: right;\n",
       "    }\n",
       "</style>\n",
       "<table border=\"1\" class=\"dataframe\">\n",
       "  <thead>\n",
       "    <tr style=\"text-align: right;\">\n",
       "      <th></th>\n",
       "      <th>City</th>\n",
       "      <th>Latitude</th>\n",
       "      <th>Longitude</th>\n",
       "      <th>climate</th>\n",
       "    </tr>\n",
       "  </thead>\n",
       "  <tbody>\n",
       "    <tr>\n",
       "      <th>0</th>\n",
       "      <td>Adelaide</td>\n",
       "      <td>34.9285</td>\n",
       "      <td>138.6007</td>\n",
       "      <td>Warm temperate</td>\n",
       "    </tr>\n",
       "    <tr>\n",
       "      <th>1</th>\n",
       "      <td>Albany</td>\n",
       "      <td>35.0275</td>\n",
       "      <td>117.8840</td>\n",
       "      <td>Mild temperate</td>\n",
       "    </tr>\n",
       "    <tr>\n",
       "      <th>2</th>\n",
       "      <td>Albury</td>\n",
       "      <td>36.0737</td>\n",
       "      <td>146.9135</td>\n",
       "      <td>Hot dry summer, cool winter</td>\n",
       "    </tr>\n",
       "    <tr>\n",
       "      <th>3</th>\n",
       "      <td>Wodonga</td>\n",
       "      <td>36.1241</td>\n",
       "      <td>146.8818</td>\n",
       "      <td>Hot dry summer, cool winter</td>\n",
       "    </tr>\n",
       "    <tr>\n",
       "      <th>4</th>\n",
       "      <td>AliceSprings</td>\n",
       "      <td>23.6980</td>\n",
       "      <td>133.8807</td>\n",
       "      <td>Hot dry summer, warm winter</td>\n",
       "    </tr>\n",
       "  </tbody>\n",
       "</table>\n",
       "</div>"
      ],
      "text/plain": [
       "           City  Latitude  Longitude                      climate\n",
       "0      Adelaide   34.9285   138.6007            Warm temperate   \n",
       "1        Albany   35.0275   117.8840            Mild temperate   \n",
       "2        Albury   36.0737   146.9135  Hot dry summer, cool winter\n",
       "3       Wodonga   36.1241   146.8818  Hot dry summer, cool winter\n",
       "4  AliceSprings   23.6980   133.8807  Hot dry summer, warm winter"
      ]
     },
     "execution_count": 41,
     "metadata": {},
     "output_type": "execute_result"
    }
   ],
   "source": [
    "citylld.loc[:,'climate'] = city_climate.iloc[:,1]\n",
    "citylld.head()"
   ]
  },
  {
   "cell_type": "code",
   "execution_count": 42,
   "id": "95a17435",
   "metadata": {},
   "outputs": [
    {
     "data": {
      "text/plain": [
       "Hot dry summer, cool winter          24\n",
       "Warm temperate                       18\n",
       "Hot dry summer, warm winter          18\n",
       "High humidity summer, warm winter    17\n",
       "Mild temperate                        9\n",
       "Cool temperate                        9\n",
       "Warm humid summer, mild winter        5\n",
       "Name: climate, dtype: int64"
      ]
     },
     "execution_count": 42,
     "metadata": {},
     "output_type": "execute_result"
    }
   ],
   "source": [
    "citylld.loc[:,'climate'].value_counts()"
   ]
  },
  {
   "cell_type": "code",
   "execution_count": 43,
   "id": "e4be183a",
   "metadata": {},
   "outputs": [
    {
     "data": {
      "text/html": [
       "<div>\n",
       "<style scoped>\n",
       "    .dataframe tbody tr th:only-of-type {\n",
       "        vertical-align: middle;\n",
       "    }\n",
       "\n",
       "    .dataframe tbody tr th {\n",
       "        vertical-align: top;\n",
       "    }\n",
       "\n",
       "    .dataframe thead th {\n",
       "        text-align: right;\n",
       "    }\n",
       "</style>\n",
       "<table border=\"1\" class=\"dataframe\">\n",
       "  <thead>\n",
       "    <tr style=\"text-align: right;\">\n",
       "      <th></th>\n",
       "      <th>City</th>\n",
       "      <th>Latitudenum</th>\n",
       "      <th>Longitudenum</th>\n",
       "    </tr>\n",
       "  </thead>\n",
       "  <tbody>\n",
       "    <tr>\n",
       "      <th>0</th>\n",
       "      <td>Canberra</td>\n",
       "      <td>35.2809</td>\n",
       "      <td>149.1300</td>\n",
       "    </tr>\n",
       "    <tr>\n",
       "      <th>1</th>\n",
       "      <td>Sydney</td>\n",
       "      <td>33.8688</td>\n",
       "      <td>151.2093</td>\n",
       "    </tr>\n",
       "    <tr>\n",
       "      <th>2</th>\n",
       "      <td>Perth</td>\n",
       "      <td>31.9505</td>\n",
       "      <td>115.8605</td>\n",
       "    </tr>\n",
       "    <tr>\n",
       "      <th>3</th>\n",
       "      <td>Darwin</td>\n",
       "      <td>12.4634</td>\n",
       "      <td>130.8456</td>\n",
       "    </tr>\n",
       "    <tr>\n",
       "      <th>4</th>\n",
       "      <td>Hobart</td>\n",
       "      <td>42.8821</td>\n",
       "      <td>147.3272</td>\n",
       "    </tr>\n",
       "  </tbody>\n",
       "</table>\n",
       "</div>"
      ],
      "text/plain": [
       "       City  Latitudenum  Longitudenum\n",
       "0  Canberra      35.2809      149.1300\n",
       "1    Sydney      33.8688      151.2093\n",
       "2     Perth      31.9505      115.8605\n",
       "3    Darwin      12.4634      130.8456\n",
       "4    Hobart      42.8821      147.3272"
      ]
     },
     "execution_count": 43,
     "metadata": {},
     "output_type": "execute_result"
    }
   ],
   "source": [
    "samplecity = pd.read_csv('data/samplecity.csv',index_col=0)\n",
    "#我们对samplecity也执行同样的处理:去掉经纬度中度数的符号，并且舍弃我们的经纬度的方向\n",
    "samplecity[\"Latitudenum\"] = samplecity[\"Latitude\"].apply(lambda x:float(x[:-1]))\n",
    "samplecity[\"Longitudenum\"] = samplecity[\"Longitude\"].apply(lambda x:float(x[:-1]))\n",
    "samplecityd = samplecity.iloc[:,[0,5,6]]\n",
    "samplecityd.head()"
   ]
  },
  {
   "cell_type": "markdown",
   "id": "7c9d0679",
   "metadata": {},
   "source": [
    "现在，将气象站的经纬度和主要城市的经纬度进行计算，转换成距离"
   ]
  },
  {
   "cell_type": "code",
   "execution_count": 44,
   "id": "ae638b12",
   "metadata": {
    "scrolled": true
   },
   "outputs": [
    {
     "name": "stderr",
     "output_type": "stream",
     "text": [
      "/Users/qi/opt/anaconda3/lib/python3.8/site-packages/pandas/core/indexing.py:1667: SettingWithCopyWarning: \n",
      "A value is trying to be set on a copy of a slice from a DataFrame.\n",
      "Try using .loc[row_indexer,col_indexer] = value instead\n",
      "\n",
      "See the caveats in the documentation: https://pandas.pydata.org/pandas-docs/stable/user_guide/indexing.html#returning-a-view-versus-a-copy\n",
      "  self.obj[key] = value\n"
     ]
    }
   ],
   "source": [
    "from math import radians, sin, cos, acos\n",
    "citylld.loc[:,\"slat\"] = citylld.iloc[:,1].apply(lambda x : radians(x))\n",
    "citylld.loc[:,\"slon\"] = citylld.iloc[:,2].apply(lambda x : radians(x))\n",
    "samplecityd.loc[:,\"elat\"] = samplecityd.iloc[:,1].apply(lambda x : radians(x))\n",
    "samplecityd.loc[:,\"elon\"] = samplecityd.iloc[:,2].apply(lambda x : radians(x))"
   ]
  },
  {
   "cell_type": "code",
   "execution_count": 45,
   "id": "76c5bc13",
   "metadata": {
    "scrolled": true
   },
   "outputs": [
    {
     "data": {
      "text/html": [
       "<div>\n",
       "<style scoped>\n",
       "    .dataframe tbody tr th:only-of-type {\n",
       "        vertical-align: middle;\n",
       "    }\n",
       "\n",
       "    .dataframe tbody tr th {\n",
       "        vertical-align: top;\n",
       "    }\n",
       "\n",
       "    .dataframe thead th {\n",
       "        text-align: right;\n",
       "    }\n",
       "</style>\n",
       "<table border=\"1\" class=\"dataframe\">\n",
       "  <thead>\n",
       "    <tr style=\"text-align: right;\">\n",
       "      <th></th>\n",
       "      <th>City</th>\n",
       "      <th>Latitudenum</th>\n",
       "      <th>Longitudenum</th>\n",
       "      <th>elat</th>\n",
       "      <th>elon</th>\n",
       "    </tr>\n",
       "  </thead>\n",
       "  <tbody>\n",
       "    <tr>\n",
       "      <th>0</th>\n",
       "      <td>Canberra</td>\n",
       "      <td>35.2809</td>\n",
       "      <td>149.1300</td>\n",
       "      <td>0.615768</td>\n",
       "      <td>2.602810</td>\n",
       "    </tr>\n",
       "    <tr>\n",
       "      <th>1</th>\n",
       "      <td>Sydney</td>\n",
       "      <td>33.8688</td>\n",
       "      <td>151.2093</td>\n",
       "      <td>0.591122</td>\n",
       "      <td>2.639100</td>\n",
       "    </tr>\n",
       "    <tr>\n",
       "      <th>2</th>\n",
       "      <td>Perth</td>\n",
       "      <td>31.9505</td>\n",
       "      <td>115.8605</td>\n",
       "      <td>0.557641</td>\n",
       "      <td>2.022147</td>\n",
       "    </tr>\n",
       "    <tr>\n",
       "      <th>3</th>\n",
       "      <td>Darwin</td>\n",
       "      <td>12.4634</td>\n",
       "      <td>130.8456</td>\n",
       "      <td>0.217527</td>\n",
       "      <td>2.283687</td>\n",
       "    </tr>\n",
       "    <tr>\n",
       "      <th>4</th>\n",
       "      <td>Hobart</td>\n",
       "      <td>42.8821</td>\n",
       "      <td>147.3272</td>\n",
       "      <td>0.748434</td>\n",
       "      <td>2.571345</td>\n",
       "    </tr>\n",
       "  </tbody>\n",
       "</table>\n",
       "</div>"
      ],
      "text/plain": [
       "       City  Latitudenum  Longitudenum      elat      elon\n",
       "0  Canberra      35.2809      149.1300  0.615768  2.602810\n",
       "1    Sydney      33.8688      151.2093  0.591122  2.639100\n",
       "2     Perth      31.9505      115.8605  0.557641  2.022147\n",
       "3    Darwin      12.4634      130.8456  0.217527  2.283687\n",
       "4    Hobart      42.8821      147.3272  0.748434  2.571345"
      ]
     },
     "execution_count": 45,
     "metadata": {},
     "output_type": "execute_result"
    }
   ],
   "source": [
    "samplecityd.head()"
   ]
  },
  {
   "cell_type": "markdown",
   "id": "048198a3",
   "metadata": {},
   "source": [
    "可以看到已经转换成了以弧度形式的经纬度\n",
    "\n",
    "下面用地理上的距离计算方法来计算并一一对应到相应的城市和气候上"
   ]
  },
  {
   "cell_type": "code",
   "execution_count": 46,
   "id": "5bd6fcd0",
   "metadata": {},
   "outputs": [
    {
     "name": "stderr",
     "output_type": "stream",
     "text": [
      "/Users/qi/opt/anaconda3/lib/python3.8/site-packages/pandas/core/indexing.py:1684: SettingWithCopyWarning: \n",
      "A value is trying to be set on a copy of a slice from a DataFrame.\n",
      "Try using .loc[row_indexer,col_indexer] = value instead\n",
      "\n",
      "See the caveats in the documentation: https://pandas.pydata.org/pandas-docs/stable/user_guide/indexing.html#returning-a-view-versus-a-copy\n",
      "  self.obj[key] = infer_fill_value(value)\n",
      "/Users/qi/opt/anaconda3/lib/python3.8/site-packages/pandas/core/indexing.py:1817: SettingWithCopyWarning: \n",
      "A value is trying to be set on a copy of a slice from a DataFrame.\n",
      "Try using .loc[row_indexer,col_indexer] = value instead\n",
      "\n",
      "See the caveats in the documentation: https://pandas.pydata.org/pandas-docs/stable/user_guide/indexing.html#returning-a-view-versus-a-copy\n",
      "  self._setitem_single_column(loc, value, pi)\n",
      "/Users/qi/opt/anaconda3/lib/python3.8/site-packages/pandas/core/arraylike.py:364: RuntimeWarning: invalid value encountered in arccos\n",
      "  result = getattr(ufunc, method)(*inputs, **kwargs)\n"
     ]
    }
   ],
   "source": [
    "import sys\n",
    "for i in range(samplecityd.shape[0]):\n",
    "    slat = citylld.loc[:,\"slat\"]\n",
    "    slon = citylld.loc[:,\"slon\"]\n",
    "    elat = samplecityd.loc[i,\"elat\"]\n",
    "    elon = samplecityd.loc[i,\"elon\"]\n",
    "    dist = 6371.01 * np.arccos(np.sin(slat)*np.sin(elat) +np.cos(slat)*np.cos(elat)*np.cos(slon.values - elon))\n",
    "    city_index = np.argsort(dist)[0] #每次计算后，取距离最近的城市，然后将最近的城市和城市对应的气候都匹配到samplecityd中 \n",
    "    samplecityd.loc[i,\"closest_city\"] = citylld.loc[city_index,\"City\"]\n",
    "    samplecityd.loc[i,\"climate\"] = citylld.loc[city_index,\"climate\"]"
   ]
  },
  {
   "cell_type": "code",
   "execution_count": 47,
   "id": "68810c19",
   "metadata": {},
   "outputs": [
    {
     "data": {
      "text/html": [
       "<div>\n",
       "<style scoped>\n",
       "    .dataframe tbody tr th:only-of-type {\n",
       "        vertical-align: middle;\n",
       "    }\n",
       "\n",
       "    .dataframe tbody tr th {\n",
       "        vertical-align: top;\n",
       "    }\n",
       "\n",
       "    .dataframe thead th {\n",
       "        text-align: right;\n",
       "    }\n",
       "</style>\n",
       "<table border=\"1\" class=\"dataframe\">\n",
       "  <thead>\n",
       "    <tr style=\"text-align: right;\">\n",
       "      <th></th>\n",
       "      <th>City</th>\n",
       "      <th>Latitudenum</th>\n",
       "      <th>Longitudenum</th>\n",
       "      <th>elat</th>\n",
       "      <th>elon</th>\n",
       "      <th>closest_city</th>\n",
       "      <th>climate</th>\n",
       "    </tr>\n",
       "  </thead>\n",
       "  <tbody>\n",
       "    <tr>\n",
       "      <th>0</th>\n",
       "      <td>Canberra</td>\n",
       "      <td>35.2809</td>\n",
       "      <td>149.1300</td>\n",
       "      <td>0.615768</td>\n",
       "      <td>2.602810</td>\n",
       "      <td>Canberra</td>\n",
       "      <td>Cool temperate</td>\n",
       "    </tr>\n",
       "    <tr>\n",
       "      <th>1</th>\n",
       "      <td>Sydney</td>\n",
       "      <td>33.8688</td>\n",
       "      <td>151.2093</td>\n",
       "      <td>0.591122</td>\n",
       "      <td>2.639100</td>\n",
       "      <td>Sydney</td>\n",
       "      <td>Warm temperate</td>\n",
       "    </tr>\n",
       "    <tr>\n",
       "      <th>2</th>\n",
       "      <td>Perth</td>\n",
       "      <td>31.9505</td>\n",
       "      <td>115.8605</td>\n",
       "      <td>0.557641</td>\n",
       "      <td>2.022147</td>\n",
       "      <td>Perth</td>\n",
       "      <td>Warm temperate</td>\n",
       "    </tr>\n",
       "    <tr>\n",
       "      <th>3</th>\n",
       "      <td>Darwin</td>\n",
       "      <td>12.4634</td>\n",
       "      <td>130.8456</td>\n",
       "      <td>0.217527</td>\n",
       "      <td>2.283687</td>\n",
       "      <td>Darwin</td>\n",
       "      <td>High humidity summer, warm winter</td>\n",
       "    </tr>\n",
       "    <tr>\n",
       "      <th>4</th>\n",
       "      <td>Hobart</td>\n",
       "      <td>42.8821</td>\n",
       "      <td>147.3272</td>\n",
       "      <td>0.748434</td>\n",
       "      <td>2.571345</td>\n",
       "      <td>Hobart</td>\n",
       "      <td>Cool temperate</td>\n",
       "    </tr>\n",
       "  </tbody>\n",
       "</table>\n",
       "</div>"
      ],
      "text/plain": [
       "       City  Latitudenum  Longitudenum      elat      elon closest_city  \\\n",
       "0  Canberra      35.2809      149.1300  0.615768  2.602810     Canberra   \n",
       "1    Sydney      33.8688      151.2093  0.591122  2.639100       Sydney   \n",
       "2     Perth      31.9505      115.8605  0.557641  2.022147        Perth   \n",
       "3    Darwin      12.4634      130.8456  0.217527  2.283687       Darwin   \n",
       "4    Hobart      42.8821      147.3272  0.748434  2.571345       Hobart   \n",
       "\n",
       "                             climate  \n",
       "0                  Cool temperate     \n",
       "1                  Warm temperate     \n",
       "2                  Warm temperate     \n",
       "3  High humidity summer, warm winter  \n",
       "4                  Cool temperate     "
      ]
     },
     "execution_count": 47,
     "metadata": {},
     "output_type": "execute_result"
    }
   ],
   "source": [
    "samplecityd.head()"
   ]
  },
  {
   "cell_type": "code",
   "execution_count": 48,
   "id": "cdfb6b66",
   "metadata": {},
   "outputs": [
    {
     "data": {
      "text/plain": [
       "Warm temperate                       15\n",
       "Mild temperate                       10\n",
       "Cool temperate                        9\n",
       "Hot dry summer, cool winter           6\n",
       "High humidity summer, warm winter     4\n",
       "Hot dry summer, warm winter           3\n",
       "Warm humid summer, mild winter        2\n",
       "Name: climate, dtype: int64"
      ]
     },
     "execution_count": 48,
     "metadata": {},
     "output_type": "execute_result"
    }
   ],
   "source": [
    "#查看气候的分布\n",
    "samplecityd[\"climate\"].value_counts()"
   ]
  },
  {
   "cell_type": "code",
   "execution_count": 49,
   "id": "87b899ac",
   "metadata": {},
   "outputs": [
    {
     "data": {
      "text/html": [
       "<div>\n",
       "<style scoped>\n",
       "    .dataframe tbody tr th:only-of-type {\n",
       "        vertical-align: middle;\n",
       "    }\n",
       "\n",
       "    .dataframe tbody tr th {\n",
       "        vertical-align: top;\n",
       "    }\n",
       "\n",
       "    .dataframe thead th {\n",
       "        text-align: right;\n",
       "    }\n",
       "</style>\n",
       "<table border=\"1\" class=\"dataframe\">\n",
       "  <thead>\n",
       "    <tr style=\"text-align: right;\">\n",
       "      <th></th>\n",
       "      <th>City</th>\n",
       "      <th>climate</th>\n",
       "    </tr>\n",
       "  </thead>\n",
       "  <tbody>\n",
       "    <tr>\n",
       "      <th>0</th>\n",
       "      <td>Canberra</td>\n",
       "      <td>Cool temperate</td>\n",
       "    </tr>\n",
       "    <tr>\n",
       "      <th>1</th>\n",
       "      <td>Sydney</td>\n",
       "      <td>Warm temperate</td>\n",
       "    </tr>\n",
       "    <tr>\n",
       "      <th>2</th>\n",
       "      <td>Perth</td>\n",
       "      <td>Warm temperate</td>\n",
       "    </tr>\n",
       "    <tr>\n",
       "      <th>3</th>\n",
       "      <td>Darwin</td>\n",
       "      <td>High humidity summer, warm winter</td>\n",
       "    </tr>\n",
       "    <tr>\n",
       "      <th>4</th>\n",
       "      <td>Hobart</td>\n",
       "      <td>Cool temperate</td>\n",
       "    </tr>\n",
       "  </tbody>\n",
       "</table>\n",
       "</div>"
      ],
      "text/plain": [
       "       City                            climate\n",
       "0  Canberra                  Cool temperate   \n",
       "1    Sydney                  Warm temperate   \n",
       "2     Perth                  Warm temperate   \n",
       "3    Darwin  High humidity summer, warm winter\n",
       "4    Hobart                  Cool temperate   "
      ]
     },
     "execution_count": 49,
     "metadata": {},
     "output_type": "execute_result"
    }
   ],
   "source": [
    "#确认无误后，取出样本城市所对应的气候，并保存\n",
    "locafinal = samplecityd.iloc[:,[0,-1]]\n",
    "locafinal.head()"
   ]
  },
  {
   "cell_type": "markdown",
   "id": "fdfee396",
   "metadata": {},
   "source": [
    "设置 Location 为索引"
   ]
  },
  {
   "cell_type": "code",
   "execution_count": 50,
   "id": "358b167c",
   "metadata": {},
   "outputs": [],
   "source": [
    "locafinal.columns = ['Location', 'Climate']"
   ]
  },
  {
   "cell_type": "code",
   "execution_count": 51,
   "id": "bfbec46a",
   "metadata": {},
   "outputs": [
    {
     "data": {
      "text/html": [
       "<div>\n",
       "<style scoped>\n",
       "    .dataframe tbody tr th:only-of-type {\n",
       "        vertical-align: middle;\n",
       "    }\n",
       "\n",
       "    .dataframe tbody tr th {\n",
       "        vertical-align: top;\n",
       "    }\n",
       "\n",
       "    .dataframe thead th {\n",
       "        text-align: right;\n",
       "    }\n",
       "</style>\n",
       "<table border=\"1\" class=\"dataframe\">\n",
       "  <thead>\n",
       "    <tr style=\"text-align: right;\">\n",
       "      <th></th>\n",
       "      <th>Climate</th>\n",
       "    </tr>\n",
       "    <tr>\n",
       "      <th>Location</th>\n",
       "      <th></th>\n",
       "    </tr>\n",
       "  </thead>\n",
       "  <tbody>\n",
       "    <tr>\n",
       "      <th>Canberra</th>\n",
       "      <td>Cool temperate</td>\n",
       "    </tr>\n",
       "    <tr>\n",
       "      <th>Sydney</th>\n",
       "      <td>Warm temperate</td>\n",
       "    </tr>\n",
       "    <tr>\n",
       "      <th>Perth</th>\n",
       "      <td>Warm temperate</td>\n",
       "    </tr>\n",
       "    <tr>\n",
       "      <th>Darwin</th>\n",
       "      <td>High humidity summer, warm winter</td>\n",
       "    </tr>\n",
       "    <tr>\n",
       "      <th>Hobart</th>\n",
       "      <td>Cool temperate</td>\n",
       "    </tr>\n",
       "  </tbody>\n",
       "</table>\n",
       "</div>"
      ],
      "text/plain": [
       "                                    Climate\n",
       "Location                                   \n",
       "Canberra                  Cool temperate   \n",
       "Sydney                    Warm temperate   \n",
       "Perth                     Warm temperate   \n",
       "Darwin    High humidity summer, warm winter\n",
       "Hobart                    Cool temperate   "
      ]
     },
     "execution_count": 51,
     "metadata": {},
     "output_type": "execute_result"
    }
   ],
   "source": [
    "locafinal = locafinal.set_index(keys='Location')\n",
    "locafinal.head()"
   ]
  },
  {
   "cell_type": "markdown",
   "id": "095b4a17",
   "metadata": {},
   "source": [
    "拿到最终的地点和气候的对应关系后，现在要更新训练数据，用气候来代替位置信息"
   ]
  },
  {
   "cell_type": "code",
   "execution_count": 52,
   "id": "dc08df43",
   "metadata": {},
   "outputs": [
    {
     "data": {
      "text/html": [
       "<div>\n",
       "<style scoped>\n",
       "    .dataframe tbody tr th:only-of-type {\n",
       "        vertical-align: middle;\n",
       "    }\n",
       "\n",
       "    .dataframe tbody tr th {\n",
       "        vertical-align: top;\n",
       "    }\n",
       "\n",
       "    .dataframe thead th {\n",
       "        text-align: right;\n",
       "    }\n",
       "</style>\n",
       "<table border=\"1\" class=\"dataframe\">\n",
       "  <thead>\n",
       "    <tr style=\"text-align: right;\">\n",
       "      <th></th>\n",
       "      <th>Month</th>\n",
       "      <th>Location</th>\n",
       "      <th>MinTemp</th>\n",
       "      <th>MaxTemp</th>\n",
       "      <th>Rainfall</th>\n",
       "      <th>Evaporation</th>\n",
       "      <th>Sunshine</th>\n",
       "      <th>WindGustDir</th>\n",
       "      <th>WindGustSpeed</th>\n",
       "      <th>WindDir9am</th>\n",
       "      <th>...</th>\n",
       "      <th>WindSpeed3pm</th>\n",
       "      <th>Humidity9am</th>\n",
       "      <th>Humidity3pm</th>\n",
       "      <th>Pressure9am</th>\n",
       "      <th>Pressure3pm</th>\n",
       "      <th>Cloud9am</th>\n",
       "      <th>Cloud3pm</th>\n",
       "      <th>Temp9am</th>\n",
       "      <th>Temp3pm</th>\n",
       "      <th>Raintoday</th>\n",
       "    </tr>\n",
       "  </thead>\n",
       "  <tbody>\n",
       "    <tr>\n",
       "      <th>0</th>\n",
       "      <td>12</td>\n",
       "      <td>Hot dry summer, cool winter</td>\n",
       "      <td>11.2</td>\n",
       "      <td>25.4</td>\n",
       "      <td>0.0</td>\n",
       "      <td>10.8</td>\n",
       "      <td>13.4</td>\n",
       "      <td>SSE</td>\n",
       "      <td>48.0</td>\n",
       "      <td>SE</td>\n",
       "      <td>...</td>\n",
       "      <td>19.0</td>\n",
       "      <td>42.0</td>\n",
       "      <td>18.0</td>\n",
       "      <td>1022.2</td>\n",
       "      <td>1018.5</td>\n",
       "      <td>0.0</td>\n",
       "      <td>0.0</td>\n",
       "      <td>14.8</td>\n",
       "      <td>24.0</td>\n",
       "      <td>No</td>\n",
       "    </tr>\n",
       "    <tr>\n",
       "      <th>1</th>\n",
       "      <td>2</td>\n",
       "      <td>Warm temperate</td>\n",
       "      <td>22.1</td>\n",
       "      <td>30.1</td>\n",
       "      <td>17.8</td>\n",
       "      <td>NaN</td>\n",
       "      <td>NaN</td>\n",
       "      <td>ESE</td>\n",
       "      <td>41.0</td>\n",
       "      <td>N</td>\n",
       "      <td>...</td>\n",
       "      <td>15.0</td>\n",
       "      <td>93.0</td>\n",
       "      <td>76.0</td>\n",
       "      <td>NaN</td>\n",
       "      <td>NaN</td>\n",
       "      <td>NaN</td>\n",
       "      <td>NaN</td>\n",
       "      <td>24.6</td>\n",
       "      <td>28.3</td>\n",
       "      <td>Yes</td>\n",
       "    </tr>\n",
       "    <tr>\n",
       "      <th>2</th>\n",
       "      <td>1</td>\n",
       "      <td>Mild temperate</td>\n",
       "      <td>11.0</td>\n",
       "      <td>32.8</td>\n",
       "      <td>0.0</td>\n",
       "      <td>7.6</td>\n",
       "      <td>8.8</td>\n",
       "      <td>SSW</td>\n",
       "      <td>30.0</td>\n",
       "      <td>ENE</td>\n",
       "      <td>...</td>\n",
       "      <td>19.0</td>\n",
       "      <td>67.0</td>\n",
       "      <td>17.0</td>\n",
       "      <td>1016.8</td>\n",
       "      <td>1013.7</td>\n",
       "      <td>NaN</td>\n",
       "      <td>NaN</td>\n",
       "      <td>17.2</td>\n",
       "      <td>31.7</td>\n",
       "      <td>No</td>\n",
       "    </tr>\n",
       "    <tr>\n",
       "      <th>3</th>\n",
       "      <td>12</td>\n",
       "      <td>Mild temperate</td>\n",
       "      <td>13.5</td>\n",
       "      <td>22.4</td>\n",
       "      <td>0.0</td>\n",
       "      <td>6.0</td>\n",
       "      <td>8.6</td>\n",
       "      <td>NaN</td>\n",
       "      <td>NaN</td>\n",
       "      <td>WNW</td>\n",
       "      <td>...</td>\n",
       "      <td>NaN</td>\n",
       "      <td>71.0</td>\n",
       "      <td>NaN</td>\n",
       "      <td>1015.8</td>\n",
       "      <td>1014.8</td>\n",
       "      <td>6.0</td>\n",
       "      <td>NaN</td>\n",
       "      <td>19.5</td>\n",
       "      <td>NaN</td>\n",
       "      <td>No</td>\n",
       "    </tr>\n",
       "    <tr>\n",
       "      <th>4</th>\n",
       "      <td>6</td>\n",
       "      <td>Cool temperate</td>\n",
       "      <td>0.1</td>\n",
       "      <td>15.3</td>\n",
       "      <td>0.0</td>\n",
       "      <td>NaN</td>\n",
       "      <td>NaN</td>\n",
       "      <td>NW</td>\n",
       "      <td>17.0</td>\n",
       "      <td>NaN</td>\n",
       "      <td>...</td>\n",
       "      <td>9.0</td>\n",
       "      <td>99.0</td>\n",
       "      <td>46.0</td>\n",
       "      <td>1021.9</td>\n",
       "      <td>1019.2</td>\n",
       "      <td>NaN</td>\n",
       "      <td>NaN</td>\n",
       "      <td>6.0</td>\n",
       "      <td>14.6</td>\n",
       "      <td>No</td>\n",
       "    </tr>\n",
       "  </tbody>\n",
       "</table>\n",
       "<p>5 rows × 22 columns</p>\n",
       "</div>"
      ],
      "text/plain": [
       "   Month                     Location  MinTemp  MaxTemp  Rainfall  \\\n",
       "0     12  Hot dry summer, cool winter     11.2     25.4       0.0   \n",
       "1      2            Warm temperate        22.1     30.1      17.8   \n",
       "2      1            Mild temperate        11.0     32.8       0.0   \n",
       "3     12            Mild temperate        13.5     22.4       0.0   \n",
       "4      6            Cool temperate         0.1     15.3       0.0   \n",
       "\n",
       "   Evaporation  Sunshine WindGustDir  WindGustSpeed WindDir9am  ...  \\\n",
       "0         10.8      13.4         SSE           48.0         SE  ...   \n",
       "1          NaN       NaN         ESE           41.0          N  ...   \n",
       "2          7.6       8.8         SSW           30.0        ENE  ...   \n",
       "3          6.0       8.6         NaN            NaN        WNW  ...   \n",
       "4          NaN       NaN          NW           17.0        NaN  ...   \n",
       "\n",
       "  WindSpeed3pm  Humidity9am  Humidity3pm  Pressure9am  Pressure3pm  Cloud9am  \\\n",
       "0         19.0         42.0         18.0       1022.2       1018.5       0.0   \n",
       "1         15.0         93.0         76.0          NaN          NaN       NaN   \n",
       "2         19.0         67.0         17.0       1016.8       1013.7       NaN   \n",
       "3          NaN         71.0          NaN       1015.8       1014.8       6.0   \n",
       "4          9.0         99.0         46.0       1021.9       1019.2       NaN   \n",
       "\n",
       "   Cloud3pm  Temp9am  Temp3pm  Raintoday  \n",
       "0       0.0     14.8     24.0         No  \n",
       "1       NaN     24.6     28.3        Yes  \n",
       "2       NaN     17.2     31.7         No  \n",
       "3       NaN     19.5      NaN         No  \n",
       "4       NaN      6.0     14.6         No  \n",
       "\n",
       "[5 rows x 22 columns]"
      ]
     },
     "execution_count": 52,
     "metadata": {},
     "output_type": "execute_result"
    }
   ],
   "source": [
    "Xtrain.loc[:,'Location'] = Xtrain.loc[:,'Location'].map(locafinal.iloc[:,0])\n",
    "Xtrain.head()"
   ]
  },
  {
   "cell_type": "markdown",
   "id": "d726692e",
   "metadata": {},
   "source": [
    "将逗号和空格全部替换掉"
   ]
  },
  {
   "cell_type": "code",
   "execution_count": 53,
   "id": "e2f31519",
   "metadata": {},
   "outputs": [],
   "source": [
    "# 将location中的内容替换，并且确保匹配进入的气候字符串中不含有逗号，\n",
    "# 气候两边不含有空格 #我们使用re这个模块来消除逗号 #re.sub(希望替换的值，希望被替换成的值，要操作的字符串)\n",
    "# x.strip()是去掉空格的函数\n",
    "\n",
    "Xtrain[\"Location\"] = Xtrain[\"Location\"].apply(lambda x:re.sub(\",\",\"\",x.strip()))\n",
    "Xtest[\"Location\"] = Xtest[\"Location\"].map(locafinal.iloc[:,0]).apply(lambda x:re.sub(\",\",\"\",x.strip()))"
   ]
  },
  {
   "cell_type": "code",
   "execution_count": 54,
   "id": "d691b119",
   "metadata": {},
   "outputs": [
    {
     "data": {
      "text/html": [
       "<div>\n",
       "<style scoped>\n",
       "    .dataframe tbody tr th:only-of-type {\n",
       "        vertical-align: middle;\n",
       "    }\n",
       "\n",
       "    .dataframe tbody tr th {\n",
       "        vertical-align: top;\n",
       "    }\n",
       "\n",
       "    .dataframe thead th {\n",
       "        text-align: right;\n",
       "    }\n",
       "</style>\n",
       "<table border=\"1\" class=\"dataframe\">\n",
       "  <thead>\n",
       "    <tr style=\"text-align: right;\">\n",
       "      <th></th>\n",
       "      <th>Month</th>\n",
       "      <th>Location</th>\n",
       "      <th>MinTemp</th>\n",
       "      <th>MaxTemp</th>\n",
       "      <th>Rainfall</th>\n",
       "      <th>Evaporation</th>\n",
       "      <th>Sunshine</th>\n",
       "      <th>WindGustDir</th>\n",
       "      <th>WindGustSpeed</th>\n",
       "      <th>WindDir9am</th>\n",
       "      <th>...</th>\n",
       "      <th>WindSpeed3pm</th>\n",
       "      <th>Humidity9am</th>\n",
       "      <th>Humidity3pm</th>\n",
       "      <th>Pressure9am</th>\n",
       "      <th>Pressure3pm</th>\n",
       "      <th>Cloud9am</th>\n",
       "      <th>Cloud3pm</th>\n",
       "      <th>Temp9am</th>\n",
       "      <th>Temp3pm</th>\n",
       "      <th>Raintoday</th>\n",
       "    </tr>\n",
       "  </thead>\n",
       "  <tbody>\n",
       "    <tr>\n",
       "      <th>0</th>\n",
       "      <td>12</td>\n",
       "      <td>Hot dry summer cool winter</td>\n",
       "      <td>11.2</td>\n",
       "      <td>25.4</td>\n",
       "      <td>0.0</td>\n",
       "      <td>10.8</td>\n",
       "      <td>13.4</td>\n",
       "      <td>SSE</td>\n",
       "      <td>48.0</td>\n",
       "      <td>SE</td>\n",
       "      <td>...</td>\n",
       "      <td>19.0</td>\n",
       "      <td>42.0</td>\n",
       "      <td>18.0</td>\n",
       "      <td>1022.2</td>\n",
       "      <td>1018.5</td>\n",
       "      <td>0.0</td>\n",
       "      <td>0.0</td>\n",
       "      <td>14.8</td>\n",
       "      <td>24.0</td>\n",
       "      <td>No</td>\n",
       "    </tr>\n",
       "    <tr>\n",
       "      <th>1</th>\n",
       "      <td>2</td>\n",
       "      <td>Warm temperate</td>\n",
       "      <td>22.1</td>\n",
       "      <td>30.1</td>\n",
       "      <td>17.8</td>\n",
       "      <td>NaN</td>\n",
       "      <td>NaN</td>\n",
       "      <td>ESE</td>\n",
       "      <td>41.0</td>\n",
       "      <td>N</td>\n",
       "      <td>...</td>\n",
       "      <td>15.0</td>\n",
       "      <td>93.0</td>\n",
       "      <td>76.0</td>\n",
       "      <td>NaN</td>\n",
       "      <td>NaN</td>\n",
       "      <td>NaN</td>\n",
       "      <td>NaN</td>\n",
       "      <td>24.6</td>\n",
       "      <td>28.3</td>\n",
       "      <td>Yes</td>\n",
       "    </tr>\n",
       "    <tr>\n",
       "      <th>2</th>\n",
       "      <td>1</td>\n",
       "      <td>Mild temperate</td>\n",
       "      <td>11.0</td>\n",
       "      <td>32.8</td>\n",
       "      <td>0.0</td>\n",
       "      <td>7.6</td>\n",
       "      <td>8.8</td>\n",
       "      <td>SSW</td>\n",
       "      <td>30.0</td>\n",
       "      <td>ENE</td>\n",
       "      <td>...</td>\n",
       "      <td>19.0</td>\n",
       "      <td>67.0</td>\n",
       "      <td>17.0</td>\n",
       "      <td>1016.8</td>\n",
       "      <td>1013.7</td>\n",
       "      <td>NaN</td>\n",
       "      <td>NaN</td>\n",
       "      <td>17.2</td>\n",
       "      <td>31.7</td>\n",
       "      <td>No</td>\n",
       "    </tr>\n",
       "    <tr>\n",
       "      <th>3</th>\n",
       "      <td>12</td>\n",
       "      <td>Mild temperate</td>\n",
       "      <td>13.5</td>\n",
       "      <td>22.4</td>\n",
       "      <td>0.0</td>\n",
       "      <td>6.0</td>\n",
       "      <td>8.6</td>\n",
       "      <td>NaN</td>\n",
       "      <td>NaN</td>\n",
       "      <td>WNW</td>\n",
       "      <td>...</td>\n",
       "      <td>NaN</td>\n",
       "      <td>71.0</td>\n",
       "      <td>NaN</td>\n",
       "      <td>1015.8</td>\n",
       "      <td>1014.8</td>\n",
       "      <td>6.0</td>\n",
       "      <td>NaN</td>\n",
       "      <td>19.5</td>\n",
       "      <td>NaN</td>\n",
       "      <td>No</td>\n",
       "    </tr>\n",
       "    <tr>\n",
       "      <th>4</th>\n",
       "      <td>6</td>\n",
       "      <td>Cool temperate</td>\n",
       "      <td>0.1</td>\n",
       "      <td>15.3</td>\n",
       "      <td>0.0</td>\n",
       "      <td>NaN</td>\n",
       "      <td>NaN</td>\n",
       "      <td>NW</td>\n",
       "      <td>17.0</td>\n",
       "      <td>NaN</td>\n",
       "      <td>...</td>\n",
       "      <td>9.0</td>\n",
       "      <td>99.0</td>\n",
       "      <td>46.0</td>\n",
       "      <td>1021.9</td>\n",
       "      <td>1019.2</td>\n",
       "      <td>NaN</td>\n",
       "      <td>NaN</td>\n",
       "      <td>6.0</td>\n",
       "      <td>14.6</td>\n",
       "      <td>No</td>\n",
       "    </tr>\n",
       "  </tbody>\n",
       "</table>\n",
       "<p>5 rows × 22 columns</p>\n",
       "</div>"
      ],
      "text/plain": [
       "   Month                    Location  MinTemp  MaxTemp  Rainfall  Evaporation  \\\n",
       "0     12  Hot dry summer cool winter     11.2     25.4       0.0         10.8   \n",
       "1      2              Warm temperate     22.1     30.1      17.8          NaN   \n",
       "2      1              Mild temperate     11.0     32.8       0.0          7.6   \n",
       "3     12              Mild temperate     13.5     22.4       0.0          6.0   \n",
       "4      6              Cool temperate      0.1     15.3       0.0          NaN   \n",
       "\n",
       "   Sunshine WindGustDir  WindGustSpeed WindDir9am  ... WindSpeed3pm  \\\n",
       "0      13.4         SSE           48.0         SE  ...         19.0   \n",
       "1       NaN         ESE           41.0          N  ...         15.0   \n",
       "2       8.8         SSW           30.0        ENE  ...         19.0   \n",
       "3       8.6         NaN            NaN        WNW  ...          NaN   \n",
       "4       NaN          NW           17.0        NaN  ...          9.0   \n",
       "\n",
       "   Humidity9am  Humidity3pm  Pressure9am  Pressure3pm  Cloud9am  Cloud3pm  \\\n",
       "0         42.0         18.0       1022.2       1018.5       0.0       0.0   \n",
       "1         93.0         76.0          NaN          NaN       NaN       NaN   \n",
       "2         67.0         17.0       1016.8       1013.7       NaN       NaN   \n",
       "3         71.0          NaN       1015.8       1014.8       6.0       NaN   \n",
       "4         99.0         46.0       1021.9       1019.2       NaN       NaN   \n",
       "\n",
       "   Temp9am  Temp3pm  Raintoday  \n",
       "0     14.8     24.0         No  \n",
       "1     24.6     28.3        Yes  \n",
       "2     17.2     31.7         No  \n",
       "3     19.5      NaN         No  \n",
       "4      6.0     14.6         No  \n",
       "\n",
       "[5 rows x 22 columns]"
      ]
     },
     "execution_count": 54,
     "metadata": {},
     "output_type": "execute_result"
    }
   ],
   "source": [
    "Xtrain.head()"
   ]
  },
  {
   "cell_type": "code",
   "execution_count": 55,
   "id": "7739c1dc",
   "metadata": {},
   "outputs": [
    {
     "data": {
      "text/html": [
       "<div>\n",
       "<style scoped>\n",
       "    .dataframe tbody tr th:only-of-type {\n",
       "        vertical-align: middle;\n",
       "    }\n",
       "\n",
       "    .dataframe tbody tr th {\n",
       "        vertical-align: top;\n",
       "    }\n",
       "\n",
       "    .dataframe thead th {\n",
       "        text-align: right;\n",
       "    }\n",
       "</style>\n",
       "<table border=\"1\" class=\"dataframe\">\n",
       "  <thead>\n",
       "    <tr style=\"text-align: right;\">\n",
       "      <th></th>\n",
       "      <th>Month</th>\n",
       "      <th>Location</th>\n",
       "      <th>MinTemp</th>\n",
       "      <th>MaxTemp</th>\n",
       "      <th>Rainfall</th>\n",
       "      <th>Evaporation</th>\n",
       "      <th>Sunshine</th>\n",
       "      <th>WindGustDir</th>\n",
       "      <th>WindGustSpeed</th>\n",
       "      <th>WindDir9am</th>\n",
       "      <th>...</th>\n",
       "      <th>WindSpeed3pm</th>\n",
       "      <th>Humidity9am</th>\n",
       "      <th>Humidity3pm</th>\n",
       "      <th>Pressure9am</th>\n",
       "      <th>Pressure3pm</th>\n",
       "      <th>Cloud9am</th>\n",
       "      <th>Cloud3pm</th>\n",
       "      <th>Temp9am</th>\n",
       "      <th>Temp3pm</th>\n",
       "      <th>Raintoday</th>\n",
       "    </tr>\n",
       "  </thead>\n",
       "  <tbody>\n",
       "    <tr>\n",
       "      <th>0</th>\n",
       "      <td>11</td>\n",
       "      <td>Warm temperate</td>\n",
       "      <td>10.5</td>\n",
       "      <td>30.9</td>\n",
       "      <td>0.0</td>\n",
       "      <td>13.6</td>\n",
       "      <td>NaN</td>\n",
       "      <td>E</td>\n",
       "      <td>41.0</td>\n",
       "      <td>NE</td>\n",
       "      <td>...</td>\n",
       "      <td>11.0</td>\n",
       "      <td>34.0</td>\n",
       "      <td>13.0</td>\n",
       "      <td>1018.0</td>\n",
       "      <td>1015.5</td>\n",
       "      <td>NaN</td>\n",
       "      <td>NaN</td>\n",
       "      <td>20.8</td>\n",
       "      <td>29.9</td>\n",
       "      <td>No</td>\n",
       "    </tr>\n",
       "    <tr>\n",
       "      <th>1</th>\n",
       "      <td>12</td>\n",
       "      <td>Cool temperate</td>\n",
       "      <td>22.2</td>\n",
       "      <td>27.8</td>\n",
       "      <td>0.2</td>\n",
       "      <td>NaN</td>\n",
       "      <td>NaN</td>\n",
       "      <td>S</td>\n",
       "      <td>39.0</td>\n",
       "      <td>W</td>\n",
       "      <td>...</td>\n",
       "      <td>11.0</td>\n",
       "      <td>71.0</td>\n",
       "      <td>81.0</td>\n",
       "      <td>1008.6</td>\n",
       "      <td>1008.6</td>\n",
       "      <td>NaN</td>\n",
       "      <td>NaN</td>\n",
       "      <td>25.4</td>\n",
       "      <td>26.0</td>\n",
       "      <td>No</td>\n",
       "    </tr>\n",
       "    <tr>\n",
       "      <th>2</th>\n",
       "      <td>4</td>\n",
       "      <td>Cool temperate</td>\n",
       "      <td>1.9</td>\n",
       "      <td>4.7</td>\n",
       "      <td>5.8</td>\n",
       "      <td>NaN</td>\n",
       "      <td>NaN</td>\n",
       "      <td>WSW</td>\n",
       "      <td>52.0</td>\n",
       "      <td>W</td>\n",
       "      <td>...</td>\n",
       "      <td>22.0</td>\n",
       "      <td>NaN</td>\n",
       "      <td>NaN</td>\n",
       "      <td>NaN</td>\n",
       "      <td>NaN</td>\n",
       "      <td>NaN</td>\n",
       "      <td>NaN</td>\n",
       "      <td>NaN</td>\n",
       "      <td>NaN</td>\n",
       "      <td>Yes</td>\n",
       "    </tr>\n",
       "    <tr>\n",
       "      <th>3</th>\n",
       "      <td>4</td>\n",
       "      <td>Warm humid summer mild winter</td>\n",
       "      <td>13.5</td>\n",
       "      <td>24.5</td>\n",
       "      <td>0.0</td>\n",
       "      <td>3.6</td>\n",
       "      <td>9.9</td>\n",
       "      <td>S</td>\n",
       "      <td>30.0</td>\n",
       "      <td>S</td>\n",
       "      <td>...</td>\n",
       "      <td>20.0</td>\n",
       "      <td>71.0</td>\n",
       "      <td>61.0</td>\n",
       "      <td>1014.3</td>\n",
       "      <td>1012.7</td>\n",
       "      <td>0.0</td>\n",
       "      <td>1.0</td>\n",
       "      <td>21.4</td>\n",
       "      <td>24.1</td>\n",
       "      <td>No</td>\n",
       "    </tr>\n",
       "    <tr>\n",
       "      <th>4</th>\n",
       "      <td>12</td>\n",
       "      <td>Mild temperate</td>\n",
       "      <td>15.1</td>\n",
       "      <td>20.9</td>\n",
       "      <td>0.0</td>\n",
       "      <td>4.8</td>\n",
       "      <td>8.4</td>\n",
       "      <td>WNW</td>\n",
       "      <td>46.0</td>\n",
       "      <td>W</td>\n",
       "      <td>...</td>\n",
       "      <td>15.0</td>\n",
       "      <td>55.0</td>\n",
       "      <td>32.0</td>\n",
       "      <td>1008.1</td>\n",
       "      <td>1012.2</td>\n",
       "      <td>6.0</td>\n",
       "      <td>6.0</td>\n",
       "      <td>16.7</td>\n",
       "      <td>20.1</td>\n",
       "      <td>No</td>\n",
       "    </tr>\n",
       "  </tbody>\n",
       "</table>\n",
       "<p>5 rows × 22 columns</p>\n",
       "</div>"
      ],
      "text/plain": [
       "   Month                       Location  MinTemp  MaxTemp  Rainfall  \\\n",
       "0     11                 Warm temperate     10.5     30.9       0.0   \n",
       "1     12                 Cool temperate     22.2     27.8       0.2   \n",
       "2      4                 Cool temperate      1.9      4.7       5.8   \n",
       "3      4  Warm humid summer mild winter     13.5     24.5       0.0   \n",
       "4     12                 Mild temperate     15.1     20.9       0.0   \n",
       "\n",
       "   Evaporation  Sunshine WindGustDir  WindGustSpeed WindDir9am  ...  \\\n",
       "0         13.6       NaN           E           41.0         NE  ...   \n",
       "1          NaN       NaN           S           39.0          W  ...   \n",
       "2          NaN       NaN         WSW           52.0          W  ...   \n",
       "3          3.6       9.9           S           30.0          S  ...   \n",
       "4          4.8       8.4         WNW           46.0          W  ...   \n",
       "\n",
       "  WindSpeed3pm  Humidity9am  Humidity3pm  Pressure9am  Pressure3pm  Cloud9am  \\\n",
       "0         11.0         34.0         13.0       1018.0       1015.5       NaN   \n",
       "1         11.0         71.0         81.0       1008.6       1008.6       NaN   \n",
       "2         22.0          NaN          NaN          NaN          NaN       NaN   \n",
       "3         20.0         71.0         61.0       1014.3       1012.7       0.0   \n",
       "4         15.0         55.0         32.0       1008.1       1012.2       6.0   \n",
       "\n",
       "   Cloud3pm  Temp9am  Temp3pm  Raintoday  \n",
       "0       NaN     20.8     29.9         No  \n",
       "1       NaN     25.4     26.0         No  \n",
       "2       NaN      NaN      NaN        Yes  \n",
       "3       1.0     21.4     24.1         No  \n",
       "4       6.0     16.7     20.1         No  \n",
       "\n",
       "[5 rows x 22 columns]"
      ]
     },
     "execution_count": 55,
     "metadata": {},
     "output_type": "execute_result"
    }
   ],
   "source": [
    "Xtest.head()"
   ]
  },
  {
   "cell_type": "code",
   "execution_count": 56,
   "id": "d3b1e5ec",
   "metadata": {},
   "outputs": [],
   "source": [
    "Xtrain = Xtrain.rename(columns={'Location':'Climate'})\n",
    "Xtest = Xtest.rename(columns={'Location':'Climate'})"
   ]
  },
  {
   "cell_type": "code",
   "execution_count": 57,
   "id": "3308ae33",
   "metadata": {},
   "outputs": [
    {
     "data": {
      "text/html": [
       "<div>\n",
       "<style scoped>\n",
       "    .dataframe tbody tr th:only-of-type {\n",
       "        vertical-align: middle;\n",
       "    }\n",
       "\n",
       "    .dataframe tbody tr th {\n",
       "        vertical-align: top;\n",
       "    }\n",
       "\n",
       "    .dataframe thead th {\n",
       "        text-align: right;\n",
       "    }\n",
       "</style>\n",
       "<table border=\"1\" class=\"dataframe\">\n",
       "  <thead>\n",
       "    <tr style=\"text-align: right;\">\n",
       "      <th></th>\n",
       "      <th>Month</th>\n",
       "      <th>Climate</th>\n",
       "      <th>MinTemp</th>\n",
       "      <th>MaxTemp</th>\n",
       "      <th>Rainfall</th>\n",
       "      <th>Evaporation</th>\n",
       "      <th>Sunshine</th>\n",
       "      <th>WindGustDir</th>\n",
       "      <th>WindGustSpeed</th>\n",
       "      <th>WindDir9am</th>\n",
       "      <th>...</th>\n",
       "      <th>WindSpeed3pm</th>\n",
       "      <th>Humidity9am</th>\n",
       "      <th>Humidity3pm</th>\n",
       "      <th>Pressure9am</th>\n",
       "      <th>Pressure3pm</th>\n",
       "      <th>Cloud9am</th>\n",
       "      <th>Cloud3pm</th>\n",
       "      <th>Temp9am</th>\n",
       "      <th>Temp3pm</th>\n",
       "      <th>Raintoday</th>\n",
       "    </tr>\n",
       "  </thead>\n",
       "  <tbody>\n",
       "    <tr>\n",
       "      <th>0</th>\n",
       "      <td>12</td>\n",
       "      <td>Hot dry summer cool winter</td>\n",
       "      <td>11.2</td>\n",
       "      <td>25.4</td>\n",
       "      <td>0.0</td>\n",
       "      <td>10.8</td>\n",
       "      <td>13.4</td>\n",
       "      <td>SSE</td>\n",
       "      <td>48.0</td>\n",
       "      <td>SE</td>\n",
       "      <td>...</td>\n",
       "      <td>19.0</td>\n",
       "      <td>42.0</td>\n",
       "      <td>18.0</td>\n",
       "      <td>1022.2</td>\n",
       "      <td>1018.5</td>\n",
       "      <td>0.0</td>\n",
       "      <td>0.0</td>\n",
       "      <td>14.8</td>\n",
       "      <td>24.0</td>\n",
       "      <td>No</td>\n",
       "    </tr>\n",
       "    <tr>\n",
       "      <th>1</th>\n",
       "      <td>2</td>\n",
       "      <td>Warm temperate</td>\n",
       "      <td>22.1</td>\n",
       "      <td>30.1</td>\n",
       "      <td>17.8</td>\n",
       "      <td>NaN</td>\n",
       "      <td>NaN</td>\n",
       "      <td>ESE</td>\n",
       "      <td>41.0</td>\n",
       "      <td>N</td>\n",
       "      <td>...</td>\n",
       "      <td>15.0</td>\n",
       "      <td>93.0</td>\n",
       "      <td>76.0</td>\n",
       "      <td>NaN</td>\n",
       "      <td>NaN</td>\n",
       "      <td>NaN</td>\n",
       "      <td>NaN</td>\n",
       "      <td>24.6</td>\n",
       "      <td>28.3</td>\n",
       "      <td>Yes</td>\n",
       "    </tr>\n",
       "  </tbody>\n",
       "</table>\n",
       "<p>2 rows × 22 columns</p>\n",
       "</div>"
      ],
      "text/plain": [
       "   Month                     Climate  MinTemp  MaxTemp  Rainfall  Evaporation  \\\n",
       "0     12  Hot dry summer cool winter     11.2     25.4       0.0         10.8   \n",
       "1      2              Warm temperate     22.1     30.1      17.8          NaN   \n",
       "\n",
       "   Sunshine WindGustDir  WindGustSpeed WindDir9am  ... WindSpeed3pm  \\\n",
       "0      13.4         SSE           48.0         SE  ...         19.0   \n",
       "1       NaN         ESE           41.0          N  ...         15.0   \n",
       "\n",
       "   Humidity9am  Humidity3pm  Pressure9am  Pressure3pm  Cloud9am  Cloud3pm  \\\n",
       "0         42.0         18.0       1022.2       1018.5       0.0       0.0   \n",
       "1         93.0         76.0          NaN          NaN       NaN       NaN   \n",
       "\n",
       "   Temp9am  Temp3pm  Raintoday  \n",
       "0     14.8     24.0         No  \n",
       "1     24.6     28.3        Yes  \n",
       "\n",
       "[2 rows x 22 columns]"
      ]
     },
     "execution_count": 57,
     "metadata": {},
     "output_type": "execute_result"
    }
   ],
   "source": [
    "Xtrain.head(2)"
   ]
  },
  {
   "cell_type": "markdown",
   "id": "6ebd58ba",
   "metadata": {},
   "source": [
    "#### 缺失值\n",
    "一般来说，我们用训练集上面的均值去填补训练和测试集上的缺失值"
   ]
  },
  {
   "cell_type": "code",
   "execution_count": 58,
   "id": "a85448f4",
   "metadata": {},
   "outputs": [
    {
     "data": {
      "text/plain": [
       "Month            0.000000\n",
       "Climate          0.000000\n",
       "MinTemp          0.004000\n",
       "MaxTemp          0.003143\n",
       "Rainfall         0.010571\n",
       "Evaporation      0.433143\n",
       "Sunshine         0.494000\n",
       "WindGustDir      0.066571\n",
       "WindGustSpeed    0.066571\n",
       "WindDir9am       0.068286\n",
       "WindDir3pm       0.023143\n",
       "WindSpeed9am     0.009714\n",
       "WindSpeed3pm     0.016857\n",
       "Humidity9am      0.012286\n",
       "Humidity3pm      0.026000\n",
       "Pressure9am      0.100000\n",
       "Pressure3pm      0.100286\n",
       "Cloud9am         0.379429\n",
       "Cloud3pm         0.403429\n",
       "Temp9am          0.006286\n",
       "Temp3pm          0.019429\n",
       "Raintoday        0.010571\n",
       "dtype: float64"
      ]
     },
     "execution_count": 58,
     "metadata": {},
     "output_type": "execute_result"
    }
   ],
   "source": [
    "Xtrain.isnull().mean()"
   ]
  },
  {
   "cell_type": "markdown",
   "id": "4ea01da5",
   "metadata": {},
   "source": [
    "先找出是分类性特征的列"
   ]
  },
  {
   "cell_type": "code",
   "execution_count": 59,
   "id": "8021299c",
   "metadata": {},
   "outputs": [
    {
     "data": {
      "text/plain": [
       "['Climate', 'WindGustDir', 'WindDir9am', 'WindDir3pm', 'Raintoday']"
      ]
     },
     "execution_count": 59,
     "metadata": {},
     "output_type": "execute_result"
    }
   ],
   "source": [
    "cate = Xtrain.columns[Xtrain.dtypes == 'object'].tolist()\n",
    "cate"
   ]
  },
  {
   "cell_type": "markdown",
   "id": "041b2f56",
   "metadata": {},
   "source": [
    "还有两个虽然是数字，但是也是分类特征"
   ]
  },
  {
   "cell_type": "code",
   "execution_count": 60,
   "id": "b9316560",
   "metadata": {},
   "outputs": [
    {
     "data": {
      "text/plain": [
       "['Climate',\n",
       " 'WindGustDir',\n",
       " 'WindDir9am',\n",
       " 'WindDir3pm',\n",
       " 'Raintoday',\n",
       " 'Cloud9am',\n",
       " 'Cloud3pm']"
      ]
     },
     "execution_count": 60,
     "metadata": {},
     "output_type": "execute_result"
    }
   ],
   "source": [
    "cate = cate + ['Cloud9am', 'Cloud3pm']\n",
    "cate"
   ]
  },
  {
   "cell_type": "markdown",
   "id": "fc8ec800",
   "metadata": {},
   "source": [
    "对于分类性特征，用众数进行填补 SimpleImputer"
   ]
  },
  {
   "cell_type": "code",
   "execution_count": 61,
   "id": "a0c1d900",
   "metadata": {},
   "outputs": [],
   "source": [
    "si = SimpleImputer(missing_values=np.nan, strategy='most_frequent')"
   ]
  },
  {
   "cell_type": "markdown",
   "id": "6f635824",
   "metadata": {},
   "source": [
    "用训练集来训练"
   ]
  },
  {
   "cell_type": "code",
   "execution_count": 62,
   "id": "4bf40a83",
   "metadata": {},
   "outputs": [
    {
     "data": {
      "text/plain": [
       "SimpleImputer(strategy='most_frequent')"
      ]
     },
     "execution_count": 62,
     "metadata": {},
     "output_type": "execute_result"
    }
   ],
   "source": [
    "si.fit(Xtrain.loc[:,cate])"
   ]
  },
  {
   "cell_type": "markdown",
   "id": "845e845b",
   "metadata": {},
   "source": [
    "用训练好的 si 来处理训练集和测试集"
   ]
  },
  {
   "cell_type": "code",
   "execution_count": 63,
   "id": "0afe2a12",
   "metadata": {},
   "outputs": [
    {
     "data": {
      "text/html": [
       "<div>\n",
       "<style scoped>\n",
       "    .dataframe tbody tr th:only-of-type {\n",
       "        vertical-align: middle;\n",
       "    }\n",
       "\n",
       "    .dataframe tbody tr th {\n",
       "        vertical-align: top;\n",
       "    }\n",
       "\n",
       "    .dataframe thead th {\n",
       "        text-align: right;\n",
       "    }\n",
       "</style>\n",
       "<table border=\"1\" class=\"dataframe\">\n",
       "  <thead>\n",
       "    <tr style=\"text-align: right;\">\n",
       "      <th></th>\n",
       "      <th>Month</th>\n",
       "      <th>Climate</th>\n",
       "      <th>MinTemp</th>\n",
       "      <th>MaxTemp</th>\n",
       "      <th>Rainfall</th>\n",
       "      <th>Evaporation</th>\n",
       "      <th>Sunshine</th>\n",
       "      <th>WindGustDir</th>\n",
       "      <th>WindGustSpeed</th>\n",
       "      <th>WindDir9am</th>\n",
       "      <th>...</th>\n",
       "      <th>WindSpeed3pm</th>\n",
       "      <th>Humidity9am</th>\n",
       "      <th>Humidity3pm</th>\n",
       "      <th>Pressure9am</th>\n",
       "      <th>Pressure3pm</th>\n",
       "      <th>Cloud9am</th>\n",
       "      <th>Cloud3pm</th>\n",
       "      <th>Temp9am</th>\n",
       "      <th>Temp3pm</th>\n",
       "      <th>Raintoday</th>\n",
       "    </tr>\n",
       "  </thead>\n",
       "  <tbody>\n",
       "    <tr>\n",
       "      <th>0</th>\n",
       "      <td>12</td>\n",
       "      <td>Hot dry summer cool winter</td>\n",
       "      <td>11.2</td>\n",
       "      <td>25.4</td>\n",
       "      <td>0.0</td>\n",
       "      <td>10.8</td>\n",
       "      <td>13.4</td>\n",
       "      <td>SSE</td>\n",
       "      <td>48.0</td>\n",
       "      <td>SE</td>\n",
       "      <td>...</td>\n",
       "      <td>19.0</td>\n",
       "      <td>42.0</td>\n",
       "      <td>18.0</td>\n",
       "      <td>1022.2</td>\n",
       "      <td>1018.5</td>\n",
       "      <td>0.0</td>\n",
       "      <td>0.0</td>\n",
       "      <td>14.8</td>\n",
       "      <td>24.0</td>\n",
       "      <td>No</td>\n",
       "    </tr>\n",
       "    <tr>\n",
       "      <th>1</th>\n",
       "      <td>2</td>\n",
       "      <td>Warm temperate</td>\n",
       "      <td>22.1</td>\n",
       "      <td>30.1</td>\n",
       "      <td>17.8</td>\n",
       "      <td>NaN</td>\n",
       "      <td>NaN</td>\n",
       "      <td>ESE</td>\n",
       "      <td>41.0</td>\n",
       "      <td>N</td>\n",
       "      <td>...</td>\n",
       "      <td>15.0</td>\n",
       "      <td>93.0</td>\n",
       "      <td>76.0</td>\n",
       "      <td>NaN</td>\n",
       "      <td>NaN</td>\n",
       "      <td>7.0</td>\n",
       "      <td>7.0</td>\n",
       "      <td>24.6</td>\n",
       "      <td>28.3</td>\n",
       "      <td>Yes</td>\n",
       "    </tr>\n",
       "    <tr>\n",
       "      <th>2</th>\n",
       "      <td>1</td>\n",
       "      <td>Mild temperate</td>\n",
       "      <td>11.0</td>\n",
       "      <td>32.8</td>\n",
       "      <td>0.0</td>\n",
       "      <td>7.6</td>\n",
       "      <td>8.8</td>\n",
       "      <td>SSW</td>\n",
       "      <td>30.0</td>\n",
       "      <td>ENE</td>\n",
       "      <td>...</td>\n",
       "      <td>19.0</td>\n",
       "      <td>67.0</td>\n",
       "      <td>17.0</td>\n",
       "      <td>1016.8</td>\n",
       "      <td>1013.7</td>\n",
       "      <td>7.0</td>\n",
       "      <td>7.0</td>\n",
       "      <td>17.2</td>\n",
       "      <td>31.7</td>\n",
       "      <td>No</td>\n",
       "    </tr>\n",
       "    <tr>\n",
       "      <th>3</th>\n",
       "      <td>12</td>\n",
       "      <td>Mild temperate</td>\n",
       "      <td>13.5</td>\n",
       "      <td>22.4</td>\n",
       "      <td>0.0</td>\n",
       "      <td>6.0</td>\n",
       "      <td>8.6</td>\n",
       "      <td>E</td>\n",
       "      <td>NaN</td>\n",
       "      <td>WNW</td>\n",
       "      <td>...</td>\n",
       "      <td>NaN</td>\n",
       "      <td>71.0</td>\n",
       "      <td>NaN</td>\n",
       "      <td>1015.8</td>\n",
       "      <td>1014.8</td>\n",
       "      <td>6.0</td>\n",
       "      <td>7.0</td>\n",
       "      <td>19.5</td>\n",
       "      <td>NaN</td>\n",
       "      <td>No</td>\n",
       "    </tr>\n",
       "    <tr>\n",
       "      <th>4</th>\n",
       "      <td>6</td>\n",
       "      <td>Cool temperate</td>\n",
       "      <td>0.1</td>\n",
       "      <td>15.3</td>\n",
       "      <td>0.0</td>\n",
       "      <td>NaN</td>\n",
       "      <td>NaN</td>\n",
       "      <td>NW</td>\n",
       "      <td>17.0</td>\n",
       "      <td>N</td>\n",
       "      <td>...</td>\n",
       "      <td>9.0</td>\n",
       "      <td>99.0</td>\n",
       "      <td>46.0</td>\n",
       "      <td>1021.9</td>\n",
       "      <td>1019.2</td>\n",
       "      <td>7.0</td>\n",
       "      <td>7.0</td>\n",
       "      <td>6.0</td>\n",
       "      <td>14.6</td>\n",
       "      <td>No</td>\n",
       "    </tr>\n",
       "  </tbody>\n",
       "</table>\n",
       "<p>5 rows × 22 columns</p>\n",
       "</div>"
      ],
      "text/plain": [
       "   Month                     Climate  MinTemp  MaxTemp  Rainfall  Evaporation  \\\n",
       "0     12  Hot dry summer cool winter     11.2     25.4       0.0         10.8   \n",
       "1      2              Warm temperate     22.1     30.1      17.8          NaN   \n",
       "2      1              Mild temperate     11.0     32.8       0.0          7.6   \n",
       "3     12              Mild temperate     13.5     22.4       0.0          6.0   \n",
       "4      6              Cool temperate      0.1     15.3       0.0          NaN   \n",
       "\n",
       "   Sunshine WindGustDir  WindGustSpeed WindDir9am  ... WindSpeed3pm  \\\n",
       "0      13.4         SSE           48.0         SE  ...         19.0   \n",
       "1       NaN         ESE           41.0          N  ...         15.0   \n",
       "2       8.8         SSW           30.0        ENE  ...         19.0   \n",
       "3       8.6           E            NaN        WNW  ...          NaN   \n",
       "4       NaN          NW           17.0          N  ...          9.0   \n",
       "\n",
       "   Humidity9am  Humidity3pm  Pressure9am  Pressure3pm  Cloud9am  Cloud3pm  \\\n",
       "0         42.0         18.0       1022.2       1018.5       0.0       0.0   \n",
       "1         93.0         76.0          NaN          NaN       7.0       7.0   \n",
       "2         67.0         17.0       1016.8       1013.7       7.0       7.0   \n",
       "3         71.0          NaN       1015.8       1014.8       6.0       7.0   \n",
       "4         99.0         46.0       1021.9       1019.2       7.0       7.0   \n",
       "\n",
       "   Temp9am  Temp3pm  Raintoday  \n",
       "0     14.8     24.0         No  \n",
       "1     24.6     28.3        Yes  \n",
       "2     17.2     31.7         No  \n",
       "3     19.5      NaN         No  \n",
       "4      6.0     14.6         No  \n",
       "\n",
       "[5 rows x 22 columns]"
      ]
     },
     "execution_count": 63,
     "metadata": {},
     "output_type": "execute_result"
    }
   ],
   "source": [
    "Xtrain.loc[:,cate] = si.transform(Xtrain.loc[:,cate])\n",
    "Xtest.loc[:,cate] = si.transform(Xtest.loc[:,cate])\n",
    "Xtrain.head()"
   ]
  },
  {
   "cell_type": "code",
   "execution_count": 64,
   "id": "12f6acb5",
   "metadata": {
    "scrolled": true
   },
   "outputs": [
    {
     "data": {
      "text/plain": [
       "Climate        0.0\n",
       "WindGustDir    0.0\n",
       "WindDir9am     0.0\n",
       "WindDir3pm     0.0\n",
       "Raintoday      0.0\n",
       "Cloud9am       0.0\n",
       "Cloud3pm       0.0\n",
       "dtype: float64"
      ]
     },
     "execution_count": 64,
     "metadata": {},
     "output_type": "execute_result"
    }
   ],
   "source": [
    "Xtrain.loc[:,cate].isnull().mean()"
   ]
  },
  {
   "cell_type": "markdown",
   "id": "c96cd87d",
   "metadata": {},
   "source": [
    "可以看到，没有缺失值了已经。"
   ]
  },
  {
   "cell_type": "code",
   "execution_count": 65,
   "id": "d8da409b",
   "metadata": {},
   "outputs": [
    {
     "data": {
      "text/plain": [
       "Climate        0.0\n",
       "WindGustDir    0.0\n",
       "WindDir9am     0.0\n",
       "WindDir3pm     0.0\n",
       "Raintoday      0.0\n",
       "Cloud9am       0.0\n",
       "Cloud3pm       0.0\n",
       "dtype: float64"
      ]
     },
     "execution_count": 65,
     "metadata": {},
     "output_type": "execute_result"
    }
   ],
   "source": [
    "Xtest.loc[:,cate].isnull().mean()"
   ]
  },
  {
   "cell_type": "markdown",
   "id": "45650f56",
   "metadata": {},
   "source": [
    "#### 编码\n",
    "先用普通方式编码"
   ]
  },
  {
   "cell_type": "code",
   "execution_count": 66,
   "id": "891e782e",
   "metadata": {},
   "outputs": [],
   "source": [
    "oe = OrdinalEncoder()"
   ]
  },
  {
   "cell_type": "code",
   "execution_count": 67,
   "id": "b9b43c3b",
   "metadata": {},
   "outputs": [
    {
     "data": {
      "text/plain": [
       "OrdinalEncoder()"
      ]
     },
     "execution_count": 67,
     "metadata": {},
     "output_type": "execute_result"
    }
   ],
   "source": [
    "oe.fit(Xtrain.loc[:,cate])"
   ]
  },
  {
   "cell_type": "code",
   "execution_count": 68,
   "id": "e509d5bc",
   "metadata": {},
   "outputs": [],
   "source": [
    "Xtrain.loc[:,cate] = oe.transform(Xtrain.loc[:,cate])\n",
    "Xtest.loc[:,cate] = oe.transform(Xtest.loc[:,cate])"
   ]
  },
  {
   "cell_type": "code",
   "execution_count": 69,
   "id": "9249eac6",
   "metadata": {},
   "outputs": [
    {
     "data": {
      "text/html": [
       "<div>\n",
       "<style scoped>\n",
       "    .dataframe tbody tr th:only-of-type {\n",
       "        vertical-align: middle;\n",
       "    }\n",
       "\n",
       "    .dataframe tbody tr th {\n",
       "        vertical-align: top;\n",
       "    }\n",
       "\n",
       "    .dataframe thead th {\n",
       "        text-align: right;\n",
       "    }\n",
       "</style>\n",
       "<table border=\"1\" class=\"dataframe\">\n",
       "  <thead>\n",
       "    <tr style=\"text-align: right;\">\n",
       "      <th></th>\n",
       "      <th>Climate</th>\n",
       "      <th>WindGustDir</th>\n",
       "      <th>WindDir9am</th>\n",
       "      <th>WindDir3pm</th>\n",
       "      <th>Raintoday</th>\n",
       "      <th>Cloud9am</th>\n",
       "      <th>Cloud3pm</th>\n",
       "    </tr>\n",
       "  </thead>\n",
       "  <tbody>\n",
       "    <tr>\n",
       "      <th>0</th>\n",
       "      <td>2.0</td>\n",
       "      <td>10.0</td>\n",
       "      <td>9.0</td>\n",
       "      <td>10.0</td>\n",
       "      <td>0.0</td>\n",
       "      <td>0.0</td>\n",
       "      <td>0.0</td>\n",
       "    </tr>\n",
       "    <tr>\n",
       "      <th>1</th>\n",
       "      <td>6.0</td>\n",
       "      <td>2.0</td>\n",
       "      <td>3.0</td>\n",
       "      <td>5.0</td>\n",
       "      <td>1.0</td>\n",
       "      <td>7.0</td>\n",
       "      <td>7.0</td>\n",
       "    </tr>\n",
       "    <tr>\n",
       "      <th>2</th>\n",
       "      <td>4.0</td>\n",
       "      <td>11.0</td>\n",
       "      <td>1.0</td>\n",
       "      <td>7.0</td>\n",
       "      <td>0.0</td>\n",
       "      <td>7.0</td>\n",
       "      <td>7.0</td>\n",
       "    </tr>\n",
       "    <tr>\n",
       "      <th>3</th>\n",
       "      <td>4.0</td>\n",
       "      <td>0.0</td>\n",
       "      <td>14.0</td>\n",
       "      <td>9.0</td>\n",
       "      <td>0.0</td>\n",
       "      <td>6.0</td>\n",
       "      <td>7.0</td>\n",
       "    </tr>\n",
       "    <tr>\n",
       "      <th>4</th>\n",
       "      <td>0.0</td>\n",
       "      <td>7.0</td>\n",
       "      <td>3.0</td>\n",
       "      <td>5.0</td>\n",
       "      <td>0.0</td>\n",
       "      <td>7.0</td>\n",
       "      <td>7.0</td>\n",
       "    </tr>\n",
       "  </tbody>\n",
       "</table>\n",
       "</div>"
      ],
      "text/plain": [
       "   Climate  WindGustDir  WindDir9am  WindDir3pm  Raintoday  Cloud9am  Cloud3pm\n",
       "0      2.0         10.0         9.0        10.0        0.0       0.0       0.0\n",
       "1      6.0          2.0         3.0         5.0        1.0       7.0       7.0\n",
       "2      4.0         11.0         1.0         7.0        0.0       7.0       7.0\n",
       "3      4.0          0.0        14.0         9.0        0.0       6.0       7.0\n",
       "4      0.0          7.0         3.0         5.0        0.0       7.0       7.0"
      ]
     },
     "execution_count": 69,
     "metadata": {},
     "output_type": "execute_result"
    }
   ],
   "source": [
    "Xtrain.loc[:,cate].head()"
   ]
  },
  {
   "cell_type": "markdown",
   "id": "3b7cbe4c",
   "metadata": {},
   "source": [
    "#### 处理连续型变量"
   ]
  },
  {
   "cell_type": "code",
   "execution_count": 70,
   "id": "2ef7183e",
   "metadata": {},
   "outputs": [],
   "source": [
    "col = Xtrain.columns.tolist()"
   ]
  },
  {
   "cell_type": "code",
   "execution_count": 71,
   "id": "53196eb9",
   "metadata": {},
   "outputs": [
    {
     "data": {
      "text/plain": [
       "['Month',\n",
       " 'MinTemp',\n",
       " 'MaxTemp',\n",
       " 'Rainfall',\n",
       " 'Evaporation',\n",
       " 'Sunshine',\n",
       " 'WindGustSpeed',\n",
       " 'WindSpeed9am',\n",
       " 'WindSpeed3pm',\n",
       " 'Humidity9am',\n",
       " 'Humidity3pm',\n",
       " 'Pressure9am',\n",
       " 'Pressure3pm',\n",
       " 'Temp9am',\n",
       " 'Temp3pm']"
      ]
     },
     "execution_count": 71,
     "metadata": {},
     "output_type": "execute_result"
    }
   ],
   "source": [
    "for i in cate:\n",
    "    col.remove(i)\n",
    "col"
   ]
  },
  {
   "cell_type": "code",
   "execution_count": 72,
   "id": "f4254032",
   "metadata": {},
   "outputs": [
    {
     "data": {
      "text/plain": [
       "SimpleImputer()"
      ]
     },
     "execution_count": 72,
     "metadata": {},
     "output_type": "execute_result"
    }
   ],
   "source": [
    "si_1 = SimpleImputer(missing_values=np.nan, strategy='mean')\n",
    "si_1.fit(Xtrain.loc[:,col])"
   ]
  },
  {
   "cell_type": "code",
   "execution_count": 73,
   "id": "11f6e29f",
   "metadata": {},
   "outputs": [
    {
     "data": {
      "text/plain": [
       "Month            0.0\n",
       "MinTemp          0.0\n",
       "MaxTemp          0.0\n",
       "Rainfall         0.0\n",
       "Evaporation      0.0\n",
       "Sunshine         0.0\n",
       "WindGustSpeed    0.0\n",
       "WindSpeed9am     0.0\n",
       "WindSpeed3pm     0.0\n",
       "Humidity9am      0.0\n",
       "Humidity3pm      0.0\n",
       "Pressure9am      0.0\n",
       "Pressure3pm      0.0\n",
       "Temp9am          0.0\n",
       "Temp3pm          0.0\n",
       "dtype: float64"
      ]
     },
     "execution_count": 73,
     "metadata": {},
     "output_type": "execute_result"
    }
   ],
   "source": [
    "Xtrain.loc[:,col] = si_1.transform(Xtrain.loc[:,col])\n",
    "Xtest.loc[:,col] = si_1.transform(Xtest.loc[:,col])\n",
    "Xtrain.loc[:,col].isnull().mean()"
   ]
  },
  {
   "cell_type": "markdown",
   "id": "f46ae505",
   "metadata": {},
   "source": [
    "### 无量纲化(不对分类型变量处理)"
   ]
  },
  {
   "cell_type": "code",
   "execution_count": 74,
   "id": "cd55baab",
   "metadata": {
    "scrolled": true
   },
   "outputs": [
    {
     "data": {
      "text/plain": [
       "['MinTemp',\n",
       " 'MaxTemp',\n",
       " 'Rainfall',\n",
       " 'Evaporation',\n",
       " 'Sunshine',\n",
       " 'WindGustSpeed',\n",
       " 'WindSpeed9am',\n",
       " 'WindSpeed3pm',\n",
       " 'Humidity9am',\n",
       " 'Humidity3pm',\n",
       " 'Pressure9am',\n",
       " 'Pressure3pm',\n",
       " 'Temp9am',\n",
       " 'Temp3pm']"
      ]
     },
     "execution_count": 74,
     "metadata": {},
     "output_type": "execute_result"
    }
   ],
   "source": [
    "col.remove('Month')\n",
    "col"
   ]
  },
  {
   "cell_type": "markdown",
   "id": "657ed04f",
   "metadata": {},
   "source": [
    "**标准化不会改变数据的分布，虽然标准化之后均值为零方差为一，但是不满足标准正态分布！**"
   ]
  },
  {
   "cell_type": "code",
   "execution_count": 75,
   "id": "57ead698",
   "metadata": {
    "scrolled": true
   },
   "outputs": [],
   "source": [
    "ss = StandardScaler()\n",
    "ss.fit(Xtrain.loc[:,col])\n",
    "Xtrain.loc[:,col] = ss.transform(Xtrain.loc[:,col])\n",
    "Xtest.loc[:,col] = ss.transform(Xtest.loc[:,col])"
   ]
  },
  {
   "cell_type": "code",
   "execution_count": 76,
   "id": "059c29c6",
   "metadata": {},
   "outputs": [
    {
     "data": {
      "text/html": [
       "<div>\n",
       "<style scoped>\n",
       "    .dataframe tbody tr th:only-of-type {\n",
       "        vertical-align: middle;\n",
       "    }\n",
       "\n",
       "    .dataframe tbody tr th {\n",
       "        vertical-align: top;\n",
       "    }\n",
       "\n",
       "    .dataframe thead th {\n",
       "        text-align: right;\n",
       "    }\n",
       "</style>\n",
       "<table border=\"1\" class=\"dataframe\">\n",
       "  <thead>\n",
       "    <tr style=\"text-align: right;\">\n",
       "      <th></th>\n",
       "      <th>count</th>\n",
       "      <th>mean</th>\n",
       "      <th>std</th>\n",
       "      <th>min</th>\n",
       "      <th>25%</th>\n",
       "      <th>50%</th>\n",
       "      <th>75%</th>\n",
       "      <th>max</th>\n",
       "    </tr>\n",
       "  </thead>\n",
       "  <tbody>\n",
       "    <tr>\n",
       "      <th>Month</th>\n",
       "      <td>3500.0</td>\n",
       "      <td>6.410571e+00</td>\n",
       "      <td>3.416878</td>\n",
       "      <td>1.000000</td>\n",
       "      <td>3.000000e+00</td>\n",
       "      <td>6.000000e+00</td>\n",
       "      <td>9.000000e+00</td>\n",
       "      <td>12.000000</td>\n",
       "    </tr>\n",
       "    <tr>\n",
       "      <th>Climate</th>\n",
       "      <td>3500.0</td>\n",
       "      <td>3.337714e+00</td>\n",
       "      <td>2.315055</td>\n",
       "      <td>0.000000</td>\n",
       "      <td>1.000000e+00</td>\n",
       "      <td>4.000000e+00</td>\n",
       "      <td>6.000000e+00</td>\n",
       "      <td>6.000000</td>\n",
       "    </tr>\n",
       "    <tr>\n",
       "      <th>MinTemp</th>\n",
       "      <td>3500.0</td>\n",
       "      <td>-1.935595e-16</td>\n",
       "      <td>1.000143</td>\n",
       "      <td>-3.274441</td>\n",
       "      <td>-6.963773e-01</td>\n",
       "      <td>-1.627459e-02</td>\n",
       "      <td>7.112771e-01</td>\n",
       "      <td>2.656687</td>\n",
       "    </tr>\n",
       "    <tr>\n",
       "      <th>MaxTemp</th>\n",
       "      <td>3500.0</td>\n",
       "      <td>3.186340e-16</td>\n",
       "      <td>1.000143</td>\n",
       "      <td>-3.792568</td>\n",
       "      <td>-7.305845e-01</td>\n",
       "      <td>-8.150049e-02</td>\n",
       "      <td>6.945782e-01</td>\n",
       "      <td>3.276804</td>\n",
       "    </tr>\n",
       "    <tr>\n",
       "      <th>Rainfall</th>\n",
       "      <td>3500.0</td>\n",
       "      <td>-5.536206e-16</td>\n",
       "      <td>1.000143</td>\n",
       "      <td>-0.313667</td>\n",
       "      <td>-3.136667e-01</td>\n",
       "      <td>-3.136667e-01</td>\n",
       "      <td>-1.863038e-01</td>\n",
       "      <td>14.434966</td>\n",
       "    </tr>\n",
       "    <tr>\n",
       "      <th>Evaporation</th>\n",
       "      <td>3500.0</td>\n",
       "      <td>1.276771e-17</td>\n",
       "      <td>1.000143</td>\n",
       "      <td>-1.752519</td>\n",
       "      <td>-3.749199e-01</td>\n",
       "      <td>2.780805e-16</td>\n",
       "      <td>2.780805e-16</td>\n",
       "      <td>15.780565</td>\n",
       "    </tr>\n",
       "    <tr>\n",
       "      <th>Sunshine</th>\n",
       "      <td>3500.0</td>\n",
       "      <td>1.081334e-16</td>\n",
       "      <td>1.000143</td>\n",
       "      <td>-2.803742</td>\n",
       "      <td>3.289808e-16</td>\n",
       "      <td>3.289808e-16</td>\n",
       "      <td>3.076135e-01</td>\n",
       "      <td>2.344810</td>\n",
       "    </tr>\n",
       "    <tr>\n",
       "      <th>WindGustDir</th>\n",
       "      <td>3500.0</td>\n",
       "      <td>7.115429e+00</td>\n",
       "      <td>4.938935</td>\n",
       "      <td>0.000000</td>\n",
       "      <td>2.000000e+00</td>\n",
       "      <td>7.000000e+00</td>\n",
       "      <td>1.100000e+01</td>\n",
       "      <td>15.000000</td>\n",
       "    </tr>\n",
       "    <tr>\n",
       "      <th>WindGustSpeed</th>\n",
       "      <td>3500.0</td>\n",
       "      <td>1.189525e-16</td>\n",
       "      <td>1.000143</td>\n",
       "      <td>-2.381687</td>\n",
       "      <td>-6.921581e-01</td>\n",
       "      <td>-7.778404e-02</td>\n",
       "      <td>4.597933e-01</td>\n",
       "      <td>6.296347</td>\n",
       "    </tr>\n",
       "    <tr>\n",
       "      <th>WindDir9am</th>\n",
       "      <td>3500.0</td>\n",
       "      <td>7.017714e+00</td>\n",
       "      <td>4.529378</td>\n",
       "      <td>0.000000</td>\n",
       "      <td>3.000000e+00</td>\n",
       "      <td>7.000000e+00</td>\n",
       "      <td>1.100000e+01</td>\n",
       "      <td>15.000000</td>\n",
       "    </tr>\n",
       "    <tr>\n",
       "      <th>WindDir3pm</th>\n",
       "      <td>3500.0</td>\n",
       "      <td>7.759143e+00</td>\n",
       "      <td>4.609531</td>\n",
       "      <td>0.000000</td>\n",
       "      <td>4.000000e+00</td>\n",
       "      <td>8.000000e+00</td>\n",
       "      <td>1.200000e+01</td>\n",
       "      <td>15.000000</td>\n",
       "    </tr>\n",
       "    <tr>\n",
       "      <th>WindSpeed9am</th>\n",
       "      <td>3500.0</td>\n",
       "      <td>-1.027749e-16</td>\n",
       "      <td>1.000143</td>\n",
       "      <td>-1.597584</td>\n",
       "      <td>-8.060347e-01</td>\n",
       "      <td>-1.275640e-01</td>\n",
       "      <td>6.639852e-01</td>\n",
       "      <td>6.544065</td>\n",
       "    </tr>\n",
       "    <tr>\n",
       "      <th>WindSpeed3pm</th>\n",
       "      <td>3500.0</td>\n",
       "      <td>-1.021405e-16</td>\n",
       "      <td>1.000143</td>\n",
       "      <td>-2.175728</td>\n",
       "      <td>-6.600169e-01</td>\n",
       "      <td>3.954206e-02</td>\n",
       "      <td>6.225078e-01</td>\n",
       "      <td>4.936455</td>\n",
       "    </tr>\n",
       "    <tr>\n",
       "      <th>Humidity9am</th>\n",
       "      <td>3500.0</td>\n",
       "      <td>1.821400e-16</td>\n",
       "      <td>1.000143</td>\n",
       "      <td>-3.626710</td>\n",
       "      <td>-6.562162e-01</td>\n",
       "      <td>0.000000e+00</td>\n",
       "      <td>7.480174e-01</td>\n",
       "      <td>1.666170</td>\n",
       "    </tr>\n",
       "    <tr>\n",
       "      <th>Humidity3pm</th>\n",
       "      <td>3500.0</td>\n",
       "      <td>-4.820113e-16</td>\n",
       "      <td>1.000143</td>\n",
       "      <td>-2.461038</td>\n",
       "      <td>-7.302796e-01</td>\n",
       "      <td>1.147408e-02</td>\n",
       "      <td>6.543273e-01</td>\n",
       "      <td>2.385086</td>\n",
       "    </tr>\n",
       "    <tr>\n",
       "      <th>Pressure9am</th>\n",
       "      <td>3500.0</td>\n",
       "      <td>-1.687497e-14</td>\n",
       "      <td>1.000143</td>\n",
       "      <td>-4.853174</td>\n",
       "      <td>-5.972265e-01</td>\n",
       "      <td>-1.697703e-14</td>\n",
       "      <td>6.272919e-01</td>\n",
       "      <td>3.076329</td>\n",
       "    </tr>\n",
       "    <tr>\n",
       "      <th>Pressure3pm</th>\n",
       "      <td>3500.0</td>\n",
       "      <td>1.708916e-14</td>\n",
       "      <td>1.000143</td>\n",
       "      <td>-5.239008</td>\n",
       "      <td>-6.314651e-01</td>\n",
       "      <td>1.700704e-14</td>\n",
       "      <td>6.251374e-01</td>\n",
       "      <td>3.243059</td>\n",
       "    </tr>\n",
       "    <tr>\n",
       "      <th>Cloud9am</th>\n",
       "      <td>3500.0</td>\n",
       "      <td>5.460571e+00</td>\n",
       "      <td>2.558018</td>\n",
       "      <td>0.000000</td>\n",
       "      <td>4.000000e+00</td>\n",
       "      <td>7.000000e+00</td>\n",
       "      <td>7.000000e+00</td>\n",
       "      <td>8.000000</td>\n",
       "    </tr>\n",
       "    <tr>\n",
       "      <th>Cloud3pm</th>\n",
       "      <td>3500.0</td>\n",
       "      <td>5.554571e+00</td>\n",
       "      <td>2.378609</td>\n",
       "      <td>0.000000</td>\n",
       "      <td>4.000000e+00</td>\n",
       "      <td>7.000000e+00</td>\n",
       "      <td>7.000000e+00</td>\n",
       "      <td>8.000000</td>\n",
       "    </tr>\n",
       "    <tr>\n",
       "      <th>Temp9am</th>\n",
       "      <td>3500.0</td>\n",
       "      <td>-2.373974e-16</td>\n",
       "      <td>1.000143</td>\n",
       "      <td>-3.450963</td>\n",
       "      <td>-7.103222e-01</td>\n",
       "      <td>-4.073388e-02</td>\n",
       "      <td>6.911417e-01</td>\n",
       "      <td>3.276064</td>\n",
       "    </tr>\n",
       "    <tr>\n",
       "      <th>Temp3pm</th>\n",
       "      <td>3500.0</td>\n",
       "      <td>2.836778e-16</td>\n",
       "      <td>1.000143</td>\n",
       "      <td>-3.758400</td>\n",
       "      <td>-7.203502e-01</td>\n",
       "      <td>-6.307990e-02</td>\n",
       "      <td>6.818264e-01</td>\n",
       "      <td>3.544604</td>\n",
       "    </tr>\n",
       "    <tr>\n",
       "      <th>Raintoday</th>\n",
       "      <td>3500.0</td>\n",
       "      <td>2.474286e-01</td>\n",
       "      <td>0.431580</td>\n",
       "      <td>0.000000</td>\n",
       "      <td>0.000000e+00</td>\n",
       "      <td>0.000000e+00</td>\n",
       "      <td>0.000000e+00</td>\n",
       "      <td>1.000000</td>\n",
       "    </tr>\n",
       "  </tbody>\n",
       "</table>\n",
       "</div>"
      ],
      "text/plain": [
       "                count          mean       std       min           25%  \\\n",
       "Month          3500.0  6.410571e+00  3.416878  1.000000  3.000000e+00   \n",
       "Climate        3500.0  3.337714e+00  2.315055  0.000000  1.000000e+00   \n",
       "MinTemp        3500.0 -1.935595e-16  1.000143 -3.274441 -6.963773e-01   \n",
       "MaxTemp        3500.0  3.186340e-16  1.000143 -3.792568 -7.305845e-01   \n",
       "Rainfall       3500.0 -5.536206e-16  1.000143 -0.313667 -3.136667e-01   \n",
       "Evaporation    3500.0  1.276771e-17  1.000143 -1.752519 -3.749199e-01   \n",
       "Sunshine       3500.0  1.081334e-16  1.000143 -2.803742  3.289808e-16   \n",
       "WindGustDir    3500.0  7.115429e+00  4.938935  0.000000  2.000000e+00   \n",
       "WindGustSpeed  3500.0  1.189525e-16  1.000143 -2.381687 -6.921581e-01   \n",
       "WindDir9am     3500.0  7.017714e+00  4.529378  0.000000  3.000000e+00   \n",
       "WindDir3pm     3500.0  7.759143e+00  4.609531  0.000000  4.000000e+00   \n",
       "WindSpeed9am   3500.0 -1.027749e-16  1.000143 -1.597584 -8.060347e-01   \n",
       "WindSpeed3pm   3500.0 -1.021405e-16  1.000143 -2.175728 -6.600169e-01   \n",
       "Humidity9am    3500.0  1.821400e-16  1.000143 -3.626710 -6.562162e-01   \n",
       "Humidity3pm    3500.0 -4.820113e-16  1.000143 -2.461038 -7.302796e-01   \n",
       "Pressure9am    3500.0 -1.687497e-14  1.000143 -4.853174 -5.972265e-01   \n",
       "Pressure3pm    3500.0  1.708916e-14  1.000143 -5.239008 -6.314651e-01   \n",
       "Cloud9am       3500.0  5.460571e+00  2.558018  0.000000  4.000000e+00   \n",
       "Cloud3pm       3500.0  5.554571e+00  2.378609  0.000000  4.000000e+00   \n",
       "Temp9am        3500.0 -2.373974e-16  1.000143 -3.450963 -7.103222e-01   \n",
       "Temp3pm        3500.0  2.836778e-16  1.000143 -3.758400 -7.203502e-01   \n",
       "Raintoday      3500.0  2.474286e-01  0.431580  0.000000  0.000000e+00   \n",
       "\n",
       "                        50%           75%        max  \n",
       "Month          6.000000e+00  9.000000e+00  12.000000  \n",
       "Climate        4.000000e+00  6.000000e+00   6.000000  \n",
       "MinTemp       -1.627459e-02  7.112771e-01   2.656687  \n",
       "MaxTemp       -8.150049e-02  6.945782e-01   3.276804  \n",
       "Rainfall      -3.136667e-01 -1.863038e-01  14.434966  \n",
       "Evaporation    2.780805e-16  2.780805e-16  15.780565  \n",
       "Sunshine       3.289808e-16  3.076135e-01   2.344810  \n",
       "WindGustDir    7.000000e+00  1.100000e+01  15.000000  \n",
       "WindGustSpeed -7.778404e-02  4.597933e-01   6.296347  \n",
       "WindDir9am     7.000000e+00  1.100000e+01  15.000000  \n",
       "WindDir3pm     8.000000e+00  1.200000e+01  15.000000  \n",
       "WindSpeed9am  -1.275640e-01  6.639852e-01   6.544065  \n",
       "WindSpeed3pm   3.954206e-02  6.225078e-01   4.936455  \n",
       "Humidity9am    0.000000e+00  7.480174e-01   1.666170  \n",
       "Humidity3pm    1.147408e-02  6.543273e-01   2.385086  \n",
       "Pressure9am   -1.697703e-14  6.272919e-01   3.076329  \n",
       "Pressure3pm    1.700704e-14  6.251374e-01   3.243059  \n",
       "Cloud9am       7.000000e+00  7.000000e+00   8.000000  \n",
       "Cloud3pm       7.000000e+00  7.000000e+00   8.000000  \n",
       "Temp9am       -4.073388e-02  6.911417e-01   3.276064  \n",
       "Temp3pm       -6.307990e-02  6.818264e-01   3.544604  \n",
       "Raintoday      0.000000e+00  0.000000e+00   1.000000  "
      ]
     },
     "execution_count": 76,
     "metadata": {},
     "output_type": "execute_result"
    }
   ],
   "source": [
    "Xtrain.describe().T"
   ]
  },
  {
   "cell_type": "markdown",
   "id": "012da1ec",
   "metadata": {},
   "source": [
    "**至此，数据预处理部分完成。**"
   ]
  },
  {
   "cell_type": "markdown",
   "id": "7d7f7409",
   "metadata": {},
   "source": [
    "## 构建模型"
   ]
  },
  {
   "cell_type": "code",
   "execution_count": 77,
   "id": "6f548f59",
   "metadata": {},
   "outputs": [],
   "source": [
    "import datetime\n",
    "from time import time\n",
    "from sklearn.svm import SVC\n",
    "from sklearn.model_selection import cross_val_score\n",
    "from sklearn.metrics import roc_auc_score, recall_score, confusion_matrix, roc_curve\n",
    "from sklearn.linear_model import LogisticRegression as LR"
   ]
  },
  {
   "cell_type": "code",
   "execution_count": 78,
   "id": "271afe39",
   "metadata": {},
   "outputs": [],
   "source": [
    "Ytest = Ytest.iloc[:,0].ravel()\n",
    "Ytrain = Ytrain.iloc[:,0].ravel()"
   ]
  },
  {
   "cell_type": "code",
   "execution_count": 79,
   "id": "b07b9e0c",
   "metadata": {},
   "outputs": [
    {
     "name": "stdout",
     "output_type": "stream",
     "text": [
      "linear 's testing accuracy 0.843333, recall is 0.462733', auc is 0.869220\n",
      "00:01:132761\n",
      "poly 's testing accuracy 0.846000, recall is 0.462733', auc is 0.867678\n",
      "00:01:630417\n",
      "rbf 's testing accuracy 0.824000, recall is 0.310559', auc is 0.812481\n",
      "00:03:445863\n",
      "sigmoid 's testing accuracy 0.666667, recall is 0.127329', auc is 0.428189\n",
      "00:04:157012\n"
     ]
    }
   ],
   "source": [
    "Kernal = ['linear', 'poly', 'rbf', 'sigmoid']\n",
    "time0 = time()\n",
    "for k in Kernal:\n",
    "    clf = SVC(kernel=k,\n",
    "             degree=1,\n",
    "             gamma='auto',\n",
    "             ).fit(Xtrain, Ytrain)\n",
    "    result = clf.predict(Xtest)\n",
    "    score = clf.score(Xtest, Ytest)\n",
    "    recall = recall_score(Ytest, result)\n",
    "    auc = roc_auc_score(Ytest, clf.decision_function(Xtest))\n",
    "    print(\"%s 's testing accuracy %f, recall is %f', auc is %f\" %(k,score,recall,auc)) \n",
    "    print(datetime.datetime.fromtimestamp(time()-time0).strftime(\"%M:%S:%f\"))"
   ]
  },
  {
   "cell_type": "markdown",
   "id": "fd66d5f9",
   "metadata": {},
   "source": [
    "此时确定，数据已经归一化，且 rbf 的 recall 仍然不是很高，证明此数据绝对是线性的，选择线性核，然后我们可以有不同的思路：\n",
    "- 追求 recall 精确的预测出雨天，即使错误的分类晴天也没关系\n",
    "- 追求整体正确率 accuracy\n",
    "- 追求 recall 和 accuary 的平衡"
   ]
  },
  {
   "cell_type": "markdown",
   "id": "701cf5b2",
   "metadata": {},
   "source": [
    "#### 追求 Recall\n",
    "加上class_weight"
   ]
  },
  {
   "cell_type": "code",
   "execution_count": 80,
   "id": "896b2bc9",
   "metadata": {},
   "outputs": [
    {
     "name": "stdout",
     "output_type": "stream",
     "text": [
      "linear 's testing accuracy 0.794667, recall is 0.757764', auc is 0.869299\n",
      "00:01:471745\n",
      "poly 's testing accuracy 0.794667, recall is 0.742236', auc is 0.867082\n",
      "00:02:129901\n",
      "rbf 's testing accuracy 0.799333, recall is 0.583851', auc is 0.819602\n",
      "00:04:193806\n",
      "sigmoid 's testing accuracy 0.569333, recall is 0.245342', auc is 0.428142\n",
      "00:05:721184\n"
     ]
    }
   ],
   "source": [
    "Kernal = ['linear', 'poly', 'rbf', 'sigmoid']\n",
    "time0 = time()\n",
    "for k in Kernal:\n",
    "    clf = SVC(kernel=k,\n",
    "              degree=1,\n",
    "              gamma='auto',\n",
    "              class_weight='balanced'\n",
    "             ).fit(Xtrain, Ytrain)\n",
    "    result = clf.predict(Xtest)\n",
    "    score = clf.score(Xtest, Ytest)\n",
    "    recall = recall_score(Ytest, result)\n",
    "    auc = roc_auc_score(Ytest, clf.decision_function(Xtest))\n",
    "    print(\"%s 's testing accuracy %f, recall is %f', auc is %f\" %(k,score,recall,auc)) \n",
    "    print(datetime.datetime.fromtimestamp(time()-time0).strftime(\"%M:%S:%f\"))"
   ]
  },
  {
   "cell_type": "markdown",
   "id": "ac5c09be",
   "metadata": {},
   "source": [
    "手动设置权重"
   ]
  },
  {
   "cell_type": "code",
   "execution_count": 81,
   "id": "235e9da9",
   "metadata": {},
   "outputs": [
    {
     "name": "stdout",
     "output_type": "stream",
     "text": [
      "testing accuracy 0.745333, recall is 0.860248', auc is 0.870646\n",
      "00:07:809615\n"
     ]
    }
   ],
   "source": [
    "clf = SVC(kernel='linear',\n",
    "          gamma='auto',\n",
    "          class_weight={1:5} # 这里是类别1:权重5，不是一比十的关系\n",
    "         ).fit(Xtrain, Ytrain)\n",
    "result = clf.predict(Xtest)\n",
    "score = clf.score(Xtest, Ytest)\n",
    "recall = recall_score(Ytest, result)\n",
    "auc = roc_auc_score(Ytest, clf.decision_function(Xtest))\n",
    "print(\"testing accuracy %f, recall is %f', auc is %f\" %(score,recall,auc)) \n",
    "print(datetime.datetime.fromtimestamp(time()-time0).strftime(\"%M:%S:%f\"))"
   ]
  },
  {
   "cell_type": "markdown",
   "id": "ae03ffab",
   "metadata": {},
   "source": [
    "当然，权重给的越高，recall越大，但是精确度也会降低"
   ]
  },
  {
   "cell_type": "markdown",
   "id": "2b6525ff",
   "metadata": {},
   "source": [
    "#### 追求 accuracy\n",
    "先看下正负样本各是多少"
   ]
  },
  {
   "cell_type": "code",
   "execution_count": 82,
   "id": "fa1b3d51",
   "metadata": {},
   "outputs": [
    {
     "data": {
      "text/plain": [
       "0    1178\n",
       "1     322\n",
       "dtype: int64"
      ]
     },
     "execution_count": 82,
     "metadata": {},
     "output_type": "execute_result"
    }
   ],
   "source": [
    "caluec = pd.Series(Ytest).value_counts()\n",
    "caluec"
   ]
  },
  {
   "cell_type": "markdown",
   "id": "739c0baa",
   "metadata": {},
   "source": [
    "查看特异度，也就是多数样本的分类正确情况"
   ]
  },
  {
   "cell_type": "code",
   "execution_count": 83,
   "id": "e05e5859",
   "metadata": {},
   "outputs": [],
   "source": [
    "clf = SVC(kernel='linear',\n",
    "          gamma='auto',\n",
    "         ).fit(Xtrain, Ytrain)\n",
    "result = clf.predict(Xtest)"
   ]
  },
  {
   "cell_type": "code",
   "execution_count": 84,
   "id": "d65b52cf",
   "metadata": {},
   "outputs": [
    {
     "data": {
      "text/plain": [
       "array([[ 149,  173],\n",
       "       [  62, 1116]])"
      ]
     },
     "execution_count": 84,
     "metadata": {},
     "output_type": "execute_result"
    }
   ],
   "source": [
    "cm = confusion_matrix(Ytest, result, labels=(1,0))\n",
    "cm"
   ]
  },
  {
   "cell_type": "markdown",
   "id": "7e63c20a",
   "metadata": {},
   "source": [
    "特异度"
   ]
  },
  {
   "cell_type": "code",
   "execution_count": 85,
   "id": "347bc9ea",
   "metadata": {},
   "outputs": [
    {
     "data": {
      "text/plain": [
       "0.9473684210526315"
      ]
     },
     "execution_count": 85,
     "metadata": {},
     "output_type": "execute_result"
    }
   ],
   "source": [
    "specificity = cm[1,1]/cm[1,:].sum()\n",
    "specificity"
   ]
  },
  {
   "cell_type": "markdown",
   "id": "39d263a2",
   "metadata": {},
   "source": [
    "可以看到，对于多数类，模型已经表现很好了，但是，能不能微调，使得不伤及多数类的情况下，能让少数类正确率更高呢？"
   ]
  },
  {
   "cell_type": "code",
   "execution_count": 86,
   "id": "6e8aef1b",
   "metadata": {},
   "outputs": [
    {
     "name": "stdout",
     "output_type": "stream",
     "text": [
      "under ratio 1:1.010000 testing accuracy 0.844000, recall is 0.465839', auc is 0.869062\n",
      "under ratio 1:1.014444 testing accuracy 0.843333, recall is 0.465839', auc is 0.869122\n",
      "under ratio 1:1.018889 testing accuracy 0.844667, recall is 0.472050', auc is 0.869128\n",
      "under ratio 1:1.023333 testing accuracy 0.844667, recall is 0.472050', auc is 0.869178\n",
      "under ratio 1:1.027778 testing accuracy 0.844667, recall is 0.472050', auc is 0.869267\n",
      "under ratio 1:1.032222 testing accuracy 0.844000, recall is 0.472050', auc is 0.869251\n",
      "under ratio 1:1.036667 testing accuracy 0.844667, recall is 0.475155', auc is 0.869236\n",
      "under ratio 1:1.041111 testing accuracy 0.844000, recall is 0.472050', auc is 0.869138\n",
      "under ratio 1:1.045556 testing accuracy 0.844000, recall is 0.475155', auc is 0.869130\n",
      "under ratio 1:1.050000 testing accuracy 0.844667, recall is 0.475155', auc is 0.869106\n"
     ]
    }
   ],
   "source": [
    "irange = np.linspace(0.01,0.05,10)\n",
    "\n",
    "for i in irange:\n",
    "    clf = SVC(kernel='linear',\n",
    "              gamma='auto',\n",
    "              class_weight={1:1+i}\n",
    "             ).fit(Xtrain, Ytrain)\n",
    "    result = clf.predict(Xtest)\n",
    "    score = clf.score(Xtest, Ytest)\n",
    "    recall = recall_score(Ytest, result)\n",
    "    auc = roc_auc_score(Ytest, clf.decision_function(Xtest))\n",
    "    print(\"under ratio 1:%f testing accuracy %f, recall is %f', auc is %f\" %(1+i,score,recall,auc)) "
   ]
  },
  {
   "cell_type": "markdown",
   "id": "003b5aac",
   "metadata": {},
   "source": [
    "可以看到，通过给少数类加权重的方法似乎不能让整体正确率变化太大。\n",
    "\n",
    "调节参数似乎不太能够进一步提升了，那么我们**换模型**，逻辑回归"
   ]
  },
  {
   "cell_type": "code",
   "execution_count": 87,
   "id": "41305c6e",
   "metadata": {},
   "outputs": [
    {
     "data": {
      "text/plain": [
       "0.8466666666666667"
      ]
     },
     "execution_count": 87,
     "metadata": {},
     "output_type": "execute_result"
    }
   ],
   "source": [
    "clf_lr = LR(solver='liblinear').fit(Xtrain, Ytrain)\n",
    "clf_lr.score(Xtest, Ytest)"
   ]
  },
  {
   "cell_type": "code",
   "execution_count": 88,
   "id": "05ddec1c",
   "metadata": {},
   "outputs": [
    {
     "name": "stdout",
     "output_type": "stream",
     "text": [
      "c : 3.00000, score : 0.84800\n",
      "c : 3.22222, score : 0.84800\n",
      "c : 3.44444, score : 0.84800\n",
      "c : 3.66667, score : 0.84800\n",
      "c : 3.88889, score : 0.84800\n",
      "c : 4.11111, score : 0.84800\n",
      "c : 4.33333, score : 0.84800\n",
      "c : 4.55556, score : 0.84800\n",
      "c : 4.77778, score : 0.84800\n",
      "c : 5.00000, score : 0.84800\n"
     ]
    }
   ],
   "source": [
    "crange = np.linspace(3,5,10)\n",
    "\n",
    "for c in crange:\n",
    "    clf_lr = LR(solver='liblinear', C=c).fit(Xtrain, Ytrain)\n",
    "    print('c : %.5f, score : %.5f' % (c,clf_lr.score(Xtest, Ytest)))"
   ]
  },
  {
   "cell_type": "markdown",
   "id": "16f9caf1",
   "metadata": {},
   "source": [
    "#### 追求平衡\n",
    "画 ROC 曲线"
   ]
  },
  {
   "cell_type": "code",
   "execution_count": 89,
   "id": "6bbfaa69",
   "metadata": {},
   "outputs": [],
   "source": [
    "clf = SVC(kernel='linear',\n",
    "          gamma='auto',\n",
    "          ).fit(Xtrain, Ytrain)"
   ]
  },
  {
   "cell_type": "code",
   "execution_count": 90,
   "id": "e4ecc534",
   "metadata": {},
   "outputs": [],
   "source": [
    "FPR, recall, Thresholds = roc_curve(Ytest, clf.decision_function(Xtest), pos_label=1)"
   ]
  },
  {
   "cell_type": "code",
   "execution_count": 91,
   "id": "c3ea171f",
   "metadata": {},
   "outputs": [
    {
     "data": {
      "text/plain": [
       "0.8692198589039218"
      ]
     },
     "execution_count": 91,
     "metadata": {},
     "output_type": "execute_result"
    }
   ],
   "source": [
    "area = roc_auc_score(Ytest, clf.decision_function(Xtest))\n",
    "area"
   ]
  },
  {
   "cell_type": "code",
   "execution_count": 92,
   "id": "ff6f0ebb",
   "metadata": {},
   "outputs": [
    {
     "data": {
      "image/png": "[encoded data removed]",
      "text/plain": [
       "<Figure size 432x288 with 1 Axes>"
      ]
     },
     "metadata": {
      "needs_background": "light"
     },
     "output_type": "display_data"
    }
   ],
   "source": [
    "plt.figure()\n",
    "plt.plot(FPR, recall, label='area:%.5f'%(area))\n",
    "plt.grid();plt.legend()\n",
    "plt.xlabel('FPR'); plt.ylabel('Recall')\n",
    "plt.show()"
   ]
  },
  {
   "cell_type": "code",
   "execution_count": 93,
   "id": "78b77835",
   "metadata": {},
   "outputs": [
    {
     "data": {
      "text/plain": [
       "224"
      ]
     },
     "execution_count": 93,
     "metadata": {},
     "output_type": "execute_result"
    }
   ],
   "source": [
    "better_index = (recall - FPR).tolist().index((recall - FPR).max())\n",
    "better_index"
   ]
  },
  {
   "cell_type": "markdown",
   "id": "ddb1f6bc",
   "metadata": {},
   "source": [
    "最佳的阈值"
   ]
  },
  {
   "cell_type": "code",
   "execution_count": 94,
   "id": "1249eac5",
   "metadata": {},
   "outputs": [
    {
     "data": {
      "text/plain": [
       "-1.0115493459956948"
      ]
     },
     "execution_count": 94,
     "metadata": {},
     "output_type": "execute_result"
    }
   ],
   "source": [
    "Thresholds[better_index]"
   ]
  },
  {
   "cell_type": "code",
   "execution_count": 95,
   "id": "fff36cb2",
   "metadata": {},
   "outputs": [
    {
     "data": {
      "image/png": "[encoded data removed]",
      "text/plain": [
       "<Figure size 432x288 with 1 Axes>"
      ]
     },
     "metadata": {
      "needs_background": "light"
     },
     "output_type": "display_data"
    }
   ],
   "source": [
    "plt.figure()\n",
    "plt.plot(FPR, recall, label='area:%.5f'%(area))\n",
    "plt.scatter(FPR[better_index], recall[better_index], marker='*', c='r', s=70)\n",
    "plt.grid();plt.legend()\n",
    "plt.xlabel('FPR'); plt.ylabel('Recall')\n",
    "plt.show()"
   ]
  }
 ],
 "metadata": {
  "kernelspec": {
   "display_name": "Python 3 (ipykernel)",
   "language": "python",
   "name": "python3"
  },
  "language_info": {
   "codemirror_mode": {
    "name": "ipython",
    "version": 3
   },
   "file_extension": ".py",
   "mimetype": "text/x-python",
   "name": "python",
   "nbconvert_exporter": "python",
   "pygments_lexer": "ipython3",
   "version": "3.8.2"
  }
 },
 "nbformat": 4,
 "nbformat_minor": 5
}
