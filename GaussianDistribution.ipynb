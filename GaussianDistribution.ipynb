{
 "cells": [
  {
   "cell_type": "markdown",
   "id": "2e755fef",
   "metadata": {},
   "source": [
    "# 高斯分布 (正态分布)"
   ]
  },
  {
   "cell_type": "markdown",
   "id": "36576b02",
   "metadata": {},
   "source": [
    "若随机变量 $X$ 服从一个位置参数为$ \\mu $、尺度参数为 $\\sigma $ 的正态分布，记为：\n",
    "\n",
    "$$X \\sim N(\\mu,\\sigma^2)$$\n",
    "\n",
    "则其概率密度函数pdf为: $$  f(x)={\\frac {1}{\\sigma {\\sqrt {2\\pi }}}}e^{-{\\frac {(x-\\mu)^2}{2 \\sigma^2}}} $$\n",
    "\n",
    "其中期望为 $\\mu$ ，方差为 $\\sigma^2$ 。\n",
    "\n",
    "若一个随机变量 $X$ 服从 $X \\sim N(\\mu ,\\sigma^2)$ 如果 $\\mu =0$ 并且 $\\sigma =1 $，这个分布被称为标准正态分布"
   ]
  },
  {
   "cell_type": "markdown",
   "id": "fceb1661",
   "metadata": {},
   "source": [
    "### 参数估计"
   ]
  },
  {
   "cell_type": "markdown",
   "id": "23befeee",
   "metadata": {},
   "source": [
    "极大似然估计 MLE\n",
    "\n",
    "假设估计的参数为 $\\theta$ ，则有：\n",
    "\n",
    "$$\\theta_{MLE} = \\arg\\max_{\\theta} P(X|\\theta)$$\n",
    "\n",
    "为了计算方便，假设分布是一维的，$\\theta = (\\mu, \\sigma^2)$ 那么有："
   ]
  },
  {
   "cell_type": "markdown",
   "id": "351da9b2",
   "metadata": {},
   "source": [
    "$$\n",
    "\\begin{align}\n",
    "\\log P(x_i|\\theta) &= \\log \\prod_{i=1}^{N} {P(x_i|\\theta)} = \\sum_{i=1}^{N} {\\log P(x_i|\\theta)} \\\\\n",
    "&= \\sum_{i=1}^{N} {\\log {\\frac {1}{\\sigma {\\sqrt {2\\pi }}}}e^{-{\\frac {(x_i-\\mu)^2}{2 \\sigma^2}}}} \\\\\n",
    "&= \\sum_{i=1}^{N} {\\log{\\frac{1}{\\sqrt{2\\pi}}} + \\log{\\frac{1}{\\sigma}} - \\frac{(x_i-\\mu)^2}{2\\sigma^2}} \\tag{1}\n",
    "\\end{align}\n",
    "$$"
   ]
  },
  {
   "cell_type": "markdown",
   "id": "80394168",
   "metadata": {},
   "source": [
    "对于 $\\mu$:\n",
    "\n",
    "$$\n",
    "\\begin{align}\n",
    "\\mu_{MLE} &= \\arg\\max_{\\mu}\\log P(x_i|\\mu) \\\\ \n",
    "&= \\arg\\max_{\\mu} \\sum_{i=1}^{N} {\\log{\\frac{1}{\\sqrt{2\\pi}}} + \\log{\\frac{1}{\\sigma}} - \\frac{(x_i-\\mu)^2}{2\\sigma^2}} \\\\\n",
    "&= \\arg\\max_{\\mu} \\sum_{i=1}^{N} {- \\frac{(x_i-\\mu)^2}{2\\sigma^2}} \\\\\n",
    "&= \\arg\\min_{\\mu} \\sum_{i=1}^{N} {(x_i-\\mu)^2} \\\\\n",
    "\\end{align}\n",
    "$$"
   ]
  },
  {
   "cell_type": "markdown",
   "id": "69e74fd0",
   "metadata": {},
   "source": [
    "求导数：\n",
    "\n",
    "$$\n",
    "\\frac{\\partial}{\\partial \\mu}\\sum_{i=1}^{N} {(x_i-\\mu)^2} = \\sum_{i=1}^{N} {2(x_i-\\mu)(-1)} = 0 \\\\\n",
    "\\sum_{i=1}^{N} {(x_i-\\mu)} = 0 \\\\\n",
    "\\sum_{i=1}^{N} {x_i} - \\sum_{i=1}^{N} {\\mu} = 0 \\\\\n",
    "$$"
   ]
  },
  {
   "cell_type": "markdown",
   "id": "f0027b55",
   "metadata": {},
   "source": [
    "$$\\mu_{MLE}  = \\frac{1}{N}\\sum_{i=1}^{N} {x_i}$$"
   ]
  },
  {
   "cell_type": "markdown",
   "id": "b79181ba",
   "metadata": {},
   "source": [
    "对于 $\\sigma^2$:\n",
    "\n",
    "$$\n",
    "\\begin{align}\n",
    "\\sigma_{MLE} &= \\arg\\max_{\\sigma^2}\\log P(x_i|\\sigma^2) \\\\ \n",
    "&= \\arg\\max_{\\sigma^2}\\sum_{i=1}^{N} {\\log{\\frac{1}{\\sqrt{2\\pi}}} + \\log{\\frac{1}{\\sigma}} - \\frac{(x_i-\\mu)^2}{2\\sigma^2}} \\\\\n",
    "&= \\arg\\max_{\\sigma^2}\\sum_{i=1}^{N} {- \\log{\\sigma} - \\frac{1}{2\\sigma^2}(x_i-\\mu)^2} \\tag{2}\\\\\n",
    "\\end{align}\n",
    "$$"
   ]
  },
  {
   "cell_type": "markdown",
   "id": "71d2ae96",
   "metadata": {},
   "source": [
    "对 (2) 式求导数：\n",
    "\n",
    "$$\n",
    "\\begin{align}\n",
    "\\frac{\\partial f}{\\partial{\\sigma^2}} &=\\sum_{i=1}^{N} -\\frac{1}{\\sigma} -\\frac{1}{2}(x_i-\\mu)^2(-2)\\sigma^{-3} \\\\\n",
    "&= \\sum_{i=1}^{N} -\\frac{1}{\\sigma} +(x_i-\\mu)^2\\sigma^{-3} \\\\\n",
    "\\end{align}\n",
    "$$"
   ]
  },
  {
   "cell_type": "markdown",
   "id": "ff7ffccc",
   "metadata": {},
   "source": [
    "令导数等于零\n",
    "\n",
    "$$\n",
    "\\sum_{i=1}^{N} -\\sigma^2 +(x_i-\\mu)^2 = 0 \\\\\n",
    "\\sum_{i=1}^{N} \\sigma^2 = \\sum_{i=1}^{N} (x_i-\\mu)^2\\\\\n",
    "$$"
   ]
  },
  {
   "cell_type": "markdown",
   "id": "77faf57a",
   "metadata": {},
   "source": [
    "$$\\sigma_{MLE}^2 = \\frac{1}{N}\\sum_{i=1}^{N} (x_i-\\mu)^2$$"
   ]
  },
  {
   "cell_type": "markdown",
   "id": "cc3f7c59",
   "metadata": {},
   "source": [
    "上式中 $\\sigma_{MLE}^2$ 称为有偏估计，$E(\\sigma_{MLE}^2) = \\frac{N-1}{N}\\sigma^2$\n",
    "\n",
    "真正的无偏估计：$\\hat{\\sigma} = \\frac{1}{N-1}\\sum_{i=1}^{N} (x_i-\\mu)^2$"
   ]
  },
  {
   "cell_type": "markdown",
   "id": "41be15f5",
   "metadata": {},
   "source": [
    "推导为什么 $\\sigma^2$ 是有偏的估计:\n",
    "$$\n",
    "\\begin{align}\n",
    "\\sigma^2_{MLE} &= \\frac{1}{N}\\sum_{i=1}^{N} (x_i-\\mu_{MLE})^2\\\\\n",
    "&= \\frac{1}{N}\\sum_{i=1}^{N} (x_i^2-2x_i\\mu_{MLE} + \\mu_{MLE}^2)\\\\\n",
    "&= \\frac{1}{N}\\sum_{i=1}^{N} x_i^2 - \\frac{1}{N}\\sum_{i=1}^{N}2x_i\\mu_{MLE} + \\frac{1}{N}\\sum_{i=1}^{N}\\mu_{MLE}^2\\\\\n",
    "\\end{align}\n",
    "$$"
   ]
  },
  {
   "cell_type": "markdown",
   "id": "7a26d0f8",
   "metadata": {},
   "source": [
    "其中第二项就是$2\\mu_{MLE}^2$ 所以有：\n",
    "$$\n",
    "\\begin{align}\n",
    "\\sigma^2_{MLE} &= \\frac{1}{N}\\sum_{i=1}^{N} x_i^2 - 2\\mu_{MLE}^2 + \\mu_{MLE}^2\\\\\n",
    "&= \\frac{1}{N}\\sum_{i=1}^{N} x_i^2 - \\mu_{MLE}^2\\\\\n",
    "\\end{align}\n",
    "$$"
   ]
  },
  {
   "cell_type": "markdown",
   "id": "f91c116f",
   "metadata": {},
   "source": [
    "求 $\\sigma_{MLE}^2$ 的期望：\n",
    "\n",
    "$$\n",
    "\\begin{align}\n",
    "E(\\sigma^2_{MLE}) &= E\\left(\\frac{1}{N}\\sum_{i=1}^{N} x_i^2 - \\mu_{MLE}^2\\right)\\\\\n",
    "&= E\\left(\\frac{1}{N}\\sum_{i=1}^{N} x_i^2 - \\mu^2 - (\\mu_{MLE}^2 + \\mu^2)\\right)\\\\\n",
    "&= E\\left(\\frac{1}{N}\\sum_{i=1}^{N} x_i^2 - \\mu^2\\right) - E\\left(\\mu_{MLE}^2 + \\mu^2\\right)\\\\\n",
    "\\end{align}\n",
    "$$"
   ]
  },
  {
   "cell_type": "markdown",
   "id": "e9bb9983",
   "metadata": {},
   "source": [
    "对于第一项：\n",
    "\n",
    "$$\n",
    "\\begin{align}\n",
    "E\\left(\\frac{1}{N}\\sum_{i=1}^{N} x_i^2 - \\mu^2\\right) &= E\\left(\\frac{1}{N}\\sum_{i=1}^{N} (x_i^2 - \\mu^2)\\right)\\\\\n",
    "&= \\frac{1}{N}\\sum_{i=1}^{N} (E(x_i^2) - E(\\mu^2))\\\\\n",
    "&= \\frac{1}{N}\\sum_{i=1}^{N} (E(x_i^2) - \\mu^2)\\\\\n",
    "\\end{align}\n",
    "$$\n",
    "\n",
    "可知，括号中就是方差的定义。 所以第一项等于 $\\frac{1}{N}\\sum_{i=1}^{N}{\\sigma^2} = \\sigma^2$"
   ]
  },
  {
   "cell_type": "markdown",
   "id": "644d62e4",
   "metadata": {},
   "source": [
    "方差的定义：\n",
    "\n",
    "$$ {Var}(X) = {E}\\left[(X - \\mu)^2 \\right]$$\n",
    "\n",
    "$$ {Var}(X)= E\\left[X^2 - 2XE[X] + ({E}[X])^2\\right] = {E}\\left[X^2\\right] - 2{E}[X]{E}[X] + ({E}[X])^2 = {E}\\left[X^2 \\right] - ({E}[X])^2 $$\n",
    "\n",
    "简记为 **平方的期望减掉期望的平方**"
   ]
  },
  {
   "cell_type": "markdown",
   "id": "87d162f6",
   "metadata": {},
   "source": [
    "对于第二项：\n",
    "\n",
    "$$\n",
    "\\begin{align}\n",
    "E\\left(\\mu_{MLE}^2 + \\mu^2\\right) &= E(\\mu_{MLE}^2) + E(\\mu^2)\\\\\n",
    "&= E(\\mu_{MLE}^2) + E^2(\\mu_{MLE})\\\\\n",
    "&= Var\\left[\\mu_{MLE}\\right]\\\\\n",
    "\\end{align}\n",
    "$$"
   ]
  },
  {
   "cell_type": "markdown",
   "id": "1a88bc80",
   "metadata": {},
   "source": [
    "$$\n",
    "\\begin{align}\n",
    "Var\\left[\\mu_{MLE}\\right] &= Var\\left[\\frac{1}{N}\\sum_{i=1}^{N} {x_i}\\right]\\\\\n",
    "&= \\frac{1}{N^2}\\sum_{i=1}^{N}Var\\left[ {x_i}\\right]\\\\\n",
    "&= \\frac{1}{N^2}\\sum_{i=1}^{N}\\sigma^2\\\\\n",
    "&= \\frac{1}{N}\\sigma^2\\\\\n",
    "\\end{align}\n",
    "$$"
   ]
  },
  {
   "cell_type": "markdown",
   "id": "e77e3735",
   "metadata": {},
   "source": [
    "最终：\n",
    "\n",
    "$$\n",
    "\\begin{align}\n",
    "\\sigma^2_{MLE} &= \\sigma^2 - \\frac{1}{N}\\sigma^2\\\\\n",
    "&= \\frac{N-1}{N}\\sigma^2\n",
    "\\end{align}\n",
    "$$\n",
    "\n",
    "因此，$\\sigma^2_{MLE}$ 不是无偏估计，估计小了。"
   ]
  }
 ],
 "metadata": {
  "kernelspec": {
   "display_name": "Python 3 (ipykernel)",
   "language": "python",
   "name": "python3"
  },
  "language_info": {
   "codemirror_mode": {
    "name": "ipython",
    "version": 3
   },
   "file_extension": ".py",
   "mimetype": "text/x-python",
   "name": "python",
   "nbconvert_exporter": "python",
   "pygments_lexer": "ipython3",
   "version": "3.8.2"
  }
 },
 "nbformat": 4,
 "nbformat_minor": 5
}
