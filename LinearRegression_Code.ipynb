{
 "cells": [
  {
   "cell_type": "markdown",
   "id": "ae1c44ac",
   "metadata": {},
   "source": [
    "# Linear regression"
   ]
  },
  {
   "cell_type": "markdown",
   "id": "7bec8da0",
   "metadata": {},
   "source": [
    "回归算法："
   ]
  },
  {
   "cell_type": "markdown",
   "id": "b757391b",
   "metadata": {},
   "source": [
    "$$z = \\left[\\theta_0, \\theta_1, \\theta_2, ..., \\theta_n\\right]\\left[\\begin{matrix}x_0\\cr x_1\\cr x_2\\cr ...\\cr x_n\\cr\\end{matrix}\\right] = \\theta^T x \\quad(x_0 = 1)$$"
   ]
  },
  {
   "cell_type": "markdown",
   "id": "1e5bbdfe",
   "metadata": {},
   "source": [
    "通过函数 z，线性回归使用输入的特征矩阵X来输出一组连续型的标签值 y_pred，如果标签是离散型变量，尤其是，如果是满足 0-1 分布的离散型,可以引入 Sigmoid 函数,他将所有结果映射到 0～1 之间"
   ]
  },
  {
   "cell_type": "markdown",
   "id": "9262c23e",
   "metadata": {},
   "source": [
    "$$g(z) = \\frac{1}{1+e^{-z}}$$\n",
    "\n",
    "将 z 带入：\n",
    "\n",
    "$$g(x) = y(x)= \\frac{1}{1+e^{-\\theta^Tx}}$$"
   ]
  },
  {
   "cell_type": "markdown",
   "id": "bcc4e014",
   "metadata": {},
   "source": [
    "$y(x)$ 就是逻辑回归返回的标签值。此时,$g(x)$ 的取值都在[0,1]之间，因此 $y(x)$ 和 $1-y(x)$ 相加必然为1。如果我们令 $y(x)$ 除以   $1-y(x)$ 可以得到形似几率(odds)的 $\\frac{y(x)}{1-y(x)}$，在此基础上取对数，可以很容易就得到:"
   ]
  },
  {
   "cell_type": "markdown",
   "id": "19a6d9fb",
   "metadata": {},
   "source": [
    "$$\n",
    "\\begin{align}\n",
    "\\ln\\frac{y(x)}{1-y(x)} &= \\ln\\frac{\\frac{1}{1+e^{-\\theta^Tx}}}{1 -\\frac{1}{1+e^{-\\theta^Tx}}} \\\\\n",
    "&= \\ln\\frac{\\frac{1}{1+e^{-\\theta^Tx}}}{\\frac{e^{-\\theta^Tx}}{1+e^{-\\theta^Tx}}}\\\\\n",
    "&= \\ln\\frac{1}{e^{-\\theta^Tx}}\\\\\n",
    "&= \\ln{e^{\\theta^Tx}}\\\\\n",
    "&= \\theta^Tx\n",
    "\\end{align}\n",
    "$$"
   ]
  },
  {
   "cell_type": "markdown",
   "id": "b1e0c136",
   "metadata": {},
   "source": [
    "y(x)的形似几率取对数的本质其实就是我们的线性回归z，我们实际上是在对线性回归模型的预测结果取 对数几率来让其的结果无限逼近0和1。因此，其对应的模型被称为”对数几率回归“(logistic Regression)，也就是我们的逻辑回归"
   ]
  },
  {
   "cell_type": "markdown",
   "id": "858b33cb",
   "metadata": {},
   "source": [
    "### 损失函数\n",
    "\n",
    "$$J(\\theta) = -\\sum_{i=1}^{m}{(y_i * \\log{(y_\\theta(x_i))} + (1-y_i) * \\log{(y_\\theta(x_i)}))}$$"
   ]
  },
  {
   "cell_type": "markdown",
   "id": "124b07bd",
   "metadata": {},
   "source": [
    "### 正则化\n",
    "#### L1\n",
    "通过在损失函数后面加上每个参数向量中的每个参数的绝对值之和来做惩罚项\n",
    "\n",
    "$$J(\\theta)_{L1} = C*J(\\theta) + \\sum_{j=1}^{n}{|\\theta_j|} \\quad (j \\ge 1)$$\n",
    "\n",
    "#### L2\n",
    "参数向量中的每个参数的平方和\n",
    "\n",
    "$$J(\\theta)_{L2} = C*J(\\theta) + {\\sum_{j=1}^{n}{(\\theta_j)^2}} \\quad (j \\ge 1)$$"
   ]
  },
  {
   "cell_type": "markdown",
   "id": "13e73e2f",
   "metadata": {},
   "source": [
    "### 线性回归模型"
   ]
  },
  {
   "cell_type": "code",
   "execution_count": 20,
   "id": "79390075",
   "metadata": {},
   "outputs": [],
   "source": [
    "from sklearn.linear_model import LogisticRegression as LR\n",
    "from sklearn.datasets import load_breast_cancer\n",
    "import numpy as np\n",
    "import matplotlib.pyplot as plt\n",
    "from sklearn.model_selection import train_test_split\n",
    "from sklearn.metrics import accuracy_score\n",
    "from sklearn.model_selection import cross_val_score\n",
    "from sklearn.feature_selection import SelectFromModel"
   ]
  },
  {
   "cell_type": "markdown",
   "id": "d3e914e6",
   "metadata": {},
   "source": [
    "参数：\n",
    "- penalty 取 l1 或者 l2,来指定正则化方式，当为 l1 时只能用”liblinear\"和\"saga“方式计算，**其中 l1 会让参数变为零，变稀疏，而 l2 则不会变为零，只会让参数变得更小**\n",
    "- C 正则化强度倒数，C 越小模型对损失函数的惩罚越重，正则化能力越强，参数 $\\theta$ 会被压缩得越来越小\n",
    "- max_iter 最大迭代次数，越大，步长就越小"
   ]
  },
  {
   "cell_type": "code",
   "execution_count": 4,
   "id": "a3946628",
   "metadata": {},
   "outputs": [
    {
     "data": {
      "text/plain": [
       "(569, 30)"
      ]
     },
     "execution_count": 4,
     "metadata": {},
     "output_type": "execute_result"
    }
   ],
   "source": [
    "data = load_breast_cancer()\n",
    "X = data.data\n",
    "y = data.target\n",
    "X.shape"
   ]
  },
  {
   "cell_type": "code",
   "execution_count": 5,
   "id": "3f064672",
   "metadata": {},
   "outputs": [
    {
     "data": {
      "text/plain": [
       "array([[ 4.01869478,  0.03225763, -0.13971882, -0.01623724,  0.        ,\n",
       "         0.        ,  0.        ,  0.        ,  0.        ,  0.        ,\n",
       "         0.        ,  0.50535857,  0.        , -0.07127556,  0.        ,\n",
       "         0.        ,  0.        ,  0.        ,  0.        ,  0.        ,\n",
       "         0.        , -0.2462143 , -0.1287626 , -0.01439549,  0.        ,\n",
       "         0.        , -2.02277588,  0.        ,  0.        ,  0.        ]])"
      ]
     },
     "execution_count": 5,
     "metadata": {},
     "output_type": "execute_result"
    }
   ],
   "source": [
    "lrl1 = LR(penalty='l1', solver='liblinear', C=0.5, max_iter=1000)\n",
    "lrl2 = LR(penalty='l2', solver='liblinear', C=0.5, max_iter=1000)\n",
    "\n",
    "lrl1.fit(X,y)\n",
    "lrl1.coef_"
   ]
  },
  {
   "cell_type": "code",
   "execution_count": 6,
   "id": "eef05c6f",
   "metadata": {},
   "outputs": [
    {
     "data": {
      "text/plain": [
       "array([[ 1.61520498e+00,  1.03165077e-01,  4.89949912e-02,\n",
       "        -4.54501839e-03, -9.48008442e-02, -3.01421091e-01,\n",
       "        -4.56859977e-01, -2.23258644e-01, -1.36553775e-01,\n",
       "        -1.93906452e-02,  1.51863698e-02,  8.84898768e-01,\n",
       "         1.16165402e-01, -9.44763010e-02, -9.89655843e-03,\n",
       "        -2.29725881e-02, -5.65958129e-02, -2.71050978e-02,\n",
       "        -2.78528014e-02,  3.23039398e-04,  1.25588920e+00,\n",
       "        -3.02228846e-01, -1.72470625e-01, -2.21057469e-02,\n",
       "        -1.74443731e-01, -8.78235976e-01, -1.16396035e+00,\n",
       "        -4.29422429e-01, -4.23200446e-01, -8.69294093e-02]])"
      ]
     },
     "execution_count": 6,
     "metadata": {},
     "output_type": "execute_result"
    }
   ],
   "source": [
    "lrl2.fit(X,y)\n",
    "lrl2.coef_"
   ]
  },
  {
   "cell_type": "markdown",
   "id": "88a144f1",
   "metadata": {},
   "source": [
    "可以看到 l1 正则后许多特征都被筛选掉了，因为参数已经变为零，而 l2 正则化后参数仍然保留，虽然参数权重很小"
   ]
  },
  {
   "cell_type": "markdown",
   "id": "504e5a89",
   "metadata": {},
   "source": [
    "#### 画出 C 的学习曲线"
   ]
  },
  {
   "cell_type": "code",
   "execution_count": 23,
   "id": "513b8c7a",
   "metadata": {},
   "outputs": [],
   "source": [
    "l1 = []\n",
    "l2 = []\n",
    "l1t = []\n",
    "l2t = []\n",
    "X_train, X_test, Y_train, Y_test = train_test_split(X, y, test_size=0.3, random_state=25)\n",
    "for i in np.linspace(0.05,3,19):\n",
    "    lrl1 = LR(penalty='l1', solver='liblinear', C=i, max_iter=1000)\n",
    "    lrl2 = LR(penalty='l2', solver='liblinear', C=i, max_iter=1000)\n",
    "\n",
    "    lrl1.fit(X_train,Y_train)\n",
    "    lrl2.fit(X_train,Y_train)\n",
    "    l1.append(accuracy_score(lrl1.predict(X_train), Y_train))\n",
    "    l2.append(accuracy_score(lrl2.predict(X_train), Y_train))\n",
    "    l1t.append(accuracy_score(lrl1.predict(X_test), Y_test))\n",
    "    l2t.append(accuracy_score(lrl2.predict(X_test), Y_test))"
   ]
  },
  {
   "cell_type": "code",
   "execution_count": 24,
   "id": "d5b4dd50",
   "metadata": {},
   "outputs": [
    {
     "data": {
      "image/png": "[encoded data removed]",
      "text/plain": [
       "<Figure size 432x288 with 1 Axes>"
      ]
     },
     "metadata": {
      "needs_background": "light"
     },
     "output_type": "display_data"
    }
   ],
   "source": [
    "plt.figure()\n",
    "label = [\"L1\",\"L2\",\"L1t\",\"L2t\"]\n",
    "y_ = [l1,l2,l1t,l2t]\n",
    "for i in range(4):\n",
    "    plt.plot(np.linspace(0.05,3,19), y_[i], label=label[i])\n",
    "plt.grid();plt.legend()\n",
    "plt.show()"
   ]
  },
  {
   "cell_type": "markdown",
   "id": "52c99dc2",
   "metadata": {},
   "source": [
    "#### 用嵌入法选择特征"
   ]
  },
  {
   "cell_type": "code",
   "execution_count": 19,
   "id": "77739e2b",
   "metadata": {},
   "outputs": [
    {
     "data": {
      "text/plain": [
       "0.9508145363408522"
      ]
     },
     "execution_count": 19,
     "metadata": {},
     "output_type": "execute_result"
    }
   ],
   "source": [
    "lr_1 = LR(solver='liblinear', C=0.8, random_state=50)\n",
    "cross_val_score(lr_1, X, y, cv=10).mean()"
   ]
  },
  {
   "cell_type": "code",
   "execution_count": 21,
   "id": "ba9ca55d",
   "metadata": {},
   "outputs": [
    {
     "data": {
      "text/plain": [
       "(569, 9)"
      ]
     },
     "execution_count": 21,
     "metadata": {},
     "output_type": "execute_result"
    }
   ],
   "source": [
    "x_embedded = SelectFromModel(lr_1,norm_order=1).fit_transform(X, y)\n",
    "x_embedded.shape"
   ]
  },
  {
   "cell_type": "code",
   "execution_count": 22,
   "id": "e1ee2b27",
   "metadata": {},
   "outputs": [
    {
     "data": {
      "text/plain": [
       "0.9368107769423559"
      ]
     },
     "execution_count": 22,
     "metadata": {},
     "output_type": "execute_result"
    }
   ],
   "source": [
    "cross_val_score(lr_1, x_embedded, y, cv=10).mean()"
   ]
  },
  {
   "cell_type": "markdown",
   "id": "b36727d4",
   "metadata": {},
   "source": [
    "max_iter 参数"
   ]
  },
  {
   "cell_type": "code",
   "execution_count": 27,
   "id": "7f3c2052",
   "metadata": {},
   "outputs": [
    {
     "name": "stderr",
     "output_type": "stream",
     "text": [
      "/Users/qi/opt/anaconda3/lib/python3.8/site-packages/sklearn/svm/_base.py:985: ConvergenceWarning: Liblinear failed to converge, increase the number of iterations.\n",
      "  warnings.warn(\"Liblinear failed to converge, increase \"\n",
      "/Users/qi/opt/anaconda3/lib/python3.8/site-packages/sklearn/svm/_base.py:985: ConvergenceWarning: Liblinear failed to converge, increase the number of iterations.\n",
      "  warnings.warn(\"Liblinear failed to converge, increase \"\n",
      "/Users/qi/opt/anaconda3/lib/python3.8/site-packages/sklearn/svm/_base.py:985: ConvergenceWarning: Liblinear failed to converge, increase the number of iterations.\n",
      "  warnings.warn(\"Liblinear failed to converge, increase \"\n",
      "/Users/qi/opt/anaconda3/lib/python3.8/site-packages/sklearn/svm/_base.py:985: ConvergenceWarning: Liblinear failed to converge, increase the number of iterations.\n",
      "  warnings.warn(\"Liblinear failed to converge, increase \"\n",
      "/Users/qi/opt/anaconda3/lib/python3.8/site-packages/sklearn/svm/_base.py:985: ConvergenceWarning: Liblinear failed to converge, increase the number of iterations.\n",
      "  warnings.warn(\"Liblinear failed to converge, increase \"\n",
      "/Users/qi/opt/anaconda3/lib/python3.8/site-packages/sklearn/svm/_base.py:985: ConvergenceWarning: Liblinear failed to converge, increase the number of iterations.\n",
      "  warnings.warn(\"Liblinear failed to converge, increase \"\n"
     ]
    }
   ],
   "source": [
    "score = []\n",
    "score_t = []\n",
    "\n",
    "X_train, X_test, Y_train, Y_test = train_test_split(X, y, test_size=0.3, random_state=25)\n",
    "for i in np.arange(1,201,20):\n",
    "    lrl1 = LR(penalty='l1', solver='liblinear', C=0.8, max_iter=i)\n",
    "    lrl1.fit(X_train,Y_train)\n",
    "    \n",
    "    score.append(accuracy_score(lrl1.predict(X_train), Y_train))\n",
    "    score_t.append(accuracy_score(lrl1.predict(X_test), Y_test))\n"
   ]
  },
  {
   "cell_type": "code",
   "execution_count": 28,
   "id": "7cb911d4",
   "metadata": {},
   "outputs": [
    {
     "data": {
      "image/png": "[encoded data removed]",
      "text/plain": [
       "<Figure size 432x288 with 1 Axes>"
      ]
     },
     "metadata": {
      "needs_background": "light"
     },
     "output_type": "display_data"
    }
   ],
   "source": [
    "plt.figure()\n",
    "label = [\"train acc\",\"test acc\"]\n",
    "y_ = [score, score_t]\n",
    "for i in range(2):\n",
    "    plt.plot(np.arange(1,201,20), y_[i], label=label[i])\n",
    "plt.grid();plt.legend()\n",
    "plt.show()"
   ]
  },
  {
   "cell_type": "markdown",
   "id": "06677933",
   "metadata": {},
   "source": [
    "虽然设定的是迭代到200次，但是很明显没有到200，上面的红框提示就是模型达到设定的最大迭代次数后，没有收敛的提示"
   ]
  },
  {
   "cell_type": "code",
   "execution_count": 30,
   "id": "b69bd0b2",
   "metadata": {},
   "outputs": [
    {
     "data": {
      "text/plain": [
       "array([125], dtype=int32)"
      ]
     },
     "execution_count": 30,
     "metadata": {},
     "output_type": "execute_result"
    }
   ],
   "source": [
    "lrl1.n_iter_"
   ]
  },
  {
   "cell_type": "markdown",
   "id": "4d2973f8",
   "metadata": {},
   "source": [
    "#### 二元回归和多元回归\n",
    "- multi_class: \n",
    " * ovr 二分类问题、或者让模型采用一对多的方式处理一对多的问题。\n",
    " * multinomial 多分类问题\n",
    " * auto 根据输入标签自动选择\n",
    "- solver: 求解器\n",
    " * newton-cg 拟牛顿法的一种，利用损失函数二阶导数矩阵(海森矩阵)来迭代优化参数 只支持 L2\n",
    " * lbfgs 拟牛顿法的一种，利用损失函数二阶导数矩阵(海森矩阵)来迭代优化参数 只支持 L2\n",
    " * liblinear 坐标下降法，可用 L1、L2 正则，二分类专用 会惩罚截距\n",
    " * sag 随机平均梯度下降，每次只用一部分样本计算梯度，只支持 L2\n",
    " * saga 随机平均梯度下降的优化，可以处理稀疏矩阵，支持 L1、L2"
   ]
  },
  {
   "cell_type": "markdown",
   "id": "d69e9ffb",
   "metadata": {},
   "source": [
    "以鸢尾花数据集为例，查看二分类和多分类的不同"
   ]
  },
  {
   "cell_type": "code",
   "execution_count": 32,
   "id": "f511181c",
   "metadata": {},
   "outputs": [],
   "source": [
    "from sklearn.datasets import load_iris"
   ]
  },
  {
   "cell_type": "code",
   "execution_count": 33,
   "id": "c7c37f90",
   "metadata": {},
   "outputs": [],
   "source": [
    "flowers = load_iris()"
   ]
  },
  {
   "cell_type": "code",
   "execution_count": 39,
   "id": "fa5c809a",
   "metadata": {},
   "outputs": [
    {
     "name": "stdout",
     "output_type": "stream",
     "text": [
      "train score : 0.960 (ovr)\n",
      "train score : 0.987 (multinomial)\n"
     ]
    },
    {
     "name": "stderr",
     "output_type": "stream",
     "text": [
      "/Users/qi/opt/anaconda3/lib/python3.8/site-packages/sklearn/linear_model/_sag.py:328: ConvergenceWarning: The max_iter was reached which means the coef_ did not converge\n",
      "  warnings.warn(\"The max_iter was reached which means \"\n",
      "/Users/qi/opt/anaconda3/lib/python3.8/site-packages/sklearn/linear_model/_sag.py:328: ConvergenceWarning: The max_iter was reached which means the coef_ did not converge\n",
      "  warnings.warn(\"The max_iter was reached which means \"\n",
      "/Users/qi/opt/anaconda3/lib/python3.8/site-packages/sklearn/linear_model/_sag.py:328: ConvergenceWarning: The max_iter was reached which means the coef_ did not converge\n",
      "  warnings.warn(\"The max_iter was reached which means \"\n"
     ]
    }
   ],
   "source": [
    "class_ = ['ovr', 'multinomial']\n",
    "for c in class_:\n",
    "    lr = LR(multi_class=c, max_iter=500, random_state=20, solver='sag').fit(flowers.data, flowers.target)\n",
    "    print('train score : %.3f (%s)' % (lr.score(flowers.data, flowers.target), c))"
   ]
  },
  {
   "cell_type": "markdown",
   "id": "a26cf153",
   "metadata": {},
   "source": [
    "### 样本不平衡参数\n",
    "- class_weight 给少量的标签更大的权重，默认None，即权重1:1，当误分代价很高时，使用 balance 模式， 但是处理样本不均衡一般不用此方法，用**采样法**，上采样：扩充少数类，SMOTE"
   ]
  }
 ],
 "metadata": {
  "kernelspec": {
   "display_name": "Python 3 (ipykernel)",
   "language": "python",
   "name": "python3"
  },
  "language_info": {
   "codemirror_mode": {
    "name": "ipython",
    "version": 3
   },
   "file_extension": ".py",
   "mimetype": "text/x-python",
   "name": "python",
   "nbconvert_exporter": "python",
   "pygments_lexer": "ipython3",
   "version": "3.8.2"
  }
 },
 "nbformat": 4,
 "nbformat_minor": 5
}
