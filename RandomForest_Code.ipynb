{
 "cells": [
  {
   "cell_type": "markdown",
   "id": "7dafee75",
   "metadata": {},
   "source": [
    "# Random Forest"
   ]
  },
  {
   "cell_type": "markdown",
   "id": "9190034a",
   "metadata": {},
   "source": [
    "集成算法\n",
    "- Bagging 装袋法 RF 基评估器互相独立\n",
    "- Boosting 提升法 DBDT 基评估器按序建立、逐步提升\n",
    "- stacking"
   ]
  },
  {
   "cell_type": "code",
   "execution_count": 2,
   "id": "472c4e9c",
   "metadata": {},
   "outputs": [],
   "source": [
    "from sklearn import ensemble"
   ]
  },
  {
   "cell_type": "markdown",
   "id": "752ef6c9",
   "metadata": {},
   "source": [
    "随机森林分类器"
   ]
  },
  {
   "cell_type": "markdown",
   "id": "b7f56c05",
   "metadata": {},
   "source": [
    "n_estimators 森林中树的个数"
   ]
  }
 ],
 "metadata": {
  "kernelspec": {
   "display_name": "Python 3 (ipykernel)",
   "language": "python",
   "name": "python3"
  },
  "language_info": {
   "codemirror_mode": {
    "name": "ipython",
    "version": 3
   },
   "file_extension": ".py",
   "mimetype": "text/x-python",
   "name": "python",
   "nbconvert_exporter": "python",
   "pygments_lexer": "ipython3",
   "version": "3.8.2"
  }
 },
 "nbformat": 4,
 "nbformat_minor": 5
}
