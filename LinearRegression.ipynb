{
 "cells": [
  {
   "cell_type": "markdown",
   "id": "e66a92e1",
   "metadata": {},
   "source": [
    "# 多元线性回归 LinearRegression"
   ]
  },
  {
   "cell_type": "markdown",
   "id": "aa502da9",
   "metadata": {},
   "source": [
    "$$\\hat{y_i} = w_0 + w_1x_{i1} + w_2x_{i2} + ... + w_nx_{in}$$\n",
    "\n",
    "其中 $w$ 被称为模型的参数，而 $w_0$ 被称为截距，$w_1～w_n$ 被称为回归系数，当有 m 各样本时，有：\n",
    "\n",
    "$$\\hat{\\boldsymbol y_i} = w_0 + w_1\\boldsymbol x_{i1} + w_2\\boldsymbol x_{i2} + ... + w_n \\boldsymbol x_{in}$$\n",
    "\n",
    "其中 $\\hat{\\boldsymbol y_i}$ 和后面的粗体小写字母都代表列向量，则有：\n",
    "\n",
    "$$\\hat{\\boldsymbol y} = \\boldsymbol X  \\omega$$\n",
    "\n",
    "构造损失函数：\n",
    "\n",
    "$$\\sum_{i=1}^{m}{(y_i-\\hat{y_i})^2} = \\sum_{i=1}^{m}{(y_i-\\boldsymbol X_i  \\omega)^2}$$\n",
    "\n",
    "其实就是 L2 范数的平方，因此我们的求解目标变为：\n",
    "\n",
    "$$\\min_\\omega||y_i-\\boldsymbol X \\omega||_2^2$$\n",
    "\n",
    "称上式为 RSS 参差平方和"
   ]
  },
  {
   "cell_type": "markdown",
   "id": "af0ef755",
   "metadata": {},
   "source": [
    "用最小二乘法求解 $\\omega$\n",
    "\n",
    "$$\n",
    "\\begin{align}\n",
    "\\frac{\\partial RSS}{\\partial \\omega} &= \\frac{\\partial ||y- X \\omega||_2^2}{\\partial \\omega}\\\\\n",
    "&= \\frac{\\partial (y- X \\omega)^T(y- X \\omega)}{\\partial \\omega}\\\\\n",
    "&= \\frac{\\partial (y^T- \\omega ^T X^T )(y- X \\omega)}{\\partial \\omega}\\\\\n",
    "&= \\frac{\\partial (y^Ty- \\omega ^TX^Ty -y^T X \\omega +  \\omega ^TX^TX\\omega)}{\\partial \\omega}\\\\\n",
    "\\end{align}\n",
    "$$\n",
    "\n",
    "其中，有如下规则：\n",
    "$$$$"
   ]
  },
  {
   "cell_type": "markdown",
   "id": "bfbc444d",
   "metadata": {},
   "source": [
    "导入数据集，加州房价"
   ]
  },
  {
   "cell_type": "code",
   "execution_count": 1,
   "id": "471408a3",
   "metadata": {},
   "outputs": [],
   "source": [
    "from sklearn.linear_model import LinearRegression as LR\n",
    "from sklearn.model_selection import train_test_split, cross_val_score\n",
    "import pandas as pd\n",
    "import numpy as np\n",
    "import matplotlib.pyplot as plt"
   ]
  },
  {
   "cell_type": "code",
   "execution_count": 2,
   "id": "fa9f40f5",
   "metadata": {},
   "outputs": [],
   "source": [
    "import warnings\n",
    "warnings.filterwarnings(\"ignore\")"
   ]
  },
  {
   "cell_type": "code",
   "execution_count": 3,
   "id": "8bae87b7",
   "metadata": {},
   "outputs": [
    {
     "data": {
      "text/plain": [
       "(20640, 9)"
      ]
     },
     "execution_count": 3,
     "metadata": {},
     "output_type": "execute_result"
    }
   ],
   "source": [
    "data = pd.read_csv('data/cal_house.csv', header=None)\n",
    "data.shape"
   ]
  },
  {
   "cell_type": "code",
   "execution_count": 4,
   "id": "bda16620",
   "metadata": {},
   "outputs": [
    {
     "data": {
      "text/html": [
       "<div>\n",
       "<style scoped>\n",
       "    .dataframe tbody tr th:only-of-type {\n",
       "        vertical-align: middle;\n",
       "    }\n",
       "\n",
       "    .dataframe tbody tr th {\n",
       "        vertical-align: top;\n",
       "    }\n",
       "\n",
       "    .dataframe thead th {\n",
       "        text-align: right;\n",
       "    }\n",
       "</style>\n",
       "<table border=\"1\" class=\"dataframe\">\n",
       "  <thead>\n",
       "    <tr style=\"text-align: right;\">\n",
       "      <th></th>\n",
       "      <th>0</th>\n",
       "      <th>1</th>\n",
       "      <th>2</th>\n",
       "      <th>3</th>\n",
       "      <th>4</th>\n",
       "      <th>5</th>\n",
       "      <th>6</th>\n",
       "      <th>7</th>\n",
       "      <th>8</th>\n",
       "    </tr>\n",
       "  </thead>\n",
       "  <tbody>\n",
       "    <tr>\n",
       "      <th>0</th>\n",
       "      <td>-122.23</td>\n",
       "      <td>37.88</td>\n",
       "      <td>41</td>\n",
       "      <td>880</td>\n",
       "      <td>129</td>\n",
       "      <td>322</td>\n",
       "      <td>126</td>\n",
       "      <td>8.3252</td>\n",
       "      <td>452600</td>\n",
       "    </tr>\n",
       "    <tr>\n",
       "      <th>1</th>\n",
       "      <td>-122.22</td>\n",
       "      <td>37.86</td>\n",
       "      <td>21</td>\n",
       "      <td>7099</td>\n",
       "      <td>1106</td>\n",
       "      <td>2401</td>\n",
       "      <td>1138</td>\n",
       "      <td>8.3014</td>\n",
       "      <td>358500</td>\n",
       "    </tr>\n",
       "    <tr>\n",
       "      <th>2</th>\n",
       "      <td>-122.24</td>\n",
       "      <td>37.85</td>\n",
       "      <td>52</td>\n",
       "      <td>1467</td>\n",
       "      <td>190</td>\n",
       "      <td>496</td>\n",
       "      <td>177</td>\n",
       "      <td>7.2574</td>\n",
       "      <td>352100</td>\n",
       "    </tr>\n",
       "    <tr>\n",
       "      <th>3</th>\n",
       "      <td>-122.25</td>\n",
       "      <td>37.85</td>\n",
       "      <td>52</td>\n",
       "      <td>1274</td>\n",
       "      <td>235</td>\n",
       "      <td>558</td>\n",
       "      <td>219</td>\n",
       "      <td>5.6431</td>\n",
       "      <td>341300</td>\n",
       "    </tr>\n",
       "    <tr>\n",
       "      <th>4</th>\n",
       "      <td>-122.25</td>\n",
       "      <td>37.85</td>\n",
       "      <td>52</td>\n",
       "      <td>1627</td>\n",
       "      <td>280</td>\n",
       "      <td>565</td>\n",
       "      <td>259</td>\n",
       "      <td>3.8462</td>\n",
       "      <td>342200</td>\n",
       "    </tr>\n",
       "  </tbody>\n",
       "</table>\n",
       "</div>"
      ],
      "text/plain": [
       "        0      1   2     3     4     5     6       7       8\n",
       "0 -122.23  37.88  41   880   129   322   126  8.3252  452600\n",
       "1 -122.22  37.86  21  7099  1106  2401  1138  8.3014  358500\n",
       "2 -122.24  37.85  52  1467   190   496   177  7.2574  352100\n",
       "3 -122.25  37.85  52  1274   235   558   219  5.6431  341300\n",
       "4 -122.25  37.85  52  1627   280   565   259  3.8462  342200"
      ]
     },
     "execution_count": 4,
     "metadata": {},
     "output_type": "execute_result"
    }
   ],
   "source": [
    "data.head()"
   ]
  },
  {
   "cell_type": "code",
   "execution_count": 5,
   "id": "d08c3d6f",
   "metadata": {},
   "outputs": [],
   "source": [
    "X = data.iloc[:,0:-1]\n",
    "y = data.iloc[:,-1]"
   ]
  },
  {
   "cell_type": "code",
   "execution_count": 6,
   "id": "0b6b6b95",
   "metadata": {},
   "outputs": [],
   "source": [
    "y = y /100000"
   ]
  },
  {
   "cell_type": "code",
   "execution_count": 7,
   "id": "927312b0",
   "metadata": {},
   "outputs": [
    {
     "data": {
      "text/html": [
       "<div>\n",
       "<style scoped>\n",
       "    .dataframe tbody tr th:only-of-type {\n",
       "        vertical-align: middle;\n",
       "    }\n",
       "\n",
       "    .dataframe tbody tr th {\n",
       "        vertical-align: top;\n",
       "    }\n",
       "\n",
       "    .dataframe thead th {\n",
       "        text-align: right;\n",
       "    }\n",
       "</style>\n",
       "<table border=\"1\" class=\"dataframe\">\n",
       "  <thead>\n",
       "    <tr style=\"text-align: right;\">\n",
       "      <th></th>\n",
       "      <th>0</th>\n",
       "      <th>1</th>\n",
       "      <th>2</th>\n",
       "      <th>3</th>\n",
       "      <th>4</th>\n",
       "      <th>5</th>\n",
       "      <th>6</th>\n",
       "      <th>7</th>\n",
       "    </tr>\n",
       "  </thead>\n",
       "  <tbody>\n",
       "    <tr>\n",
       "      <th>0</th>\n",
       "      <td>-122.23</td>\n",
       "      <td>37.88</td>\n",
       "      <td>41</td>\n",
       "      <td>880</td>\n",
       "      <td>129</td>\n",
       "      <td>322</td>\n",
       "      <td>126</td>\n",
       "      <td>8.3252</td>\n",
       "    </tr>\n",
       "    <tr>\n",
       "      <th>1</th>\n",
       "      <td>-122.22</td>\n",
       "      <td>37.86</td>\n",
       "      <td>21</td>\n",
       "      <td>7099</td>\n",
       "      <td>1106</td>\n",
       "      <td>2401</td>\n",
       "      <td>1138</td>\n",
       "      <td>8.3014</td>\n",
       "    </tr>\n",
       "    <tr>\n",
       "      <th>2</th>\n",
       "      <td>-122.24</td>\n",
       "      <td>37.85</td>\n",
       "      <td>52</td>\n",
       "      <td>1467</td>\n",
       "      <td>190</td>\n",
       "      <td>496</td>\n",
       "      <td>177</td>\n",
       "      <td>7.2574</td>\n",
       "    </tr>\n",
       "  </tbody>\n",
       "</table>\n",
       "</div>"
      ],
      "text/plain": [
       "        0      1   2     3     4     5     6       7\n",
       "0 -122.23  37.88  41   880   129   322   126  8.3252\n",
       "1 -122.22  37.86  21  7099  1106  2401  1138  8.3014\n",
       "2 -122.24  37.85  52  1467   190   496   177  7.2574"
      ]
     },
     "execution_count": 7,
     "metadata": {},
     "output_type": "execute_result"
    }
   ],
   "source": [
    "X.head(3)"
   ]
  },
  {
   "cell_type": "code",
   "execution_count": 8,
   "id": "872d18e6",
   "metadata": {},
   "outputs": [
    {
     "data": {
      "text/plain": [
       "0    4.526\n",
       "1    3.585\n",
       "2    3.521\n",
       "Name: 8, dtype: float64"
      ]
     },
     "execution_count": 8,
     "metadata": {},
     "output_type": "execute_result"
    }
   ],
   "source": [
    "y.head(3)"
   ]
  },
  {
   "cell_type": "code",
   "execution_count": 9,
   "id": "4fe3636b",
   "metadata": {},
   "outputs": [
    {
     "data": {
      "text/plain": [
       "5.00001"
      ]
     },
     "execution_count": 9,
     "metadata": {},
     "output_type": "execute_result"
    }
   ],
   "source": [
    "y.max()"
   ]
  },
  {
   "cell_type": "code",
   "execution_count": 10,
   "id": "a9e4c739",
   "metadata": {},
   "outputs": [
    {
     "data": {
      "text/plain": [
       "0.14999"
      ]
     },
     "execution_count": 10,
     "metadata": {},
     "output_type": "execute_result"
    }
   ],
   "source": [
    "y.min()"
   ]
  },
  {
   "cell_type": "code",
   "execution_count": 11,
   "id": "c8efa202",
   "metadata": {},
   "outputs": [],
   "source": [
    "X.columns = ['Longitude', 'Latitude', 'HouseAge', '3', '4', '5', '6', 'Averooms']"
   ]
  },
  {
   "cell_type": "code",
   "execution_count": 12,
   "id": "cba2589d",
   "metadata": {},
   "outputs": [
    {
     "data": {
      "text/html": [
       "<div>\n",
       "<style scoped>\n",
       "    .dataframe tbody tr th:only-of-type {\n",
       "        vertical-align: middle;\n",
       "    }\n",
       "\n",
       "    .dataframe tbody tr th {\n",
       "        vertical-align: top;\n",
       "    }\n",
       "\n",
       "    .dataframe thead th {\n",
       "        text-align: right;\n",
       "    }\n",
       "</style>\n",
       "<table border=\"1\" class=\"dataframe\">\n",
       "  <thead>\n",
       "    <tr style=\"text-align: right;\">\n",
       "      <th></th>\n",
       "      <th>Longitude</th>\n",
       "      <th>Latitude</th>\n",
       "      <th>HouseAge</th>\n",
       "      <th>3</th>\n",
       "      <th>4</th>\n",
       "      <th>5</th>\n",
       "      <th>6</th>\n",
       "      <th>Averooms</th>\n",
       "    </tr>\n",
       "  </thead>\n",
       "  <tbody>\n",
       "    <tr>\n",
       "      <th>0</th>\n",
       "      <td>-122.23</td>\n",
       "      <td>37.88</td>\n",
       "      <td>41</td>\n",
       "      <td>880</td>\n",
       "      <td>129</td>\n",
       "      <td>322</td>\n",
       "      <td>126</td>\n",
       "      <td>8.3252</td>\n",
       "    </tr>\n",
       "    <tr>\n",
       "      <th>1</th>\n",
       "      <td>-122.22</td>\n",
       "      <td>37.86</td>\n",
       "      <td>21</td>\n",
       "      <td>7099</td>\n",
       "      <td>1106</td>\n",
       "      <td>2401</td>\n",
       "      <td>1138</td>\n",
       "      <td>8.3014</td>\n",
       "    </tr>\n",
       "    <tr>\n",
       "      <th>2</th>\n",
       "      <td>-122.24</td>\n",
       "      <td>37.85</td>\n",
       "      <td>52</td>\n",
       "      <td>1467</td>\n",
       "      <td>190</td>\n",
       "      <td>496</td>\n",
       "      <td>177</td>\n",
       "      <td>7.2574</td>\n",
       "    </tr>\n",
       "    <tr>\n",
       "      <th>3</th>\n",
       "      <td>-122.25</td>\n",
       "      <td>37.85</td>\n",
       "      <td>52</td>\n",
       "      <td>1274</td>\n",
       "      <td>235</td>\n",
       "      <td>558</td>\n",
       "      <td>219</td>\n",
       "      <td>5.6431</td>\n",
       "    </tr>\n",
       "    <tr>\n",
       "      <th>4</th>\n",
       "      <td>-122.25</td>\n",
       "      <td>37.85</td>\n",
       "      <td>52</td>\n",
       "      <td>1627</td>\n",
       "      <td>280</td>\n",
       "      <td>565</td>\n",
       "      <td>259</td>\n",
       "      <td>3.8462</td>\n",
       "    </tr>\n",
       "  </tbody>\n",
       "</table>\n",
       "</div>"
      ],
      "text/plain": [
       "   Longitude  Latitude  HouseAge     3     4     5     6  Averooms\n",
       "0    -122.23     37.88        41   880   129   322   126    8.3252\n",
       "1    -122.22     37.86        21  7099  1106  2401  1138    8.3014\n",
       "2    -122.24     37.85        52  1467   190   496   177    7.2574\n",
       "3    -122.25     37.85        52  1274   235   558   219    5.6431\n",
       "4    -122.25     37.85        52  1627   280   565   259    3.8462"
      ]
     },
     "execution_count": 12,
     "metadata": {},
     "output_type": "execute_result"
    }
   ],
   "source": [
    "X.head()"
   ]
  },
  {
   "cell_type": "code",
   "execution_count": 13,
   "id": "38972f76",
   "metadata": {},
   "outputs": [],
   "source": [
    "Xtrain, Xtest, Ytrain, Ytest = train_test_split(X, y, test_size=0.3, random_state=20)"
   ]
  },
  {
   "cell_type": "code",
   "execution_count": 14,
   "id": "a212f462",
   "metadata": {},
   "outputs": [],
   "source": [
    "for i in [Xtrain, Xtest]:\n",
    "    i.index = range(i.shape[0])"
   ]
  },
  {
   "cell_type": "code",
   "execution_count": 15,
   "id": "e98b3357",
   "metadata": {},
   "outputs": [
    {
     "data": {
      "text/plain": [
       "(14448, 8)"
      ]
     },
     "execution_count": 15,
     "metadata": {},
     "output_type": "execute_result"
    }
   ],
   "source": [
    "Xtrain.shape"
   ]
  },
  {
   "cell_type": "markdown",
   "id": "ee7b665e",
   "metadata": {},
   "source": [
    "建模"
   ]
  },
  {
   "cell_type": "code",
   "execution_count": 16,
   "id": "ed4b685d",
   "metadata": {},
   "outputs": [],
   "source": [
    "reg = LR().fit(Xtrain, Ytrain)"
   ]
  },
  {
   "cell_type": "code",
   "execution_count": 17,
   "id": "e1c3ad79",
   "metadata": {},
   "outputs": [
    {
     "data": {
      "text/plain": [
       "array([1.3182392 , 2.83655696, 1.68182563, ..., 1.72888459, 1.86319055,\n",
       "       3.72201747])"
      ]
     },
     "execution_count": 17,
     "metadata": {},
     "output_type": "execute_result"
    }
   ],
   "source": [
    "yhat = reg.predict(Xtest)\n",
    "yhat"
   ]
  },
  {
   "cell_type": "markdown",
   "id": "3e17724e",
   "metadata": {},
   "source": [
    "查看系数向量"
   ]
  },
  {
   "cell_type": "code",
   "execution_count": 18,
   "id": "2a611e41",
   "metadata": {},
   "outputs": [
    {
     "data": {
      "text/plain": [
       "array([-4.26091798e-01, -4.27124496e-01,  1.17451444e-02, -7.32653196e-05,\n",
       "        1.22223399e-03, -4.40444690e-04,  4.79734750e-04,  3.95461802e-01])"
      ]
     },
     "execution_count": 18,
     "metadata": {},
     "output_type": "execute_result"
    }
   ],
   "source": [
    "reg.coef_"
   ]
  },
  {
   "cell_type": "markdown",
   "id": "1cf9fad4",
   "metadata": {},
   "source": [
    "查看截距"
   ]
  },
  {
   "cell_type": "code",
   "execution_count": 19,
   "id": "53303f44",
   "metadata": {},
   "outputs": [
    {
     "data": {
      "text/plain": [
       "-35.60496649301163"
      ]
     },
     "execution_count": 19,
     "metadata": {},
     "output_type": "execute_result"
    }
   ],
   "source": [
    "reg.intercept_"
   ]
  },
  {
   "cell_type": "markdown",
   "id": "f62a3f4b",
   "metadata": {},
   "source": [
    "### 评价指标\n",
    "- 均方误差 MSE"
   ]
  },
  {
   "cell_type": "code",
   "execution_count": 20,
   "id": "4e785ba4",
   "metadata": {},
   "outputs": [],
   "source": [
    "from sklearn.metrics import mean_squared_error as MSE"
   ]
  },
  {
   "cell_type": "code",
   "execution_count": 21,
   "id": "dff0425b",
   "metadata": {},
   "outputs": [
    {
     "data": {
      "text/plain": [
       "0.5009732272303125"
      ]
     },
     "execution_count": 21,
     "metadata": {},
     "output_type": "execute_result"
    }
   ],
   "source": [
    "MSE(yhat, Ytest)"
   ]
  },
  {
   "cell_type": "code",
   "execution_count": 22,
   "id": "d459cb37",
   "metadata": {},
   "outputs": [
    {
     "data": {
      "text/plain": [
       "2.058198464147277"
      ]
     },
     "execution_count": 22,
     "metadata": {},
     "output_type": "execute_result"
    }
   ],
   "source": [
    "Ytest.mean()"
   ]
  },
  {
   "cell_type": "markdown",
   "id": "8a0a46ea",
   "metadata": {},
   "source": [
    "在这里，均方误差被加上了负号，是 neg_mean_squared_error"
   ]
  },
  {
   "cell_type": "code",
   "execution_count": 23,
   "id": "a6aee842",
   "metadata": {},
   "outputs": [
    {
     "data": {
      "text/plain": [
       "array([-0.44406638, -0.40208206, -0.78021512, -0.33246521, -0.66749539,\n",
       "       -0.51430285, -0.29614456, -0.73954791, -0.6023952 , -0.30445354])"
      ]
     },
     "execution_count": 23,
     "metadata": {},
     "output_type": "execute_result"
    }
   ],
   "source": [
    "cross_val_score(reg, X, y, cv=10, scoring='neg_mean_squared_error')"
   ]
  },
  {
   "cell_type": "markdown",
   "id": "2ba6b0a8",
   "metadata": {},
   "source": [
    "但是，仅仅用 MSE 并不能判断出模型的好坏，不能看到趋势、规律、单调性等其他信息"
   ]
  },
  {
   "cell_type": "markdown",
   "id": "68d0a209",
   "metadata": {},
   "source": [
    "### R平方\n",
    "$$ R^2 = 1 - \\frac{u}{v} $$\n",
    "其中：\n",
    "$$ u = \\sum_{i=1}^{N} {(f_i - y_i)^2}  \\quad v = \\sum_{i=1}^{N} {(y_i - \\hat{y})^2} $$\n",
    "$u$ 是残差平方和，$v$ 是总平方和，$f_i$ 是模型预测值，$y_i$ 是样本真实值，$\\hat{y}$ 是样本标签平均值\n",
    "\n",
    "在统计学中对变量进行线性回归分析，采用最小二乘法进行参数估计时，**R平方为回归平方和与总离差平方和的比值**，表示总离差平方和中可以由回归平方和解释的比例，这一比例越大越好，模型越精确，回归效果越显著。R平方介于0~1之间，**越接近1，回归拟合效果越好，一般认为超过0.8的模型拟合优度比较高。**"
   ]
  },
  {
   "cell_type": "code",
   "execution_count": 24,
   "id": "97078557",
   "metadata": {},
   "outputs": [],
   "source": [
    "from sklearn.metrics import r2_score"
   ]
  },
  {
   "cell_type": "code",
   "execution_count": 25,
   "id": "14bdabf5",
   "metadata": {},
   "outputs": [
    {
     "data": {
      "text/plain": [
       "0.40737435653958265"
      ]
     },
     "execution_count": 25,
     "metadata": {},
     "output_type": "execute_result"
    }
   ],
   "source": [
    "r2_score(yhat, Ytest)"
   ]
  },
  {
   "cell_type": "code",
   "execution_count": 26,
   "id": "f5bdcfda",
   "metadata": {},
   "outputs": [
    {
     "data": {
      "text/plain": [
       "0.6322466228834391"
      ]
     },
     "execution_count": 26,
     "metadata": {},
     "output_type": "execute_result"
    }
   ],
   "source": [
    "reg.score(Xtest, Ytest)"
   ]
  },
  {
   "cell_type": "markdown",
   "id": "7accd33b",
   "metadata": {},
   "source": [
    "上面 score 的衡量标准也是 R平方，为什么不一样呢？这是**因为r2_score()参数顺序错了，要指定哪个是真实值，那个是预测值！**"
   ]
  },
  {
   "cell_type": "code",
   "execution_count": 27,
   "id": "0dd46e21",
   "metadata": {},
   "outputs": [
    {
     "data": {
      "text/plain": [
       "0.6322466228834391"
      ]
     },
     "execution_count": 27,
     "metadata": {},
     "output_type": "execute_result"
    }
   ],
   "source": [
    "r2_score(Ytest, yhat)"
   ]
  },
  {
   "cell_type": "markdown",
   "id": "6b34121f",
   "metadata": {},
   "source": [
    "这就一样了\n",
    "\n",
    "画个图看一看"
   ]
  },
  {
   "cell_type": "code",
   "execution_count": 28,
   "id": "f22c1a59",
   "metadata": {},
   "outputs": [
    {
     "data": {
      "image/png": "[encoded data removed]",
      "text/plain": [
       "<Figure size 432x288 with 1 Axes>"
      ]
     },
     "metadata": {
      "needs_background": "light"
     },
     "output_type": "display_data"
    }
   ],
   "source": [
    "sorted(Ytest)\n",
    "plt.plot(range(len(Ytest)), sorted(Ytest), label='Data')\n",
    "plt.plot(range(len(Ytest)), sorted(yhat), label='Predict')\n",
    "plt.grid()\n",
    "plt.legend()\n",
    "plt.show()"
   ]
  },
  {
   "cell_type": "code",
   "execution_count": 29,
   "id": "7b0769b9",
   "metadata": {},
   "outputs": [
    {
     "data": {
      "text/plain": [
       "array([-179.67801121,   -5.64393241,  -15.11678926,  -76.73446025,\n",
       "        -67.51770004])"
      ]
     },
     "execution_count": 29,
     "metadata": {},
     "output_type": "execute_result"
    }
   ],
   "source": [
    "rng = np.random.RandomState(42)\n",
    "X = rng.randn(100, 80)\n",
    "y = rng.randn(100)\n",
    "cross_val_score(LR(), X, y, cv=5, scoring='r2')"
   ]
  },
  {
   "cell_type": "markdown",
   "id": "46f40ff3",
   "metadata": {},
   "source": [
    "诶？R平方怎么还能取到负数呢？\n",
    "\n",
    "其实，模型预测值和真实值的距离的差距，如果和真实值到均值的差距符号相反，则R平方就有可能是负的。"
   ]
  },
  {
   "cell_type": "markdown",
   "id": "cfd9a2d0",
   "metadata": {},
   "source": [
    "## 多重共线性"
   ]
  },
  {
   "cell_type": "markdown",
   "id": "3440343f",
   "metadata": {},
   "source": [
    "在上面的推导过程中，左乘 $X^TX$ 有一个大前提，就是逆矩阵存在，而逆矩阵存在的充分必要条件是矩阵不存在多重共线性\n",
    "\n",
    "**多重共线性**：特征矩阵对应的行列式，在进行处等行变换或者初等列变换时，一行或一列可以通过加减乘除运算，让另一行或一列变成全零或者非常接近0，则称为两行有**精确相关关系**或者**高度相关关系**，在这样的情况下，矩阵的行列式非常接近零，所以求得的权重 $\\omega$ 非常大，对建模结果造成偏差或者模型不可用。"
   ]
  },
  {
   "cell_type": "markdown",
   "id": "d472c9a1",
   "metadata": {},
   "source": [
    "### 岭回归\n",
    "岭回归在多元线性回归的损失函数基础上加上了 L2 范数乘以正则化系数 $\\alpha$,损失函数为：\n",
    "\n",
    "$$\\min_\\omega||X\\omega-y||^2_2+\\alpha||\\omega||^2_2$$\n",
    "\n",
    "数学证明为什么岭回归可以解决多重共线性"
   ]
  },
  {
   "cell_type": "markdown",
   "id": "fc7bb6f8",
   "metadata": {},
   "source": [
    "上面的加州房价问题的 R平方大概是 60%，如何判断是否存在多重共线性？可以用岭回归试一试，如果确实提高了，则说明原始数据存在多重共线性。"
   ]
  },
  {
   "cell_type": "code",
   "execution_count": 30,
   "id": "f710bc39",
   "metadata": {},
   "outputs": [],
   "source": [
    "from sklearn.linear_model import Ridge"
   ]
  },
  {
   "cell_type": "code",
   "execution_count": 31,
   "id": "5c2e395f",
   "metadata": {},
   "outputs": [],
   "source": [
    "data = pd.read_csv('data/cal_house.csv', header=None)\n",
    "data.shape\n",
    "X = data.iloc[:,0:-1]\n",
    "y = data.iloc[:,-1]\n",
    "y = y /100000"
   ]
  },
  {
   "cell_type": "code",
   "execution_count": 32,
   "id": "4e8b20e3",
   "metadata": {},
   "outputs": [
    {
     "data": {
      "text/plain": [
       "(14448, 8)"
      ]
     },
     "execution_count": 32,
     "metadata": {},
     "output_type": "execute_result"
    }
   ],
   "source": [
    "Xtrain, Xtest, Ytrain, Ytest = train_test_split(X, y, test_size=0.3, random_state=20)\n",
    "for i in [Xtrain, Xtest]:\n",
    "    i.index = range(i.shape[0])\n",
    "Xtrain.shape"
   ]
  },
  {
   "cell_type": "code",
   "execution_count": 33,
   "id": "8336f02b",
   "metadata": {},
   "outputs": [
    {
     "data": {
      "text/plain": [
       "0.6322456741577962"
      ]
     },
     "execution_count": 33,
     "metadata": {},
     "output_type": "execute_result"
    }
   ],
   "source": [
    "reg = Ridge(alpha=1).fit(Xtrain, Ytrain)\n",
    "reg.score(Xtest, Ytest)"
   ]
  },
  {
   "cell_type": "markdown",
   "id": "4d12d784",
   "metadata": {},
   "source": [
    "由上面结果可知，加州数据集应该不是多重共线的，因为加上一倍正则项后，R平方仍然是与线性回归相同的结果。\n",
    "\n",
    "下面试一下交叉验证"
   ]
  },
  {
   "cell_type": "code",
   "execution_count": 34,
   "id": "290dd69a",
   "metadata": {},
   "outputs": [],
   "source": [
    "alpharange = np.arange(1,1001,100)\n",
    "ridge, lr = [], []\n",
    "for alpha in alpharange:\n",
    "    reg = Ridge(alpha=alpha)\n",
    "    linear = LR()\n",
    "    regs = cross_val_score(reg,X,y,cv=5,scoring = \"r2\").mean() \n",
    "    linears = cross_val_score(linear,X,y,cv=5,scoring = \"r2\").mean() \n",
    "    ridge.append(regs)\n",
    "    lr.append(linears)"
   ]
  },
  {
   "cell_type": "code",
   "execution_count": 35,
   "id": "7f087711",
   "metadata": {},
   "outputs": [
    {
     "data": {
      "image/png": "[encoded data removed]",
      "text/plain": [
       "<Figure size 432x288 with 1 Axes>"
      ]
     },
     "metadata": {
      "needs_background": "light"
     },
     "output_type": "display_data"
    }
   ],
   "source": [
    "plt.plot(alpharange,ridge,color=\"red\",label=\"Ridge\") \n",
    "plt.plot(alpharange,lr,color=\"orange\",label=\"LR\") \n",
    "plt.title(\"Mean\");plt.grid()\n",
    "plt.legend()\n",
    "plt.show()"
   ]
  },
  {
   "cell_type": "markdown",
   "id": "7899bd44",
   "metadata": {},
   "source": [
    "可以看到，数据集不存在多重共线性。\n",
    "\n",
    "波士顿房价"
   ]
  },
  {
   "cell_type": "code",
   "execution_count": 36,
   "id": "5c07bb74",
   "metadata": {},
   "outputs": [],
   "source": [
    "from sklearn.datasets import load_boston"
   ]
  },
  {
   "cell_type": "code",
   "execution_count": 37,
   "id": "71a8a4b4",
   "metadata": {},
   "outputs": [],
   "source": [
    "X = load_boston().data\n",
    "y = load_boston().target\n",
    "Xtrain,Xtest,Ytrain,Ytest = train_test_split(X,y,test_size=0.3,random_state=420)"
   ]
  },
  {
   "cell_type": "code",
   "execution_count": 38,
   "id": "b699b816",
   "metadata": {},
   "outputs": [],
   "source": [
    "alpharange = np.arange(1,1001,100)\n",
    "ridge_v, lr_v, ridge_r2, lr_r2= [], [], [], []\n",
    "for alpha in alpharange:\n",
    "    reg = Ridge(alpha=alpha)\n",
    "    linear = LR()\n",
    "    regs = cross_val_score(reg,X,y,cv=5,scoring = \"r2\").var() \n",
    "    linears = cross_val_score(linear,X,y,cv=5,scoring = \"r2\").var() \n",
    "    regs_ = cross_val_score(reg,X,y,cv=5,scoring = \"r2\").mean() \n",
    "    linears_ = cross_val_score(linear,X,y,cv=5,scoring = \"r2\").mean() \n",
    "    ridge_v.append(regs)\n",
    "    lr_v.append(linears)\n",
    "    ridge_r2.append(regs_)\n",
    "    lr_r2.append(linears_)"
   ]
  },
  {
   "cell_type": "code",
   "execution_count": 39,
   "id": "38c5643b",
   "metadata": {},
   "outputs": [
    {
     "data": {
      "image/png": "[encoded data removed]",
      "text/plain": [
       "<Figure size 720x288 with 2 Axes>"
      ]
     },
     "metadata": {
      "needs_background": "light"
     },
     "output_type": "display_data"
    }
   ],
   "source": [
    "fig, axes = plt.subplots(1,2, figsize=(10, 4))\n",
    "axes[0].plot(alpharange,ridge_v,color=\"red\",label=\"Ridge\") \n",
    "axes[0].plot(alpharange,lr_v,color=\"orange\",label=\"LR\") \n",
    "axes[0].set_title('Var');axes[0].grid()\n",
    "axes[1].plot(alpharange,ridge_r2,color=\"red\",label=\"Ridge\") \n",
    "axes[1].plot(alpharange,lr_r2,color=\"orange\",label=\"LR\") \n",
    "axes[1].set_title('Mean');axes[1].grid()\n",
    "plt.legend()\n",
    "plt.grid()\n",
    "plt.show()"
   ]
  },
  {
   "cell_type": "markdown",
   "id": "9121f003",
   "metadata": {},
   "source": [
    "上图可知，用了岭回归之后，方差减小，R平方变大，因此，岭回归后泛化能力变强"
   ]
  },
  {
   "cell_type": "markdown",
   "id": "3c7e6804",
   "metadata": {},
   "source": [
    "### 选择最佳正则化参数\n",
    "- 岭迹图(不推荐)\n",
    "- 交叉验证(推荐) RidgeCV 默认是留一交叉验证，即一个样本作为测试集，剩下所有作为训练集，有多少样本做多少次"
   ]
  },
  {
   "cell_type": "code",
   "execution_count": 40,
   "id": "66234358",
   "metadata": {},
   "outputs": [],
   "source": [
    "from sklearn.linear_model import RidgeCV"
   ]
  },
  {
   "cell_type": "code",
   "execution_count": 41,
   "id": "b49c098f",
   "metadata": {},
   "outputs": [],
   "source": [
    "data = pd.read_csv('data/cal_house.csv', header=None)\n",
    "data.shape\n",
    "X = data.iloc[:,0:-1]\n",
    "y = data.iloc[:,-1]\n",
    "y = y /100000"
   ]
  },
  {
   "cell_type": "code",
   "execution_count": 42,
   "id": "b2f020a2",
   "metadata": {},
   "outputs": [],
   "source": [
    "Ridge_ = RidgeCV(alphas=np.arange(1,1001,100),\n",
    "                store_cv_values=True).fit(X,y)"
   ]
  },
  {
   "cell_type": "code",
   "execution_count": 43,
   "id": "378af9ef",
   "metadata": {},
   "outputs": [
    {
     "name": "stdout",
     "output_type": "stream",
     "text": [
      "No cv score -> 0.63711\n"
     ]
    }
   ],
   "source": [
    "print('No cv score -> %.5f'%(Ridge_.score(X,y)))"
   ]
  },
  {
   "cell_type": "code",
   "execution_count": 44,
   "id": "a232b598",
   "metadata": {},
   "outputs": [
    {
     "data": {
      "text/plain": [
       "(20640, 10)"
      ]
     },
     "execution_count": 44,
     "metadata": {},
     "output_type": "execute_result"
    }
   ],
   "source": [
    "Ridge_.cv_values_.shape"
   ]
  },
  {
   "cell_type": "markdown",
   "id": "d7e51e9b",
   "metadata": {},
   "source": [
    "默认留一交叉验证，数据有20640组，因此得到20640行结果，10表示10个alpha取值下的结果"
   ]
  },
  {
   "cell_type": "code",
   "execution_count": 45,
   "id": "a4ba6ce8",
   "metadata": {},
   "outputs": [
    {
     "data": {
      "text/plain": [
       "array([0.48485673, 0.48488326, 0.48496473, 0.4850955 , 0.48527051,\n",
       "       0.48548524, 0.48573567, 0.48601815, 0.48632945, 0.48666665])"
      ]
     },
     "execution_count": 45,
     "metadata": {},
     "output_type": "execute_result"
    }
   ],
   "source": [
    "Ridge_.cv_values_.mean(axis=0)"
   ]
  },
  {
   "cell_type": "code",
   "execution_count": 46,
   "id": "c3b72761",
   "metadata": {},
   "outputs": [
    {
     "data": {
      "text/plain": [
       "1"
      ]
     },
     "execution_count": 46,
     "metadata": {},
     "output_type": "execute_result"
    }
   ],
   "source": [
    "Ridge_.alpha_"
   ]
  },
  {
   "cell_type": "markdown",
   "id": "8f47ee3e",
   "metadata": {},
   "source": [
    "可以指定 scoring 的返回值"
   ]
  },
  {
   "cell_type": "code",
   "execution_count": 47,
   "id": "e2870ee6",
   "metadata": {},
   "outputs": [],
   "source": [
    "Ridge_1 = RidgeCV(alphas=np.arange(1,1001,100),\n",
    "                  store_cv_values=True,\n",
    "                  scoring='neg_mean_squared_error').fit(X,y)"
   ]
  },
  {
   "cell_type": "code",
   "execution_count": 48,
   "id": "16beb080",
   "metadata": {},
   "outputs": [
    {
     "data": {
      "text/plain": [
       "array([-4.90542224e-05, -4.89021627e-05, -4.87715939e-05, -4.86609158e-05,\n",
       "       -4.85686687e-05, -4.84935185e-05, -4.84342438e-05, -4.83897248e-05,\n",
       "       -4.83589335e-05, -4.83409242e-05])"
      ]
     },
     "execution_count": 48,
     "metadata": {},
     "output_type": "execute_result"
    }
   ],
   "source": [
    "Ridge_1.cv_values_.mean(axis=0)"
   ]
  },
  {
   "cell_type": "markdown",
   "id": "78cab95b",
   "metadata": {},
   "source": [
    "可以看到，上面返回的变成了均方误差(sklearn中默认负均方误差)"
   ]
  },
  {
   "cell_type": "markdown",
   "id": "7323260f",
   "metadata": {},
   "source": [
    "### Lasso\n",
    "Lasso 在多元线性回归的损失函数基础上加上了 L1 范数乘以正则化系数 $\\alpha$,损失函数为：\n",
    "\n",
    "$$\\min_\\omega||X\\omega-y||^2_2+\\alpha||\\omega||_1$$\n",
    "\n",
    "**Lasso 无法解决特征之间的精确相关的问题，最小二乘法时，不能解决线性回归的无解或者除零错误**。Lasso 不是从根本上解决多重共线性问题，但是可以限制多重共线性带来的影响。\n",
    "\n",
    "L1 和 L2 正则化的核心差异就是虽然二者都能压缩系数 $\\omega$ 的大小，但是 L1 正则主导稀疏性，会将系数压缩到0，使某个特征完全失效，而 L2 正则只会将系数压缩尽量小，达不到零。\n",
    "\n",
    "因此，Lasso 可以做特征选择。"
   ]
  },
  {
   "cell_type": "code",
   "execution_count": null,
   "id": "1a0751d0",
   "metadata": {},
   "outputs": [],
   "source": []
  }
 ],
 "metadata": {
  "kernelspec": {
   "display_name": "Python 3 (ipykernel)",
   "language": "python",
   "name": "python3"
  },
  "language_info": {
   "codemirror_mode": {
    "name": "ipython",
    "version": 3
   },
   "file_extension": ".py",
   "mimetype": "text/x-python",
   "name": "python",
   "nbconvert_exporter": "python",
   "pygments_lexer": "ipython3",
   "version": "3.8.2"
  }
 },
 "nbformat": 4,
 "nbformat_minor": 5
}
