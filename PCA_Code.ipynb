{
 "cells": [
  {
   "cell_type": "markdown",
   "id": "3b618d2c",
   "metadata": {},
   "source": [
    "# PCA 主成分分析"
   ]
  },
  {
   "cell_type": "markdown",
   "id": "f473caca",
   "metadata": {},
   "source": [
    "维度：就是 .ndim 返回的值"
   ]
  },
  {
   "cell_type": "code",
   "execution_count": 1,
   "id": "a816d534",
   "metadata": {},
   "outputs": [],
   "source": [
    "import numpy as np"
   ]
  },
  {
   "cell_type": "code",
   "execution_count": 2,
   "id": "f3d5ac09",
   "metadata": {},
   "outputs": [
    {
     "name": "stdout",
     "output_type": "stream",
     "text": [
      "2\n"
     ]
    }
   ],
   "source": [
    "a = np.zeros((3,4))\n",
    "print(a.ndim)"
   ]
  },
  {
   "cell_type": "markdown",
   "id": "814ac3a0",
   "metadata": {},
   "source": [
    "维度也代表了训练数据中特征向量的个数"
   ]
  },
  {
   "cell_type": "markdown",
   "id": "239583f1",
   "metadata": {},
   "source": [
    "**pca 采用信息量衡量指标，即样本方差，** 或称为可解释性方差，方差越大，所携带信息量越多。\n",
    "\n",
    "$$ Var = \\frac{1}{n-1}\\sum_{i=1}^{n} {(x_i - \\hat{x})^2} $$\n",
    "\n",
    "为什么是 $\\frac{1}{n-1}$ 而不是 $\\frac{1}{n}$ ? 因为为了得到样本方差的无偏估计，证明在 GaussianDistribution 文件中"
   ]
  },
  {
   "cell_type": "markdown",
   "id": "47e47c9e",
   "metadata": {},
   "source": [
    "### 高维数据可视化\n",
    "以莺尾花数据集为例"
   ]
  },
  {
   "cell_type": "code",
   "execution_count": 3,
   "id": "b9c8a0fb",
   "metadata": {},
   "outputs": [],
   "source": [
    "import matplotlib.pyplot as plt\n",
    "from sklearn.datasets import load_iris\n",
    "from sklearn.decomposition import PCA"
   ]
  },
  {
   "cell_type": "code",
   "execution_count": 4,
   "id": "71b5c88b",
   "metadata": {},
   "outputs": [],
   "source": [
    "iris = load_iris()\n",
    "x = iris.data\n",
    "y = iris.target"
   ]
  },
  {
   "cell_type": "markdown",
   "id": "eff6de4b",
   "metadata": {},
   "source": [
    "二维数组，四维特征矩阵(四个特征)"
   ]
  },
  {
   "cell_type": "code",
   "execution_count": 5,
   "id": "68cd8a8b",
   "metadata": {},
   "outputs": [
    {
     "data": {
      "text/plain": [
       "(150, 4)"
      ]
     },
     "execution_count": 5,
     "metadata": {},
     "output_type": "execute_result"
    }
   ],
   "source": [
    "x.shape"
   ]
  },
  {
   "cell_type": "markdown",
   "id": "afce1195",
   "metadata": {},
   "source": [
    "用 PCA 降维 4 -> 2"
   ]
  },
  {
   "cell_type": "code",
   "execution_count": 6,
   "id": "8c05e996",
   "metadata": {},
   "outputs": [],
   "source": [
    "pca = PCA(n_components=2)\n",
    "pca = pca.fit(x)\n",
    "x_dr = pca.transform(x)"
   ]
  },
  {
   "cell_type": "code",
   "execution_count": 7,
   "id": "0eec0b7b",
   "metadata": {},
   "outputs": [
    {
     "data": {
      "text/plain": [
       "(150, 2)"
      ]
     },
     "execution_count": 7,
     "metadata": {},
     "output_type": "execute_result"
    }
   ],
   "source": [
    "x_dr.shape"
   ]
  },
  {
   "cell_type": "markdown",
   "id": "503074a1",
   "metadata": {},
   "source": [
    "简便写法"
   ]
  },
  {
   "cell_type": "code",
   "execution_count": 8,
   "id": "303879f4",
   "metadata": {},
   "outputs": [],
   "source": [
    "x_dr_1 = PCA(2).fit_transform(x)"
   ]
  },
  {
   "cell_type": "code",
   "execution_count": 9,
   "id": "e88770eb",
   "metadata": {},
   "outputs": [
    {
     "data": {
      "text/plain": [
       "(150, 2)"
      ]
     },
     "execution_count": 9,
     "metadata": {},
     "output_type": "execute_result"
    }
   ],
   "source": [
    "x_dr_1.shape"
   ]
  },
  {
   "cell_type": "code",
   "execution_count": 10,
   "id": "9c1eac9f",
   "metadata": {},
   "outputs": [
    {
     "data": {
      "image/png": "[encoded data removed]",
      "text/plain": [
       "<Figure size 432x288 with 1 Axes>"
      ]
     },
     "metadata": {
      "needs_background": "light"
     },
     "output_type": "display_data"
    }
   ],
   "source": [
    "plt.figure()\n",
    "plt.scatter(x_dr[y == 0,0], x_dr[y == 0,1], c='b', label=iris.target_names[0], alpha=0.7)\n",
    "plt.scatter(x_dr[y == 1,0], x_dr[y == 1,1], c='r', label=iris.target_names[1], alpha=0.7)\n",
    "plt.scatter(x_dr[y == 2,0], x_dr[y == 2,1], c='orange', label=iris.target_names[2], alpha=0.7)\n",
    "plt.title('PCA - class')\n",
    "plt.grid();plt.legend()\n",
    "plt.show()"
   ]
  },
  {
   "cell_type": "markdown",
   "id": "78631428",
   "metadata": {},
   "source": [
    "查看每个新特征的信息量(可解释性方差)大小"
   ]
  },
  {
   "cell_type": "code",
   "execution_count": 11,
   "id": "cde5d273",
   "metadata": {},
   "outputs": [
    {
     "data": {
      "text/plain": [
       "array([4.22824171, 0.24267075])"
      ]
     },
     "execution_count": 11,
     "metadata": {},
     "output_type": "execute_result"
    }
   ],
   "source": [
    "pca.explained_variance_"
   ]
  },
  {
   "cell_type": "markdown",
   "id": "6ad50586",
   "metadata": {},
   "source": [
    "查看每个新特征信息量占原始信息量的百分比(可解释性方差贡献率)"
   ]
  },
  {
   "cell_type": "code",
   "execution_count": 12,
   "id": "0e86e649",
   "metadata": {},
   "outputs": [
    {
     "data": {
      "text/plain": [
       "array([0.92461872, 0.05306648])"
      ]
     },
     "execution_count": 12,
     "metadata": {},
     "output_type": "execute_result"
    }
   ],
   "source": [
    "pca.explained_variance_ratio_"
   ]
  },
  {
   "cell_type": "markdown",
   "id": "d8484136",
   "metadata": {},
   "source": [
    "在 PCA 的参数中，n_components 默认为 min(x.shape)，一般为 feature 个数，相当于没有降维，只是转换了新的坐标空间。\n",
    "\n",
    "常用来画出累计可解释性方差贡献曲线，帮助我们决定最好的 n_components 的个数"
   ]
  },
  {
   "cell_type": "code",
   "execution_count": 13,
   "id": "f80d0a6b",
   "metadata": {},
   "outputs": [],
   "source": [
    "pca_line = PCA().fit(x)"
   ]
  },
  {
   "cell_type": "code",
   "execution_count": 14,
   "id": "97127f8a",
   "metadata": {},
   "outputs": [
    {
     "data": {
      "image/png": "[encoded data removed]",
      "text/plain": [
       "<Figure size 432x288 with 1 Axes>"
      ]
     },
     "metadata": {
      "needs_background": "light"
     },
     "output_type": "display_data"
    }
   ],
   "source": [
    "plt.figure()\n",
    "plt.plot([1,2,3,4], np.cumsum(pca_line.explained_variance_ratio_))\n",
    "plt.xticks([1,2,3,4])\n",
    "plt.xlabel('num of feature');plt.ylabel('explained variance ratio')\n",
    "plt.grid()\n",
    "plt.show()"
   ]
  },
  {
   "cell_type": "markdown",
   "id": "d1a2ce68",
   "metadata": {},
   "source": [
    "n_components 参数还可以选择极大似然估计 mle，这时系统会自动帮我们选取最优的个数"
   ]
  },
  {
   "cell_type": "code",
   "execution_count": 15,
   "id": "b98985e8",
   "metadata": {},
   "outputs": [
    {
     "data": {
      "text/plain": [
       "(150, 3)"
      ]
     },
     "execution_count": 15,
     "metadata": {},
     "output_type": "execute_result"
    }
   ],
   "source": [
    "x_mle = PCA(n_components='mle').fit_transform(x)\n",
    "x_mle.shape"
   ]
  },
  {
   "cell_type": "markdown",
   "id": "3b93d3b9",
   "metadata": {},
   "source": [
    "上面一行代码可知，mle 自动选择了 3 作为降维后的 feature 个数。"
   ]
  },
  {
   "cell_type": "markdown",
   "id": "42be8a21",
   "metadata": {},
   "source": [
    "n_components 参数还可以选择 0-1 之间的浮点数，代表了降维后希望保留百分之多少的信息量\n",
    "\n",
    "此时必须加上 svd_solver='full' 这个参数"
   ]
  },
  {
   "cell_type": "code",
   "execution_count": 16,
   "id": "25025f2e",
   "metadata": {},
   "outputs": [
    {
     "data": {
      "text/plain": [
       "(150, 2)"
      ]
     },
     "execution_count": 16,
     "metadata": {},
     "output_type": "execute_result"
    }
   ],
   "source": [
    "x_f = PCA(n_components=0.97, svd_solver='full').fit_transform(x)\n",
    "x_f.shape"
   ]
  },
  {
   "cell_type": "code",
   "execution_count": 17,
   "id": "cbb8e337",
   "metadata": {},
   "outputs": [
    {
     "data": {
      "text/plain": [
       "(150, 3)"
      ]
     },
     "execution_count": 17,
     "metadata": {},
     "output_type": "execute_result"
    }
   ],
   "source": [
    "x_f = PCA(n_components=0.99, svd_solver='full').fit_transform(x)\n",
    "x_f.shape"
   ]
  },
  {
   "cell_type": "markdown",
   "id": "c8a52041",
   "metadata": {},
   "source": [
    "### 人脸识别中 components_"
   ]
  },
  {
   "cell_type": "code",
   "execution_count": 18,
   "id": "367284f5",
   "metadata": {},
   "outputs": [],
   "source": [
    "from sklearn.datasets import fetch_lfw_people"
   ]
  },
  {
   "cell_type": "code",
   "execution_count": 19,
   "id": "d8556d79",
   "metadata": {},
   "outputs": [],
   "source": [
    "faces = fetch_lfw_people(min_faces_per_person=60)"
   ]
  },
  {
   "cell_type": "code",
   "execution_count": 21,
   "id": "9b4e05aa",
   "metadata": {},
   "outputs": [
    {
     "data": {
      "text/plain": [
       "(1348, 2914)"
      ]
     },
     "execution_count": 21,
     "metadata": {},
     "output_type": "execute_result"
    }
   ],
   "source": [
    "faces.data.shape"
   ]
  },
  {
   "cell_type": "code",
   "execution_count": 22,
   "id": "d7ad4d01",
   "metadata": {},
   "outputs": [
    {
     "data": {
      "text/plain": [
       "(1348, 62, 47)"
      ]
     },
     "execution_count": 22,
     "metadata": {},
     "output_type": "execute_result"
    }
   ],
   "source": [
    "faces.images.shape"
   ]
  },
  {
   "cell_type": "markdown",
   "id": "647c7b49",
   "metadata": {},
   "source": [
    "其中 1348 是样本个数，62 是特征矩阵行数，47 是特征矩阵列数，data 实际上就是拉平了"
   ]
  },
  {
   "cell_type": "code",
   "execution_count": 30,
   "id": "73c7f017",
   "metadata": {},
   "outputs": [
    {
     "data": {
      "text/plain": [
       "<matplotlib.image.AxesImage at 0x7ff9349310a0>"
      ]
     },
     "execution_count": 30,
     "metadata": {},
     "output_type": "execute_result"
    },
    {
     "data": {
      "image/png": "[encoded data removed]",
      "text/plain": [
       "<Figure size 576x288 with 20 Axes>"
      ]
     },
     "metadata": {},
     "output_type": "display_data"
    }
   ],
   "source": [
    "fig, axes = plt.subplots(4,5,\n",
    "                        figsize=(8,4),\n",
    "                        subplot_kw={'xticks':[],'yticks':[]})\n",
    "axes[0][0].imshow(faces.images[0,:,:])"
   ]
  },
  {
   "cell_type": "code",
   "execution_count": 29,
   "id": "3f04e5ce",
   "metadata": {},
   "outputs": [
    {
     "data": {
      "text/plain": [
       "<matplotlib.image.AxesImage at 0x7ff934927f10>"
      ]
     },
     "execution_count": 29,
     "metadata": {},
     "output_type": "execute_result"
    }
   ],
   "source": [
    "axes[0][0].imshow(faces.images[0,:,:])"
   ]
  },
  {
   "cell_type": "code",
   "execution_count": null,
   "id": "fa6136ee",
   "metadata": {},
   "outputs": [],
   "source": []
  }
 ],
 "metadata": {
  "kernelspec": {
   "display_name": "Python 3 (ipykernel)",
   "language": "python",
   "name": "python3"
  },
  "language_info": {
   "codemirror_mode": {
    "name": "ipython",
    "version": 3
   },
   "file_extension": ".py",
   "mimetype": "text/x-python",
   "name": "python",
   "nbconvert_exporter": "python",
   "pygments_lexer": "ipython3",
   "version": "3.8.2"
  }
 },
 "nbformat": 4,
 "nbformat_minor": 5
}
