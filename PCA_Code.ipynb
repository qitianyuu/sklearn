{
 "cells": [
  {
   "cell_type": "markdown",
   "id": "3b618d2c",
   "metadata": {},
   "source": [
    "# PCA 主成分分析"
   ]
  },
  {
   "cell_type": "markdown",
   "id": "f473caca",
   "metadata": {},
   "source": [
    "维度：就是 .ndim 返回的值"
   ]
  },
  {
   "cell_type": "code",
   "execution_count": 1,
   "id": "a816d534",
   "metadata": {},
   "outputs": [],
   "source": [
    "import numpy as np"
   ]
  },
  {
   "cell_type": "code",
   "execution_count": 2,
   "id": "f3d5ac09",
   "metadata": {},
   "outputs": [
    {
     "name": "stdout",
     "output_type": "stream",
     "text": [
      "2\n"
     ]
    }
   ],
   "source": [
    "a = np.zeros((3,4))\n",
    "print(a.ndim)"
   ]
  },
  {
   "cell_type": "markdown",
   "id": "814ac3a0",
   "metadata": {},
   "source": [
    "维度也代表了训练数据中特征向量的个数"
   ]
  },
  {
   "cell_type": "markdown",
   "id": "239583f1",
   "metadata": {},
   "source": [
    "**pca 采用信息量衡量指标，即样本方差，** 或称为可解释性方差，方差越大，所携带信息量越多。\n",
    "\n",
    "$$ Var = \\frac{1}{n-1}\\sum_{i=1}^{n} {(x_i - \\hat{x})^2} $$\n",
    "\n",
    "为什么是 $\\frac{1}{n-1}$ 而不是 $\\frac{1}{n}$ ? 因为为了得到样本方差的无偏估计，后面会补上证明。"
   ]
  },
  {
   "cell_type": "code",
   "execution_count": null,
   "id": "97d41f6d",
   "metadata": {},
   "outputs": [],
   "source": []
  }
 ],
 "metadata": {
  "kernelspec": {
   "display_name": "Python 3 (ipykernel)",
   "language": "python",
   "name": "python3"
  },
  "language_info": {
   "codemirror_mode": {
    "name": "ipython",
    "version": 3
   },
   "file_extension": ".py",
   "mimetype": "text/x-python",
   "name": "python",
   "nbconvert_exporter": "python",
   "pygments_lexer": "ipython3",
   "version": "3.8.2"
  }
 },
 "nbformat": 4,
 "nbformat_minor": 5
}
