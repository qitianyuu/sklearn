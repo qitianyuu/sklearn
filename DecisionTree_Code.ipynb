{
 "cells": [
  {
   "cell_type": "markdown",
   "id": "a2b4e35b",
   "metadata": {},
   "source": [
    "# 决策树"
   ]
  },
  {
   "cell_type": "markdown",
   "id": "1b130b12",
   "metadata": {},
   "source": [
    "## 分类树"
   ]
  },
  {
   "cell_type": "code",
   "execution_count": 1,
   "id": "86db6b2a",
   "metadata": {},
   "outputs": [],
   "source": [
    "from sklearn import tree\n",
    "from sklearn.model_selection import train_test_split"
   ]
  },
  {
   "cell_type": "markdown",
   "id": "a12ca404",
   "metadata": {},
   "source": [
    "红酒数据集"
   ]
  },
  {
   "cell_type": "code",
   "execution_count": 2,
   "id": "48f54a86",
   "metadata": {},
   "outputs": [],
   "source": [
    "from sklearn.datasets import load_wine"
   ]
  },
  {
   "cell_type": "markdown",
   "id": "0a2e7e93",
   "metadata": {},
   "source": [
    "加载数据"
   ]
  },
  {
   "cell_type": "code",
   "execution_count": 3,
   "id": "fec85a2f",
   "metadata": {},
   "outputs": [
    {
     "data": {
      "text/plain": [
       "array([[1.423e+01, 1.710e+00, 2.430e+00, ..., 1.040e+00, 3.920e+00,\n",
       "        1.065e+03],\n",
       "       [1.320e+01, 1.780e+00, 2.140e+00, ..., 1.050e+00, 3.400e+00,\n",
       "        1.050e+03],\n",
       "       [1.316e+01, 2.360e+00, 2.670e+00, ..., 1.030e+00, 3.170e+00,\n",
       "        1.185e+03],\n",
       "       ...,\n",
       "       [1.327e+01, 4.280e+00, 2.260e+00, ..., 5.900e-01, 1.560e+00,\n",
       "        8.350e+02],\n",
       "       [1.317e+01, 2.590e+00, 2.370e+00, ..., 6.000e-01, 1.620e+00,\n",
       "        8.400e+02],\n",
       "       [1.413e+01, 4.100e+00, 2.740e+00, ..., 6.100e-01, 1.600e+00,\n",
       "        5.600e+02]])"
      ]
     },
     "execution_count": 3,
     "metadata": {},
     "output_type": "execute_result"
    }
   ],
   "source": [
    "wine = load_wine()\n",
    "wine.data"
   ]
  },
  {
   "cell_type": "code",
   "execution_count": 4,
   "id": "83098326",
   "metadata": {},
   "outputs": [
    {
     "data": {
      "text/plain": [
       "array([0, 0, 0, 0, 0, 0, 0, 0, 0, 0, 0, 0, 0, 0, 0, 0, 0, 0, 0, 0, 0, 0,\n",
       "       0, 0, 0, 0, 0, 0, 0, 0, 0, 0, 0, 0, 0, 0, 0, 0, 0, 0, 0, 0, 0, 0,\n",
       "       0, 0, 0, 0, 0, 0, 0, 0, 0, 0, 0, 0, 0, 0, 0, 1, 1, 1, 1, 1, 1, 1,\n",
       "       1, 1, 1, 1, 1, 1, 1, 1, 1, 1, 1, 1, 1, 1, 1, 1, 1, 1, 1, 1, 1, 1,\n",
       "       1, 1, 1, 1, 1, 1, 1, 1, 1, 1, 1, 1, 1, 1, 1, 1, 1, 1, 1, 1, 1, 1,\n",
       "       1, 1, 1, 1, 1, 1, 1, 1, 1, 1, 1, 1, 1, 1, 1, 1, 1, 1, 1, 1, 2, 2,\n",
       "       2, 2, 2, 2, 2, 2, 2, 2, 2, 2, 2, 2, 2, 2, 2, 2, 2, 2, 2, 2, 2, 2,\n",
       "       2, 2, 2, 2, 2, 2, 2, 2, 2, 2, 2, 2, 2, 2, 2, 2, 2, 2, 2, 2, 2, 2,\n",
       "       2, 2])"
      ]
     },
     "execution_count": 4,
     "metadata": {},
     "output_type": "execute_result"
    }
   ],
   "source": [
    "wine.target"
   ]
  },
  {
   "cell_type": "markdown",
   "id": "415e5a03",
   "metadata": {},
   "source": [
    "数据维度"
   ]
  },
  {
   "cell_type": "code",
   "execution_count": 5,
   "id": "1c80926a",
   "metadata": {},
   "outputs": [
    {
     "data": {
      "text/plain": [
       "(178, 13)"
      ]
     },
     "execution_count": 5,
     "metadata": {},
     "output_type": "execute_result"
    }
   ],
   "source": [
    "wine.data.shape"
   ]
  },
  {
   "cell_type": "markdown",
   "id": "7cd9579b",
   "metadata": {},
   "source": [
    "以表格形式查看"
   ]
  },
  {
   "cell_type": "code",
   "execution_count": 6,
   "id": "3ca600d1",
   "metadata": {},
   "outputs": [
    {
     "data": {
      "text/html": [
       "<div>\n",
       "<style scoped>\n",
       "    .dataframe tbody tr th:only-of-type {\n",
       "        vertical-align: middle;\n",
       "    }\n",
       "\n",
       "    .dataframe tbody tr th {\n",
       "        vertical-align: top;\n",
       "    }\n",
       "\n",
       "    .dataframe thead th {\n",
       "        text-align: right;\n",
       "    }\n",
       "</style>\n",
       "<table border=\"1\" class=\"dataframe\">\n",
       "  <thead>\n",
       "    <tr style=\"text-align: right;\">\n",
       "      <th></th>\n",
       "      <th>0</th>\n",
       "      <th>1</th>\n",
       "      <th>2</th>\n",
       "      <th>3</th>\n",
       "      <th>4</th>\n",
       "      <th>5</th>\n",
       "      <th>6</th>\n",
       "      <th>7</th>\n",
       "      <th>8</th>\n",
       "      <th>9</th>\n",
       "      <th>10</th>\n",
       "      <th>11</th>\n",
       "      <th>12</th>\n",
       "      <th>0</th>\n",
       "    </tr>\n",
       "  </thead>\n",
       "  <tbody>\n",
       "    <tr>\n",
       "      <th>0</th>\n",
       "      <td>14.23</td>\n",
       "      <td>1.71</td>\n",
       "      <td>2.43</td>\n",
       "      <td>15.6</td>\n",
       "      <td>127.0</td>\n",
       "      <td>2.80</td>\n",
       "      <td>3.06</td>\n",
       "      <td>0.28</td>\n",
       "      <td>2.29</td>\n",
       "      <td>5.64</td>\n",
       "      <td>1.04</td>\n",
       "      <td>3.92</td>\n",
       "      <td>1065.0</td>\n",
       "      <td>0</td>\n",
       "    </tr>\n",
       "    <tr>\n",
       "      <th>1</th>\n",
       "      <td>13.20</td>\n",
       "      <td>1.78</td>\n",
       "      <td>2.14</td>\n",
       "      <td>11.2</td>\n",
       "      <td>100.0</td>\n",
       "      <td>2.65</td>\n",
       "      <td>2.76</td>\n",
       "      <td>0.26</td>\n",
       "      <td>1.28</td>\n",
       "      <td>4.38</td>\n",
       "      <td>1.05</td>\n",
       "      <td>3.40</td>\n",
       "      <td>1050.0</td>\n",
       "      <td>0</td>\n",
       "    </tr>\n",
       "    <tr>\n",
       "      <th>2</th>\n",
       "      <td>13.16</td>\n",
       "      <td>2.36</td>\n",
       "      <td>2.67</td>\n",
       "      <td>18.6</td>\n",
       "      <td>101.0</td>\n",
       "      <td>2.80</td>\n",
       "      <td>3.24</td>\n",
       "      <td>0.30</td>\n",
       "      <td>2.81</td>\n",
       "      <td>5.68</td>\n",
       "      <td>1.03</td>\n",
       "      <td>3.17</td>\n",
       "      <td>1185.0</td>\n",
       "      <td>0</td>\n",
       "    </tr>\n",
       "    <tr>\n",
       "      <th>3</th>\n",
       "      <td>14.37</td>\n",
       "      <td>1.95</td>\n",
       "      <td>2.50</td>\n",
       "      <td>16.8</td>\n",
       "      <td>113.0</td>\n",
       "      <td>3.85</td>\n",
       "      <td>3.49</td>\n",
       "      <td>0.24</td>\n",
       "      <td>2.18</td>\n",
       "      <td>7.80</td>\n",
       "      <td>0.86</td>\n",
       "      <td>3.45</td>\n",
       "      <td>1480.0</td>\n",
       "      <td>0</td>\n",
       "    </tr>\n",
       "    <tr>\n",
       "      <th>4</th>\n",
       "      <td>13.24</td>\n",
       "      <td>2.59</td>\n",
       "      <td>2.87</td>\n",
       "      <td>21.0</td>\n",
       "      <td>118.0</td>\n",
       "      <td>2.80</td>\n",
       "      <td>2.69</td>\n",
       "      <td>0.39</td>\n",
       "      <td>1.82</td>\n",
       "      <td>4.32</td>\n",
       "      <td>1.04</td>\n",
       "      <td>2.93</td>\n",
       "      <td>735.0</td>\n",
       "      <td>0</td>\n",
       "    </tr>\n",
       "    <tr>\n",
       "      <th>...</th>\n",
       "      <td>...</td>\n",
       "      <td>...</td>\n",
       "      <td>...</td>\n",
       "      <td>...</td>\n",
       "      <td>...</td>\n",
       "      <td>...</td>\n",
       "      <td>...</td>\n",
       "      <td>...</td>\n",
       "      <td>...</td>\n",
       "      <td>...</td>\n",
       "      <td>...</td>\n",
       "      <td>...</td>\n",
       "      <td>...</td>\n",
       "      <td>...</td>\n",
       "    </tr>\n",
       "    <tr>\n",
       "      <th>173</th>\n",
       "      <td>13.71</td>\n",
       "      <td>5.65</td>\n",
       "      <td>2.45</td>\n",
       "      <td>20.5</td>\n",
       "      <td>95.0</td>\n",
       "      <td>1.68</td>\n",
       "      <td>0.61</td>\n",
       "      <td>0.52</td>\n",
       "      <td>1.06</td>\n",
       "      <td>7.70</td>\n",
       "      <td>0.64</td>\n",
       "      <td>1.74</td>\n",
       "      <td>740.0</td>\n",
       "      <td>2</td>\n",
       "    </tr>\n",
       "    <tr>\n",
       "      <th>174</th>\n",
       "      <td>13.40</td>\n",
       "      <td>3.91</td>\n",
       "      <td>2.48</td>\n",
       "      <td>23.0</td>\n",
       "      <td>102.0</td>\n",
       "      <td>1.80</td>\n",
       "      <td>0.75</td>\n",
       "      <td>0.43</td>\n",
       "      <td>1.41</td>\n",
       "      <td>7.30</td>\n",
       "      <td>0.70</td>\n",
       "      <td>1.56</td>\n",
       "      <td>750.0</td>\n",
       "      <td>2</td>\n",
       "    </tr>\n",
       "    <tr>\n",
       "      <th>175</th>\n",
       "      <td>13.27</td>\n",
       "      <td>4.28</td>\n",
       "      <td>2.26</td>\n",
       "      <td>20.0</td>\n",
       "      <td>120.0</td>\n",
       "      <td>1.59</td>\n",
       "      <td>0.69</td>\n",
       "      <td>0.43</td>\n",
       "      <td>1.35</td>\n",
       "      <td>10.20</td>\n",
       "      <td>0.59</td>\n",
       "      <td>1.56</td>\n",
       "      <td>835.0</td>\n",
       "      <td>2</td>\n",
       "    </tr>\n",
       "    <tr>\n",
       "      <th>176</th>\n",
       "      <td>13.17</td>\n",
       "      <td>2.59</td>\n",
       "      <td>2.37</td>\n",
       "      <td>20.0</td>\n",
       "      <td>120.0</td>\n",
       "      <td>1.65</td>\n",
       "      <td>0.68</td>\n",
       "      <td>0.53</td>\n",
       "      <td>1.46</td>\n",
       "      <td>9.30</td>\n",
       "      <td>0.60</td>\n",
       "      <td>1.62</td>\n",
       "      <td>840.0</td>\n",
       "      <td>2</td>\n",
       "    </tr>\n",
       "    <tr>\n",
       "      <th>177</th>\n",
       "      <td>14.13</td>\n",
       "      <td>4.10</td>\n",
       "      <td>2.74</td>\n",
       "      <td>24.5</td>\n",
       "      <td>96.0</td>\n",
       "      <td>2.05</td>\n",
       "      <td>0.76</td>\n",
       "      <td>0.56</td>\n",
       "      <td>1.35</td>\n",
       "      <td>9.20</td>\n",
       "      <td>0.61</td>\n",
       "      <td>1.60</td>\n",
       "      <td>560.0</td>\n",
       "      <td>2</td>\n",
       "    </tr>\n",
       "  </tbody>\n",
       "</table>\n",
       "<p>178 rows × 14 columns</p>\n",
       "</div>"
      ],
      "text/plain": [
       "        0     1     2     3      4     5     6     7     8      9     10  \\\n",
       "0    14.23  1.71  2.43  15.6  127.0  2.80  3.06  0.28  2.29   5.64  1.04   \n",
       "1    13.20  1.78  2.14  11.2  100.0  2.65  2.76  0.26  1.28   4.38  1.05   \n",
       "2    13.16  2.36  2.67  18.6  101.0  2.80  3.24  0.30  2.81   5.68  1.03   \n",
       "3    14.37  1.95  2.50  16.8  113.0  3.85  3.49  0.24  2.18   7.80  0.86   \n",
       "4    13.24  2.59  2.87  21.0  118.0  2.80  2.69  0.39  1.82   4.32  1.04   \n",
       "..     ...   ...   ...   ...    ...   ...   ...   ...   ...    ...   ...   \n",
       "173  13.71  5.65  2.45  20.5   95.0  1.68  0.61  0.52  1.06   7.70  0.64   \n",
       "174  13.40  3.91  2.48  23.0  102.0  1.80  0.75  0.43  1.41   7.30  0.70   \n",
       "175  13.27  4.28  2.26  20.0  120.0  1.59  0.69  0.43  1.35  10.20  0.59   \n",
       "176  13.17  2.59  2.37  20.0  120.0  1.65  0.68  0.53  1.46   9.30  0.60   \n",
       "177  14.13  4.10  2.74  24.5   96.0  2.05  0.76  0.56  1.35   9.20  0.61   \n",
       "\n",
       "       11      12  0   \n",
       "0    3.92  1065.0   0  \n",
       "1    3.40  1050.0   0  \n",
       "2    3.17  1185.0   0  \n",
       "3    3.45  1480.0   0  \n",
       "4    2.93   735.0   0  \n",
       "..    ...     ...  ..  \n",
       "173  1.74   740.0   2  \n",
       "174  1.56   750.0   2  \n",
       "175  1.56   835.0   2  \n",
       "176  1.62   840.0   2  \n",
       "177  1.60   560.0   2  \n",
       "\n",
       "[178 rows x 14 columns]"
      ]
     },
     "execution_count": 6,
     "metadata": {},
     "output_type": "execute_result"
    }
   ],
   "source": [
    "import pandas as pd\n",
    "pd.concat([pd.DataFrame(wine.data), pd.DataFrame(wine.target)], axis=1)"
   ]
  },
  {
   "cell_type": "markdown",
   "id": "24ac33aa",
   "metadata": {},
   "source": [
    "特征名字"
   ]
  },
  {
   "cell_type": "code",
   "execution_count": 7,
   "id": "003a9d41",
   "metadata": {},
   "outputs": [
    {
     "data": {
      "text/plain": [
       "['alcohol',\n",
       " 'malic_acid',\n",
       " 'ash',\n",
       " 'alcalinity_of_ash',\n",
       " 'magnesium',\n",
       " 'total_phenols',\n",
       " 'flavanoids',\n",
       " 'nonflavanoid_phenols',\n",
       " 'proanthocyanins',\n",
       " 'color_intensity',\n",
       " 'hue',\n",
       " 'od280/od315_of_diluted_wines',\n",
       " 'proline']"
      ]
     },
     "execution_count": 7,
     "metadata": {},
     "output_type": "execute_result"
    }
   ],
   "source": [
    "wine.feature_names"
   ]
  },
  {
   "cell_type": "markdown",
   "id": "cfa7f3d1",
   "metadata": {},
   "source": [
    "分隔 train、test"
   ]
  },
  {
   "cell_type": "code",
   "execution_count": 8,
   "id": "7082dc04",
   "metadata": {},
   "outputs": [],
   "source": [
    "trainX, testX, trainY, testY = train_test_split(wine.data, wine.target, test_size=0.2)"
   ]
  },
  {
   "cell_type": "code",
   "execution_count": 9,
   "id": "3cadda04",
   "metadata": {},
   "outputs": [
    {
     "data": {
      "text/plain": [
       "(142, 13)"
      ]
     },
     "execution_count": 9,
     "metadata": {},
     "output_type": "execute_result"
    }
   ],
   "source": [
    "trainX.shape"
   ]
  },
  {
   "cell_type": "code",
   "execution_count": 10,
   "id": "ff82b354",
   "metadata": {},
   "outputs": [
    {
     "data": {
      "text/plain": [
       "(36, 13)"
      ]
     },
     "execution_count": 10,
     "metadata": {},
     "output_type": "execute_result"
    }
   ],
   "source": [
    "testX.shape"
   ]
  },
  {
   "cell_type": "code",
   "execution_count": 41,
   "id": "144e76ad",
   "metadata": {},
   "outputs": [],
   "source": [
    "clf = tree.DecisionTreeClassifier(criterion=\"entropy\")\n",
    "clf.fit(trainX, trainY)\n",
    "score = clf.score(testX, testY) # accuracy"
   ]
  },
  {
   "cell_type": "code",
   "execution_count": 42,
   "id": "c149ad2e",
   "metadata": {},
   "outputs": [
    {
     "name": "stdout",
     "output_type": "stream",
     "text": [
      "accuracy -> 0.9444444444444444\n"
     ]
    }
   ],
   "source": [
    "print(\"accuracy -> {}\".format(score))"
   ]
  },
  {
   "cell_type": "markdown",
   "id": "93c6219c",
   "metadata": {},
   "source": [
    "画出树的样子"
   ]
  },
  {
   "cell_type": "code",
   "execution_count": 25,
   "id": "00103e1b",
   "metadata": {},
   "outputs": [],
   "source": [
    "import graphviz"
   ]
  },
  {
   "cell_type": "code",
   "execution_count": 26,
   "id": "1cd5c51c",
   "metadata": {},
   "outputs": [
    {
     "data": {
      "image/svg+xml": [
       "<?xml version=\"1.0\" encoding=\"UTF-8\" standalone=\"no\"?>\n",
       "<!DOCTYPE svg PUBLIC \"-//W3C//DTD SVG 1.1//EN\"\n",
       " \"http://www.w3.org/Graphics/SVG/1.1/DTD/svg11.dtd\">\n",
       "<!-- Generated by graphviz version 2.40.1 (20161225.0304)\n",
       " -->\n",
       "<!-- Title: Tree Pages: 1 -->\n",
       "<svg width=\"646pt\" height=\"433pt\"\n",
       " viewBox=\"0.00 0.00 645.50 433.00\" xmlns=\"http://www.w3.org/2000/svg\" xmlns:xlink=\"http://www.w3.org/1999/xlink\">\n",
       "<g id=\"graph0\" class=\"graph\" transform=\"scale(1 1) rotate(0) translate(4 429)\">\n",
       "<title>Tree</title>\n",
       "<polygon fill=\"#ffffff\" stroke=\"transparent\" points=\"-4,4 -4,-429 641.5,-429 641.5,4 -4,4\"/>\n",
       "<!-- 0 -->\n",
       "<g id=\"node1\" class=\"node\">\n",
       "<title>0</title>\n",
       "<path fill=\"#e1fbec\" stroke=\"#000000\" d=\"M355,-425C355,-425 240,-425 240,-425 234,-425 228,-419 228,-413 228,-413 228,-354 228,-354 228,-348 234,-342 240,-342 240,-342 355,-342 355,-342 361,-342 367,-348 367,-354 367,-354 367,-413 367,-413 367,-419 361,-425 355,-425\"/>\n",
       "<text text-anchor=\"middle\" x=\"297.5\" y=\"-409.8\" font-family=\"Helvetica,sans-Serif\" font-size=\"14.00\" fill=\"#000000\">flavanoids &lt;= 1.575</text>\n",
       "<text text-anchor=\"middle\" x=\"297.5\" y=\"-394.8\" font-family=\"Helvetica,sans-Serif\" font-size=\"14.00\" fill=\"#000000\">entropy = 1.562</text>\n",
       "<text text-anchor=\"middle\" x=\"297.5\" y=\"-379.8\" font-family=\"Helvetica,sans-Serif\" font-size=\"14.00\" fill=\"#000000\">samples = 142</text>\n",
       "<text text-anchor=\"middle\" x=\"297.5\" y=\"-364.8\" font-family=\"Helvetica,sans-Serif\" font-size=\"14.00\" fill=\"#000000\">value = [44, 59, 39]</text>\n",
       "<text text-anchor=\"middle\" x=\"297.5\" y=\"-349.8\" font-family=\"Helvetica,sans-Serif\" font-size=\"14.00\" fill=\"#000000\">class = b</text>\n",
       "</g>\n",
       "<!-- 1 -->\n",
       "<g id=\"node2\" class=\"node\">\n",
       "<title>1</title>\n",
       "<path fill=\"#a16cec\" stroke=\"#000000\" d=\"M286,-306C286,-306 145,-306 145,-306 139,-306 133,-300 133,-294 133,-294 133,-235 133,-235 133,-229 139,-223 145,-223 145,-223 286,-223 286,-223 292,-223 298,-229 298,-235 298,-235 298,-294 298,-294 298,-300 292,-306 286,-306\"/>\n",
       "<text text-anchor=\"middle\" x=\"215.5\" y=\"-290.8\" font-family=\"Helvetica,sans-Serif\" font-size=\"14.00\" fill=\"#000000\">color_intensity &lt;= 3.825</text>\n",
       "<text text-anchor=\"middle\" x=\"215.5\" y=\"-275.8\" font-family=\"Helvetica,sans-Serif\" font-size=\"14.00\" fill=\"#000000\">entropy = 0.73</text>\n",
       "<text text-anchor=\"middle\" x=\"215.5\" y=\"-260.8\" font-family=\"Helvetica,sans-Serif\" font-size=\"14.00\" fill=\"#000000\">samples = 49</text>\n",
       "<text text-anchor=\"middle\" x=\"215.5\" y=\"-245.8\" font-family=\"Helvetica,sans-Serif\" font-size=\"14.00\" fill=\"#000000\">value = [0, 10, 39]</text>\n",
       "<text text-anchor=\"middle\" x=\"215.5\" y=\"-230.8\" font-family=\"Helvetica,sans-Serif\" font-size=\"14.00\" fill=\"#000000\">class = c</text>\n",
       "</g>\n",
       "<!-- 0&#45;&gt;1 -->\n",
       "<g id=\"edge1\" class=\"edge\">\n",
       "<title>0&#45;&gt;1</title>\n",
       "<path fill=\"none\" stroke=\"#000000\" d=\"M268.8204,-341.8796C262.7385,-333.0534 256.2578,-323.6485 249.9859,-314.5466\"/>\n",
       "<polygon fill=\"#000000\" stroke=\"#000000\" points=\"252.8582,-312.5465 244.302,-306.2981 247.0941,-316.5184 252.8582,-312.5465\"/>\n",
       "<text text-anchor=\"middle\" x=\"239.7761\" y=\"-327.185\" font-family=\"Helvetica,sans-Serif\" font-size=\"14.00\" fill=\"#000000\">True</text>\n",
       "</g>\n",
       "<!-- 6 -->\n",
       "<g id=\"node7\" class=\"node\">\n",
       "<title>6</title>\n",
       "<path fill=\"#ebfcf2\" stroke=\"#000000\" d=\"M432.5,-306C432.5,-306 328.5,-306 328.5,-306 322.5,-306 316.5,-300 316.5,-294 316.5,-294 316.5,-235 316.5,-235 316.5,-229 322.5,-223 328.5,-223 328.5,-223 432.5,-223 432.5,-223 438.5,-223 444.5,-229 444.5,-235 444.5,-235 444.5,-294 444.5,-294 444.5,-300 438.5,-306 432.5,-306\"/>\n",
       "<text text-anchor=\"middle\" x=\"380.5\" y=\"-290.8\" font-family=\"Helvetica,sans-Serif\" font-size=\"14.00\" fill=\"#000000\">alcohol &lt;= 13.04</text>\n",
       "<text text-anchor=\"middle\" x=\"380.5\" y=\"-275.8\" font-family=\"Helvetica,sans-Serif\" font-size=\"14.00\" fill=\"#000000\">entropy = 0.998</text>\n",
       "<text text-anchor=\"middle\" x=\"380.5\" y=\"-260.8\" font-family=\"Helvetica,sans-Serif\" font-size=\"14.00\" fill=\"#000000\">samples = 93</text>\n",
       "<text text-anchor=\"middle\" x=\"380.5\" y=\"-245.8\" font-family=\"Helvetica,sans-Serif\" font-size=\"14.00\" fill=\"#000000\">value = [44, 49, 0]</text>\n",
       "<text text-anchor=\"middle\" x=\"380.5\" y=\"-230.8\" font-family=\"Helvetica,sans-Serif\" font-size=\"14.00\" fill=\"#000000\">class = b</text>\n",
       "</g>\n",
       "<!-- 0&#45;&gt;6 -->\n",
       "<g id=\"edge6\" class=\"edge\">\n",
       "<title>0&#45;&gt;6</title>\n",
       "<path fill=\"none\" stroke=\"#000000\" d=\"M326.5294,-341.8796C332.6855,-333.0534 339.2451,-323.6485 345.5936,-314.5466\"/>\n",
       "<polygon fill=\"#000000\" stroke=\"#000000\" points=\"348.4967,-316.5024 351.3467,-306.2981 342.7552,-312.4978 348.4967,-316.5024\"/>\n",
       "<text text-anchor=\"middle\" x=\"355.7331\" y=\"-327.2103\" font-family=\"Helvetica,sans-Serif\" font-size=\"14.00\" fill=\"#000000\">False</text>\n",
       "</g>\n",
       "<!-- 2 -->\n",
       "<g id=\"node3\" class=\"node\">\n",
       "<title>2</title>\n",
       "<path fill=\"#39e581\" stroke=\"#000000\" d=\"M101,-179.5C101,-179.5 12,-179.5 12,-179.5 6,-179.5 0,-173.5 0,-167.5 0,-167.5 0,-123.5 0,-123.5 0,-117.5 6,-111.5 12,-111.5 12,-111.5 101,-111.5 101,-111.5 107,-111.5 113,-117.5 113,-123.5 113,-123.5 113,-167.5 113,-167.5 113,-173.5 107,-179.5 101,-179.5\"/>\n",
       "<text text-anchor=\"middle\" x=\"56.5\" y=\"-164.3\" font-family=\"Helvetica,sans-Serif\" font-size=\"14.00\" fill=\"#000000\">entropy = 0.0</text>\n",
       "<text text-anchor=\"middle\" x=\"56.5\" y=\"-149.3\" font-family=\"Helvetica,sans-Serif\" font-size=\"14.00\" fill=\"#000000\">samples = 9</text>\n",
       "<text text-anchor=\"middle\" x=\"56.5\" y=\"-134.3\" font-family=\"Helvetica,sans-Serif\" font-size=\"14.00\" fill=\"#000000\">value = [0, 9, 0]</text>\n",
       "<text text-anchor=\"middle\" x=\"56.5\" y=\"-119.3\" font-family=\"Helvetica,sans-Serif\" font-size=\"14.00\" fill=\"#000000\">class = b</text>\n",
       "</g>\n",
       "<!-- 1&#45;&gt;2 -->\n",
       "<g id=\"edge2\" class=\"edge\">\n",
       "<title>1&#45;&gt;2</title>\n",
       "<path fill=\"none\" stroke=\"#000000\" d=\"M159.8895,-222.8796C143.7987,-210.8368 126.2685,-197.7167 110.2909,-185.7586\"/>\n",
       "<polygon fill=\"#000000\" stroke=\"#000000\" points=\"112.1962,-182.8129 102.093,-179.623 108.0018,-188.4171 112.1962,-182.8129\"/>\n",
       "</g>\n",
       "<!-- 3 -->\n",
       "<g id=\"node4\" class=\"node\">\n",
       "<title>3</title>\n",
       "<path fill=\"#843ee6\" stroke=\"#000000\" d=\"M290,-187C290,-187 143,-187 143,-187 137,-187 131,-181 131,-175 131,-175 131,-116 131,-116 131,-110 137,-104 143,-104 143,-104 290,-104 290,-104 296,-104 302,-110 302,-116 302,-116 302,-175 302,-175 302,-181 296,-187 290,-187\"/>\n",
       "<text text-anchor=\"middle\" x=\"216.5\" y=\"-171.8\" font-family=\"Helvetica,sans-Serif\" font-size=\"14.00\" fill=\"#000000\">alcalinity_of_ash &lt;= 17.4</text>\n",
       "<text text-anchor=\"middle\" x=\"216.5\" y=\"-156.8\" font-family=\"Helvetica,sans-Serif\" font-size=\"14.00\" fill=\"#000000\">entropy = 0.169</text>\n",
       "<text text-anchor=\"middle\" x=\"216.5\" y=\"-141.8\" font-family=\"Helvetica,sans-Serif\" font-size=\"14.00\" fill=\"#000000\">samples = 40</text>\n",
       "<text text-anchor=\"middle\" x=\"216.5\" y=\"-126.8\" font-family=\"Helvetica,sans-Serif\" font-size=\"14.00\" fill=\"#000000\">value = [0, 1, 39]</text>\n",
       "<text text-anchor=\"middle\" x=\"216.5\" y=\"-111.8\" font-family=\"Helvetica,sans-Serif\" font-size=\"14.00\" fill=\"#000000\">class = c</text>\n",
       "</g>\n",
       "<!-- 1&#45;&gt;3 -->\n",
       "<g id=\"edge3\" class=\"edge\">\n",
       "<title>1&#45;&gt;3</title>\n",
       "<path fill=\"none\" stroke=\"#000000\" d=\"M215.8498,-222.8796C215.9186,-214.6838 215.9917,-205.9891 216.063,-197.5013\"/>\n",
       "<polygon fill=\"#000000\" stroke=\"#000000\" points=\"219.5645,-197.3272 216.1488,-187.2981 212.5648,-197.2683 219.5645,-197.3272\"/>\n",
       "</g>\n",
       "<!-- 4 -->\n",
       "<g id=\"node5\" class=\"node\">\n",
       "<title>4</title>\n",
       "<path fill=\"#39e581\" stroke=\"#000000\" d=\"M201,-68C201,-68 112,-68 112,-68 106,-68 100,-62 100,-56 100,-56 100,-12 100,-12 100,-6 106,0 112,0 112,0 201,0 201,0 207,0 213,-6 213,-12 213,-12 213,-56 213,-56 213,-62 207,-68 201,-68\"/>\n",
       "<text text-anchor=\"middle\" x=\"156.5\" y=\"-52.8\" font-family=\"Helvetica,sans-Serif\" font-size=\"14.00\" fill=\"#000000\">entropy = 0.0</text>\n",
       "<text text-anchor=\"middle\" x=\"156.5\" y=\"-37.8\" font-family=\"Helvetica,sans-Serif\" font-size=\"14.00\" fill=\"#000000\">samples = 1</text>\n",
       "<text text-anchor=\"middle\" x=\"156.5\" y=\"-22.8\" font-family=\"Helvetica,sans-Serif\" font-size=\"14.00\" fill=\"#000000\">value = [0, 1, 0]</text>\n",
       "<text text-anchor=\"middle\" x=\"156.5\" y=\"-7.8\" font-family=\"Helvetica,sans-Serif\" font-size=\"14.00\" fill=\"#000000\">class = b</text>\n",
       "</g>\n",
       "<!-- 3&#45;&gt;4 -->\n",
       "<g id=\"edge4\" class=\"edge\">\n",
       "<title>3&#45;&gt;4</title>\n",
       "<path fill=\"none\" stroke=\"#000000\" d=\"M194.1582,-103.9815C189.4598,-95.2504 184.4929,-86.0202 179.7617,-77.2281\"/>\n",
       "<polygon fill=\"#000000\" stroke=\"#000000\" points=\"182.7586,-75.4111 174.9379,-68.2637 176.5944,-78.7282 182.7586,-75.4111\"/>\n",
       "</g>\n",
       "<!-- 5 -->\n",
       "<g id=\"node6\" class=\"node\">\n",
       "<title>5</title>\n",
       "<path fill=\"#8139e5\" stroke=\"#000000\" d=\"M339.5,-68C339.5,-68 243.5,-68 243.5,-68 237.5,-68 231.5,-62 231.5,-56 231.5,-56 231.5,-12 231.5,-12 231.5,-6 237.5,0 243.5,0 243.5,0 339.5,0 339.5,0 345.5,0 351.5,-6 351.5,-12 351.5,-12 351.5,-56 351.5,-56 351.5,-62 345.5,-68 339.5,-68\"/>\n",
       "<text text-anchor=\"middle\" x=\"291.5\" y=\"-52.8\" font-family=\"Helvetica,sans-Serif\" font-size=\"14.00\" fill=\"#000000\">entropy = 0.0</text>\n",
       "<text text-anchor=\"middle\" x=\"291.5\" y=\"-37.8\" font-family=\"Helvetica,sans-Serif\" font-size=\"14.00\" fill=\"#000000\">samples = 39</text>\n",
       "<text text-anchor=\"middle\" x=\"291.5\" y=\"-22.8\" font-family=\"Helvetica,sans-Serif\" font-size=\"14.00\" fill=\"#000000\">value = [0, 0, 39]</text>\n",
       "<text text-anchor=\"middle\" x=\"291.5\" y=\"-7.8\" font-family=\"Helvetica,sans-Serif\" font-size=\"14.00\" fill=\"#000000\">class = c</text>\n",
       "</g>\n",
       "<!-- 3&#45;&gt;5 -->\n",
       "<g id=\"edge5\" class=\"edge\">\n",
       "<title>3&#45;&gt;5</title>\n",
       "<path fill=\"none\" stroke=\"#000000\" d=\"M244.4272,-103.9815C250.4238,-95.0666 256.7704,-85.6313 262.7959,-76.6734\"/>\n",
       "<polygon fill=\"#000000\" stroke=\"#000000\" points=\"265.7755,-78.5147 268.4527,-68.2637 259.9672,-74.6078 265.7755,-78.5147\"/>\n",
       "</g>\n",
       "<!-- 7 -->\n",
       "<g id=\"node8\" class=\"node\">\n",
       "<title>7</title>\n",
       "<path fill=\"#39e581\" stroke=\"#000000\" d=\"M428.5,-179.5C428.5,-179.5 332.5,-179.5 332.5,-179.5 326.5,-179.5 320.5,-173.5 320.5,-167.5 320.5,-167.5 320.5,-123.5 320.5,-123.5 320.5,-117.5 326.5,-111.5 332.5,-111.5 332.5,-111.5 428.5,-111.5 428.5,-111.5 434.5,-111.5 440.5,-117.5 440.5,-123.5 440.5,-123.5 440.5,-167.5 440.5,-167.5 440.5,-173.5 434.5,-179.5 428.5,-179.5\"/>\n",
       "<text text-anchor=\"middle\" x=\"380.5\" y=\"-164.3\" font-family=\"Helvetica,sans-Serif\" font-size=\"14.00\" fill=\"#000000\">entropy = 0.0</text>\n",
       "<text text-anchor=\"middle\" x=\"380.5\" y=\"-149.3\" font-family=\"Helvetica,sans-Serif\" font-size=\"14.00\" fill=\"#000000\">samples = 43</text>\n",
       "<text text-anchor=\"middle\" x=\"380.5\" y=\"-134.3\" font-family=\"Helvetica,sans-Serif\" font-size=\"14.00\" fill=\"#000000\">value = [0, 43, 0]</text>\n",
       "<text text-anchor=\"middle\" x=\"380.5\" y=\"-119.3\" font-family=\"Helvetica,sans-Serif\" font-size=\"14.00\" fill=\"#000000\">class = b</text>\n",
       "</g>\n",
       "<!-- 6&#45;&gt;7 -->\n",
       "<g id=\"edge7\" class=\"edge\">\n",
       "<title>6&#45;&gt;7</title>\n",
       "<path fill=\"none\" stroke=\"#000000\" d=\"M380.5,-222.8796C380.5,-212.2134 380.5,-200.7021 380.5,-189.9015\"/>\n",
       "<polygon fill=\"#000000\" stroke=\"#000000\" points=\"384.0001,-189.8149 380.5,-179.8149 377.0001,-189.815 384.0001,-189.8149\"/>\n",
       "</g>\n",
       "<!-- 8 -->\n",
       "<g id=\"node9\" class=\"node\">\n",
       "<title>8</title>\n",
       "<path fill=\"#e99254\" stroke=\"#000000\" d=\"M566.5,-187C566.5,-187 470.5,-187 470.5,-187 464.5,-187 458.5,-181 458.5,-175 458.5,-175 458.5,-116 458.5,-116 458.5,-110 464.5,-104 470.5,-104 470.5,-104 566.5,-104 566.5,-104 572.5,-104 578.5,-110 578.5,-116 578.5,-116 578.5,-175 578.5,-175 578.5,-181 572.5,-187 566.5,-187\"/>\n",
       "<text text-anchor=\"middle\" x=\"518.5\" y=\"-171.8\" font-family=\"Helvetica,sans-Serif\" font-size=\"14.00\" fill=\"#000000\">proline &lt;= 655.0</text>\n",
       "<text text-anchor=\"middle\" x=\"518.5\" y=\"-156.8\" font-family=\"Helvetica,sans-Serif\" font-size=\"14.00\" fill=\"#000000\">entropy = 0.529</text>\n",
       "<text text-anchor=\"middle\" x=\"518.5\" y=\"-141.8\" font-family=\"Helvetica,sans-Serif\" font-size=\"14.00\" fill=\"#000000\">samples = 50</text>\n",
       "<text text-anchor=\"middle\" x=\"518.5\" y=\"-126.8\" font-family=\"Helvetica,sans-Serif\" font-size=\"14.00\" fill=\"#000000\">value = [44, 6, 0]</text>\n",
       "<text text-anchor=\"middle\" x=\"518.5\" y=\"-111.8\" font-family=\"Helvetica,sans-Serif\" font-size=\"14.00\" fill=\"#000000\">class = a</text>\n",
       "</g>\n",
       "<!-- 6&#45;&gt;8 -->\n",
       "<g id=\"edge8\" class=\"edge\">\n",
       "<title>6&#45;&gt;8</title>\n",
       "<path fill=\"none\" stroke=\"#000000\" d=\"M428.7657,-222.8796C439.6278,-213.513 451.2456,-203.4948 462.3973,-193.8784\"/>\n",
       "<polygon fill=\"#000000\" stroke=\"#000000\" points=\"464.7408,-196.4792 470.0283,-187.2981 460.1694,-191.178 464.7408,-196.4792\"/>\n",
       "</g>\n",
       "<!-- 9 -->\n",
       "<g id=\"node10\" class=\"node\">\n",
       "<title>9</title>\n",
       "<path fill=\"#39e581\" stroke=\"#000000\" d=\"M487,-68C487,-68 398,-68 398,-68 392,-68 386,-62 386,-56 386,-56 386,-12 386,-12 386,-6 392,0 398,0 398,0 487,0 487,0 493,0 499,-6 499,-12 499,-12 499,-56 499,-56 499,-62 493,-68 487,-68\"/>\n",
       "<text text-anchor=\"middle\" x=\"442.5\" y=\"-52.8\" font-family=\"Helvetica,sans-Serif\" font-size=\"14.00\" fill=\"#000000\">entropy = 0.0</text>\n",
       "<text text-anchor=\"middle\" x=\"442.5\" y=\"-37.8\" font-family=\"Helvetica,sans-Serif\" font-size=\"14.00\" fill=\"#000000\">samples = 6</text>\n",
       "<text text-anchor=\"middle\" x=\"442.5\" y=\"-22.8\" font-family=\"Helvetica,sans-Serif\" font-size=\"14.00\" fill=\"#000000\">value = [0, 6, 0]</text>\n",
       "<text text-anchor=\"middle\" x=\"442.5\" y=\"-7.8\" font-family=\"Helvetica,sans-Serif\" font-size=\"14.00\" fill=\"#000000\">class = b</text>\n",
       "</g>\n",
       "<!-- 8&#45;&gt;9 -->\n",
       "<g id=\"edge9\" class=\"edge\">\n",
       "<title>8&#45;&gt;9</title>\n",
       "<path fill=\"none\" stroke=\"#000000\" d=\"M490.2004,-103.9815C484.1238,-95.0666 477.6926,-85.6313 471.5868,-76.6734\"/>\n",
       "<polygon fill=\"#000000\" stroke=\"#000000\" points=\"474.3789,-74.5555 465.8546,-68.2637 468.5948,-78.498 474.3789,-74.5555\"/>\n",
       "</g>\n",
       "<!-- 10 -->\n",
       "<g id=\"node11\" class=\"node\">\n",
       "<title>10</title>\n",
       "<path fill=\"#e58139\" stroke=\"#000000\" d=\"M625.5,-68C625.5,-68 529.5,-68 529.5,-68 523.5,-68 517.5,-62 517.5,-56 517.5,-56 517.5,-12 517.5,-12 517.5,-6 523.5,0 529.5,0 529.5,0 625.5,0 625.5,0 631.5,0 637.5,-6 637.5,-12 637.5,-12 637.5,-56 637.5,-56 637.5,-62 631.5,-68 625.5,-68\"/>\n",
       "<text text-anchor=\"middle\" x=\"577.5\" y=\"-52.8\" font-family=\"Helvetica,sans-Serif\" font-size=\"14.00\" fill=\"#000000\">entropy = 0.0</text>\n",
       "<text text-anchor=\"middle\" x=\"577.5\" y=\"-37.8\" font-family=\"Helvetica,sans-Serif\" font-size=\"14.00\" fill=\"#000000\">samples = 44</text>\n",
       "<text text-anchor=\"middle\" x=\"577.5\" y=\"-22.8\" font-family=\"Helvetica,sans-Serif\" font-size=\"14.00\" fill=\"#000000\">value = [44, 0, 0]</text>\n",
       "<text text-anchor=\"middle\" x=\"577.5\" y=\"-7.8\" font-family=\"Helvetica,sans-Serif\" font-size=\"14.00\" fill=\"#000000\">class = a</text>\n",
       "</g>\n",
       "<!-- 8&#45;&gt;10 -->\n",
       "<g id=\"edge10\" class=\"edge\">\n",
       "<title>8&#45;&gt;10</title>\n",
       "<path fill=\"none\" stroke=\"#000000\" d=\"M540.4694,-103.9815C545.0895,-95.2504 549.9736,-86.0202 554.626,-77.2281\"/>\n",
       "<polygon fill=\"#000000\" stroke=\"#000000\" points=\"557.7859,-78.7395 559.3694,-68.2637 551.5987,-75.4655 557.7859,-78.7395\"/>\n",
       "</g>\n",
       "</g>\n",
       "</svg>\n"
      ],
      "text/plain": [
       "<graphviz.files.Source at 0x7f921cc2a130>"
      ]
     },
     "execution_count": 26,
     "metadata": {},
     "output_type": "execute_result"
    }
   ],
   "source": [
    "dot_data = tree.export_graphviz(clf,\n",
    "                                feature_names=wine.feature_names,\n",
    "                                class_names=['a', 'b', 'c'],\n",
    "                                filled=True,\n",
    "                                rounded=True, # 颜色填充\n",
    "                                out_file=None # 圆角边框\n",
    "                               )\n",
    "grapt = graphviz.Source(dot_data)\n",
    "grapt"
   ]
  },
  {
   "cell_type": "markdown",
   "id": "e74602aa",
   "metadata": {},
   "source": [
    "每个特征值的权重"
   ]
  },
  {
   "cell_type": "code",
   "execution_count": 16,
   "id": "878a78f7",
   "metadata": {},
   "outputs": [
    {
     "data": {
      "text/plain": [
       "array([0.29903179, 0.        , 0.        , 0.03041094, 0.        ,\n",
       "       0.        , 0.42041391, 0.        , 0.        , 0.13083328,\n",
       "       0.        , 0.        , 0.11931008])"
      ]
     },
     "execution_count": 16,
     "metadata": {},
     "output_type": "execute_result"
    }
   ],
   "source": [
    "clf.feature_importances_"
   ]
  },
  {
   "cell_type": "code",
   "execution_count": 18,
   "id": "025f8a4b",
   "metadata": {},
   "outputs": [
    {
     "data": {
      "text/plain": [
       "[('alcohol', 0.29903179314445455),\n",
       " ('malic_acid', 0.0),\n",
       " ('ash', 0.0),\n",
       " ('alcalinity_of_ash', 0.030410936009956164),\n",
       " ('magnesium', 0.0),\n",
       " ('total_phenols', 0.0),\n",
       " ('flavanoids', 0.4204139143649292),\n",
       " ('nonflavanoid_phenols', 0.0),\n",
       " ('proanthocyanins', 0.0),\n",
       " ('color_intensity', 0.13083327635737077),\n",
       " ('hue', 0.0),\n",
       " ('od280/od315_of_diluted_wines', 0.0),\n",
       " ('proline', 0.11931008012328925)]"
      ]
     },
     "execution_count": 18,
     "metadata": {},
     "output_type": "execute_result"
    }
   ],
   "source": [
    "[*zip(wine.feature_names, clf.feature_importances_)]"
   ]
  },
  {
   "cell_type": "markdown",
   "id": "6944ac3f",
   "metadata": {},
   "source": [
    "增加随机性参数"
   ]
  },
  {
   "cell_type": "code",
   "execution_count": 55,
   "id": "955315d2",
   "metadata": {},
   "outputs": [],
   "source": [
    "clf_r = tree.DecisionTreeClassifier(criterion=\"entropy\",\n",
    "                                   random_state = 250,\n",
    "                                   splitter=\"random\")\n",
    "clf_r.fit(trainX, trainY)\n",
    "score = clf_r.score(testX, testY) # accuracy"
   ]
  },
  {
   "cell_type": "code",
   "execution_count": 56,
   "id": "f3d655f0",
   "metadata": {},
   "outputs": [
    {
     "name": "stdout",
     "output_type": "stream",
     "text": [
      "accuracy -> 1.0\n"
     ]
    }
   ],
   "source": [
    "print(\"accuracy -> {}\".format(score))"
   ]
  },
  {
   "cell_type": "code",
   "execution_count": 57,
   "id": "0d179550",
   "metadata": {},
   "outputs": [
    {
     "data": {
      "image/svg+xml": [
       "<?xml version=\"1.0\" encoding=\"UTF-8\" standalone=\"no\"?>\n",
       "<!DOCTYPE svg PUBLIC \"-//W3C//DTD SVG 1.1//EN\"\n",
       " \"http://www.w3.org/Graphics/SVG/1.1/DTD/svg11.dtd\">\n",
       "<!-- Generated by graphviz version 2.40.1 (20161225.0304)\n",
       " -->\n",
       "<!-- Title: Tree Pages: 1 -->\n",
       "<svg width=\"930pt\" height=\"909pt\"\n",
       " viewBox=\"0.00 0.00 929.50 909.00\" xmlns=\"http://www.w3.org/2000/svg\" xmlns:xlink=\"http://www.w3.org/1999/xlink\">\n",
       "<g id=\"graph0\" class=\"graph\" transform=\"scale(1 1) rotate(0) translate(4 905)\">\n",
       "<title>Tree</title>\n",
       "<polygon fill=\"#ffffff\" stroke=\"transparent\" points=\"-4,4 -4,-905 925.5,-905 925.5,4 -4,4\"/>\n",
       "<!-- 0 -->\n",
       "<g id=\"node1\" class=\"node\">\n",
       "<title>0</title>\n",
       "<path fill=\"#e1fbec\" stroke=\"#000000\" d=\"M398.5,-901C398.5,-901 257.5,-901 257.5,-901 251.5,-901 245.5,-895 245.5,-889 245.5,-889 245.5,-830 245.5,-830 245.5,-824 251.5,-818 257.5,-818 257.5,-818 398.5,-818 398.5,-818 404.5,-818 410.5,-824 410.5,-830 410.5,-830 410.5,-889 410.5,-889 410.5,-895 404.5,-901 398.5,-901\"/>\n",
       "<text text-anchor=\"middle\" x=\"328\" y=\"-885.8\" font-family=\"Helvetica,sans-Serif\" font-size=\"14.00\" fill=\"#000000\">color_intensity &lt;= 3.565</text>\n",
       "<text text-anchor=\"middle\" x=\"328\" y=\"-870.8\" font-family=\"Helvetica,sans-Serif\" font-size=\"14.00\" fill=\"#000000\">entropy = 1.562</text>\n",
       "<text text-anchor=\"middle\" x=\"328\" y=\"-855.8\" font-family=\"Helvetica,sans-Serif\" font-size=\"14.00\" fill=\"#000000\">samples = 142</text>\n",
       "<text text-anchor=\"middle\" x=\"328\" y=\"-840.8\" font-family=\"Helvetica,sans-Serif\" font-size=\"14.00\" fill=\"#000000\">value = [44, 59, 39]</text>\n",
       "<text text-anchor=\"middle\" x=\"328\" y=\"-825.8\" font-family=\"Helvetica,sans-Serif\" font-size=\"14.00\" fill=\"#000000\">class = b</text>\n",
       "</g>\n",
       "<!-- 1 -->\n",
       "<g id=\"node2\" class=\"node\">\n",
       "<title>1</title>\n",
       "<path fill=\"#3de684\" stroke=\"#000000\" d=\"M341,-782C341,-782 95,-782 95,-782 89,-782 83,-776 83,-770 83,-770 83,-711 83,-711 83,-705 89,-699 95,-699 95,-699 341,-699 341,-699 347,-699 353,-705 353,-711 353,-711 353,-770 353,-770 353,-776 347,-782 341,-782\"/>\n",
       "<text text-anchor=\"middle\" x=\"218\" y=\"-766.8\" font-family=\"Helvetica,sans-Serif\" font-size=\"14.00\" fill=\"#000000\">od280/od315_of_diluted_wines &lt;= 3.409</text>\n",
       "<text text-anchor=\"middle\" x=\"218\" y=\"-751.8\" font-family=\"Helvetica,sans-Serif\" font-size=\"14.00\" fill=\"#000000\">entropy = 0.149</text>\n",
       "<text text-anchor=\"middle\" x=\"218\" y=\"-736.8\" font-family=\"Helvetica,sans-Serif\" font-size=\"14.00\" fill=\"#000000\">samples = 47</text>\n",
       "<text text-anchor=\"middle\" x=\"218\" y=\"-721.8\" font-family=\"Helvetica,sans-Serif\" font-size=\"14.00\" fill=\"#000000\">value = [1, 46, 0]</text>\n",
       "<text text-anchor=\"middle\" x=\"218\" y=\"-706.8\" font-family=\"Helvetica,sans-Serif\" font-size=\"14.00\" fill=\"#000000\">class = b</text>\n",
       "</g>\n",
       "<!-- 0&#45;&gt;1 -->\n",
       "<g id=\"edge1\" class=\"edge\">\n",
       "<title>0&#45;&gt;1</title>\n",
       "<path fill=\"none\" stroke=\"#000000\" d=\"M289.5273,-817.8796C281.1189,-808.7832 272.1424,-799.0722 263.4897,-789.7116\"/>\n",
       "<polygon fill=\"#000000\" stroke=\"#000000\" points=\"265.995,-787.2656 256.6369,-782.2981 260.8547,-792.0172 265.995,-787.2656\"/>\n",
       "<text text-anchor=\"middle\" x=\"255.6551\" y=\"-803.5788\" font-family=\"Helvetica,sans-Serif\" font-size=\"14.00\" fill=\"#000000\">True</text>\n",
       "</g>\n",
       "<!-- 6 -->\n",
       "<g id=\"node7\" class=\"node\">\n",
       "<title>6</title>\n",
       "<path fill=\"#fdf6f1\" stroke=\"#000000\" d=\"M495,-782C495,-782 383,-782 383,-782 377,-782 371,-776 371,-770 371,-770 371,-711 371,-711 371,-705 377,-699 383,-699 383,-699 495,-699 495,-699 501,-699 507,-705 507,-711 507,-711 507,-770 507,-770 507,-776 501,-782 495,-782\"/>\n",
       "<text text-anchor=\"middle\" x=\"439\" y=\"-766.8\" font-family=\"Helvetica,sans-Serif\" font-size=\"14.00\" fill=\"#000000\">proline &lt;= 934.588</text>\n",
       "<text text-anchor=\"middle\" x=\"439\" y=\"-751.8\" font-family=\"Helvetica,sans-Serif\" font-size=\"14.00\" fill=\"#000000\">entropy = 1.438</text>\n",
       "<text text-anchor=\"middle\" x=\"439\" y=\"-736.8\" font-family=\"Helvetica,sans-Serif\" font-size=\"14.00\" fill=\"#000000\">samples = 95</text>\n",
       "<text text-anchor=\"middle\" x=\"439\" y=\"-721.8\" font-family=\"Helvetica,sans-Serif\" font-size=\"14.00\" fill=\"#000000\">value = [43, 13, 39]</text>\n",
       "<text text-anchor=\"middle\" x=\"439\" y=\"-706.8\" font-family=\"Helvetica,sans-Serif\" font-size=\"14.00\" fill=\"#000000\">class = a</text>\n",
       "</g>\n",
       "<!-- 0&#45;&gt;6 -->\n",
       "<g id=\"edge6\" class=\"edge\">\n",
       "<title>0&#45;&gt;6</title>\n",
       "<path fill=\"none\" stroke=\"#000000\" d=\"M366.8224,-817.8796C375.3073,-808.7832 384.3654,-799.0722 393.0968,-789.7116\"/>\n",
       "<polygon fill=\"#000000\" stroke=\"#000000\" points=\"395.7503,-791.9981 400.0119,-782.2981 390.6314,-787.2233 395.7503,-791.9981\"/>\n",
       "<text text-anchor=\"middle\" x=\"400.8809\" y=\"-803.583\" font-family=\"Helvetica,sans-Serif\" font-size=\"14.00\" fill=\"#000000\">False</text>\n",
       "</g>\n",
       "<!-- 2 -->\n",
       "<g id=\"node3\" class=\"node\">\n",
       "<title>2</title>\n",
       "<path fill=\"#39e581\" stroke=\"#000000\" d=\"M108,-655.5C108,-655.5 12,-655.5 12,-655.5 6,-655.5 0,-649.5 0,-643.5 0,-643.5 0,-599.5 0,-599.5 0,-593.5 6,-587.5 12,-587.5 12,-587.5 108,-587.5 108,-587.5 114,-587.5 120,-593.5 120,-599.5 120,-599.5 120,-643.5 120,-643.5 120,-649.5 114,-655.5 108,-655.5\"/>\n",
       "<text text-anchor=\"middle\" x=\"60\" y=\"-640.3\" font-family=\"Helvetica,sans-Serif\" font-size=\"14.00\" fill=\"#000000\">entropy = 0.0</text>\n",
       "<text text-anchor=\"middle\" x=\"60\" y=\"-625.3\" font-family=\"Helvetica,sans-Serif\" font-size=\"14.00\" fill=\"#000000\">samples = 43</text>\n",
       "<text text-anchor=\"middle\" x=\"60\" y=\"-610.3\" font-family=\"Helvetica,sans-Serif\" font-size=\"14.00\" fill=\"#000000\">value = [0, 43, 0]</text>\n",
       "<text text-anchor=\"middle\" x=\"60\" y=\"-595.3\" font-family=\"Helvetica,sans-Serif\" font-size=\"14.00\" fill=\"#000000\">class = b</text>\n",
       "</g>\n",
       "<!-- 1&#45;&gt;2 -->\n",
       "<g id=\"edge2\" class=\"edge\">\n",
       "<title>1&#45;&gt;2</title>\n",
       "<path fill=\"none\" stroke=\"#000000\" d=\"M162.7393,-698.8796C146.7497,-686.8368 129.3297,-673.7167 113.4526,-661.7586\"/>\n",
       "<polygon fill=\"#000000\" stroke=\"#000000\" points=\"115.3998,-658.8435 105.3062,-655.623 111.1884,-664.435 115.3998,-658.8435\"/>\n",
       "</g>\n",
       "<!-- 3 -->\n",
       "<g id=\"node4\" class=\"node\">\n",
       "<title>3</title>\n",
       "<path fill=\"#7beeab\" stroke=\"#000000\" d=\"M291.5,-663C291.5,-663 150.5,-663 150.5,-663 144.5,-663 138.5,-657 138.5,-651 138.5,-651 138.5,-592 138.5,-592 138.5,-586 144.5,-580 150.5,-580 150.5,-580 291.5,-580 291.5,-580 297.5,-580 303.5,-586 303.5,-592 303.5,-592 303.5,-651 303.5,-651 303.5,-657 297.5,-663 291.5,-663\"/>\n",
       "<text text-anchor=\"middle\" x=\"221\" y=\"-647.8\" font-family=\"Helvetica,sans-Serif\" font-size=\"14.00\" fill=\"#000000\">color_intensity &lt;= 3.435</text>\n",
       "<text text-anchor=\"middle\" x=\"221\" y=\"-632.8\" font-family=\"Helvetica,sans-Serif\" font-size=\"14.00\" fill=\"#000000\">entropy = 0.811</text>\n",
       "<text text-anchor=\"middle\" x=\"221\" y=\"-617.8\" font-family=\"Helvetica,sans-Serif\" font-size=\"14.00\" fill=\"#000000\">samples = 4</text>\n",
       "<text text-anchor=\"middle\" x=\"221\" y=\"-602.8\" font-family=\"Helvetica,sans-Serif\" font-size=\"14.00\" fill=\"#000000\">value = [1, 3, 0]</text>\n",
       "<text text-anchor=\"middle\" x=\"221\" y=\"-587.8\" font-family=\"Helvetica,sans-Serif\" font-size=\"14.00\" fill=\"#000000\">class = b</text>\n",
       "</g>\n",
       "<!-- 1&#45;&gt;3 -->\n",
       "<g id=\"edge3\" class=\"edge\">\n",
       "<title>1&#45;&gt;3</title>\n",
       "<path fill=\"none\" stroke=\"#000000\" d=\"M219.0493,-698.8796C219.2559,-690.6838 219.4751,-681.9891 219.689,-673.5013\"/>\n",
       "<polygon fill=\"#000000\" stroke=\"#000000\" points=\"223.193,-673.3831 219.9463,-663.2981 216.1953,-673.2067 223.193,-673.3831\"/>\n",
       "</g>\n",
       "<!-- 4 -->\n",
       "<g id=\"node5\" class=\"node\">\n",
       "<title>4</title>\n",
       "<path fill=\"#39e581\" stroke=\"#000000\" d=\"M135.5,-536.5C135.5,-536.5 46.5,-536.5 46.5,-536.5 40.5,-536.5 34.5,-530.5 34.5,-524.5 34.5,-524.5 34.5,-480.5 34.5,-480.5 34.5,-474.5 40.5,-468.5 46.5,-468.5 46.5,-468.5 135.5,-468.5 135.5,-468.5 141.5,-468.5 147.5,-474.5 147.5,-480.5 147.5,-480.5 147.5,-524.5 147.5,-524.5 147.5,-530.5 141.5,-536.5 135.5,-536.5\"/>\n",
       "<text text-anchor=\"middle\" x=\"91\" y=\"-521.3\" font-family=\"Helvetica,sans-Serif\" font-size=\"14.00\" fill=\"#000000\">entropy = 0.0</text>\n",
       "<text text-anchor=\"middle\" x=\"91\" y=\"-506.3\" font-family=\"Helvetica,sans-Serif\" font-size=\"14.00\" fill=\"#000000\">samples = 3</text>\n",
       "<text text-anchor=\"middle\" x=\"91\" y=\"-491.3\" font-family=\"Helvetica,sans-Serif\" font-size=\"14.00\" fill=\"#000000\">value = [0, 3, 0]</text>\n",
       "<text text-anchor=\"middle\" x=\"91\" y=\"-476.3\" font-family=\"Helvetica,sans-Serif\" font-size=\"14.00\" fill=\"#000000\">class = b</text>\n",
       "</g>\n",
       "<!-- 3&#45;&gt;4 -->\n",
       "<g id=\"edge4\" class=\"edge\">\n",
       "<title>3&#45;&gt;4</title>\n",
       "<path fill=\"none\" stroke=\"#000000\" d=\"M175.5323,-579.8796C162.6789,-568.1138 148.7021,-555.3197 135.8834,-543.5855\"/>\n",
       "<polygon fill=\"#000000\" stroke=\"#000000\" points=\"138.2264,-540.9854 128.4869,-536.8149 133.4999,-546.1488 138.2264,-540.9854\"/>\n",
       "</g>\n",
       "<!-- 5 -->\n",
       "<g id=\"node6\" class=\"node\">\n",
       "<title>5</title>\n",
       "<path fill=\"#e58139\" stroke=\"#000000\" d=\"M266.5,-536.5C266.5,-536.5 177.5,-536.5 177.5,-536.5 171.5,-536.5 165.5,-530.5 165.5,-524.5 165.5,-524.5 165.5,-480.5 165.5,-480.5 165.5,-474.5 171.5,-468.5 177.5,-468.5 177.5,-468.5 266.5,-468.5 266.5,-468.5 272.5,-468.5 278.5,-474.5 278.5,-480.5 278.5,-480.5 278.5,-524.5 278.5,-524.5 278.5,-530.5 272.5,-536.5 266.5,-536.5\"/>\n",
       "<text text-anchor=\"middle\" x=\"222\" y=\"-521.3\" font-family=\"Helvetica,sans-Serif\" font-size=\"14.00\" fill=\"#000000\">entropy = 0.0</text>\n",
       "<text text-anchor=\"middle\" x=\"222\" y=\"-506.3\" font-family=\"Helvetica,sans-Serif\" font-size=\"14.00\" fill=\"#000000\">samples = 1</text>\n",
       "<text text-anchor=\"middle\" x=\"222\" y=\"-491.3\" font-family=\"Helvetica,sans-Serif\" font-size=\"14.00\" fill=\"#000000\">value = [1, 0, 0]</text>\n",
       "<text text-anchor=\"middle\" x=\"222\" y=\"-476.3\" font-family=\"Helvetica,sans-Serif\" font-size=\"14.00\" fill=\"#000000\">class = a</text>\n",
       "</g>\n",
       "<!-- 3&#45;&gt;5 -->\n",
       "<g id=\"edge5\" class=\"edge\">\n",
       "<title>3&#45;&gt;5</title>\n",
       "<path fill=\"none\" stroke=\"#000000\" d=\"M221.3498,-579.8796C221.4394,-569.2134 221.5361,-557.7021 221.6269,-546.9015\"/>\n",
       "<polygon fill=\"#000000\" stroke=\"#000000\" points=\"225.1274,-546.844 221.7116,-536.8149 218.1276,-546.7851 225.1274,-546.844\"/>\n",
       "</g>\n",
       "<!-- 7 -->\n",
       "<g id=\"node8\" class=\"node\">\n",
       "<title>7</title>\n",
       "<path fill=\"#bb94f1\" stroke=\"#000000\" d=\"M490,-663C490,-663 386,-663 386,-663 380,-663 374,-657 374,-651 374,-651 374,-592 374,-592 374,-586 380,-580 386,-580 386,-580 490,-580 490,-580 496,-580 502,-586 502,-592 502,-592 502,-651 502,-651 502,-657 496,-663 490,-663\"/>\n",
       "<text text-anchor=\"middle\" x=\"438\" y=\"-647.8\" font-family=\"Helvetica,sans-Serif\" font-size=\"14.00\" fill=\"#000000\">hue &lt;= 0.912</text>\n",
       "<text text-anchor=\"middle\" x=\"438\" y=\"-632.8\" font-family=\"Helvetica,sans-Serif\" font-size=\"14.00\" fill=\"#000000\">entropy = 1.295</text>\n",
       "<text text-anchor=\"middle\" x=\"438\" y=\"-617.8\" font-family=\"Helvetica,sans-Serif\" font-size=\"14.00\" fill=\"#000000\">samples = 61</text>\n",
       "<text text-anchor=\"middle\" x=\"438\" y=\"-602.8\" font-family=\"Helvetica,sans-Serif\" font-size=\"14.00\" fill=\"#000000\">value = [9, 13, 39]</text>\n",
       "<text text-anchor=\"middle\" x=\"438\" y=\"-587.8\" font-family=\"Helvetica,sans-Serif\" font-size=\"14.00\" fill=\"#000000\">class = c</text>\n",
       "</g>\n",
       "<!-- 6&#45;&gt;7 -->\n",
       "<g id=\"edge7\" class=\"edge\">\n",
       "<title>6&#45;&gt;7</title>\n",
       "<path fill=\"none\" stroke=\"#000000\" d=\"M438.6502,-698.8796C438.5814,-690.6838 438.5083,-681.9891 438.437,-673.5013\"/>\n",
       "<polygon fill=\"#000000\" stroke=\"#000000\" points=\"441.9352,-673.2683 438.3512,-663.2981 434.9355,-673.3272 441.9352,-673.2683\"/>\n",
       "</g>\n",
       "<!-- 24 -->\n",
       "<g id=\"node25\" class=\"node\">\n",
       "<title>24</title>\n",
       "<path fill=\"#e58139\" stroke=\"#000000\" d=\"M628,-655.5C628,-655.5 532,-655.5 532,-655.5 526,-655.5 520,-649.5 520,-643.5 520,-643.5 520,-599.5 520,-599.5 520,-593.5 526,-587.5 532,-587.5 532,-587.5 628,-587.5 628,-587.5 634,-587.5 640,-593.5 640,-599.5 640,-599.5 640,-643.5 640,-643.5 640,-649.5 634,-655.5 628,-655.5\"/>\n",
       "<text text-anchor=\"middle\" x=\"580\" y=\"-640.3\" font-family=\"Helvetica,sans-Serif\" font-size=\"14.00\" fill=\"#000000\">entropy = 0.0</text>\n",
       "<text text-anchor=\"middle\" x=\"580\" y=\"-625.3\" font-family=\"Helvetica,sans-Serif\" font-size=\"14.00\" fill=\"#000000\">samples = 34</text>\n",
       "<text text-anchor=\"middle\" x=\"580\" y=\"-610.3\" font-family=\"Helvetica,sans-Serif\" font-size=\"14.00\" fill=\"#000000\">value = [34, 0, 0]</text>\n",
       "<text text-anchor=\"middle\" x=\"580\" y=\"-595.3\" font-family=\"Helvetica,sans-Serif\" font-size=\"14.00\" fill=\"#000000\">class = a</text>\n",
       "</g>\n",
       "<!-- 6&#45;&gt;24 -->\n",
       "<g id=\"edge24\" class=\"edge\">\n",
       "<title>6&#45;&gt;24</title>\n",
       "<path fill=\"none\" stroke=\"#000000\" d=\"M488.315,-698.8796C502.256,-687.1138 517.4154,-674.3197 531.3188,-662.5855\"/>\n",
       "<polygon fill=\"#000000\" stroke=\"#000000\" points=\"533.9564,-664.9394 539.3411,-655.8149 529.4416,-659.5899 533.9564,-664.9394\"/>\n",
       "</g>\n",
       "<!-- 8 -->\n",
       "<g id=\"node9\" class=\"node\">\n",
       "<title>8</title>\n",
       "<path fill=\"#8e4de8\" stroke=\"#000000\" d=\"M560,-544C560,-544 314,-544 314,-544 308,-544 302,-538 302,-532 302,-532 302,-473 302,-473 302,-467 308,-461 314,-461 314,-461 560,-461 560,-461 566,-461 572,-467 572,-473 572,-473 572,-532 572,-532 572,-538 566,-544 560,-544\"/>\n",
       "<text text-anchor=\"middle\" x=\"437\" y=\"-528.8\" font-family=\"Helvetica,sans-Serif\" font-size=\"14.00\" fill=\"#000000\">od280/od315_of_diluted_wines &lt;= 2.968</text>\n",
       "<text text-anchor=\"middle\" x=\"437\" y=\"-513.8\" font-family=\"Helvetica,sans-Serif\" font-size=\"14.00\" fill=\"#000000\">entropy = 0.549</text>\n",
       "<text text-anchor=\"middle\" x=\"437\" y=\"-498.8\" font-family=\"Helvetica,sans-Serif\" font-size=\"14.00\" fill=\"#000000\">samples = 42</text>\n",
       "<text text-anchor=\"middle\" x=\"437\" y=\"-483.8\" font-family=\"Helvetica,sans-Serif\" font-size=\"14.00\" fill=\"#000000\">value = [2, 2, 38]</text>\n",
       "<text text-anchor=\"middle\" x=\"437\" y=\"-468.8\" font-family=\"Helvetica,sans-Serif\" font-size=\"14.00\" fill=\"#000000\">class = c</text>\n",
       "</g>\n",
       "<!-- 7&#45;&gt;8 -->\n",
       "<g id=\"edge8\" class=\"edge\">\n",
       "<title>7&#45;&gt;8</title>\n",
       "<path fill=\"none\" stroke=\"#000000\" d=\"M437.6502,-579.8796C437.5814,-571.6838 437.5083,-562.9891 437.437,-554.5013\"/>\n",
       "<polygon fill=\"#000000\" stroke=\"#000000\" points=\"440.9352,-554.2683 437.3512,-544.2981 433.9355,-554.3272 440.9352,-554.2683\"/>\n",
       "</g>\n",
       "<!-- 17 -->\n",
       "<g id=\"node18\" class=\"node\">\n",
       "<title>17</title>\n",
       "<path fill=\"#bdf6d5\" stroke=\"#000000\" d=\"M711.5,-544C711.5,-544 602.5,-544 602.5,-544 596.5,-544 590.5,-538 590.5,-532 590.5,-532 590.5,-473 590.5,-473 590.5,-467 596.5,-461 602.5,-461 602.5,-461 711.5,-461 711.5,-461 717.5,-461 723.5,-467 723.5,-473 723.5,-473 723.5,-532 723.5,-532 723.5,-538 717.5,-544 711.5,-544\"/>\n",
       "<text text-anchor=\"middle\" x=\"657\" y=\"-528.8\" font-family=\"Helvetica,sans-Serif\" font-size=\"14.00\" fill=\"#000000\">proline &lt;= 716.965</text>\n",
       "<text text-anchor=\"middle\" x=\"657\" y=\"-513.8\" font-family=\"Helvetica,sans-Serif\" font-size=\"14.00\" fill=\"#000000\">entropy = 1.211</text>\n",
       "<text text-anchor=\"middle\" x=\"657\" y=\"-498.8\" font-family=\"Helvetica,sans-Serif\" font-size=\"14.00\" fill=\"#000000\">samples = 19</text>\n",
       "<text text-anchor=\"middle\" x=\"657\" y=\"-483.8\" font-family=\"Helvetica,sans-Serif\" font-size=\"14.00\" fill=\"#000000\">value = [7, 11, 1]</text>\n",
       "<text text-anchor=\"middle\" x=\"657\" y=\"-468.8\" font-family=\"Helvetica,sans-Serif\" font-size=\"14.00\" fill=\"#000000\">class = b</text>\n",
       "</g>\n",
       "<!-- 7&#45;&gt;17 -->\n",
       "<g id=\"edge17\" class=\"edge\">\n",
       "<title>7&#45;&gt;17</title>\n",
       "<path fill=\"none\" stroke=\"#000000\" d=\"M502.0094,-584.9102C505.0426,-583.2396 508.051,-581.5957 511,-580 541.7689,-563.3515 550.0896,-560.3845 581,-544 581.0955,-543.9494 581.191,-543.8987 581.2866,-543.8481\"/>\n",
       "<polygon fill=\"#000000\" stroke=\"#000000\" points=\"583.1446,-546.8239 590.3224,-539.0309 579.8515,-540.6468 583.1446,-546.8239\"/>\n",
       "</g>\n",
       "<!-- 9 -->\n",
       "<g id=\"node10\" class=\"node\">\n",
       "<title>9</title>\n",
       "<path fill=\"#8843e6\" stroke=\"#000000\" d=\"M353,-425C353,-425 107,-425 107,-425 101,-425 95,-419 95,-413 95,-413 95,-354 95,-354 95,-348 101,-342 107,-342 107,-342 353,-342 353,-342 359,-342 365,-348 365,-354 365,-354 365,-413 365,-413 365,-419 359,-425 353,-425\"/>\n",
       "<text text-anchor=\"middle\" x=\"230\" y=\"-409.8\" font-family=\"Helvetica,sans-Serif\" font-size=\"14.00\" fill=\"#000000\">od280/od315_of_diluted_wines &lt;= 2.702</text>\n",
       "<text text-anchor=\"middle\" x=\"230\" y=\"-394.8\" font-family=\"Helvetica,sans-Serif\" font-size=\"14.00\" fill=\"#000000\">entropy = 0.286</text>\n",
       "<text text-anchor=\"middle\" x=\"230\" y=\"-379.8\" font-family=\"Helvetica,sans-Serif\" font-size=\"14.00\" fill=\"#000000\">samples = 40</text>\n",
       "<text text-anchor=\"middle\" x=\"230\" y=\"-364.8\" font-family=\"Helvetica,sans-Serif\" font-size=\"14.00\" fill=\"#000000\">value = [0, 2, 38]</text>\n",
       "<text text-anchor=\"middle\" x=\"230\" y=\"-349.8\" font-family=\"Helvetica,sans-Serif\" font-size=\"14.00\" fill=\"#000000\">class = c</text>\n",
       "</g>\n",
       "<!-- 8&#45;&gt;9 -->\n",
       "<g id=\"edge9\" class=\"edge\">\n",
       "<title>8&#45;&gt;9</title>\n",
       "<path fill=\"none\" stroke=\"#000000\" d=\"M364.6014,-460.8796C347.4257,-451.0056 328.9903,-440.4075 311.442,-430.3193\"/>\n",
       "<polygon fill=\"#000000\" stroke=\"#000000\" points=\"312.7716,-427.0466 302.3577,-425.0969 309.2828,-433.1152 312.7716,-427.0466\"/>\n",
       "</g>\n",
       "<!-- 16 -->\n",
       "<g id=\"node17\" class=\"node\">\n",
       "<title>16</title>\n",
       "<path fill=\"#e58139\" stroke=\"#000000\" d=\"M484.5,-417.5C484.5,-417.5 395.5,-417.5 395.5,-417.5 389.5,-417.5 383.5,-411.5 383.5,-405.5 383.5,-405.5 383.5,-361.5 383.5,-361.5 383.5,-355.5 389.5,-349.5 395.5,-349.5 395.5,-349.5 484.5,-349.5 484.5,-349.5 490.5,-349.5 496.5,-355.5 496.5,-361.5 496.5,-361.5 496.5,-405.5 496.5,-405.5 496.5,-411.5 490.5,-417.5 484.5,-417.5\"/>\n",
       "<text text-anchor=\"middle\" x=\"440\" y=\"-402.3\" font-family=\"Helvetica,sans-Serif\" font-size=\"14.00\" fill=\"#000000\">entropy = 0.0</text>\n",
       "<text text-anchor=\"middle\" x=\"440\" y=\"-387.3\" font-family=\"Helvetica,sans-Serif\" font-size=\"14.00\" fill=\"#000000\">samples = 2</text>\n",
       "<text text-anchor=\"middle\" x=\"440\" y=\"-372.3\" font-family=\"Helvetica,sans-Serif\" font-size=\"14.00\" fill=\"#000000\">value = [2, 0, 0]</text>\n",
       "<text text-anchor=\"middle\" x=\"440\" y=\"-357.3\" font-family=\"Helvetica,sans-Serif\" font-size=\"14.00\" fill=\"#000000\">class = a</text>\n",
       "</g>\n",
       "<!-- 8&#45;&gt;16 -->\n",
       "<g id=\"edge16\" class=\"edge\">\n",
       "<title>8&#45;&gt;16</title>\n",
       "<path fill=\"none\" stroke=\"#000000\" d=\"M438.0493,-460.8796C438.3182,-450.2134 438.6084,-438.7021 438.8806,-427.9015\"/>\n",
       "<polygon fill=\"#000000\" stroke=\"#000000\" points=\"442.3817,-427.9 439.1349,-417.8149 435.3839,-427.7235 442.3817,-427.9\"/>\n",
       "</g>\n",
       "<!-- 10 -->\n",
       "<g id=\"node11\" class=\"node\">\n",
       "<title>10</title>\n",
       "<path fill=\"#843ee6\" stroke=\"#000000\" d=\"M225.5,-306C225.5,-306 110.5,-306 110.5,-306 104.5,-306 98.5,-300 98.5,-294 98.5,-294 98.5,-235 98.5,-235 98.5,-229 104.5,-223 110.5,-223 110.5,-223 225.5,-223 225.5,-223 231.5,-223 237.5,-229 237.5,-235 237.5,-235 237.5,-294 237.5,-294 237.5,-300 231.5,-306 225.5,-306\"/>\n",
       "<text text-anchor=\"middle\" x=\"168\" y=\"-290.8\" font-family=\"Helvetica,sans-Serif\" font-size=\"14.00\" fill=\"#000000\">flavanoids &lt;= 1.115</text>\n",
       "<text text-anchor=\"middle\" x=\"168\" y=\"-275.8\" font-family=\"Helvetica,sans-Serif\" font-size=\"14.00\" fill=\"#000000\">entropy = 0.172</text>\n",
       "<text text-anchor=\"middle\" x=\"168\" y=\"-260.8\" font-family=\"Helvetica,sans-Serif\" font-size=\"14.00\" fill=\"#000000\">samples = 39</text>\n",
       "<text text-anchor=\"middle\" x=\"168\" y=\"-245.8\" font-family=\"Helvetica,sans-Serif\" font-size=\"14.00\" fill=\"#000000\">value = [0, 1, 38]</text>\n",
       "<text text-anchor=\"middle\" x=\"168\" y=\"-230.8\" font-family=\"Helvetica,sans-Serif\" font-size=\"14.00\" fill=\"#000000\">class = c</text>\n",
       "</g>\n",
       "<!-- 9&#45;&gt;10 -->\n",
       "<g id=\"edge10\" class=\"edge\">\n",
       "<title>9&#45;&gt;10</title>\n",
       "<path fill=\"none\" stroke=\"#000000\" d=\"M208.3154,-341.8796C203.8577,-333.3236 199.1166,-324.2238 194.5106,-315.3833\"/>\n",
       "<polygon fill=\"#000000\" stroke=\"#000000\" points=\"197.5017,-313.5494 189.7771,-306.2981 191.2938,-316.7838 197.5017,-313.5494\"/>\n",
       "</g>\n",
       "<!-- 15 -->\n",
       "<g id=\"node16\" class=\"node\">\n",
       "<title>15</title>\n",
       "<path fill=\"#39e581\" stroke=\"#000000\" d=\"M356.5,-298.5C356.5,-298.5 267.5,-298.5 267.5,-298.5 261.5,-298.5 255.5,-292.5 255.5,-286.5 255.5,-286.5 255.5,-242.5 255.5,-242.5 255.5,-236.5 261.5,-230.5 267.5,-230.5 267.5,-230.5 356.5,-230.5 356.5,-230.5 362.5,-230.5 368.5,-236.5 368.5,-242.5 368.5,-242.5 368.5,-286.5 368.5,-286.5 368.5,-292.5 362.5,-298.5 356.5,-298.5\"/>\n",
       "<text text-anchor=\"middle\" x=\"312\" y=\"-283.3\" font-family=\"Helvetica,sans-Serif\" font-size=\"14.00\" fill=\"#000000\">entropy = 0.0</text>\n",
       "<text text-anchor=\"middle\" x=\"312\" y=\"-268.3\" font-family=\"Helvetica,sans-Serif\" font-size=\"14.00\" fill=\"#000000\">samples = 1</text>\n",
       "<text text-anchor=\"middle\" x=\"312\" y=\"-253.3\" font-family=\"Helvetica,sans-Serif\" font-size=\"14.00\" fill=\"#000000\">value = [0, 1, 0]</text>\n",
       "<text text-anchor=\"middle\" x=\"312\" y=\"-238.3\" font-family=\"Helvetica,sans-Serif\" font-size=\"14.00\" fill=\"#000000\">class = b</text>\n",
       "</g>\n",
       "<!-- 9&#45;&gt;15 -->\n",
       "<g id=\"edge15\" class=\"edge\">\n",
       "<title>9&#45;&gt;15</title>\n",
       "<path fill=\"none\" stroke=\"#000000\" d=\"M258.6796,-341.8796C266.4083,-330.6636 274.7809,-318.5131 282.5508,-307.2372\"/>\n",
       "<polygon fill=\"#000000\" stroke=\"#000000\" points=\"285.5623,-309.0353 288.3544,-298.8149 279.7982,-305.0634 285.5623,-309.0353\"/>\n",
       "</g>\n",
       "<!-- 11 -->\n",
       "<g id=\"node12\" class=\"node\">\n",
       "<title>11</title>\n",
       "<path fill=\"#8139e5\" stroke=\"#000000\" d=\"M150,-179.5C150,-179.5 54,-179.5 54,-179.5 48,-179.5 42,-173.5 42,-167.5 42,-167.5 42,-123.5 42,-123.5 42,-117.5 48,-111.5 54,-111.5 54,-111.5 150,-111.5 150,-111.5 156,-111.5 162,-117.5 162,-123.5 162,-123.5 162,-167.5 162,-167.5 162,-173.5 156,-179.5 150,-179.5\"/>\n",
       "<text text-anchor=\"middle\" x=\"102\" y=\"-164.3\" font-family=\"Helvetica,sans-Serif\" font-size=\"14.00\" fill=\"#000000\">entropy = 0.0</text>\n",
       "<text text-anchor=\"middle\" x=\"102\" y=\"-149.3\" font-family=\"Helvetica,sans-Serif\" font-size=\"14.00\" fill=\"#000000\">samples = 30</text>\n",
       "<text text-anchor=\"middle\" x=\"102\" y=\"-134.3\" font-family=\"Helvetica,sans-Serif\" font-size=\"14.00\" fill=\"#000000\">value = [0, 0, 30]</text>\n",
       "<text text-anchor=\"middle\" x=\"102\" y=\"-119.3\" font-family=\"Helvetica,sans-Serif\" font-size=\"14.00\" fill=\"#000000\">class = c</text>\n",
       "</g>\n",
       "<!-- 10&#45;&gt;11 -->\n",
       "<g id=\"edge11\" class=\"edge\">\n",
       "<title>10&#45;&gt;11</title>\n",
       "<path fill=\"none\" stroke=\"#000000\" d=\"M144.9164,-222.8796C138.7567,-211.7735 132.0889,-199.7513 125.8871,-188.5691\"/>\n",
       "<polygon fill=\"#000000\" stroke=\"#000000\" points=\"128.9428,-186.8624 121.0318,-179.8149 122.8213,-190.2576 128.9428,-186.8624\"/>\n",
       "</g>\n",
       "<!-- 12 -->\n",
       "<g id=\"node13\" class=\"node\">\n",
       "<title>12</title>\n",
       "<path fill=\"#9152e8\" stroke=\"#000000\" d=\"M438,-187C438,-187 192,-187 192,-187 186,-187 180,-181 180,-175 180,-175 180,-116 180,-116 180,-110 186,-104 192,-104 192,-104 438,-104 438,-104 444,-104 450,-110 450,-116 450,-116 450,-175 450,-175 450,-181 444,-187 438,-187\"/>\n",
       "<text text-anchor=\"middle\" x=\"315\" y=\"-171.8\" font-family=\"Helvetica,sans-Serif\" font-size=\"14.00\" fill=\"#000000\">od280/od315_of_diluted_wines &lt;= 1.985</text>\n",
       "<text text-anchor=\"middle\" x=\"315\" y=\"-156.8\" font-family=\"Helvetica,sans-Serif\" font-size=\"14.00\" fill=\"#000000\">entropy = 0.503</text>\n",
       "<text text-anchor=\"middle\" x=\"315\" y=\"-141.8\" font-family=\"Helvetica,sans-Serif\" font-size=\"14.00\" fill=\"#000000\">samples = 9</text>\n",
       "<text text-anchor=\"middle\" x=\"315\" y=\"-126.8\" font-family=\"Helvetica,sans-Serif\" font-size=\"14.00\" fill=\"#000000\">value = [0, 1, 8]</text>\n",
       "<text text-anchor=\"middle\" x=\"315\" y=\"-111.8\" font-family=\"Helvetica,sans-Serif\" font-size=\"14.00\" fill=\"#000000\">class = c</text>\n",
       "</g>\n",
       "<!-- 10&#45;&gt;12 -->\n",
       "<g id=\"edge12\" class=\"edge\">\n",
       "<title>10&#45;&gt;12</title>\n",
       "<path fill=\"none\" stroke=\"#000000\" d=\"M219.4135,-222.8796C231.0952,-213.4229 243.5975,-203.302 255.581,-193.6011\"/>\n",
       "<polygon fill=\"#000000\" stroke=\"#000000\" points=\"257.7968,-196.3105 263.3671,-187.2981 253.3924,-190.8697 257.7968,-196.3105\"/>\n",
       "</g>\n",
       "<!-- 13 -->\n",
       "<g id=\"node14\" class=\"node\">\n",
       "<title>13</title>\n",
       "<path fill=\"#8139e5\" stroke=\"#000000\" d=\"M294.5,-68C294.5,-68 205.5,-68 205.5,-68 199.5,-68 193.5,-62 193.5,-56 193.5,-56 193.5,-12 193.5,-12 193.5,-6 199.5,0 205.5,0 205.5,0 294.5,0 294.5,0 300.5,0 306.5,-6 306.5,-12 306.5,-12 306.5,-56 306.5,-56 306.5,-62 300.5,-68 294.5,-68\"/>\n",
       "<text text-anchor=\"middle\" x=\"250\" y=\"-52.8\" font-family=\"Helvetica,sans-Serif\" font-size=\"14.00\" fill=\"#000000\">entropy = 0.0</text>\n",
       "<text text-anchor=\"middle\" x=\"250\" y=\"-37.8\" font-family=\"Helvetica,sans-Serif\" font-size=\"14.00\" fill=\"#000000\">samples = 8</text>\n",
       "<text text-anchor=\"middle\" x=\"250\" y=\"-22.8\" font-family=\"Helvetica,sans-Serif\" font-size=\"14.00\" fill=\"#000000\">value = [0, 0, 8]</text>\n",
       "<text text-anchor=\"middle\" x=\"250\" y=\"-7.8\" font-family=\"Helvetica,sans-Serif\" font-size=\"14.00\" fill=\"#000000\">class = c</text>\n",
       "</g>\n",
       "<!-- 12&#45;&gt;13 -->\n",
       "<g id=\"edge13\" class=\"edge\">\n",
       "<title>12&#45;&gt;13</title>\n",
       "<path fill=\"none\" stroke=\"#000000\" d=\"M290.7964,-103.9815C285.6529,-95.1585 280.2123,-85.8258 275.0384,-76.9506\"/>\n",
       "<polygon fill=\"#000000\" stroke=\"#000000\" points=\"278.0344,-75.1402 269.9743,-68.2637 271.987,-78.6656 278.0344,-75.1402\"/>\n",
       "</g>\n",
       "<!-- 14 -->\n",
       "<g id=\"node15\" class=\"node\">\n",
       "<title>14</title>\n",
       "<path fill=\"#39e581\" stroke=\"#000000\" d=\"M425.5,-68C425.5,-68 336.5,-68 336.5,-68 330.5,-68 324.5,-62 324.5,-56 324.5,-56 324.5,-12 324.5,-12 324.5,-6 330.5,0 336.5,0 336.5,0 425.5,0 425.5,0 431.5,0 437.5,-6 437.5,-12 437.5,-12 437.5,-56 437.5,-56 437.5,-62 431.5,-68 425.5,-68\"/>\n",
       "<text text-anchor=\"middle\" x=\"381\" y=\"-52.8\" font-family=\"Helvetica,sans-Serif\" font-size=\"14.00\" fill=\"#000000\">entropy = 0.0</text>\n",
       "<text text-anchor=\"middle\" x=\"381\" y=\"-37.8\" font-family=\"Helvetica,sans-Serif\" font-size=\"14.00\" fill=\"#000000\">samples = 1</text>\n",
       "<text text-anchor=\"middle\" x=\"381\" y=\"-22.8\" font-family=\"Helvetica,sans-Serif\" font-size=\"14.00\" fill=\"#000000\">value = [0, 1, 0]</text>\n",
       "<text text-anchor=\"middle\" x=\"381\" y=\"-7.8\" font-family=\"Helvetica,sans-Serif\" font-size=\"14.00\" fill=\"#000000\">class = b</text>\n",
       "</g>\n",
       "<!-- 12&#45;&gt;14 -->\n",
       "<g id=\"edge14\" class=\"edge\">\n",
       "<title>12&#45;&gt;14</title>\n",
       "<path fill=\"none\" stroke=\"#000000\" d=\"M339.576,-103.9815C344.7986,-95.1585 350.3229,-85.8258 355.5763,-76.9506\"/>\n",
       "<polygon fill=\"#000000\" stroke=\"#000000\" points=\"358.6364,-78.652 360.7184,-68.2637 352.6126,-75.0863 358.6364,-78.652\"/>\n",
       "</g>\n",
       "<!-- 18 -->\n",
       "<g id=\"node19\" class=\"node\">\n",
       "<title>18</title>\n",
       "<path fill=\"#4be78c\" stroke=\"#000000\" d=\"M778,-425C778,-425 532,-425 532,-425 526,-425 520,-419 520,-413 520,-413 520,-354 520,-354 520,-348 526,-342 532,-342 532,-342 778,-342 778,-342 784,-342 790,-348 790,-354 790,-354 790,-413 790,-413 790,-419 784,-425 778,-425\"/>\n",
       "<text text-anchor=\"middle\" x=\"655\" y=\"-409.8\" font-family=\"Helvetica,sans-Serif\" font-size=\"14.00\" fill=\"#000000\">od280/od315_of_diluted_wines &lt;= 1.827</text>\n",
       "<text text-anchor=\"middle\" x=\"655\" y=\"-394.8\" font-family=\"Helvetica,sans-Serif\" font-size=\"14.00\" fill=\"#000000\">entropy = 0.414</text>\n",
       "<text text-anchor=\"middle\" x=\"655\" y=\"-379.8\" font-family=\"Helvetica,sans-Serif\" font-size=\"14.00\" fill=\"#000000\">samples = 12</text>\n",
       "<text text-anchor=\"middle\" x=\"655\" y=\"-364.8\" font-family=\"Helvetica,sans-Serif\" font-size=\"14.00\" fill=\"#000000\">value = [0, 11, 1]</text>\n",
       "<text text-anchor=\"middle\" x=\"655\" y=\"-349.8\" font-family=\"Helvetica,sans-Serif\" font-size=\"14.00\" fill=\"#000000\">class = b</text>\n",
       "</g>\n",
       "<!-- 17&#45;&gt;18 -->\n",
       "<g id=\"edge18\" class=\"edge\">\n",
       "<title>17&#45;&gt;18</title>\n",
       "<path fill=\"none\" stroke=\"#000000\" d=\"M656.3005,-460.8796C656.1628,-452.6838 656.0166,-443.9891 655.874,-435.5013\"/>\n",
       "<polygon fill=\"#000000\" stroke=\"#000000\" points=\"659.3701,-435.2378 655.7025,-425.2981 652.3711,-435.3555 659.3701,-435.2378\"/>\n",
       "</g>\n",
       "<!-- 23 -->\n",
       "<g id=\"node24\" class=\"node\">\n",
       "<title>23</title>\n",
       "<path fill=\"#e58139\" stroke=\"#000000\" d=\"M909.5,-417.5C909.5,-417.5 820.5,-417.5 820.5,-417.5 814.5,-417.5 808.5,-411.5 808.5,-405.5 808.5,-405.5 808.5,-361.5 808.5,-361.5 808.5,-355.5 814.5,-349.5 820.5,-349.5 820.5,-349.5 909.5,-349.5 909.5,-349.5 915.5,-349.5 921.5,-355.5 921.5,-361.5 921.5,-361.5 921.5,-405.5 921.5,-405.5 921.5,-411.5 915.5,-417.5 909.5,-417.5\"/>\n",
       "<text text-anchor=\"middle\" x=\"865\" y=\"-402.3\" font-family=\"Helvetica,sans-Serif\" font-size=\"14.00\" fill=\"#000000\">entropy = 0.0</text>\n",
       "<text text-anchor=\"middle\" x=\"865\" y=\"-387.3\" font-family=\"Helvetica,sans-Serif\" font-size=\"14.00\" fill=\"#000000\">samples = 7</text>\n",
       "<text text-anchor=\"middle\" x=\"865\" y=\"-372.3\" font-family=\"Helvetica,sans-Serif\" font-size=\"14.00\" fill=\"#000000\">value = [7, 0, 0]</text>\n",
       "<text text-anchor=\"middle\" x=\"865\" y=\"-357.3\" font-family=\"Helvetica,sans-Serif\" font-size=\"14.00\" fill=\"#000000\">class = a</text>\n",
       "</g>\n",
       "<!-- 17&#45;&gt;23 -->\n",
       "<g id=\"edge23\" class=\"edge\">\n",
       "<title>17&#45;&gt;23</title>\n",
       "<path fill=\"none\" stroke=\"#000000\" d=\"M723.5795,-467.2609C747.5375,-454.2924 774.653,-439.2802 799,-425 800.277,-424.251 801.5653,-423.4903 802.8617,-422.7202\"/>\n",
       "<polygon fill=\"#000000\" stroke=\"#000000\" points=\"804.7331,-425.6789 811.4997,-417.5264 801.126,-419.6798 804.7331,-425.6789\"/>\n",
       "</g>\n",
       "<!-- 19 -->\n",
       "<g id=\"node20\" class=\"node\">\n",
       "<title>19</title>\n",
       "<path fill=\"#ffffff\" stroke=\"#000000\" d=\"M626.5,-306C626.5,-306 537.5,-306 537.5,-306 531.5,-306 525.5,-300 525.5,-294 525.5,-294 525.5,-235 525.5,-235 525.5,-229 531.5,-223 537.5,-223 537.5,-223 626.5,-223 626.5,-223 632.5,-223 638.5,-229 638.5,-235 638.5,-235 638.5,-294 638.5,-294 638.5,-300 632.5,-306 626.5,-306\"/>\n",
       "<text text-anchor=\"middle\" x=\"582\" y=\"-290.8\" font-family=\"Helvetica,sans-Serif\" font-size=\"14.00\" fill=\"#000000\">ash &lt;= 2.184</text>\n",
       "<text text-anchor=\"middle\" x=\"582\" y=\"-275.8\" font-family=\"Helvetica,sans-Serif\" font-size=\"14.00\" fill=\"#000000\">entropy = 1.0</text>\n",
       "<text text-anchor=\"middle\" x=\"582\" y=\"-260.8\" font-family=\"Helvetica,sans-Serif\" font-size=\"14.00\" fill=\"#000000\">samples = 2</text>\n",
       "<text text-anchor=\"middle\" x=\"582\" y=\"-245.8\" font-family=\"Helvetica,sans-Serif\" font-size=\"14.00\" fill=\"#000000\">value = [0, 1, 1]</text>\n",
       "<text text-anchor=\"middle\" x=\"582\" y=\"-230.8\" font-family=\"Helvetica,sans-Serif\" font-size=\"14.00\" fill=\"#000000\">class = b</text>\n",
       "</g>\n",
       "<!-- 18&#45;&gt;19 -->\n",
       "<g id=\"edge19\" class=\"edge\">\n",
       "<title>18&#45;&gt;19</title>\n",
       "<path fill=\"none\" stroke=\"#000000\" d=\"M629.4681,-341.8796C624.109,-333.1434 618.4021,-323.8404 612.8718,-314.8253\"/>\n",
       "<polygon fill=\"#000000\" stroke=\"#000000\" points=\"615.8533,-312.9919 607.6408,-306.2981 609.8865,-316.6522 615.8533,-312.9919\"/>\n",
       "</g>\n",
       "<!-- 22 -->\n",
       "<g id=\"node23\" class=\"node\">\n",
       "<title>22</title>\n",
       "<path fill=\"#39e581\" stroke=\"#000000\" d=\"M765,-298.5C765,-298.5 669,-298.5 669,-298.5 663,-298.5 657,-292.5 657,-286.5 657,-286.5 657,-242.5 657,-242.5 657,-236.5 663,-230.5 669,-230.5 669,-230.5 765,-230.5 765,-230.5 771,-230.5 777,-236.5 777,-242.5 777,-242.5 777,-286.5 777,-286.5 777,-292.5 771,-298.5 765,-298.5\"/>\n",
       "<text text-anchor=\"middle\" x=\"717\" y=\"-283.3\" font-family=\"Helvetica,sans-Serif\" font-size=\"14.00\" fill=\"#000000\">entropy = 0.0</text>\n",
       "<text text-anchor=\"middle\" x=\"717\" y=\"-268.3\" font-family=\"Helvetica,sans-Serif\" font-size=\"14.00\" fill=\"#000000\">samples = 10</text>\n",
       "<text text-anchor=\"middle\" x=\"717\" y=\"-253.3\" font-family=\"Helvetica,sans-Serif\" font-size=\"14.00\" fill=\"#000000\">value = [0, 10, 0]</text>\n",
       "<text text-anchor=\"middle\" x=\"717\" y=\"-238.3\" font-family=\"Helvetica,sans-Serif\" font-size=\"14.00\" fill=\"#000000\">class = b</text>\n",
       "</g>\n",
       "<!-- 18&#45;&gt;22 -->\n",
       "<g id=\"edge22\" class=\"edge\">\n",
       "<title>18&#45;&gt;22</title>\n",
       "<path fill=\"none\" stroke=\"#000000\" d=\"M676.6846,-341.8796C682.4136,-330.8835 688.6106,-318.9893 694.3874,-307.9015\"/>\n",
       "<polygon fill=\"#000000\" stroke=\"#000000\" points=\"697.605,-309.3007 699.1216,-298.8149 691.397,-306.0662 697.605,-309.3007\"/>\n",
       "</g>\n",
       "<!-- 20 -->\n",
       "<g id=\"node21\" class=\"node\">\n",
       "<title>20</title>\n",
       "<path fill=\"#39e581\" stroke=\"#000000\" d=\"M607.5,-179.5C607.5,-179.5 518.5,-179.5 518.5,-179.5 512.5,-179.5 506.5,-173.5 506.5,-167.5 506.5,-167.5 506.5,-123.5 506.5,-123.5 506.5,-117.5 512.5,-111.5 518.5,-111.5 518.5,-111.5 607.5,-111.5 607.5,-111.5 613.5,-111.5 619.5,-117.5 619.5,-123.5 619.5,-123.5 619.5,-167.5 619.5,-167.5 619.5,-173.5 613.5,-179.5 607.5,-179.5\"/>\n",
       "<text text-anchor=\"middle\" x=\"563\" y=\"-164.3\" font-family=\"Helvetica,sans-Serif\" font-size=\"14.00\" fill=\"#000000\">entropy = 0.0</text>\n",
       "<text text-anchor=\"middle\" x=\"563\" y=\"-149.3\" font-family=\"Helvetica,sans-Serif\" font-size=\"14.00\" fill=\"#000000\">samples = 1</text>\n",
       "<text text-anchor=\"middle\" x=\"563\" y=\"-134.3\" font-family=\"Helvetica,sans-Serif\" font-size=\"14.00\" fill=\"#000000\">value = [0, 1, 0]</text>\n",
       "<text text-anchor=\"middle\" x=\"563\" y=\"-119.3\" font-family=\"Helvetica,sans-Serif\" font-size=\"14.00\" fill=\"#000000\">class = b</text>\n",
       "</g>\n",
       "<!-- 19&#45;&gt;20 -->\n",
       "<g id=\"edge20\" class=\"edge\">\n",
       "<title>19&#45;&gt;20</title>\n",
       "<path fill=\"none\" stroke=\"#000000\" d=\"M575.3547,-222.8796C573.6517,-212.2134 571.8138,-200.7021 570.0893,-189.9015\"/>\n",
       "<polygon fill=\"#000000\" stroke=\"#000000\" points=\"573.5118,-189.138 568.4789,-179.8149 566.5994,-190.2417 573.5118,-189.138\"/>\n",
       "</g>\n",
       "<!-- 21 -->\n",
       "<g id=\"node22\" class=\"node\">\n",
       "<title>21</title>\n",
       "<path fill=\"#8139e5\" stroke=\"#000000\" d=\"M738.5,-179.5C738.5,-179.5 649.5,-179.5 649.5,-179.5 643.5,-179.5 637.5,-173.5 637.5,-167.5 637.5,-167.5 637.5,-123.5 637.5,-123.5 637.5,-117.5 643.5,-111.5 649.5,-111.5 649.5,-111.5 738.5,-111.5 738.5,-111.5 744.5,-111.5 750.5,-117.5 750.5,-123.5 750.5,-123.5 750.5,-167.5 750.5,-167.5 750.5,-173.5 744.5,-179.5 738.5,-179.5\"/>\n",
       "<text text-anchor=\"middle\" x=\"694\" y=\"-164.3\" font-family=\"Helvetica,sans-Serif\" font-size=\"14.00\" fill=\"#000000\">entropy = 0.0</text>\n",
       "<text text-anchor=\"middle\" x=\"694\" y=\"-149.3\" font-family=\"Helvetica,sans-Serif\" font-size=\"14.00\" fill=\"#000000\">samples = 1</text>\n",
       "<text text-anchor=\"middle\" x=\"694\" y=\"-134.3\" font-family=\"Helvetica,sans-Serif\" font-size=\"14.00\" fill=\"#000000\">value = [0, 0, 1]</text>\n",
       "<text text-anchor=\"middle\" x=\"694\" y=\"-119.3\" font-family=\"Helvetica,sans-Serif\" font-size=\"14.00\" fill=\"#000000\">class = c</text>\n",
       "</g>\n",
       "<!-- 19&#45;&gt;21 -->\n",
       "<g id=\"edge21\" class=\"edge\">\n",
       "<title>19&#45;&gt;21</title>\n",
       "<path fill=\"none\" stroke=\"#000000\" d=\"M621.1722,-222.8796C632.0389,-211.3337 643.8376,-198.7976 654.7109,-187.2446\"/>\n",
       "<polygon fill=\"#000000\" stroke=\"#000000\" points=\"657.3986,-189.4958 661.7036,-179.8149 652.3012,-184.6982 657.3986,-189.4958\"/>\n",
       "</g>\n",
       "</g>\n",
       "</svg>\n"
      ],
      "text/plain": [
       "<graphviz.files.Source at 0x7f921cc982b0>"
      ]
     },
     "execution_count": 57,
     "metadata": {},
     "output_type": "execute_result"
    }
   ],
   "source": [
    "dot_data = tree.export_graphviz(clf_r,\n",
    "                                feature_names=wine.feature_names,\n",
    "                                class_names=['a', 'b', 'c'],\n",
    "                                filled=True,\n",
    "                                rounded=True, # 颜色填充\n",
    "                                out_file=None # 圆角边框\n",
    "                               )\n",
    "grapt = graphviz.Source(dot_data)\n",
    "grapt"
   ]
  },
  {
   "cell_type": "markdown",
   "id": "53257e45",
   "metadata": {},
   "source": [
    "### 剪枝\n",
    "- max_depth 最大深度\n",
    "- min_samples_leaf 叶子节点最小样本数\n",
    "- min_samples_split 父节点最小划分样本数，小于此则不再划分\n",
    "- max_features 最多可用的特征数，强行屏蔽一部分原始信息"
   ]
  },
  {
   "cell_type": "code",
   "execution_count": 58,
   "id": "e3b5395f",
   "metadata": {},
   "outputs": [
    {
     "name": "stdout",
     "output_type": "stream",
     "text": [
      "accuracy -> 0.9444444444444444\n"
     ]
    },
    {
     "data": {
      "image/svg+xml": [
       "<?xml version=\"1.0\" encoding=\"UTF-8\" standalone=\"no\"?>\n",
       "<!DOCTYPE svg PUBLIC \"-//W3C//DTD SVG 1.1//EN\"\n",
       " \"http://www.w3.org/Graphics/SVG/1.1/DTD/svg11.dtd\">\n",
       "<!-- Generated by graphviz version 2.40.1 (20161225.0304)\n",
       " -->\n",
       "<!-- Title: Tree Pages: 1 -->\n",
       "<svg width=\"725pt\" height=\"433pt\"\n",
       " viewBox=\"0.00 0.00 725.00 433.00\" xmlns=\"http://www.w3.org/2000/svg\" xmlns:xlink=\"http://www.w3.org/1999/xlink\">\n",
       "<g id=\"graph0\" class=\"graph\" transform=\"scale(1 1) rotate(0) translate(4 429)\">\n",
       "<title>Tree</title>\n",
       "<polygon fill=\"#ffffff\" stroke=\"transparent\" points=\"-4,4 -4,-429 721,-429 721,4 -4,4\"/>\n",
       "<!-- 0 -->\n",
       "<g id=\"node1\" class=\"node\">\n",
       "<title>0</title>\n",
       "<path fill=\"#e1fbec\" stroke=\"#000000\" d=\"M356.5,-425C356.5,-425 215.5,-425 215.5,-425 209.5,-425 203.5,-419 203.5,-413 203.5,-413 203.5,-354 203.5,-354 203.5,-348 209.5,-342 215.5,-342 215.5,-342 356.5,-342 356.5,-342 362.5,-342 368.5,-348 368.5,-354 368.5,-354 368.5,-413 368.5,-413 368.5,-419 362.5,-425 356.5,-425\"/>\n",
       "<text text-anchor=\"middle\" x=\"286\" y=\"-409.8\" font-family=\"Helvetica,sans-Serif\" font-size=\"14.00\" fill=\"#000000\">color_intensity &lt;= 3.565</text>\n",
       "<text text-anchor=\"middle\" x=\"286\" y=\"-394.8\" font-family=\"Helvetica,sans-Serif\" font-size=\"14.00\" fill=\"#000000\">entropy = 1.562</text>\n",
       "<text text-anchor=\"middle\" x=\"286\" y=\"-379.8\" font-family=\"Helvetica,sans-Serif\" font-size=\"14.00\" fill=\"#000000\">samples = 142</text>\n",
       "<text text-anchor=\"middle\" x=\"286\" y=\"-364.8\" font-family=\"Helvetica,sans-Serif\" font-size=\"14.00\" fill=\"#000000\">value = [44, 59, 39]</text>\n",
       "<text text-anchor=\"middle\" x=\"286\" y=\"-349.8\" font-family=\"Helvetica,sans-Serif\" font-size=\"14.00\" fill=\"#000000\">class = b</text>\n",
       "</g>\n",
       "<!-- 1 -->\n",
       "<g id=\"node2\" class=\"node\">\n",
       "<title>1</title>\n",
       "<path fill=\"#3de684\" stroke=\"#000000\" d=\"M293,-306C293,-306 47,-306 47,-306 41,-306 35,-300 35,-294 35,-294 35,-235 35,-235 35,-229 41,-223 47,-223 47,-223 293,-223 293,-223 299,-223 305,-229 305,-235 305,-235 305,-294 305,-294 305,-300 299,-306 293,-306\"/>\n",
       "<text text-anchor=\"middle\" x=\"170\" y=\"-290.8\" font-family=\"Helvetica,sans-Serif\" font-size=\"14.00\" fill=\"#000000\">od280/od315_of_diluted_wines &lt;= 3.409</text>\n",
       "<text text-anchor=\"middle\" x=\"170\" y=\"-275.8\" font-family=\"Helvetica,sans-Serif\" font-size=\"14.00\" fill=\"#000000\">entropy = 0.149</text>\n",
       "<text text-anchor=\"middle\" x=\"170\" y=\"-260.8\" font-family=\"Helvetica,sans-Serif\" font-size=\"14.00\" fill=\"#000000\">samples = 47</text>\n",
       "<text text-anchor=\"middle\" x=\"170\" y=\"-245.8\" font-family=\"Helvetica,sans-Serif\" font-size=\"14.00\" fill=\"#000000\">value = [1, 46, 0]</text>\n",
       "<text text-anchor=\"middle\" x=\"170\" y=\"-230.8\" font-family=\"Helvetica,sans-Serif\" font-size=\"14.00\" fill=\"#000000\">class = b</text>\n",
       "</g>\n",
       "<!-- 0&#45;&gt;1 -->\n",
       "<g id=\"edge1\" class=\"edge\">\n",
       "<title>0&#45;&gt;1</title>\n",
       "<path fill=\"none\" stroke=\"#000000\" d=\"M245.4288,-341.8796C236.5618,-332.7832 227.0956,-323.0722 217.9709,-313.7116\"/>\n",
       "<polygon fill=\"#000000\" stroke=\"#000000\" points=\"220.2309,-311.0158 210.7443,-306.2981 215.2183,-315.9019 220.2309,-311.0158\"/>\n",
       "<text text-anchor=\"middle\" x=\"210.4252\" y=\"-327.596\" font-family=\"Helvetica,sans-Serif\" font-size=\"14.00\" fill=\"#000000\">True</text>\n",
       "</g>\n",
       "<!-- 4 -->\n",
       "<g id=\"node5\" class=\"node\">\n",
       "<title>4</title>\n",
       "<path fill=\"#fdf6f1\" stroke=\"#000000\" d=\"M470.5,-306C470.5,-306 335.5,-306 335.5,-306 329.5,-306 323.5,-300 323.5,-294 323.5,-294 323.5,-235 323.5,-235 323.5,-229 329.5,-223 335.5,-223 335.5,-223 470.5,-223 470.5,-223 476.5,-223 482.5,-229 482.5,-235 482.5,-235 482.5,-294 482.5,-294 482.5,-300 476.5,-306 470.5,-306\"/>\n",
       "<text text-anchor=\"middle\" x=\"403\" y=\"-290.8\" font-family=\"Helvetica,sans-Serif\" font-size=\"14.00\" fill=\"#000000\">total_phenols &lt;= 1.914</text>\n",
       "<text text-anchor=\"middle\" x=\"403\" y=\"-275.8\" font-family=\"Helvetica,sans-Serif\" font-size=\"14.00\" fill=\"#000000\">entropy = 1.438</text>\n",
       "<text text-anchor=\"middle\" x=\"403\" y=\"-260.8\" font-family=\"Helvetica,sans-Serif\" font-size=\"14.00\" fill=\"#000000\">samples = 95</text>\n",
       "<text text-anchor=\"middle\" x=\"403\" y=\"-245.8\" font-family=\"Helvetica,sans-Serif\" font-size=\"14.00\" fill=\"#000000\">value = [43, 13, 39]</text>\n",
       "<text text-anchor=\"middle\" x=\"403\" y=\"-230.8\" font-family=\"Helvetica,sans-Serif\" font-size=\"14.00\" fill=\"#000000\">class = a</text>\n",
       "</g>\n",
       "<!-- 0&#45;&gt;4 -->\n",
       "<g id=\"edge4\" class=\"edge\">\n",
       "<title>0&#45;&gt;4</title>\n",
       "<path fill=\"none\" stroke=\"#000000\" d=\"M326.9209,-341.8796C335.953,-332.6931 345.6013,-322.8798 354.8888,-313.4336\"/>\n",
       "<polygon fill=\"#000000\" stroke=\"#000000\" points=\"357.3893,-315.8827 361.9044,-306.2981 352.3977,-310.975 357.3893,-315.8827\"/>\n",
       "<text text-anchor=\"middle\" x=\"362.1163\" y=\"-327.5972\" font-family=\"Helvetica,sans-Serif\" font-size=\"14.00\" fill=\"#000000\">False</text>\n",
       "</g>\n",
       "<!-- 2 -->\n",
       "<g id=\"node3\" class=\"node\">\n",
       "<title>2</title>\n",
       "<path fill=\"#39e581\" stroke=\"#000000\" d=\"M108,-179.5C108,-179.5 12,-179.5 12,-179.5 6,-179.5 0,-173.5 0,-167.5 0,-167.5 0,-123.5 0,-123.5 0,-117.5 6,-111.5 12,-111.5 12,-111.5 108,-111.5 108,-111.5 114,-111.5 120,-117.5 120,-123.5 120,-123.5 120,-167.5 120,-167.5 120,-173.5 114,-179.5 108,-179.5\"/>\n",
       "<text text-anchor=\"middle\" x=\"60\" y=\"-164.3\" font-family=\"Helvetica,sans-Serif\" font-size=\"14.00\" fill=\"#000000\">entropy = 0.0</text>\n",
       "<text text-anchor=\"middle\" x=\"60\" y=\"-149.3\" font-family=\"Helvetica,sans-Serif\" font-size=\"14.00\" fill=\"#000000\">samples = 43</text>\n",
       "<text text-anchor=\"middle\" x=\"60\" y=\"-134.3\" font-family=\"Helvetica,sans-Serif\" font-size=\"14.00\" fill=\"#000000\">value = [0, 43, 0]</text>\n",
       "<text text-anchor=\"middle\" x=\"60\" y=\"-119.3\" font-family=\"Helvetica,sans-Serif\" font-size=\"14.00\" fill=\"#000000\">class = b</text>\n",
       "</g>\n",
       "<!-- 1&#45;&gt;2 -->\n",
       "<g id=\"edge2\" class=\"edge\">\n",
       "<title>1&#45;&gt;2</title>\n",
       "<path fill=\"none\" stroke=\"#000000\" d=\"M131.5273,-222.8796C120.8547,-211.3337 109.2667,-198.7976 98.5875,-187.2446\"/>\n",
       "<polygon fill=\"#000000\" stroke=\"#000000\" points=\"101.0778,-184.7825 91.7197,-179.8149 95.9375,-189.534 101.0778,-184.7825\"/>\n",
       "</g>\n",
       "<!-- 3 -->\n",
       "<g id=\"node4\" class=\"node\">\n",
       "<title>3</title>\n",
       "<path fill=\"#7beeab\" stroke=\"#000000\" d=\"M240,-179.5C240,-179.5 150,-179.5 150,-179.5 144,-179.5 138,-173.5 138,-167.5 138,-167.5 138,-123.5 138,-123.5 138,-117.5 144,-111.5 150,-111.5 150,-111.5 240,-111.5 240,-111.5 246,-111.5 252,-117.5 252,-123.5 252,-123.5 252,-167.5 252,-167.5 252,-173.5 246,-179.5 240,-179.5\"/>\n",
       "<text text-anchor=\"middle\" x=\"195\" y=\"-164.3\" font-family=\"Helvetica,sans-Serif\" font-size=\"14.00\" fill=\"#000000\">entropy = 0.811</text>\n",
       "<text text-anchor=\"middle\" x=\"195\" y=\"-149.3\" font-family=\"Helvetica,sans-Serif\" font-size=\"14.00\" fill=\"#000000\">samples = 4</text>\n",
       "<text text-anchor=\"middle\" x=\"195\" y=\"-134.3\" font-family=\"Helvetica,sans-Serif\" font-size=\"14.00\" fill=\"#000000\">value = [1, 3, 0]</text>\n",
       "<text text-anchor=\"middle\" x=\"195\" y=\"-119.3\" font-family=\"Helvetica,sans-Serif\" font-size=\"14.00\" fill=\"#000000\">class = b</text>\n",
       "</g>\n",
       "<!-- 1&#45;&gt;3 -->\n",
       "<g id=\"edge3\" class=\"edge\">\n",
       "<title>1&#45;&gt;3</title>\n",
       "<path fill=\"none\" stroke=\"#000000\" d=\"M178.7438,-222.8796C180.9846,-212.2134 183.4029,-200.7021 185.6719,-189.9015\"/>\n",
       "<polygon fill=\"#000000\" stroke=\"#000000\" points=\"189.1602,-190.3209 187.791,-179.8149 182.3097,-188.8817 189.1602,-190.3209\"/>\n",
       "</g>\n",
       "<!-- 5 -->\n",
       "<g id=\"node6\" class=\"node\">\n",
       "<title>5</title>\n",
       "<path fill=\"#9152e8\" stroke=\"#000000\" d=\"M427,-187C427,-187 331,-187 331,-187 325,-187 319,-181 319,-175 319,-175 319,-116 319,-116 319,-110 325,-104 331,-104 331,-104 427,-104 427,-104 433,-104 439,-110 439,-116 439,-116 439,-175 439,-175 439,-181 433,-187 427,-187\"/>\n",
       "<text text-anchor=\"middle\" x=\"379\" y=\"-171.8\" font-family=\"Helvetica,sans-Serif\" font-size=\"14.00\" fill=\"#000000\">hue &lt;= 1.043</text>\n",
       "<text text-anchor=\"middle\" x=\"379\" y=\"-156.8\" font-family=\"Helvetica,sans-Serif\" font-size=\"14.00\" fill=\"#000000\">entropy = 0.503</text>\n",
       "<text text-anchor=\"middle\" x=\"379\" y=\"-141.8\" font-family=\"Helvetica,sans-Serif\" font-size=\"14.00\" fill=\"#000000\">samples = 36</text>\n",
       "<text text-anchor=\"middle\" x=\"379\" y=\"-126.8\" font-family=\"Helvetica,sans-Serif\" font-size=\"14.00\" fill=\"#000000\">value = [0, 4, 32]</text>\n",
       "<text text-anchor=\"middle\" x=\"379\" y=\"-111.8\" font-family=\"Helvetica,sans-Serif\" font-size=\"14.00\" fill=\"#000000\">class = c</text>\n",
       "</g>\n",
       "<!-- 4&#45;&gt;5 -->\n",
       "<g id=\"edge5\" class=\"edge\">\n",
       "<title>4&#45;&gt;5</title>\n",
       "<path fill=\"none\" stroke=\"#000000\" d=\"M394.606,-222.8796C392.9349,-214.5938 391.1609,-205.798 389.4312,-197.2216\"/>\n",
       "<polygon fill=\"#000000\" stroke=\"#000000\" points=\"392.8379,-196.4087 387.4299,-187.2981 385.976,-197.7927 392.8379,-196.4087\"/>\n",
       "</g>\n",
       "<!-- 8 -->\n",
       "<g id=\"node9\" class=\"node\">\n",
       "<title>8</title>\n",
       "<path fill=\"#eda978\" stroke=\"#000000\" d=\"M584.5,-187C584.5,-187 469.5,-187 469.5,-187 463.5,-187 457.5,-181 457.5,-175 457.5,-175 457.5,-116 457.5,-116 457.5,-110 463.5,-104 469.5,-104 469.5,-104 584.5,-104 584.5,-104 590.5,-104 596.5,-110 596.5,-116 596.5,-116 596.5,-175 596.5,-175 596.5,-181 590.5,-187 584.5,-187\"/>\n",
       "<text text-anchor=\"middle\" x=\"527\" y=\"-171.8\" font-family=\"Helvetica,sans-Serif\" font-size=\"14.00\" fill=\"#000000\">flavanoids &lt;= 1.385</text>\n",
       "<text text-anchor=\"middle\" x=\"527\" y=\"-156.8\" font-family=\"Helvetica,sans-Serif\" font-size=\"14.00\" fill=\"#000000\">entropy = 1.111</text>\n",
       "<text text-anchor=\"middle\" x=\"527\" y=\"-141.8\" font-family=\"Helvetica,sans-Serif\" font-size=\"14.00\" fill=\"#000000\">samples = 59</text>\n",
       "<text text-anchor=\"middle\" x=\"527\" y=\"-126.8\" font-family=\"Helvetica,sans-Serif\" font-size=\"14.00\" fill=\"#000000\">value = [43, 9, 7]</text>\n",
       "<text text-anchor=\"middle\" x=\"527\" y=\"-111.8\" font-family=\"Helvetica,sans-Serif\" font-size=\"14.00\" fill=\"#000000\">class = a</text>\n",
       "</g>\n",
       "<!-- 4&#45;&gt;8 -->\n",
       "<g id=\"edge8\" class=\"edge\">\n",
       "<title>4&#45;&gt;8</title>\n",
       "<path fill=\"none\" stroke=\"#000000\" d=\"M446.3692,-222.8796C455.9416,-213.6931 466.1672,-203.8798 476.0103,-194.4336\"/>\n",
       "<polygon fill=\"#000000\" stroke=\"#000000\" points=\"478.6541,-196.7475 483.4457,-187.2981 473.8072,-191.6969 478.6541,-196.7475\"/>\n",
       "</g>\n",
       "<!-- 6 -->\n",
       "<g id=\"node7\" class=\"node\">\n",
       "<title>6</title>\n",
       "<path fill=\"#8945e7\" stroke=\"#000000\" d=\"M296,-68C296,-68 200,-68 200,-68 194,-68 188,-62 188,-56 188,-56 188,-12 188,-12 188,-6 194,0 200,0 200,0 296,0 296,0 302,0 308,-6 308,-12 308,-12 308,-56 308,-56 308,-62 302,-68 296,-68\"/>\n",
       "<text text-anchor=\"middle\" x=\"248\" y=\"-52.8\" font-family=\"Helvetica,sans-Serif\" font-size=\"14.00\" fill=\"#000000\">entropy = 0.323</text>\n",
       "<text text-anchor=\"middle\" x=\"248\" y=\"-37.8\" font-family=\"Helvetica,sans-Serif\" font-size=\"14.00\" fill=\"#000000\">samples = 34</text>\n",
       "<text text-anchor=\"middle\" x=\"248\" y=\"-22.8\" font-family=\"Helvetica,sans-Serif\" font-size=\"14.00\" fill=\"#000000\">value = [0, 2, 32]</text>\n",
       "<text text-anchor=\"middle\" x=\"248\" y=\"-7.8\" font-family=\"Helvetica,sans-Serif\" font-size=\"14.00\" fill=\"#000000\">class = c</text>\n",
       "</g>\n",
       "<!-- 5&#45;&gt;6 -->\n",
       "<g id=\"edge6\" class=\"edge\">\n",
       "<title>5&#45;&gt;6</title>\n",
       "<path fill=\"none\" stroke=\"#000000\" d=\"M330.2204,-103.9815C319.0985,-94.5151 307.2872,-84.462 296.1901,-75.0168\"/>\n",
       "<polygon fill=\"#000000\" stroke=\"#000000\" points=\"298.1396,-72.08 288.256,-68.2637 293.6025,-77.4105 298.1396,-72.08\"/>\n",
       "</g>\n",
       "<!-- 7 -->\n",
       "<g id=\"node8\" class=\"node\">\n",
       "<title>7</title>\n",
       "<path fill=\"#39e581\" stroke=\"#000000\" d=\"M427.5,-68C427.5,-68 338.5,-68 338.5,-68 332.5,-68 326.5,-62 326.5,-56 326.5,-56 326.5,-12 326.5,-12 326.5,-6 332.5,0 338.5,0 338.5,0 427.5,0 427.5,0 433.5,0 439.5,-6 439.5,-12 439.5,-12 439.5,-56 439.5,-56 439.5,-62 433.5,-68 427.5,-68\"/>\n",
       "<text text-anchor=\"middle\" x=\"383\" y=\"-52.8\" font-family=\"Helvetica,sans-Serif\" font-size=\"14.00\" fill=\"#000000\">entropy = 0.0</text>\n",
       "<text text-anchor=\"middle\" x=\"383\" y=\"-37.8\" font-family=\"Helvetica,sans-Serif\" font-size=\"14.00\" fill=\"#000000\">samples = 2</text>\n",
       "<text text-anchor=\"middle\" x=\"383\" y=\"-22.8\" font-family=\"Helvetica,sans-Serif\" font-size=\"14.00\" fill=\"#000000\">value = [0, 2, 0]</text>\n",
       "<text text-anchor=\"middle\" x=\"383\" y=\"-7.8\" font-family=\"Helvetica,sans-Serif\" font-size=\"14.00\" fill=\"#000000\">class = b</text>\n",
       "</g>\n",
       "<!-- 5&#45;&gt;7 -->\n",
       "<g id=\"edge7\" class=\"edge\">\n",
       "<title>5&#45;&gt;7</title>\n",
       "<path fill=\"none\" stroke=\"#000000\" d=\"M380.4895,-103.9815C380.7895,-95.618 381.106,-86.7965 381.4093,-78.3409\"/>\n",
       "<polygon fill=\"#000000\" stroke=\"#000000\" points=\"384.91,-78.3828 381.7708,-68.2637 377.9145,-78.1317 384.91,-78.3828\"/>\n",
       "</g>\n",
       "<!-- 9 -->\n",
       "<g id=\"node10\" class=\"node\">\n",
       "<title>9</title>\n",
       "<path fill=\"#8139e5\" stroke=\"#000000\" d=\"M566.5,-68C566.5,-68 477.5,-68 477.5,-68 471.5,-68 465.5,-62 465.5,-56 465.5,-56 465.5,-12 465.5,-12 465.5,-6 471.5,0 477.5,0 477.5,0 566.5,0 566.5,0 572.5,0 578.5,-6 578.5,-12 578.5,-12 578.5,-56 578.5,-56 578.5,-62 572.5,-68 566.5,-68\"/>\n",
       "<text text-anchor=\"middle\" x=\"522\" y=\"-52.8\" font-family=\"Helvetica,sans-Serif\" font-size=\"14.00\" fill=\"#000000\">entropy = 0.0</text>\n",
       "<text text-anchor=\"middle\" x=\"522\" y=\"-37.8\" font-family=\"Helvetica,sans-Serif\" font-size=\"14.00\" fill=\"#000000\">samples = 7</text>\n",
       "<text text-anchor=\"middle\" x=\"522\" y=\"-22.8\" font-family=\"Helvetica,sans-Serif\" font-size=\"14.00\" fill=\"#000000\">value = [0, 0, 7]</text>\n",
       "<text text-anchor=\"middle\" x=\"522\" y=\"-7.8\" font-family=\"Helvetica,sans-Serif\" font-size=\"14.00\" fill=\"#000000\">class = c</text>\n",
       "</g>\n",
       "<!-- 8&#45;&gt;9 -->\n",
       "<g id=\"edge9\" class=\"edge\">\n",
       "<title>8&#45;&gt;9</title>\n",
       "<path fill=\"none\" stroke=\"#000000\" d=\"M525.1382,-103.9815C524.7631,-95.618 524.3676,-86.7965 523.9884,-78.3409\"/>\n",
       "<polygon fill=\"#000000\" stroke=\"#000000\" points=\"527.481,-78.0968 523.5365,-68.2637 520.4881,-78.4105 527.481,-78.0968\"/>\n",
       "</g>\n",
       "<!-- 10 -->\n",
       "<g id=\"node11\" class=\"node\">\n",
       "<title>10</title>\n",
       "<path fill=\"#ea9b62\" stroke=\"#000000\" d=\"M705,-68C705,-68 609,-68 609,-68 603,-68 597,-62 597,-56 597,-56 597,-12 597,-12 597,-6 603,0 609,0 609,0 705,0 705,0 711,0 717,-6 717,-12 717,-12 717,-56 717,-56 717,-62 711,-68 705,-68\"/>\n",
       "<text text-anchor=\"middle\" x=\"657\" y=\"-52.8\" font-family=\"Helvetica,sans-Serif\" font-size=\"14.00\" fill=\"#000000\">entropy = 0.665</text>\n",
       "<text text-anchor=\"middle\" x=\"657\" y=\"-37.8\" font-family=\"Helvetica,sans-Serif\" font-size=\"14.00\" fill=\"#000000\">samples = 52</text>\n",
       "<text text-anchor=\"middle\" x=\"657\" y=\"-22.8\" font-family=\"Helvetica,sans-Serif\" font-size=\"14.00\" fill=\"#000000\">value = [43, 9, 0]</text>\n",
       "<text text-anchor=\"middle\" x=\"657\" y=\"-7.8\" font-family=\"Helvetica,sans-Serif\" font-size=\"14.00\" fill=\"#000000\">class = a</text>\n",
       "</g>\n",
       "<!-- 8&#45;&gt;10 -->\n",
       "<g id=\"edge10\" class=\"edge\">\n",
       "<title>8&#45;&gt;10</title>\n",
       "<path fill=\"none\" stroke=\"#000000\" d=\"M575.4072,-103.9815C586.4442,-94.5151 598.1653,-84.462 609.1777,-75.0168\"/>\n",
       "<polygon fill=\"#000000\" stroke=\"#000000\" points=\"611.7394,-77.4307 617.0513,-68.2637 607.1822,-72.1173 611.7394,-77.4307\"/>\n",
       "</g>\n",
       "</g>\n",
       "</svg>\n"
      ],
      "text/plain": [
       "<graphviz.files.Source at 0x7f921cc25160>"
      ]
     },
     "execution_count": 58,
     "metadata": {},
     "output_type": "execute_result"
    }
   ],
   "source": [
    "clf_c = tree.DecisionTreeClassifier(criterion=\"entropy\",\n",
    "                                    random_state = 250,\n",
    "                                    splitter=\"random\",\n",
    "                                    max_depth=3,\n",
    "                                    min_samples_leaf=2,\n",
    "                                    min_samples_split=10\n",
    "                                   )\n",
    "clf_c.fit(trainX, trainY)\n",
    "\n",
    "score = clf_c.score(testX, testY) # accuracy\n",
    "print(\"accuracy -> {}\".format(score))\n",
    "\n",
    "dot_data = tree.export_graphviz(clf_c,\n",
    "                                feature_names=wine.feature_names,\n",
    "                                class_names=['a', 'b', 'c'],\n",
    "                                filled=True,\n",
    "                                rounded=True, # 颜色填充\n",
    "                                out_file=None # 圆角边框\n",
    "                               )\n",
    "grapt = graphviz.Source(dot_data)\n",
    "grapt"
   ]
  },
  {
   "cell_type": "markdown",
   "id": "40b4e448",
   "metadata": {},
   "source": [
    "通过循环来选择最优的树深度"
   ]
  },
  {
   "cell_type": "code",
   "execution_count": 59,
   "id": "787e42cd",
   "metadata": {},
   "outputs": [],
   "source": [
    "test = []\n",
    "for i in range(10):\n",
    "    clf_batter = tree.DecisionTreeClassifier(criterion=\"entropy\",\n",
    "                                            random_state = 250,\n",
    "                                            splitter=\"random\",\n",
    "                                            max_depth=i+1\n",
    "                                            )\n",
    "    clf_batter.fit(trainX, trainY)\n",
    "    test.append(clf_batter.score(testX, testY))"
   ]
  },
  {
   "cell_type": "code",
   "execution_count": 60,
   "id": "ea887be9",
   "metadata": {},
   "outputs": [],
   "source": [
    "import matplotlib.pyplot as plt"
   ]
  },
  {
   "cell_type": "code",
   "execution_count": 63,
   "id": "ab1c03ee",
   "metadata": {},
   "outputs": [
    {
     "data": {
      "image/png": "[encoded data removed]",
      "text/plain": [
       "<Figure size 432x288 with 1 Axes>"
      ]
     },
     "metadata": {
      "needs_background": "light"
     },
     "output_type": "display_data"
    }
   ],
   "source": [
    "plt.plot(range(1,11), test, c='r', label=\"max_depth\")\n",
    "plt.legend()\n",
    "plt.show()"
   ]
  },
  {
   "cell_type": "markdown",
   "id": "a559ab4d",
   "metadata": {},
   "source": [
    "目标权重参数 用于不平衡的数据集\n",
    "- class_weight 给少量标签更多权重\n",
    "- min_weight_fraction_leaf"
   ]
  },
  {
   "cell_type": "markdown",
   "id": "e85efd6f",
   "metadata": {},
   "source": [
    "#### 矩阵的维度变化"
   ]
  },
  {
   "cell_type": "code",
   "execution_count": 101,
   "id": "1b07bdaf",
   "metadata": {},
   "outputs": [],
   "source": [
    "import numpy as np\n",
    "a = np.array([1,2,3,4,5])\n",
    "b = np.array([9,8,7,6,5])"
   ]
  },
  {
   "cell_type": "code",
   "execution_count": 102,
   "id": "693b88b9",
   "metadata": {},
   "outputs": [
    {
     "name": "stdout",
     "output_type": "stream",
     "text": [
      "a -> [1 2 3 4 5], b -> [9 8 7 6 5]\n"
     ]
    }
   ],
   "source": [
    "print(\"a -> {}, b -> {}\".format(a,b))"
   ]
  },
  {
   "cell_type": "code",
   "execution_count": 103,
   "id": "45225f07",
   "metadata": {},
   "outputs": [
    {
     "name": "stdout",
     "output_type": "stream",
     "text": [
      "a.shape -> (5,), b.shape -> (5,)\n"
     ]
    }
   ],
   "source": [
    "print(\"a.shape -> {}, b.shape -> {}\".format(a.shape,b.shape))"
   ]
  },
  {
   "cell_type": "markdown",
   "id": "a7ebb173",
   "metadata": {},
   "source": [
    "reshape(-1,1) 和 reshape(1,-1)"
   ]
  },
  {
   "cell_type": "code",
   "execution_count": 104,
   "id": "aa834230",
   "metadata": {},
   "outputs": [],
   "source": [
    "a = a.reshape(-1,1)\n",
    "b = b.reshape(1,-1)"
   ]
  },
  {
   "cell_type": "code",
   "execution_count": 105,
   "id": "5a19da1a",
   "metadata": {},
   "outputs": [
    {
     "name": "stdout",
     "output_type": "stream",
     "text": [
      "a.shape -> (5, 1), b.shape -> (1, 5)\n"
     ]
    }
   ],
   "source": [
    "print(\"a.shape -> {}, b.shape -> {}\".format(a.shape,b.shape))"
   ]
  },
  {
   "cell_type": "code",
   "execution_count": 106,
   "id": "43b770bd",
   "metadata": {},
   "outputs": [
    {
     "name": "stdout",
     "output_type": "stream",
     "text": [
      "a -> [[1]\n",
      " [2]\n",
      " [3]\n",
      " [4]\n",
      " [5]], b -> [[9 8 7 6 5]]\n"
     ]
    }
   ],
   "source": [
    "print(\"a -> {}, b -> {}\".format(a,b))"
   ]
  },
  {
   "cell_type": "markdown",
   "id": "1aaf2ab4",
   "metadata": {},
   "source": [
    "np.squeeze 消除多余的维度"
   ]
  },
  {
   "cell_type": "code",
   "execution_count": 107,
   "id": "3c906d7e",
   "metadata": {},
   "outputs": [],
   "source": [
    "a = np.squeeze(a)\n",
    "b = np.squeeze(b)"
   ]
  },
  {
   "cell_type": "code",
   "execution_count": 108,
   "id": "cd6060a4",
   "metadata": {},
   "outputs": [
    {
     "name": "stdout",
     "output_type": "stream",
     "text": [
      "a.shape -> (5,), b.shape -> (5,)\n"
     ]
    }
   ],
   "source": [
    "print(\"a.shape -> {}, b.shape -> {}\".format(a.shape,b.shape))"
   ]
  },
  {
   "cell_type": "markdown",
   "id": "35bc54a0",
   "metadata": {},
   "source": [
    "# 回归树"
   ]
  },
  {
   "cell_type": "markdown",
   "id": "23ac71a8",
   "metadata": {},
   "source": [
    "- 参数和接口与分类树基本相同\n",
    "- class_weight 权重\n",
    "- criterion 可选\n",
    " * 1、MSE 均方误差\n",
    " * 2、MAE 绝对值平均误差\n",
    " * 3、friedman_mse 菲尔德曼均方误差"
   ]
  },
  {
   "cell_type": "markdown",
   "id": "2d6892f9",
   "metadata": {},
   "source": [
    "回归树的score返回的是R平方\n",
    "$$ R^2 = 1 - \\frac{u}{v} $$\n",
    "其中：\n",
    "$$ u = \\sum_{i=1}^{N} {(f_i - y_i)^2}  \\quad v = \\sum_{i=1}^{N} {(y_i - \\hat{y})^2} $$\n",
    "$u$ 是残差平方和，$v$ 是总平方和，$f_i$ 是模型预测值，$y_i$ 是样本真实值，$\\hat{y}$ 是样本标签平均值\n",
    "\n",
    "在统计学中对变量进行线性回归分析，采用最小二乘法进行参数估计时，**R平方为回归平方和与总离差平方和的比值**，表示总离差平方和中可以由回归平方和解释的比例，这一比例越大越好，模型越精确，回归效果越显著。R平方介于0~1之间，**越接近1，回归拟合效果越好，一般认为超过0.8的模型拟合优度比较高。**"
   ]
  },
  {
   "cell_type": "markdown",
   "id": "aadf091e",
   "metadata": {},
   "source": [
    "虽然MSE永远为正，但是sklearn中取得是负均方误差"
   ]
  },
  {
   "cell_type": "markdown",
   "id": "f016d751",
   "metadata": {},
   "source": [
    "### 交叉验证\n",
    "将模型划分为 n 份，每次取一份作为验证集，n-1 份作为训练集，对此计算评估模型的平均准确程度"
   ]
  },
  {
   "cell_type": "markdown",
   "id": "04c90f8f",
   "metadata": {},
   "source": [
    "用波士顿房价数据 (回归问题) 做交叉验证"
   ]
  },
  {
   "cell_type": "code",
   "execution_count": 113,
   "id": "17ad62b5",
   "metadata": {},
   "outputs": [],
   "source": [
    "from sklearn.datasets import load_boston\n",
    "from sklearn.model_selection import cross_val_score\n",
    "from sklearn.tree import DecisionTreeRegressor"
   ]
  },
  {
   "cell_type": "markdown",
   "id": "f3339be4",
   "metadata": {},
   "source": [
    "不需要划分训练验证集合 \n",
    "- cv 是交叉验证的次数\n",
    "- scoring 是评估指标，选择负均方误差"
   ]
  },
  {
   "cell_type": "code",
   "execution_count": 115,
   "id": "69792353",
   "metadata": {},
   "outputs": [
    {
     "data": {
      "text/plain": [
       "array([-16.58235294, -10.12666667, -17.39568627, -94.34529412,\n",
       "       -23.59627451, -45.01843137, -12.061     , -92.7236    ,\n",
       "       -57.4742    , -17.0588    ])"
      ]
     },
     "execution_count": 115,
     "metadata": {},
     "output_type": "execute_result"
    }
   ],
   "source": [
    "boston = load_boston()\n",
    "regress = DecisionTreeRegressor(random_state=20)\n",
    "cross_val_score(regress, boston.data, boston.target, cv=10, scoring=\"neg_mean_squared_error\")"
   ]
  },
  {
   "cell_type": "markdown",
   "id": "42f17b62",
   "metadata": {},
   "source": [
    "### 举例：用回归树拟合正弦曲线"
   ]
  },
  {
   "cell_type": "markdown",
   "id": "ae2f1d2c",
   "metadata": {},
   "source": [
    "随机种子"
   ]
  },
  {
   "cell_type": "code",
   "execution_count": 116,
   "id": "993e29b3",
   "metadata": {},
   "outputs": [],
   "source": [
    "rng = np.random.RandomState(20)"
   ]
  },
  {
   "cell_type": "markdown",
   "id": "f400d1ad",
   "metadata": {},
   "source": [
    "生成 80 个 0-5 之间的随机数并排序"
   ]
  },
  {
   "cell_type": "code",
   "execution_count": 117,
   "id": "b4cb95da",
   "metadata": {},
   "outputs": [],
   "source": [
    "x = np.sort(rng.rand(80,1) * 5, axis=0)"
   ]
  },
  {
   "cell_type": "markdown",
   "id": "598ab156",
   "metadata": {},
   "source": [
    "求出对应的 sin 值并且降为一维"
   ]
  },
  {
   "cell_type": "code",
   "execution_count": 125,
   "id": "a7d78e2a",
   "metadata": {},
   "outputs": [
    {
     "data": {
      "text/plain": [
       "(80,)"
      ]
     },
     "execution_count": 125,
     "metadata": {},
     "output_type": "execute_result"
    }
   ],
   "source": [
    "y = np.squeeze(np.sin(x))\n",
    "y.shape"
   ]
  },
  {
   "cell_type": "markdown",
   "id": "a26c8cf2",
   "metadata": {},
   "source": [
    "不添加噪声的图像"
   ]
  },
  {
   "cell_type": "code",
   "execution_count": 130,
   "id": "918f6280",
   "metadata": {},
   "outputs": [
    {
     "data": {
      "image/png": "[encoded data removed]",
      "text/plain": [
       "<Figure size 432x288 with 1 Axes>"
      ]
     },
     "metadata": {
      "needs_background": "light"
     },
     "output_type": "display_data"
    }
   ],
   "source": [
    "plt.figure()\n",
    "plt.scatter(x, y, c='b', label='sin(x)')\n",
    "plt.legend()\n",
    "plt.xlabel(\"x\");plt.ylabel(\"sin(x)\");\n",
    "plt.title(\"x vs sin(x)\")\n",
    "plt.show()"
   ]
  },
  {
   "cell_type": "markdown",
   "id": "379ddd15",
   "metadata": {},
   "source": [
    "以 5 为步长，随机加减 y 的值"
   ]
  },
  {
   "cell_type": "code",
   "execution_count": 131,
   "id": "452158ab",
   "metadata": {},
   "outputs": [],
   "source": [
    "y[::5] += 0.5 - rng.rand(16)"
   ]
  },
  {
   "cell_type": "code",
   "execution_count": 132,
   "id": "025997a8",
   "metadata": {},
   "outputs": [
    {
     "data": {
      "image/png": "[encoded data removed]",
      "text/plain": [
       "<Figure size 432x288 with 1 Axes>"
      ]
     },
     "metadata": {
      "needs_background": "light"
     },
     "output_type": "display_data"
    }
   ],
   "source": [
    "plt.figure()\n",
    "plt.scatter(x, y, c='b', label='sin(x)')\n",
    "plt.legend()\n",
    "plt.xlabel(\"x\");plt.ylabel(\"sin(x)\");\n",
    "plt.title(\"x vs sin(x) ans random num\")\n",
    "plt.show()"
   ]
  },
  {
   "cell_type": "markdown",
   "id": "10b3cc8c",
   "metadata": {},
   "source": [
    "建立模型 深度分别为2、3、5 并训练"
   ]
  },
  {
   "cell_type": "code",
   "execution_count": 134,
   "id": "269797e7",
   "metadata": {},
   "outputs": [],
   "source": [
    "reg_1 = DecisionTreeRegressor(random_state=20, max_depth=2)\n",
    "reg_2 = DecisionTreeRegressor(random_state=20, max_depth=3)\n",
    "reg_3 = DecisionTreeRegressor(random_state=20, max_depth=5)"
   ]
  },
  {
   "cell_type": "code",
   "execution_count": 135,
   "id": "e33b1aa8",
   "metadata": {},
   "outputs": [
    {
     "data": {
      "text/plain": [
       "DecisionTreeRegressor(max_depth=5, random_state=20)"
      ]
     },
     "execution_count": 135,
     "metadata": {},
     "output_type": "execute_result"
    }
   ],
   "source": [
    "reg_1.fit(x,y)\n",
    "reg_2.fit(x,y)\n",
    "reg_3.fit(x,y)"
   ]
  },
  {
   "cell_type": "markdown",
   "id": "eacc33cb",
   "metadata": {},
   "source": [
    "生成测试用数据 .reshape() 和 np.newaxis 作用相同，都是升维"
   ]
  },
  {
   "cell_type": "code",
   "execution_count": 136,
   "id": "58dc84af",
   "metadata": {},
   "outputs": [],
   "source": [
    "x_test = np.arange(0,5,0.01)[:,np.newaxis]"
   ]
  },
  {
   "cell_type": "markdown",
   "id": "322031b7",
   "metadata": {},
   "source": [
    "分别用三个模型预测结果"
   ]
  },
  {
   "cell_type": "code",
   "execution_count": 137,
   "id": "43e7aa63",
   "metadata": {},
   "outputs": [],
   "source": [
    "y_1 = reg_1.predict(x_test)\n",
    "y_2 = reg_2.predict(x_test)\n",
    "y_3 = reg_3.predict(x_test)"
   ]
  },
  {
   "cell_type": "markdown",
   "id": "527d8e92",
   "metadata": {},
   "source": [
    "画出三个模型对应的预测图像"
   ]
  },
  {
   "cell_type": "code",
   "execution_count": 159,
   "id": "8d40ace7",
   "metadata": {},
   "outputs": [
    {
     "data": {
      "image/png": "[encoded data removed]",
      "text/plain": [
       "<Figure size 1080x288 with 3 Axes>"
      ]
     },
     "metadata": {
      "needs_background": "light"
     },
     "output_type": "display_data"
    }
   ],
   "source": [
    "fig = plt.figure(figsize=(15,4))\n",
    "\n",
    "ax=fig.add_subplot(131)\n",
    "bx=fig.add_subplot(132)\n",
    "cx=fig.add_subplot(133)\n",
    "ax.plot(x_test, y_1, c='r', label=\"depth=2\")\n",
    "ax.scatter(x,y,c='orange',s=10)\n",
    "bx.plot(x_test, y_2, c='b', label=\"depth=3\")\n",
    "bx.scatter(x,y,c='orange',s=10)\n",
    "cx.plot(x_test, y_3, c='g', label=\"depth=5\")\n",
    "cx.scatter(x,y,c='orange',s=10)\n",
    "fig.legend()\n",
    "plt.show()"
   ]
  },
  {
   "cell_type": "markdown",
   "id": "824d8ed6",
   "metadata": {},
   "source": [
    "### 泰坦尼克号数据集"
   ]
  },
  {
   "cell_type": "code",
   "execution_count": 160,
   "id": "8305ddad",
   "metadata": {},
   "outputs": [],
   "source": [
    "from sklearn.model_selection import GridSearchCV"
   ]
  },
  {
   "cell_type": "markdown",
   "id": "8320abb6",
   "metadata": {},
   "source": [
    "#### 加载数据"
   ]
  },
  {
   "cell_type": "code",
   "execution_count": 164,
   "id": "6794ef52",
   "metadata": {},
   "outputs": [],
   "source": [
    "data = pd.read_csv(\"data/1_data.csv\")"
   ]
  },
  {
   "cell_type": "code",
   "execution_count": 168,
   "id": "bc53b582",
   "metadata": {},
   "outputs": [
    {
     "data": {
      "text/html": [
       "<div>\n",
       "<style scoped>\n",
       "    .dataframe tbody tr th:only-of-type {\n",
       "        vertical-align: middle;\n",
       "    }\n",
       "\n",
       "    .dataframe tbody tr th {\n",
       "        vertical-align: top;\n",
       "    }\n",
       "\n",
       "    .dataframe thead th {\n",
       "        text-align: right;\n",
       "    }\n",
       "</style>\n",
       "<table border=\"1\" class=\"dataframe\">\n",
       "  <thead>\n",
       "    <tr style=\"text-align: right;\">\n",
       "      <th></th>\n",
       "      <th>PassengerId</th>\n",
       "      <th>Survived</th>\n",
       "      <th>Pclass</th>\n",
       "      <th>Name</th>\n",
       "      <th>Sex</th>\n",
       "      <th>Age</th>\n",
       "      <th>SibSp</th>\n",
       "      <th>Parch</th>\n",
       "      <th>Ticket</th>\n",
       "      <th>Fare</th>\n",
       "      <th>Cabin</th>\n",
       "      <th>Embarked</th>\n",
       "    </tr>\n",
       "  </thead>\n",
       "  <tbody>\n",
       "    <tr>\n",
       "      <th>0</th>\n",
       "      <td>1</td>\n",
       "      <td>0</td>\n",
       "      <td>3</td>\n",
       "      <td>Braund, Mr. Owen Harris</td>\n",
       "      <td>male</td>\n",
       "      <td>22.0</td>\n",
       "      <td>1</td>\n",
       "      <td>0</td>\n",
       "      <td>A/5 21171</td>\n",
       "      <td>7.2500</td>\n",
       "      <td>NaN</td>\n",
       "      <td>S</td>\n",
       "    </tr>\n",
       "    <tr>\n",
       "      <th>1</th>\n",
       "      <td>2</td>\n",
       "      <td>1</td>\n",
       "      <td>1</td>\n",
       "      <td>Cumings, Mrs. John Bradley (Florence Briggs Th...</td>\n",
       "      <td>female</td>\n",
       "      <td>38.0</td>\n",
       "      <td>1</td>\n",
       "      <td>0</td>\n",
       "      <td>PC 17599</td>\n",
       "      <td>71.2833</td>\n",
       "      <td>C85</td>\n",
       "      <td>C</td>\n",
       "    </tr>\n",
       "    <tr>\n",
       "      <th>2</th>\n",
       "      <td>3</td>\n",
       "      <td>1</td>\n",
       "      <td>3</td>\n",
       "      <td>Heikkinen, Miss. Laina</td>\n",
       "      <td>female</td>\n",
       "      <td>26.0</td>\n",
       "      <td>0</td>\n",
       "      <td>0</td>\n",
       "      <td>STON/O2. 3101282</td>\n",
       "      <td>7.9250</td>\n",
       "      <td>NaN</td>\n",
       "      <td>S</td>\n",
       "    </tr>\n",
       "    <tr>\n",
       "      <th>3</th>\n",
       "      <td>4</td>\n",
       "      <td>1</td>\n",
       "      <td>1</td>\n",
       "      <td>Futrelle, Mrs. Jacques Heath (Lily May Peel)</td>\n",
       "      <td>female</td>\n",
       "      <td>35.0</td>\n",
       "      <td>1</td>\n",
       "      <td>0</td>\n",
       "      <td>113803</td>\n",
       "      <td>53.1000</td>\n",
       "      <td>C123</td>\n",
       "      <td>S</td>\n",
       "    </tr>\n",
       "    <tr>\n",
       "      <th>4</th>\n",
       "      <td>5</td>\n",
       "      <td>0</td>\n",
       "      <td>3</td>\n",
       "      <td>Allen, Mr. William Henry</td>\n",
       "      <td>male</td>\n",
       "      <td>35.0</td>\n",
       "      <td>0</td>\n",
       "      <td>0</td>\n",
       "      <td>373450</td>\n",
       "      <td>8.0500</td>\n",
       "      <td>NaN</td>\n",
       "      <td>S</td>\n",
       "    </tr>\n",
       "  </tbody>\n",
       "</table>\n",
       "</div>"
      ],
      "text/plain": [
       "   PassengerId  Survived  Pclass  \\\n",
       "0            1         0       3   \n",
       "1            2         1       1   \n",
       "2            3         1       3   \n",
       "3            4         1       1   \n",
       "4            5         0       3   \n",
       "\n",
       "                                                Name     Sex   Age  SibSp  \\\n",
       "0                            Braund, Mr. Owen Harris    male  22.0      1   \n",
       "1  Cumings, Mrs. John Bradley (Florence Briggs Th...  female  38.0      1   \n",
       "2                             Heikkinen, Miss. Laina  female  26.0      0   \n",
       "3       Futrelle, Mrs. Jacques Heath (Lily May Peel)  female  35.0      1   \n",
       "4                           Allen, Mr. William Henry    male  35.0      0   \n",
       "\n",
       "   Parch            Ticket     Fare Cabin Embarked  \n",
       "0      0         A/5 21171   7.2500   NaN        S  \n",
       "1      0          PC 17599  71.2833   C85        C  \n",
       "2      0  STON/O2. 3101282   7.9250   NaN        S  \n",
       "3      0            113803  53.1000  C123        S  \n",
       "4      0            373450   8.0500   NaN        S  "
      ]
     },
     "execution_count": 168,
     "metadata": {},
     "output_type": "execute_result"
    }
   ],
   "source": [
    "data.head()"
   ]
  },
  {
   "cell_type": "code",
   "execution_count": 169,
   "id": "68257be0",
   "metadata": {},
   "outputs": [
    {
     "name": "stdout",
     "output_type": "stream",
     "text": [
      "<class 'pandas.core.frame.DataFrame'>\n",
      "RangeIndex: 891 entries, 0 to 890\n",
      "Data columns (total 12 columns):\n",
      " #   Column       Non-Null Count  Dtype  \n",
      "---  ------       --------------  -----  \n",
      " 0   PassengerId  891 non-null    int64  \n",
      " 1   Survived     891 non-null    int64  \n",
      " 2   Pclass       891 non-null    int64  \n",
      " 3   Name         891 non-null    object \n",
      " 4   Sex          891 non-null    object \n",
      " 5   Age          714 non-null    float64\n",
      " 6   SibSp        891 non-null    int64  \n",
      " 7   Parch        891 non-null    int64  \n",
      " 8   Ticket       891 non-null    object \n",
      " 9   Fare         891 non-null    float64\n",
      " 10  Cabin        204 non-null    object \n",
      " 11  Embarked     889 non-null    object \n",
      "dtypes: float64(2), int64(5), object(5)\n",
      "memory usage: 83.7+ KB\n"
     ]
    }
   ],
   "source": [
    "data.info()"
   ]
  },
  {
   "cell_type": "markdown",
   "id": "cd142a7f",
   "metadata": {},
   "source": [
    "#### 特征选择\n",
    "针对与任务无关的列、缺失值太多的列，删掉\n",
    "\n",
    "inplace 表示是否覆盖 axis=1 是对列操作"
   ]
  },
  {
   "cell_type": "code",
   "execution_count": 173,
   "id": "77acba2c",
   "metadata": {},
   "outputs": [],
   "source": [
    "data.drop(['Ticket', 'Name', 'Cabin'], inplace=True, axis = 1)"
   ]
  },
  {
   "cell_type": "code",
   "execution_count": 174,
   "id": "58d815a9",
   "metadata": {},
   "outputs": [
    {
     "data": {
      "text/html": [
       "<div>\n",
       "<style scoped>\n",
       "    .dataframe tbody tr th:only-of-type {\n",
       "        vertical-align: middle;\n",
       "    }\n",
       "\n",
       "    .dataframe tbody tr th {\n",
       "        vertical-align: top;\n",
       "    }\n",
       "\n",
       "    .dataframe thead th {\n",
       "        text-align: right;\n",
       "    }\n",
       "</style>\n",
       "<table border=\"1\" class=\"dataframe\">\n",
       "  <thead>\n",
       "    <tr style=\"text-align: right;\">\n",
       "      <th></th>\n",
       "      <th>PassengerId</th>\n",
       "      <th>Survived</th>\n",
       "      <th>Pclass</th>\n",
       "      <th>Sex</th>\n",
       "      <th>Age</th>\n",
       "      <th>SibSp</th>\n",
       "      <th>Parch</th>\n",
       "      <th>Fare</th>\n",
       "      <th>Embarked</th>\n",
       "    </tr>\n",
       "  </thead>\n",
       "  <tbody>\n",
       "    <tr>\n",
       "      <th>0</th>\n",
       "      <td>1</td>\n",
       "      <td>0</td>\n",
       "      <td>3</td>\n",
       "      <td>male</td>\n",
       "      <td>22.0</td>\n",
       "      <td>1</td>\n",
       "      <td>0</td>\n",
       "      <td>7.2500</td>\n",
       "      <td>S</td>\n",
       "    </tr>\n",
       "    <tr>\n",
       "      <th>1</th>\n",
       "      <td>2</td>\n",
       "      <td>1</td>\n",
       "      <td>1</td>\n",
       "      <td>female</td>\n",
       "      <td>38.0</td>\n",
       "      <td>1</td>\n",
       "      <td>0</td>\n",
       "      <td>71.2833</td>\n",
       "      <td>C</td>\n",
       "    </tr>\n",
       "    <tr>\n",
       "      <th>2</th>\n",
       "      <td>3</td>\n",
       "      <td>1</td>\n",
       "      <td>3</td>\n",
       "      <td>female</td>\n",
       "      <td>26.0</td>\n",
       "      <td>0</td>\n",
       "      <td>0</td>\n",
       "      <td>7.9250</td>\n",
       "      <td>S</td>\n",
       "    </tr>\n",
       "    <tr>\n",
       "      <th>3</th>\n",
       "      <td>4</td>\n",
       "      <td>1</td>\n",
       "      <td>1</td>\n",
       "      <td>female</td>\n",
       "      <td>35.0</td>\n",
       "      <td>1</td>\n",
       "      <td>0</td>\n",
       "      <td>53.1000</td>\n",
       "      <td>S</td>\n",
       "    </tr>\n",
       "    <tr>\n",
       "      <th>4</th>\n",
       "      <td>5</td>\n",
       "      <td>0</td>\n",
       "      <td>3</td>\n",
       "      <td>male</td>\n",
       "      <td>35.0</td>\n",
       "      <td>0</td>\n",
       "      <td>0</td>\n",
       "      <td>8.0500</td>\n",
       "      <td>S</td>\n",
       "    </tr>\n",
       "  </tbody>\n",
       "</table>\n",
       "</div>"
      ],
      "text/plain": [
       "   PassengerId  Survived  Pclass     Sex   Age  SibSp  Parch     Fare Embarked\n",
       "0            1         0       3    male  22.0      1      0   7.2500        S\n",
       "1            2         1       1  female  38.0      1      0  71.2833        C\n",
       "2            3         1       3  female  26.0      0      0   7.9250        S\n",
       "3            4         1       1  female  35.0      1      0  53.1000        S\n",
       "4            5         0       3    male  35.0      0      0   8.0500        S"
      ]
     },
     "execution_count": 174,
     "metadata": {},
     "output_type": "execute_result"
    }
   ],
   "source": [
    "data.head()"
   ]
  },
  {
   "cell_type": "markdown",
   "id": "76f30b53",
   "metadata": {},
   "source": [
    "#### 处理缺失值"
   ]
  },
  {
   "cell_type": "markdown",
   "id": "09c7763e",
   "metadata": {},
   "source": [
    "针对年龄，缺失值用均值填充"
   ]
  },
  {
   "cell_type": "code",
   "execution_count": 175,
   "id": "b88d79b9",
   "metadata": {},
   "outputs": [],
   "source": [
    "data['Age'] = data['Age'].fillna(data['Age'].mean())"
   ]
  },
  {
   "cell_type": "code",
   "execution_count": 176,
   "id": "511d3316",
   "metadata": {},
   "outputs": [
    {
     "name": "stdout",
     "output_type": "stream",
     "text": [
      "<class 'pandas.core.frame.DataFrame'>\n",
      "RangeIndex: 891 entries, 0 to 890\n",
      "Data columns (total 9 columns):\n",
      " #   Column       Non-Null Count  Dtype  \n",
      "---  ------       --------------  -----  \n",
      " 0   PassengerId  891 non-null    int64  \n",
      " 1   Survived     891 non-null    int64  \n",
      " 2   Pclass       891 non-null    int64  \n",
      " 3   Sex          891 non-null    object \n",
      " 4   Age          891 non-null    float64\n",
      " 5   SibSp        891 non-null    int64  \n",
      " 6   Parch        891 non-null    int64  \n",
      " 7   Fare         891 non-null    float64\n",
      " 8   Embarked     889 non-null    object \n",
      "dtypes: float64(2), int64(5), object(2)\n",
      "memory usage: 62.8+ KB\n"
     ]
    }
   ],
   "source": [
    "data.info()"
   ]
  },
  {
   "cell_type": "markdown",
   "id": "c0ccefe3",
   "metadata": {},
   "source": [
    "针对 Embarked 采用直接删除那两个缺失值所在的行"
   ]
  },
  {
   "cell_type": "code",
   "execution_count": 177,
   "id": "6b2d92b0",
   "metadata": {},
   "outputs": [],
   "source": [
    "data = data.dropna(axis=0)"
   ]
  },
  {
   "cell_type": "code",
   "execution_count": 178,
   "id": "7168f610",
   "metadata": {},
   "outputs": [
    {
     "name": "stdout",
     "output_type": "stream",
     "text": [
      "<class 'pandas.core.frame.DataFrame'>\n",
      "Int64Index: 889 entries, 0 to 890\n",
      "Data columns (total 9 columns):\n",
      " #   Column       Non-Null Count  Dtype  \n",
      "---  ------       --------------  -----  \n",
      " 0   PassengerId  889 non-null    int64  \n",
      " 1   Survived     889 non-null    int64  \n",
      " 2   Pclass       889 non-null    int64  \n",
      " 3   Sex          889 non-null    object \n",
      " 4   Age          889 non-null    float64\n",
      " 5   SibSp        889 non-null    int64  \n",
      " 6   Parch        889 non-null    int64  \n",
      " 7   Fare         889 non-null    float64\n",
      " 8   Embarked     889 non-null    object \n",
      "dtypes: float64(2), int64(5), object(2)\n",
      "memory usage: 69.5+ KB\n"
     ]
    }
   ],
   "source": [
    "data.info()"
   ]
  },
  {
   "cell_type": "markdown",
   "id": "dd314edb",
   "metadata": {},
   "source": [
    "#### 将字符型特征编码"
   ]
  },
  {
   "cell_type": "markdown",
   "id": "88f872f3",
   "metadata": {},
   "source": [
    "这里采用的编码方式不是最优的，针对这种没有大小关系的类别，可采用onehot编码方式。"
   ]
  },
  {
   "cell_type": "code",
   "execution_count": 184,
   "id": "8afa6412",
   "metadata": {},
   "outputs": [
    {
     "name": "stderr",
     "output_type": "stream",
     "text": [
      "/var/folders/zm/vr13918s0qg8jn65gn07_jqw0000gn/T/ipykernel_16457/897639079.py:2: SettingWithCopyWarning: \n",
      "A value is trying to be set on a copy of a slice from a DataFrame.\n",
      "Try using .loc[row_indexer,col_indexer] = value instead\n",
      "\n",
      "See the caveats in the documentation: https://pandas.pydata.org/pandas-docs/stable/user_guide/indexing.html#returning-a-view-versus-a-copy\n",
      "  data['Embarked'] = data['Embarked'].apply(lambda x: label.index(x))\n"
     ]
    }
   ],
   "source": [
    "label = data['Embarked'].unique().tolist()\n",
    "data['Embarked'] = data['Embarked'].apply(lambda x: label.index(x))"
   ]
  },
  {
   "cell_type": "code",
   "execution_count": 185,
   "id": "f3f5c11d",
   "metadata": {},
   "outputs": [
    {
     "data": {
      "text/html": [
       "<div>\n",
       "<style scoped>\n",
       "    .dataframe tbody tr th:only-of-type {\n",
       "        vertical-align: middle;\n",
       "    }\n",
       "\n",
       "    .dataframe tbody tr th {\n",
       "        vertical-align: top;\n",
       "    }\n",
       "\n",
       "    .dataframe thead th {\n",
       "        text-align: right;\n",
       "    }\n",
       "</style>\n",
       "<table border=\"1\" class=\"dataframe\">\n",
       "  <thead>\n",
       "    <tr style=\"text-align: right;\">\n",
       "      <th></th>\n",
       "      <th>PassengerId</th>\n",
       "      <th>Survived</th>\n",
       "      <th>Pclass</th>\n",
       "      <th>Sex</th>\n",
       "      <th>Age</th>\n",
       "      <th>SibSp</th>\n",
       "      <th>Parch</th>\n",
       "      <th>Fare</th>\n",
       "      <th>Embarked</th>\n",
       "    </tr>\n",
       "  </thead>\n",
       "  <tbody>\n",
       "    <tr>\n",
       "      <th>0</th>\n",
       "      <td>1</td>\n",
       "      <td>0</td>\n",
       "      <td>3</td>\n",
       "      <td>male</td>\n",
       "      <td>22.0</td>\n",
       "      <td>1</td>\n",
       "      <td>0</td>\n",
       "      <td>7.2500</td>\n",
       "      <td>0</td>\n",
       "    </tr>\n",
       "    <tr>\n",
       "      <th>1</th>\n",
       "      <td>2</td>\n",
       "      <td>1</td>\n",
       "      <td>1</td>\n",
       "      <td>female</td>\n",
       "      <td>38.0</td>\n",
       "      <td>1</td>\n",
       "      <td>0</td>\n",
       "      <td>71.2833</td>\n",
       "      <td>1</td>\n",
       "    </tr>\n",
       "    <tr>\n",
       "      <th>2</th>\n",
       "      <td>3</td>\n",
       "      <td>1</td>\n",
       "      <td>3</td>\n",
       "      <td>female</td>\n",
       "      <td>26.0</td>\n",
       "      <td>0</td>\n",
       "      <td>0</td>\n",
       "      <td>7.9250</td>\n",
       "      <td>0</td>\n",
       "    </tr>\n",
       "    <tr>\n",
       "      <th>3</th>\n",
       "      <td>4</td>\n",
       "      <td>1</td>\n",
       "      <td>1</td>\n",
       "      <td>female</td>\n",
       "      <td>35.0</td>\n",
       "      <td>1</td>\n",
       "      <td>0</td>\n",
       "      <td>53.1000</td>\n",
       "      <td>0</td>\n",
       "    </tr>\n",
       "    <tr>\n",
       "      <th>4</th>\n",
       "      <td>5</td>\n",
       "      <td>0</td>\n",
       "      <td>3</td>\n",
       "      <td>male</td>\n",
       "      <td>35.0</td>\n",
       "      <td>0</td>\n",
       "      <td>0</td>\n",
       "      <td>8.0500</td>\n",
       "      <td>0</td>\n",
       "    </tr>\n",
       "  </tbody>\n",
       "</table>\n",
       "</div>"
      ],
      "text/plain": [
       "   PassengerId  Survived  Pclass     Sex   Age  SibSp  Parch     Fare  \\\n",
       "0            1         0       3    male  22.0      1      0   7.2500   \n",
       "1            2         1       1  female  38.0      1      0  71.2833   \n",
       "2            3         1       3  female  26.0      0      0   7.9250   \n",
       "3            4         1       1  female  35.0      1      0  53.1000   \n",
       "4            5         0       3    male  35.0      0      0   8.0500   \n",
       "\n",
       "   Embarked  \n",
       "0         0  \n",
       "1         1  \n",
       "2         0  \n",
       "3         0  \n",
       "4         0  "
      ]
     },
     "execution_count": 185,
     "metadata": {},
     "output_type": "execute_result"
    }
   ],
   "source": [
    "data.head()"
   ]
  },
  {
   "cell_type": "markdown",
   "id": "fe1c144f",
   "metadata": {},
   "source": [
    "针对性别做处理"
   ]
  },
  {
   "cell_type": "code",
   "execution_count": 189,
   "id": "171dbd40",
   "metadata": {},
   "outputs": [
    {
     "name": "stderr",
     "output_type": "stream",
     "text": [
      "/var/folders/zm/vr13918s0qg8jn65gn07_jqw0000gn/T/ipykernel_16457/3426856229.py:1: SettingWithCopyWarning: \n",
      "A value is trying to be set on a copy of a slice from a DataFrame.\n",
      "Try using .loc[row_indexer,col_indexer] = value instead\n",
      "\n",
      "See the caveats in the documentation: https://pandas.pydata.org/pandas-docs/stable/user_guide/indexing.html#returning-a-view-versus-a-copy\n",
      "  data['Sex'] = (data['Sex'] == 'male').astype('int')\n"
     ]
    }
   ],
   "source": [
    "data['Sex'] = (data['Sex'] == 'male').astype('int')"
   ]
  },
  {
   "cell_type": "code",
   "execution_count": 190,
   "id": "c59d7919",
   "metadata": {},
   "outputs": [
    {
     "data": {
      "text/html": [
       "<div>\n",
       "<style scoped>\n",
       "    .dataframe tbody tr th:only-of-type {\n",
       "        vertical-align: middle;\n",
       "    }\n",
       "\n",
       "    .dataframe tbody tr th {\n",
       "        vertical-align: top;\n",
       "    }\n",
       "\n",
       "    .dataframe thead th {\n",
       "        text-align: right;\n",
       "    }\n",
       "</style>\n",
       "<table border=\"1\" class=\"dataframe\">\n",
       "  <thead>\n",
       "    <tr style=\"text-align: right;\">\n",
       "      <th></th>\n",
       "      <th>PassengerId</th>\n",
       "      <th>Survived</th>\n",
       "      <th>Pclass</th>\n",
       "      <th>Sex</th>\n",
       "      <th>Age</th>\n",
       "      <th>SibSp</th>\n",
       "      <th>Parch</th>\n",
       "      <th>Fare</th>\n",
       "      <th>Embarked</th>\n",
       "    </tr>\n",
       "  </thead>\n",
       "  <tbody>\n",
       "    <tr>\n",
       "      <th>0</th>\n",
       "      <td>1</td>\n",
       "      <td>0</td>\n",
       "      <td>3</td>\n",
       "      <td>1</td>\n",
       "      <td>22.0</td>\n",
       "      <td>1</td>\n",
       "      <td>0</td>\n",
       "      <td>7.2500</td>\n",
       "      <td>0</td>\n",
       "    </tr>\n",
       "    <tr>\n",
       "      <th>1</th>\n",
       "      <td>2</td>\n",
       "      <td>1</td>\n",
       "      <td>1</td>\n",
       "      <td>0</td>\n",
       "      <td>38.0</td>\n",
       "      <td>1</td>\n",
       "      <td>0</td>\n",
       "      <td>71.2833</td>\n",
       "      <td>1</td>\n",
       "    </tr>\n",
       "    <tr>\n",
       "      <th>2</th>\n",
       "      <td>3</td>\n",
       "      <td>1</td>\n",
       "      <td>3</td>\n",
       "      <td>0</td>\n",
       "      <td>26.0</td>\n",
       "      <td>0</td>\n",
       "      <td>0</td>\n",
       "      <td>7.9250</td>\n",
       "      <td>0</td>\n",
       "    </tr>\n",
       "    <tr>\n",
       "      <th>3</th>\n",
       "      <td>4</td>\n",
       "      <td>1</td>\n",
       "      <td>1</td>\n",
       "      <td>0</td>\n",
       "      <td>35.0</td>\n",
       "      <td>1</td>\n",
       "      <td>0</td>\n",
       "      <td>53.1000</td>\n",
       "      <td>0</td>\n",
       "    </tr>\n",
       "    <tr>\n",
       "      <th>4</th>\n",
       "      <td>5</td>\n",
       "      <td>0</td>\n",
       "      <td>3</td>\n",
       "      <td>1</td>\n",
       "      <td>35.0</td>\n",
       "      <td>0</td>\n",
       "      <td>0</td>\n",
       "      <td>8.0500</td>\n",
       "      <td>0</td>\n",
       "    </tr>\n",
       "  </tbody>\n",
       "</table>\n",
       "</div>"
      ],
      "text/plain": [
       "   PassengerId  Survived  Pclass  Sex   Age  SibSp  Parch     Fare  Embarked\n",
       "0            1         0       3    1  22.0      1      0   7.2500         0\n",
       "1            2         1       1    0  38.0      1      0  71.2833         1\n",
       "2            3         1       3    0  26.0      0      0   7.9250         0\n",
       "3            4         1       1    0  35.0      1      0  53.1000         0\n",
       "4            5         0       3    1  35.0      0      0   8.0500         0"
      ]
     },
     "execution_count": 190,
     "metadata": {},
     "output_type": "execute_result"
    }
   ],
   "source": [
    "data.head()"
   ]
  },
  {
   "cell_type": "markdown",
   "id": "32194e26",
   "metadata": {},
   "source": [
    "#### 分离 feature 和 target"
   ]
  },
  {
   "cell_type": "code",
   "execution_count": 192,
   "id": "996a84f1",
   "metadata": {},
   "outputs": [],
   "source": [
    "x = data.iloc[:,data.columns != 'Survived']"
   ]
  },
  {
   "cell_type": "code",
   "execution_count": 194,
   "id": "400d312b",
   "metadata": {},
   "outputs": [
    {
     "data": {
      "text/html": [
       "<div>\n",
       "<style scoped>\n",
       "    .dataframe tbody tr th:only-of-type {\n",
       "        vertical-align: middle;\n",
       "    }\n",
       "\n",
       "    .dataframe tbody tr th {\n",
       "        vertical-align: top;\n",
       "    }\n",
       "\n",
       "    .dataframe thead th {\n",
       "        text-align: right;\n",
       "    }\n",
       "</style>\n",
       "<table border=\"1\" class=\"dataframe\">\n",
       "  <thead>\n",
       "    <tr style=\"text-align: right;\">\n",
       "      <th></th>\n",
       "      <th>PassengerId</th>\n",
       "      <th>Pclass</th>\n",
       "      <th>Sex</th>\n",
       "      <th>Age</th>\n",
       "      <th>SibSp</th>\n",
       "      <th>Parch</th>\n",
       "      <th>Fare</th>\n",
       "      <th>Embarked</th>\n",
       "    </tr>\n",
       "  </thead>\n",
       "  <tbody>\n",
       "    <tr>\n",
       "      <th>0</th>\n",
       "      <td>1</td>\n",
       "      <td>3</td>\n",
       "      <td>1</td>\n",
       "      <td>22.0</td>\n",
       "      <td>1</td>\n",
       "      <td>0</td>\n",
       "      <td>7.2500</td>\n",
       "      <td>0</td>\n",
       "    </tr>\n",
       "    <tr>\n",
       "      <th>1</th>\n",
       "      <td>2</td>\n",
       "      <td>1</td>\n",
       "      <td>0</td>\n",
       "      <td>38.0</td>\n",
       "      <td>1</td>\n",
       "      <td>0</td>\n",
       "      <td>71.2833</td>\n",
       "      <td>1</td>\n",
       "    </tr>\n",
       "    <tr>\n",
       "      <th>2</th>\n",
       "      <td>3</td>\n",
       "      <td>3</td>\n",
       "      <td>0</td>\n",
       "      <td>26.0</td>\n",
       "      <td>0</td>\n",
       "      <td>0</td>\n",
       "      <td>7.9250</td>\n",
       "      <td>0</td>\n",
       "    </tr>\n",
       "  </tbody>\n",
       "</table>\n",
       "</div>"
      ],
      "text/plain": [
       "   PassengerId  Pclass  Sex   Age  SibSp  Parch     Fare  Embarked\n",
       "0            1       3    1  22.0      1      0   7.2500         0\n",
       "1            2       1    0  38.0      1      0  71.2833         1\n",
       "2            3       3    0  26.0      0      0   7.9250         0"
      ]
     },
     "execution_count": 194,
     "metadata": {},
     "output_type": "execute_result"
    }
   ],
   "source": [
    "x.head(3)"
   ]
  },
  {
   "cell_type": "code",
   "execution_count": 195,
   "id": "f1fb240a",
   "metadata": {},
   "outputs": [],
   "source": [
    "y = data.iloc[:,data.columns == 'Survived']"
   ]
  },
  {
   "cell_type": "code",
   "execution_count": 198,
   "id": "dce981a1",
   "metadata": {},
   "outputs": [
    {
     "data": {
      "text/html": [
       "<div>\n",
       "<style scoped>\n",
       "    .dataframe tbody tr th:only-of-type {\n",
       "        vertical-align: middle;\n",
       "    }\n",
       "\n",
       "    .dataframe tbody tr th {\n",
       "        vertical-align: top;\n",
       "    }\n",
       "\n",
       "    .dataframe thead th {\n",
       "        text-align: right;\n",
       "    }\n",
       "</style>\n",
       "<table border=\"1\" class=\"dataframe\">\n",
       "  <thead>\n",
       "    <tr style=\"text-align: right;\">\n",
       "      <th></th>\n",
       "      <th>Survived</th>\n",
       "    </tr>\n",
       "  </thead>\n",
       "  <tbody>\n",
       "    <tr>\n",
       "      <th>0</th>\n",
       "      <td>0</td>\n",
       "    </tr>\n",
       "    <tr>\n",
       "      <th>1</th>\n",
       "      <td>1</td>\n",
       "    </tr>\n",
       "    <tr>\n",
       "      <th>2</th>\n",
       "      <td>1</td>\n",
       "    </tr>\n",
       "  </tbody>\n",
       "</table>\n",
       "</div>"
      ],
      "text/plain": [
       "   Survived\n",
       "0         0\n",
       "1         1\n",
       "2         1"
      ]
     },
     "execution_count": 198,
     "metadata": {},
     "output_type": "execute_result"
    }
   ],
   "source": [
    "y.head(3)"
   ]
  },
  {
   "cell_type": "markdown",
   "id": "70fbaef6",
   "metadata": {},
   "source": [
    "#### 划分训练测试集"
   ]
  },
  {
   "cell_type": "code",
   "execution_count": 199,
   "id": "2b2554db",
   "metadata": {},
   "outputs": [],
   "source": [
    "Xtrain, Xtest, Ytrain, Ytest = train_test_split(x, y, test_size=0.3)"
   ]
  },
  {
   "cell_type": "code",
   "execution_count": 202,
   "id": "9a86234b",
   "metadata": {},
   "outputs": [
    {
     "data": {
      "text/html": [
       "<div>\n",
       "<style scoped>\n",
       "    .dataframe tbody tr th:only-of-type {\n",
       "        vertical-align: middle;\n",
       "    }\n",
       "\n",
       "    .dataframe tbody tr th {\n",
       "        vertical-align: top;\n",
       "    }\n",
       "\n",
       "    .dataframe thead th {\n",
       "        text-align: right;\n",
       "    }\n",
       "</style>\n",
       "<table border=\"1\" class=\"dataframe\">\n",
       "  <thead>\n",
       "    <tr style=\"text-align: right;\">\n",
       "      <th></th>\n",
       "      <th>PassengerId</th>\n",
       "      <th>Pclass</th>\n",
       "      <th>Sex</th>\n",
       "      <th>Age</th>\n",
       "      <th>SibSp</th>\n",
       "      <th>Parch</th>\n",
       "      <th>Fare</th>\n",
       "      <th>Embarked</th>\n",
       "    </tr>\n",
       "  </thead>\n",
       "  <tbody>\n",
       "    <tr>\n",
       "      <th>568</th>\n",
       "      <td>569</td>\n",
       "      <td>3</td>\n",
       "      <td>1</td>\n",
       "      <td>29.699118</td>\n",
       "      <td>0</td>\n",
       "      <td>0</td>\n",
       "      <td>7.2292</td>\n",
       "      <td>1</td>\n",
       "    </tr>\n",
       "    <tr>\n",
       "      <th>306</th>\n",
       "      <td>307</td>\n",
       "      <td>1</td>\n",
       "      <td>0</td>\n",
       "      <td>29.699118</td>\n",
       "      <td>0</td>\n",
       "      <td>0</td>\n",
       "      <td>110.8833</td>\n",
       "      <td>1</td>\n",
       "    </tr>\n",
       "    <tr>\n",
       "      <th>429</th>\n",
       "      <td>430</td>\n",
       "      <td>3</td>\n",
       "      <td>1</td>\n",
       "      <td>32.000000</td>\n",
       "      <td>0</td>\n",
       "      <td>0</td>\n",
       "      <td>8.0500</td>\n",
       "      <td>0</td>\n",
       "    </tr>\n",
       "    <tr>\n",
       "      <th>52</th>\n",
       "      <td>53</td>\n",
       "      <td>1</td>\n",
       "      <td>0</td>\n",
       "      <td>49.000000</td>\n",
       "      <td>1</td>\n",
       "      <td>0</td>\n",
       "      <td>76.7292</td>\n",
       "      <td>1</td>\n",
       "    </tr>\n",
       "    <tr>\n",
       "      <th>873</th>\n",
       "      <td>874</td>\n",
       "      <td>3</td>\n",
       "      <td>1</td>\n",
       "      <td>47.000000</td>\n",
       "      <td>0</td>\n",
       "      <td>0</td>\n",
       "      <td>9.0000</td>\n",
       "      <td>0</td>\n",
       "    </tr>\n",
       "  </tbody>\n",
       "</table>\n",
       "</div>"
      ],
      "text/plain": [
       "     PassengerId  Pclass  Sex        Age  SibSp  Parch      Fare  Embarked\n",
       "568          569       3    1  29.699118      0      0    7.2292         1\n",
       "306          307       1    0  29.699118      0      0  110.8833         1\n",
       "429          430       3    1  32.000000      0      0    8.0500         0\n",
       "52            53       1    0  49.000000      1      0   76.7292         1\n",
       "873          874       3    1  47.000000      0      0    9.0000         0"
      ]
     },
     "execution_count": 202,
     "metadata": {},
     "output_type": "execute_result"
    }
   ],
   "source": [
    "Xtrain.head()"
   ]
  },
  {
   "cell_type": "markdown",
   "id": "f7733029",
   "metadata": {},
   "source": [
    "恢复索引的顺序 drop=True 是不要之前的索引了"
   ]
  },
  {
   "cell_type": "code",
   "execution_count": 203,
   "id": "5aff11c7",
   "metadata": {},
   "outputs": [],
   "source": [
    "Xtrain.reset_index(drop=True, inplace=True)"
   ]
  },
  {
   "cell_type": "code",
   "execution_count": 204,
   "id": "de4a83b6",
   "metadata": {},
   "outputs": [
    {
     "data": {
      "text/html": [
       "<div>\n",
       "<style scoped>\n",
       "    .dataframe tbody tr th:only-of-type {\n",
       "        vertical-align: middle;\n",
       "    }\n",
       "\n",
       "    .dataframe tbody tr th {\n",
       "        vertical-align: top;\n",
       "    }\n",
       "\n",
       "    .dataframe thead th {\n",
       "        text-align: right;\n",
       "    }\n",
       "</style>\n",
       "<table border=\"1\" class=\"dataframe\">\n",
       "  <thead>\n",
       "    <tr style=\"text-align: right;\">\n",
       "      <th></th>\n",
       "      <th>PassengerId</th>\n",
       "      <th>Pclass</th>\n",
       "      <th>Sex</th>\n",
       "      <th>Age</th>\n",
       "      <th>SibSp</th>\n",
       "      <th>Parch</th>\n",
       "      <th>Fare</th>\n",
       "      <th>Embarked</th>\n",
       "    </tr>\n",
       "  </thead>\n",
       "  <tbody>\n",
       "    <tr>\n",
       "      <th>0</th>\n",
       "      <td>569</td>\n",
       "      <td>3</td>\n",
       "      <td>1</td>\n",
       "      <td>29.699118</td>\n",
       "      <td>0</td>\n",
       "      <td>0</td>\n",
       "      <td>7.2292</td>\n",
       "      <td>1</td>\n",
       "    </tr>\n",
       "    <tr>\n",
       "      <th>1</th>\n",
       "      <td>307</td>\n",
       "      <td>1</td>\n",
       "      <td>0</td>\n",
       "      <td>29.699118</td>\n",
       "      <td>0</td>\n",
       "      <td>0</td>\n",
       "      <td>110.8833</td>\n",
       "      <td>1</td>\n",
       "    </tr>\n",
       "    <tr>\n",
       "      <th>2</th>\n",
       "      <td>430</td>\n",
       "      <td>3</td>\n",
       "      <td>1</td>\n",
       "      <td>32.000000</td>\n",
       "      <td>0</td>\n",
       "      <td>0</td>\n",
       "      <td>8.0500</td>\n",
       "      <td>0</td>\n",
       "    </tr>\n",
       "    <tr>\n",
       "      <th>3</th>\n",
       "      <td>53</td>\n",
       "      <td>1</td>\n",
       "      <td>0</td>\n",
       "      <td>49.000000</td>\n",
       "      <td>1</td>\n",
       "      <td>0</td>\n",
       "      <td>76.7292</td>\n",
       "      <td>1</td>\n",
       "    </tr>\n",
       "    <tr>\n",
       "      <th>4</th>\n",
       "      <td>874</td>\n",
       "      <td>3</td>\n",
       "      <td>1</td>\n",
       "      <td>47.000000</td>\n",
       "      <td>0</td>\n",
       "      <td>0</td>\n",
       "      <td>9.0000</td>\n",
       "      <td>0</td>\n",
       "    </tr>\n",
       "  </tbody>\n",
       "</table>\n",
       "</div>"
      ],
      "text/plain": [
       "   PassengerId  Pclass  Sex        Age  SibSp  Parch      Fare  Embarked\n",
       "0          569       3    1  29.699118      0      0    7.2292         1\n",
       "1          307       1    0  29.699118      0      0  110.8833         1\n",
       "2          430       3    1  32.000000      0      0    8.0500         0\n",
       "3           53       1    0  49.000000      1      0   76.7292         1\n",
       "4          874       3    1  47.000000      0      0    9.0000         0"
      ]
     },
     "execution_count": 204,
     "metadata": {},
     "output_type": "execute_result"
    }
   ],
   "source": [
    "Xtrain.head()"
   ]
  },
  {
   "cell_type": "code",
   "execution_count": 205,
   "id": "f748d8b0",
   "metadata": {},
   "outputs": [],
   "source": [
    "Xtest.reset_index(drop=True, inplace=True)\n",
    "Ytrain.reset_index(drop=True, inplace=True)\n",
    "Ytest.reset_index(drop=True, inplace=True)"
   ]
  },
  {
   "cell_type": "markdown",
   "id": "0b96ec17",
   "metadata": {},
   "source": [
    "#### 构建训练模型"
   ]
  },
  {
   "cell_type": "code",
   "execution_count": 210,
   "id": "ce1aa971",
   "metadata": {},
   "outputs": [
    {
     "data": {
      "text/plain": [
       "0.7715355805243446"
      ]
     },
     "execution_count": 210,
     "metadata": {},
     "output_type": "execute_result"
    }
   ],
   "source": [
    "clf_titanic = tree.DecisionTreeClassifier(random_state=20)\n",
    "clf_titanic.fit(Xtrain, Ytrain)\n",
    "score_titanic = clf_titanic.score(Xtest, Ytest)\n",
    "score_titanic"
   ]
  },
  {
   "cell_type": "markdown",
   "id": "01a7a5c3",
   "metadata": {},
   "source": [
    "交叉验证"
   ]
  },
  {
   "cell_type": "code",
   "execution_count": 211,
   "id": "59f77961",
   "metadata": {},
   "outputs": [
    {
     "data": {
      "text/plain": [
       "0.7492211440245148"
      ]
     },
     "execution_count": 211,
     "metadata": {},
     "output_type": "execute_result"
    }
   ],
   "source": [
    "clf_titanic_cv = tree.DecisionTreeClassifier(random_state=20)\n",
    "score_titanic_cv = cross_val_score(clf_titanic_cv, x, y, cv=10).mean()\n",
    "score_titanic_cv"
   ]
  },
  {
   "cell_type": "markdown",
   "id": "d2337221",
   "metadata": {},
   "source": [
    "循环画出参数 max_depth 的图"
   ]
  },
  {
   "cell_type": "code",
   "execution_count": 239,
   "id": "febba412",
   "metadata": {},
   "outputs": [],
   "source": [
    "scores_maxdepth = []\n",
    "scores_train = []\n",
    "for i in range(10):\n",
    "    clf_titanic_maxdepth = tree.DecisionTreeClassifier(random_state=30,\n",
    "                                                      max_depth=i+1,\n",
    "                                                      criterion='entropy')\n",
    "    clf_titanic_maxdepth.fit(Xtrain, Ytrain)\n",
    "    scores_train.append(clf_titanic_maxdepth.score(Xtrain, Ytrain))\n",
    "    scores_maxdepth.append(cross_val_score(clf_titanic_maxdepth,x, y).mean())"
   ]
  },
  {
   "cell_type": "markdown",
   "id": "2837f675",
   "metadata": {},
   "source": [
    "画出图像"
   ]
  },
  {
   "cell_type": "code",
   "execution_count": 240,
   "id": "91f4b836",
   "metadata": {},
   "outputs": [
    {
     "data": {
      "image/png": "[encoded data removed]",
      "text/plain": [
       "<Figure size 432x288 with 1 Axes>"
      ]
     },
     "metadata": {
      "needs_background": "light"
     },
     "output_type": "display_data"
    }
   ],
   "source": [
    "plt.figure()\n",
    "plt.plot(range(1,11), scores_maxdepth, 'bo-', label='test score')\n",
    "plt.plot(range(1,11), scores_train, 'rv--', label='train score')\n",
    "plt.xlabel('depth');plt.ylabel('score')\n",
    "plt.title('max_depth vs score')\n",
    "plt.legend();plt.grid()\n",
    "plt.xticks(range(1,11))\n",
    "plt.show()"
   ]
  },
  {
   "cell_type": "markdown",
   "id": "c8edb71b",
   "metadata": {},
   "source": [
    "很明显模型过拟合了..."
   ]
  },
  {
   "cell_type": "markdown",
   "id": "8f125e7a",
   "metadata": {},
   "source": [
    "### 网格搜索\n",
    "本质上就是枚举，一个一个的试"
   ]
  },
  {
   "cell_type": "code",
   "execution_count": 242,
   "id": "d8d0e013",
   "metadata": {},
   "outputs": [],
   "source": [
    "paramaters = {\n",
    "    'criterion':('gini', 'entropy'),\n",
    "    'max_depth':[*range(1,11)],\n",
    "    'min_samples_leaf':[*range(5,20,5)],\n",
    "    'splitter':('best', 'random')\n",
    "    \n",
    "}\n",
    "clf_gs = tree.DecisionTreeClassifier(random_state=20)\n",
    "GS = GridSearchCV(clf_gs, paramaters, cv=5)\n",
    "GS = GS.fit(Xtrain, Ytrain)"
   ]
  },
  {
   "cell_type": "markdown",
   "id": "9faf09af",
   "metadata": {},
   "source": [
    "网格搜索的接口\n",
    "- best_params_ 返回的是最优的参数\n",
    "- best_score_ 最佳精确性能"
   ]
  },
  {
   "cell_type": "code",
   "execution_count": 244,
   "id": "740839cd",
   "metadata": {},
   "outputs": [
    {
     "data": {
      "text/plain": [
       "{'criterion': 'entropy',\n",
       " 'max_depth': 4,\n",
       " 'min_samples_leaf': 5,\n",
       " 'splitter': 'best'}"
      ]
     },
     "execution_count": 244,
     "metadata": {},
     "output_type": "execute_result"
    }
   ],
   "source": [
    "GS.best_params_"
   ]
  },
  {
   "cell_type": "code",
   "execution_count": 245,
   "id": "ca0ffb95",
   "metadata": {},
   "outputs": [
    {
     "data": {
      "text/plain": [
       "0.8343870967741935"
      ]
     },
     "execution_count": 245,
     "metadata": {},
     "output_type": "execute_result"
    }
   ],
   "source": [
    "GS.best_score_"
   ]
  }
 ],
 "metadata": {
  "kernelspec": {
   "display_name": "Python 3 (ipykernel)",
   "language": "python",
   "name": "python3"
  },
  "language_info": {
   "codemirror_mode": {
    "name": "ipython",
    "version": 3
   },
   "file_extension": ".py",
   "mimetype": "text/x-python",
   "name": "python",
   "nbconvert_exporter": "python",
   "pygments_lexer": "ipython3",
   "version": "3.8.2"
  }
 },
 "nbformat": 4,
 "nbformat_minor": 5
}
